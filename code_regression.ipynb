{
 "cells": [
  {
   "cell_type": "markdown",
   "metadata": {},
   "source": [
    "# UK Politics: From Words to Votes"
   ]
  },
  {
   "cell_type": "markdown",
   "metadata": {},
   "source": [
    "This dataset contains 3 files: one with speeches extracted from britishpolicalspeech.org (12k rows), one with speeches from ukpol.co.uk (350 rows) and one with the UK members of parliament since 1970, including party affiliation, obtained from Wikidata."
   ]
  },
  {
   "cell_type": "markdown",
   "metadata": {},
   "source": [
    "## Data exploratory"
   ]
  },
  {
   "cell_type": "code",
   "execution_count": 11,
   "metadata": {},
   "outputs": [
    {
     "name": "stderr",
     "output_type": "stream",
     "text": [
      "[nltk_data] Downloading package stopwords to\n",
      "[nltk_data]     C:\\Users\\cbouton\\AppData\\Roaming\\nltk_data...\n",
      "[nltk_data]   Package stopwords is already up-to-date!\n",
      "[nltk_data] Downloading package punkt to\n",
      "[nltk_data]     C:\\Users\\cbouton\\AppData\\Roaming\\nltk_data...\n",
      "[nltk_data]   Package punkt is already up-to-date!\n",
      "[nltk_data] Downloading package vader_lexicon to\n",
      "[nltk_data]     C:\\Users\\cbouton\\AppData\\Roaming\\nltk_data...\n",
      "[nltk_data]   Package vader_lexicon is already up-to-date!\n"
     ]
    }
   ],
   "source": [
    "import pandas as pd\n",
    "from tqdm import tqdm\n",
    "import numpy as np\n",
    "import nltk\n",
    "from nltk.sentiment import SentimentIntensityAnalyzer\n",
    "from nltk.corpus import stopwords\n",
    "nltk.download('stopwords')\n",
    "nltk.download('punkt')\n",
    "nltk.download('vader_lexicon')\n",
    "\n",
    "from sklearn.feature_extraction.text import TfidfVectorizer\n",
    "from sklearn.model_selection import train_test_split\n",
    "from sklearn.metrics import root_mean_squared_error\n",
    "from xgboost import XGBRegressor\n",
    "\n",
    "import matplotlib.pyplot as plt\n",
    "from matplotlib.colors import LinearSegmentedColormap\n",
    "from adjustText import adjust_text\n",
    "import seaborn as sns"
   ]
  },
  {
   "cell_type": "code",
   "execution_count": 12,
   "metadata": {},
   "outputs": [
    {
     "data": {
      "application/vnd.microsoft.datawrangler.viewer.v0+json": {
       "columns": [
        {
         "name": "index",
         "rawType": "int64",
         "type": "integer"
        },
        {
         "name": "Speaker",
         "rawType": "object",
         "type": "string"
        },
        {
         "name": "Year",
         "rawType": "float64",
         "type": "float"
        },
        {
         "name": "Description",
         "rawType": "object",
         "type": "string"
        },
        {
         "name": "Speech",
         "rawType": "object",
         "type": "string"
        }
       ],
       "conversionMethod": "pd.DataFrame",
       "ref": "9db07062-2a19-435a-9b4e-779589e86ca0",
       "rows": [
        [
         "0",
         "Diane Abbott",
         null,
         "Below is the text of the speech made by Diane Abbott on 9th December 2013 in the House of Commons.",
         "The fact that the House of Commons has spent the whole day paying tribute to Nelson Mandela is, of course, a tribute to the man himself, but it is also a tribute to the millions of Africans who struggled for their freedom. It is a tribute to activists such as Steve Biko, it is a tribute to the ANC and to the ANC in exile, but it is also a tribute to the thousands of ordinary people in, I believe, all our constituencies who stood on street corners and campaigned over the decades to make the release of Nelson Mandela possible. I will always remember where I was when I saw Nelson Mandela being released from prison, hand in hand with Winnie Mandela. I also remember the BBC newscaster who was doing the bulletin. It was a friend of mine and one of the most loved newscasters, Moira Stuart. I shall never forget that, because the struggle against apartheid and the struggle to free Nelson Mandela were part of the warp and weft of my life as a young activist in the late 1970s and 1980s. There were the meetings, there were the pickets, there was the examination of the oranges to make sure they were not South African and there were the demonstrations. For a certain generation, anti-apartheid was the iconic international struggle. There were times when we thought that it was no more than a struggle and Nelson Mandela could not be released, so seeing those television pictures of him hand in hand with Winnie was an extraordinary experience for me. We have heard some brilliant speeches today. The former leader of my party, my right hon. Friend the Member for Kirkcaldy and Cowdenbeath (Mr Brown) made one of the best speeches that I have ever heard him make, and I have heard him make some brilliant speeches since I was first a Member of Parliament in the 1980s. My right hon. Friend the Member for Derby South (Margaret Beckett) made a very impressive speech, reminding us that Mandela was a politician first and last, and reminding us also of the importance of the practice of politics. My right hon. Friend the Member for Neath (Mr Hain), who was one of the heroes of the anti-apartheid struggle it might be said that that was his finest hour told us about his childhood and his family, and presented a touching vignette of Winnie Mandela leaning down to kiss two white children. Let me say a little about Winnie Mandela. She did terrible things and terrible things were done in her name, but no one who was active in the anti-apartheid movement in the 1980s will forget her courage and beauty when she was at the height of her powers. She endured long years in internal exile; she endured 18 months of solitary confinement, parted from her children; she endured beatings, and the blowing up and killing of her friends and comrades around her. As I have said, she did terrible things, but we cannot take away the fact that at the height of the anti-apartheid struggle, she was a transcendent figure. We have heard about Nelson Mandela and his achievements today. I remember seeing him on his first visit to the United Kingdom. The extraordinary thing about him was not just his presence and charisma, but the fact that there was no sense of the bitterness that he was entitled to feel after spending 28 years in prison and seeing what had happened to his friends and family. As we have heard, it was that nobility of purpose that enabled him it was his signal contribution to drive through a peaceful transition to majority rule without the bloodshed that so many people prophesied. He also stood down after one term. If only more leaders in countries around the world were prepared to do as he did and let go of power. We live in an era that despises politicians, in which the word \"political\" is practically a term of abuse. We live in an era when too many young people believe that voting changes nothing, but I was privileged to be an election observer for those very first elections in which black people could vote. I remember leaving the centre of Johannesburg and driving all the way up to Soweto, on the edge of the city. We got there for 6 o’clock, but people had been queuing for hours. When the polling station opened, I saw figure after figure go into the polling station, mark the very long and complicated ballot paper and then step to the ballot box. Many of them looked around as they did so, as if even then someone would say, \"Not you, you're not allowed to vote.\" It was being an observer at those elections that taught me the value of the ballot that people can struggle and die for the right to vote. Nelson Mandela and anti-apartheid resonated with me as a young black woman just getting active in politics. The anti-apartheid struggle taught me that I was part of something international, and that politics was in the end about moral purpose. It taught me that if you believe in something, you should push on, because evil cannot stand. There is no more respected politician among young people in the UK than Nelson Mandela. It is a privilege to be allowed to speak today, and if people would only believe what Nelson Mandela and the anti-apartheid struggle believed that you can alter your reality and it is worth getting involved in the struggle and understanding the issues our politics would be enriched so much."
        ],
        [
         "1",
         "Diane Abbott",
         "2018.0",
         "Below is the text of the speech made by Diane Abbott, the Shadow Home Secretary, at the Labour Party conference held in Liverpool on 25 September 2018.",
         "Thank you Chair. Thank you Conference. It’s great to be back in Liverpool. The party is the largest Social democratic party in Europe and we are still growing. I’m still here. And our Leader Jeremy Corbyn is emphatically still here. We are here to discuss the safety and security of the whole country. This, like so many social issues, is a collective endeavour. It cannot be done individually. You are not safe if your neighbour isn’t safe. And we know who suffers from crime the most: it’s the most vulnerable; women; the elderly; children; all of our ethnic minority communities; the LGBTQ community and disabled people. So, it is has always been wrong to say ‘Law and Order’ is somehow a Tory issue. Fighting crime and upholding the law are key issues for our communities and therefore they are key issues for Labour. The truth is the Tories have cut over 20,000 police officers. Support staff have been decimated. And we can see the consequences of this in our communities. Response times to 999 calls are increasing. Violent crime is increasing. But arrests are falling. The government however is in denial. Tory austerity has damaged all our public services. All Tory cuts have consequences too. And their police cuts have consequences. You cannot keep people safe on the cheap. In Labour’s 2017 Manifesto, we said we would add 10,000 police officers. We will focus on rebuilding community policing. Because they are the frontline against crime, including terrorism. We also intend to recruit more fire officers and more border guards. The next Manifesto is not yet written but obviously I will be having friendly chats with the Shadow Chancellor John McDonnell about the exact numbers. But I’m sure we’re agreed on where we want the funding to go. The tragic fire at Grenfell reminds us of the courage of our fire fighters. The government refuses to accept that their cuts to fire services are responsible for longer response times. They refuse to accept that privatisation and deregulation, led inevitably to disasters like Grenfell. More than a year later they have not produced a single initiative that would prevent a repeat of Grenfell. The government is failing to protect communities and ensure their safety. The government is big on rhetoric about security, policing and borders. But talk is cheap. Action costs money. And they have slashed the border guards just like they slashed the police and the fire services. Not Labour. It was the Tories that cut them all. Real border security – to stop drug traffickers, sex traffickers, gangsters and terrorists – that is what Labour stands for. False rhetoric on protecting our borders and immigration led directly to the Windrush scandal. Can you imagine living in a country which indefinitely detains its own citizens? Which deports them? Which refuses them cancer treatment even when they’ve lived in the country all of their adult lives? Well, under this government we saw this happen to the Windrush generation. These were people that came to help rebuild this country after the war. And the Tories treated them like this. We had Theresa May with her ‘Go Home’ vans. She was the Home Secretary who announced that she would ‘deport first, appeal later’. The whole Tory party and the Lib Dems voted for the 2014 Immigration Act and implemented their ‘hostile environment’. They are the ones responsible for Windrush. And it is no use the current Home Secretary, Sajid Javid, trying to evade responsibility. He claims to have ended the ‘hostile environment’ but that isn’t true. Last Friday he snuck out an announcement showing they were still treating the Windrush generation as second class citizens. We will not rest until there is justice for the Windrush generation. Until the hostile environment is ended. Until Yarl’s Wood and Brook House detention centres are gone. We won’t rest until this Prime Minister and this government is gone. Recently, I set out Labour’s new immigration policy. It is based on our Labour values and the needs of society. It is not based on demonising migrants. We will always uphold our legal and moral obligations to Commonwealth citizens. We will not use the three million EU citizens currently resident here as bargaining chips. We will uphold their rights and the rights of British citizens resident in Europe. We will also be striking deals with the EU and other countries. Those trade deals can benefit us all. Migration may well be part of those deals. Our immigration system fits into that. Not the other way round. We won’t have bogus numerical targets. The Home Affairs Select Committee, the Migration Advisory Committee, and a former Home Office Permanent Secretary, all say that those numerical targets don’t work. It’s only Theresa May that believes in them. Instead we will have clear criteria. After the Brexit deal, after the trade deals, we may still have key skills gaps, such as the shortage of doctors and nurses. So, first we’ll increase training, education and apprenticeships for people here, and insist companies do the same. We will drive up wages with the National Minimum Wage. And we will increase employee rights and clamp down on exploitation. But we can’t expect increased training to plug the shortage of workers like Doctors in the short-term. We will need some migrant workers. But we should always remember that immigrants don’t drive down wages. It is predatory employers, weakened trade union rights, and an austerity government – that do that. And, once people are here, we will treat our brothers and sisters from overseas fairly and equally. That is Labour’s new immigration policy. I can’t leave the stage without reminding this audience, here in Liverpool, that Labour is committed to releasing all the papers in relation to the 37 Cammell Laird shipyard workers. And the Shrewsbury 24 trials. We will provide full disclosure. We want justice. We will also open inquiries into Orgreave and into the blacklisting of trade unionists. When workers are in legitimate disputes they too need to be safe and secure, from intimidation, from threats and from media frame-ups. We know that in this country you generally need a warrant to enter someone’s home or intercept their telephone calls. So we will insist on time limited, judicial warrants for any undercover policing. And finally, I could not let my conference speech end without thanking my fantastic Shadow Home Affairs team. They are formidable at holding the Tories to account and will be fantastic in government. And I wanted to thank you all who have supported me and the leader of our party Jeremy Corbyn through thick and thin. This country has never needed a Labour government more. We must repair the ravages of the Tory years. The country needs a Jeremy Corbyn led Labour Government. And, as our former leader the great John Smith said: “The chance to serve is all we ask.” Thank you conference."
        ],
        [
         "2",
         "Diane Abbott",
         "2019.0",
         "Below is the text of the speech made by Diane Abbott, the Shadow Home Secretary, in the House of Commons on 11 April 2019.",
         "I thank the Home Secretary for his account of events. On the Labour Benches, we are glad that Julian Assange will be able to access medical care, treatment and facilities, because there have been worrying reports about his ill health. Of course, at this point that is all a matter for the courts. We in the Opposition want to make the point that, even though the only charge that Julian Assange may face in this country is in relation to his bail hearings, the reason we are debating this this afternoon is entirely to do with his and WikiLeaks’ whistleblowing activities. These whistleblowing activities about illegal wars, mass murder, murder of civilians and corruption on a grand scale have put Julian Assange in the crosshairs of the US Administration. For this reason, they have once more issued an extradition warrant against Mr Assange. The Home Secretary will know that Mr Assange complained to the UN that he was being unlawfully detained as he could not leave the Ecuadorian embassy without being arrested. In February 2016, the UN panel ruled in his favour, stating that he had been arbitrarily detained and that he should be allowed to walk free and compensated for his “deprivation of liberty”. Mr Assange hailed that as a significant victory and called the decision binding, but the Foreign Office responded by saying that this ruling “changes nothing”. I note that the Foreign Office responded then, not the Home Office or the Ministry of Justice. The Foreign Office has no responsibility for imprisonment and extradition in this country, but it is interested, of course, in relations with allies and others. We have precedent in this country in relation to requests for extradition to the US, when the US authorities raise issues of hacking and national security. I remind the House of the case of Gary McKinnon. In October 2012, when the current Prime Minister was Home Secretary, an extradition request very similar to this one was refused. We should recall what WikiLeaks disclosed. Who can forget the Pentagon video footage of a missile attack in 2007 in Iraq that killed 18 civilians and two Reuters journalists? The monumental number of such leaks lifted the veil on US-led military operations in a variety of theatres, none of which has produced a favourable outcome for the people of those countries. Julian Assange is being pursued not to protect US national security, but because he has exposed wrongdoing by US Administrations and their military forces. We only have to look at the treatment of Chelsea Manning to see what awaits Julian Assange if he is extradited to the US. Ms Manning has already been incarcerated, between 2010 and 2017. She was originally sentenced to 35 years. Her indefinite detention now is because she refuses to participate in partial disclosure, which would allow whistleblowers to be pursued and not the perpetrators. Her human rights and protections as a transgender woman have been completely ignored—[Interruption.] Her human rights as a transgender woman have been completely ignored, and I hope that Government Members will take that seriously.​ What this has to do with Julian Assange’s case is that this could be the type of treatment he could expect if he is extradited to the US. In this country, we have protections for whistleblowers, including the Public Interest Disclosure Act 1998 and others—even if some of us feel that these protections should be more robust. Underpinning this legislation is the correct premise, not that anyone can leak anything they like but that protection should be afforded to those who take a personal risk to disclose wrongdoing where that disclosure serves the public interest. Julian Assange is at risk of extradition to the US precisely because, as we in the Opposition believe, he has exposed material that is in the utmost public interest. This is now in the hands of the British law courts. We have the utmost confidence in the British legal system, but we in the Opposition would be very concerned, on the basis of what we know, about Julian Assange being extradited to the US."
        ],
        [
         "3",
         "Diane Abbott",
         "2020.0",
         "Below is the text of the speech made by Diane Abbott, the Labour MP for Hackney North and Stoke Newington, in the House of Commons on 28 April 2020.",
         "We live in extraordinary times. Unfortunately, there is nothing extraordinary about domestic violence. It affects women of all classes and in all walks of life, and the figures show that it has got considerably worse in the course of the coronavirus lockdown. I welcome this important Bill. There are ways in which it could be improved, but in principle it represents a real step forward. First, however, I want to honour the campaigners. It was they who moved domestic abuse from something that the police and politicians did not necessarily take seriously to the very seriously regarded crime it is today. Without those campaigners, this Bill, although it is by no means perfect, would not have been brought forward. Domestic abuse and domestic violence are often hidden. The victims are frightened and even too ashamed to speak out. There are no more frightened and desperate victims than women of colour, whether they are refugees, asylum seekers, migrants or—[Inaudible.] Women of colour are fearful of approaching the authorities, because of their immigration status or general fear of the police. I have had to support—[Inaudible]—who were too frightened to report abuse, because they were worried that their partner might report them to immigration. I think it is important for the House to say that all women have the right to be protected from domestic abuse, regardless of their immigration status. To achieve that, this Government need to move away from the hostile war between immigration control and public services, including services for women who are victims of domestic violence. The women of colour who are reluctant to approach—[Inaudible]—so Government and local authorities need to recognise the importance of providing support for refugees and of services that provide specialist services to black women and migrants. I pay tribute to Ngozi Fulani and her project Sistah Space in Hackney, which has helped so many black women who are victims of domestic violence. We know that “no recourse to public funds” regulations stop many women of colour who are the victims of domestic violence from accessing support at all. For this and many other reasons, “no recourse to public funds” should be scrapped, but I have a practical proposal in relation to all victims. Labour’s new Front-Bench team is dealing very ably with the Bill and they will make the case for their amendments—[Inaudible]—for extra funds. I fully support that case, but the service providers who operate—[Inaudible]—conjure up additional living accommodation overnight every day, so I propose that the Government should acquire vacant hotel ​accommodation to house these victims until alternative, decent accommodation can be found. We know that some hotel chains have offered to help by providing accommodation, and they should be taken up on that offer. The policy has already been announced in France, and Britain should do the same. If, at a later date, more appropriate accommodation can be found, that is excellent, but the victims need accommodation now. Mine is a practical proposal that could be announced immediately. I hope that it will command widespread support across the House. To any women and men at home today who are watching this debate, I think the message of this House to you is that you are not alone."
        ],
        [
         "4",
         "Diane Abbott",
         "2020.0",
         "Below is the text of the speech made by Diane Abbott, the Labour MP for Hackney North and Stoke Newington, in the House of Commons on 18 May 2020.",
         "Like my good friend the right hon. Member for Normanton, Pontefract and Castleford (Yvette Cooper), I shall be voting against this Bill. It is a bad Bill. It is bad in principle, bad in practice and it sends a terrible message to migrants and the children of migrants. The Bill does indeed abolish freedom of movement—although once this country voted to Brexit, freedom of movement would have fallen in any event—but the Government are doing it in such a way and in such a manner that it seems to ignore the effect of this on around 890,000 British nationals in the EU. We feel that there was a better way of achieving the same effect. The Bill gives the Government a blank cheque to construct a new immigration system through statutory instrument. Anybody that has had to deal with the immigration system knows that one of the problems is ill-thought regulation piled on top of ill-thought regulation. The idea that the Government can construct a new immigration system without proper parliamentary scrutiny will make anyone who has ever tried to help anybody with an immigration problem fear for the consequences. The Bill is a slap in the face for the thousands of migrants, including EU migrants, who have been working so hard for the NHS and the care sector in this time of covid crisis. The idea put forward by Ministers that £25,600 is somehow a proxy level for skill is absurd. We know that the skills, the concern and the devotion that migrants are currently showing at this time of covid crisis cannot be measured by money, but Ministers seem to think that we can measure somebody’s value to society by an arbitrary financial threshold. EU migrants play a vital role not just in the NHS and the care sector, but in construction. In fact, they play a big role in construction, not because they are unskilled but because, as any developer would tell us, they have very important construction skills that developers are unable to recruit here. They play an important role in hospitality. They should have been granted settled status automatically. They should have physical documents, not a digital code, and we should not be moving towards extending the hostile environment towards EU migrants. The Bill represents a missed opportunity. It is a missed opportunity on the NHS surcharge. It is quite wrong that migrants working for the NHS pay three times over: once through taxation; once through the surcharge; ​and, in some cases, with their lives. It should have ended the no recourse to public funds system. It should have brought in a 28- day statutory time limit for immigration detention. It should have brought back legal aid for article 8 immigration cases, and it should have reformed the law on deportations so that people who came here as children cannot be arbitrarily deported. When the House debated Wendy Williams’ Windrush lessons learned review, there was a lot of hand-wringing on the Government side of the House about the Windrush scandal, but the review had some quite specific recommendations about immigration, including that the Home Secretary introduce a migrants commissioner; that the immigration department should re-educate itself fully about the current reach and effect of immigration and nationality law; that there should be a programme of training and development for all immigration and policy officials; and that Ministers should ensure that all policies and proposals for legislation on immigration are subject to rigorous impact assessments. The Home Secretary has said that the Bill is about a brighter future. A brighter future for whom? For EU nationals, who face a period of great uncertainty? Is it a brighter future for the old, the sick and the infirm, because the institutions that they rely on will have enormous difficulty recruiting people when there is an end to freedom of movement? Is it a brighter future for society, when we pass a Bill that sends a signal to wider society—and to migrants in particular—that you are only as valuable as the amount that you earn, and that we will clap for you on a Thursday and put forward a Bill like this a few days’ later?"
        ]
       ],
       "shape": {
        "columns": 4,
        "rows": 5
       }
      },
      "text/html": [
       "<div>\n",
       "<style scoped>\n",
       "    .dataframe tbody tr th:only-of-type {\n",
       "        vertical-align: middle;\n",
       "    }\n",
       "\n",
       "    .dataframe tbody tr th {\n",
       "        vertical-align: top;\n",
       "    }\n",
       "\n",
       "    .dataframe thead th {\n",
       "        text-align: right;\n",
       "    }\n",
       "</style>\n",
       "<table border=\"1\" class=\"dataframe\">\n",
       "  <thead>\n",
       "    <tr style=\"text-align: right;\">\n",
       "      <th></th>\n",
       "      <th>Speaker</th>\n",
       "      <th>Year</th>\n",
       "      <th>Description</th>\n",
       "      <th>Speech</th>\n",
       "    </tr>\n",
       "  </thead>\n",
       "  <tbody>\n",
       "    <tr>\n",
       "      <th>0</th>\n",
       "      <td>Diane Abbott</td>\n",
       "      <td>NaN</td>\n",
       "      <td>Below is the text of the speech made by Diane ...</td>\n",
       "      <td>The fact that the House of Commons has spent t...</td>\n",
       "    </tr>\n",
       "    <tr>\n",
       "      <th>1</th>\n",
       "      <td>Diane Abbott</td>\n",
       "      <td>2018.0</td>\n",
       "      <td>Below is the text of the speech made by Diane ...</td>\n",
       "      <td>Thank you Chair. Thank you Conference. It’s gr...</td>\n",
       "    </tr>\n",
       "    <tr>\n",
       "      <th>2</th>\n",
       "      <td>Diane Abbott</td>\n",
       "      <td>2019.0</td>\n",
       "      <td>Below is the text of the speech made by Diane ...</td>\n",
       "      <td>I thank the Home Secretary for his account of ...</td>\n",
       "    </tr>\n",
       "    <tr>\n",
       "      <th>3</th>\n",
       "      <td>Diane Abbott</td>\n",
       "      <td>2020.0</td>\n",
       "      <td>Below is the text of the speech made by Diane ...</td>\n",
       "      <td>We live in extraordinary times. Unfortunately,...</td>\n",
       "    </tr>\n",
       "    <tr>\n",
       "      <th>4</th>\n",
       "      <td>Diane Abbott</td>\n",
       "      <td>2020.0</td>\n",
       "      <td>Below is the text of the speech made by Diane ...</td>\n",
       "      <td>Like my good friend the right hon. Member for ...</td>\n",
       "    </tr>\n",
       "  </tbody>\n",
       "</table>\n",
       "</div>"
      ],
      "text/plain": [
       "        Speaker    Year                                        Description  \\\n",
       "0  Diane Abbott     NaN  Below is the text of the speech made by Diane ...   \n",
       "1  Diane Abbott  2018.0  Below is the text of the speech made by Diane ...   \n",
       "2  Diane Abbott  2019.0  Below is the text of the speech made by Diane ...   \n",
       "3  Diane Abbott  2020.0  Below is the text of the speech made by Diane ...   \n",
       "4  Diane Abbott  2020.0  Below is the text of the speech made by Diane ...   \n",
       "\n",
       "                                              Speech  \n",
       "0  The fact that the House of Commons has spent t...  \n",
       "1  Thank you Chair. Thank you Conference. It’s gr...  \n",
       "2  I thank the Home Secretary for his account of ...  \n",
       "3  We live in extraordinary times. Unfortunately,...  \n",
       "4  Like my good friend the right hon. Member for ...  "
      ]
     },
     "execution_count": 12,
     "metadata": {},
     "output_type": "execute_result"
    }
   ],
   "source": [
    "df_speeches = pd.read_csv('./data/speeches_ukpol.csv')\n",
    "df_speeches.drop(columns=df_speeches.columns[0], axis=1, inplace=True)\n",
    "df_speeches.head()"
   ]
  },
  {
   "cell_type": "code",
   "execution_count": 13,
   "metadata": {},
   "outputs": [
    {
     "data": {
      "application/vnd.microsoft.datawrangler.viewer.v0+json": {
       "columns": [
        {
         "name": "index",
         "rawType": "int64",
         "type": "integer"
        },
        {
         "name": "item",
         "rawType": "object",
         "type": "string"
        },
        {
         "name": "itemLabel",
         "rawType": "object",
         "type": "string"
        },
        {
         "name": "constituencyLabel",
         "rawType": "object",
         "type": "unknown"
        },
        {
         "name": "partyLabel",
         "rawType": "object",
         "type": "unknown"
        },
        {
         "name": "start",
         "rawType": "object",
         "type": "string"
        },
        {
         "name": "electionLabel",
         "rawType": "object",
         "type": "unknown"
        },
        {
         "name": "end",
         "rawType": "object",
         "type": "unknown"
        },
        {
         "name": "endcauseLabel",
         "rawType": "object",
         "type": "unknown"
        },
        {
         "name": "noteLabel",
         "rawType": "object",
         "type": "unknown"
        }
       ],
       "conversionMethod": "pd.DataFrame",
       "ref": "5aa57252-e299-49a2-a3b5-e35b59eb0fee",
       "rows": [
        [
         "0",
         "http://www.wikidata.org/entity/Q265935",
         "Nick Brown",
         "Newcastle upon Tyne East",
         "independent politician",
         "2022-09-07T00:00:00Z",
         "2019 United Kingdom general election",
         null,
         null,
         null
        ],
        [
         "1",
         "http://www.wikidata.org/entity/Q580464",
         "Penny Mordaunt",
         null,
         null,
         "2022-09-06T00:00:00Z",
         null,
         null,
         null,
         null
        ],
        [
         "2",
         "http://www.wikidata.org/entity/Q303299",
         "Tobias Ellwood",
         "Bournemouth East",
         "independent politician",
         "2022-07-19T00:00:00Z",
         null,
         null,
         null,
         null
        ],
        [
         "3",
         "http://www.wikidata.org/entity/Q575266",
         "Christopher Pincher",
         "Tamworth",
         "independent politician",
         "2022-06-30T00:00:00Z",
         null,
         null,
         null,
         null
        ],
        [
         "4",
         "http://www.wikidata.org/entity/Q19883135",
         "Patrick Grady",
         "Glasgow North",
         "independent politician",
         "2022-06-26T00:00:00Z",
         null,
         null,
         null,
         null
        ]
       ],
       "shape": {
        "columns": 9,
        "rows": 5
       }
      },
      "text/html": [
       "<div>\n",
       "<style scoped>\n",
       "    .dataframe tbody tr th:only-of-type {\n",
       "        vertical-align: middle;\n",
       "    }\n",
       "\n",
       "    .dataframe tbody tr th {\n",
       "        vertical-align: top;\n",
       "    }\n",
       "\n",
       "    .dataframe thead th {\n",
       "        text-align: right;\n",
       "    }\n",
       "</style>\n",
       "<table border=\"1\" class=\"dataframe\">\n",
       "  <thead>\n",
       "    <tr style=\"text-align: right;\">\n",
       "      <th></th>\n",
       "      <th>item</th>\n",
       "      <th>itemLabel</th>\n",
       "      <th>constituencyLabel</th>\n",
       "      <th>partyLabel</th>\n",
       "      <th>start</th>\n",
       "      <th>electionLabel</th>\n",
       "      <th>end</th>\n",
       "      <th>endcauseLabel</th>\n",
       "      <th>noteLabel</th>\n",
       "    </tr>\n",
       "  </thead>\n",
       "  <tbody>\n",
       "    <tr>\n",
       "      <th>0</th>\n",
       "      <td>http://www.wikidata.org/entity/Q265935</td>\n",
       "      <td>Nick Brown</td>\n",
       "      <td>Newcastle upon Tyne East</td>\n",
       "      <td>independent politician</td>\n",
       "      <td>2022-09-07T00:00:00Z</td>\n",
       "      <td>2019 United Kingdom general election</td>\n",
       "      <td>NaN</td>\n",
       "      <td>NaN</td>\n",
       "      <td>NaN</td>\n",
       "    </tr>\n",
       "    <tr>\n",
       "      <th>1</th>\n",
       "      <td>http://www.wikidata.org/entity/Q580464</td>\n",
       "      <td>Penny Mordaunt</td>\n",
       "      <td>NaN</td>\n",
       "      <td>NaN</td>\n",
       "      <td>2022-09-06T00:00:00Z</td>\n",
       "      <td>NaN</td>\n",
       "      <td>NaN</td>\n",
       "      <td>NaN</td>\n",
       "      <td>NaN</td>\n",
       "    </tr>\n",
       "    <tr>\n",
       "      <th>2</th>\n",
       "      <td>http://www.wikidata.org/entity/Q303299</td>\n",
       "      <td>Tobias Ellwood</td>\n",
       "      <td>Bournemouth East</td>\n",
       "      <td>independent politician</td>\n",
       "      <td>2022-07-19T00:00:00Z</td>\n",
       "      <td>NaN</td>\n",
       "      <td>NaN</td>\n",
       "      <td>NaN</td>\n",
       "      <td>NaN</td>\n",
       "    </tr>\n",
       "    <tr>\n",
       "      <th>3</th>\n",
       "      <td>http://www.wikidata.org/entity/Q575266</td>\n",
       "      <td>Christopher Pincher</td>\n",
       "      <td>Tamworth</td>\n",
       "      <td>independent politician</td>\n",
       "      <td>2022-06-30T00:00:00Z</td>\n",
       "      <td>NaN</td>\n",
       "      <td>NaN</td>\n",
       "      <td>NaN</td>\n",
       "      <td>NaN</td>\n",
       "    </tr>\n",
       "    <tr>\n",
       "      <th>4</th>\n",
       "      <td>http://www.wikidata.org/entity/Q19883135</td>\n",
       "      <td>Patrick Grady</td>\n",
       "      <td>Glasgow North</td>\n",
       "      <td>independent politician</td>\n",
       "      <td>2022-06-26T00:00:00Z</td>\n",
       "      <td>NaN</td>\n",
       "      <td>NaN</td>\n",
       "      <td>NaN</td>\n",
       "      <td>NaN</td>\n",
       "    </tr>\n",
       "  </tbody>\n",
       "</table>\n",
       "</div>"
      ],
      "text/plain": [
       "                                       item            itemLabel  \\\n",
       "0    http://www.wikidata.org/entity/Q265935           Nick Brown   \n",
       "1    http://www.wikidata.org/entity/Q580464       Penny Mordaunt   \n",
       "2    http://www.wikidata.org/entity/Q303299       Tobias Ellwood   \n",
       "3    http://www.wikidata.org/entity/Q575266  Christopher Pincher   \n",
       "4  http://www.wikidata.org/entity/Q19883135        Patrick Grady   \n",
       "\n",
       "          constituencyLabel              partyLabel                 start  \\\n",
       "0  Newcastle upon Tyne East  independent politician  2022-09-07T00:00:00Z   \n",
       "1                       NaN                     NaN  2022-09-06T00:00:00Z   \n",
       "2          Bournemouth East  independent politician  2022-07-19T00:00:00Z   \n",
       "3                  Tamworth  independent politician  2022-06-30T00:00:00Z   \n",
       "4             Glasgow North  independent politician  2022-06-26T00:00:00Z   \n",
       "\n",
       "                          electionLabel  end endcauseLabel noteLabel  \n",
       "0  2019 United Kingdom general election  NaN           NaN       NaN  \n",
       "1                                   NaN  NaN           NaN       NaN  \n",
       "2                                   NaN  NaN           NaN       NaN  \n",
       "3                                   NaN  NaN           NaN       NaN  \n",
       "4                                   NaN  NaN           NaN       NaN  "
      ]
     },
     "execution_count": 13,
     "metadata": {},
     "output_type": "execute_result"
    }
   ],
   "source": [
    "df_speakers = pd.read_csv('./data/MPs_1970_onwards.csv')\n",
    "df_speakers.head()"
   ]
  },
  {
   "cell_type": "code",
   "execution_count": 14,
   "metadata": {},
   "outputs": [],
   "source": [
    "def binarize_party(label: str) -> int|None:\n",
    "    if label == 'Labour Party':\n",
    "        return 0\n",
    "    elif label == 'Conservative Party':\n",
    "        return 1\n",
    "    else:\n",
    "        return None"
   ]
  },
  {
   "cell_type": "code",
   "execution_count": 15,
   "metadata": {},
   "outputs": [],
   "source": [
    "df_speakers['party'] = df_speakers['partyLabel'].apply(binarize_party)"
   ]
  },
  {
   "cell_type": "code",
   "execution_count": 16,
   "metadata": {},
   "outputs": [],
   "source": [
    "df_speakers = df_speakers[['itemLabel', 'party']].groupby('itemLabel').mean().reset_index()\n",
    "df_speakers = df_speakers[df_speakers['party'].isin([0, 1, np.nan])]"
   ]
  },
  {
   "cell_type": "code",
   "execution_count": 17,
   "metadata": {},
   "outputs": [],
   "source": [
    "df_speakers.rename(columns={'itemLabel': 'Speaker'}, inplace=True)"
   ]
  },
  {
   "cell_type": "code",
   "execution_count": 18,
   "metadata": {},
   "outputs": [],
   "source": [
    "df_merged = pd.merge(df_speeches, df_speakers, on='Speaker')"
   ]
  },
  {
   "cell_type": "code",
   "execution_count": 19,
   "metadata": {},
   "outputs": [],
   "source": [
    "indexes_to_drop = [275, 429, 1575, 1929, 1930, 1931, 3309, 3310, 3629, 3688, 4686, 4842, 4994, 5474, 5475, 5508, 5526, 5581, 5597, 5601, 5611, 6097, 6279, 6609, 7820, 8192, 8289]\n",
    "df_merged = df_merged.drop(index=indexes_to_drop)"
   ]
  },
  {
   "cell_type": "code",
   "execution_count": 20,
   "metadata": {},
   "outputs": [],
   "source": [
    "df_merged = df_merged.dropna(subset=['Speaker', 'Speech'])\n",
    "df_merged = df_merged[(df_merged['Speaker'] != '') & (df_merged['Speech'] != '') & (df_merged['party'] != '')]\n",
    "df_merged = df_merged[df_merged['Year'] >= 1970]"
   ]
  },
  {
   "cell_type": "code",
   "execution_count": 21,
   "metadata": {},
   "outputs": [
    {
     "data": {
      "text/plain": [
       "9919"
      ]
     },
     "execution_count": 21,
     "metadata": {},
     "output_type": "execute_result"
    }
   ],
   "source": [
    "len(df_merged)"
   ]
  },
  {
   "cell_type": "code",
   "execution_count": 22,
   "metadata": {},
   "outputs": [
    {
     "data": {
      "text/plain": [
       "Speaker           0\n",
       "Year              0\n",
       "Description      67\n",
       "Speech            0\n",
       "party          1018\n",
       "dtype: int64"
      ]
     },
     "execution_count": 22,
     "metadata": {},
     "output_type": "execute_result"
    }
   ],
   "source": [
    "df_merged.isna().sum()"
   ]
  },
  {
   "cell_type": "code",
   "execution_count": 23,
   "metadata": {},
   "outputs": [
    {
     "data": {
      "image/png": "[encoded data removed]",
      "text/plain": [
       "<Figure size 1000x600 with 1 Axes>"
      ]
     },
     "metadata": {},
     "output_type": "display_data"
    }
   ],
   "source": [
    "year_counts = df_merged['Year'].value_counts()\n",
    "x_years = year_counts.index.astype(int)\n",
    "x_years.sort_values()\n",
    "\n",
    "plt.figure(figsize=(10, 6))\n",
    "sns.barplot(x=x_years, y=year_counts)\n",
    "plt.xlabel('Year')\n",
    "plt.ylabel('Count')\n",
    "plt.title('Counts of Years')\n",
    "plt.xticks(rotation=90)\n",
    "plt.show()"
   ]
  },
  {
   "cell_type": "markdown",
   "metadata": {},
   "source": [
    "## Preprocessing NLP"
   ]
  },
  {
   "cell_type": "markdown",
   "metadata": {},
   "source": [
    "### Extracting the speeches column"
   ]
  },
  {
   "cell_type": "code",
   "execution_count": 24,
   "metadata": {},
   "outputs": [],
   "source": [
    "raw_speeches = df_merged['Speech'].values.tolist()"
   ]
  },
  {
   "cell_type": "code",
   "execution_count": 25,
   "metadata": {},
   "outputs": [],
   "source": [
    "speeches = [element.lower() for element in raw_speeches]"
   ]
  },
  {
   "cell_type": "markdown",
   "metadata": {},
   "source": [
    "### Splitting the words for each speech"
   ]
  },
  {
   "cell_type": "code",
   "execution_count": 26,
   "metadata": {},
   "outputs": [],
   "source": [
    "def tokenize(speeches: list[str]) -> list[list[str]]:\n",
    "    speeches_token = []\n",
    "    for speech in tqdm(speeches):\n",
    "        speeches_token.append(nltk.tokenize.word_tokenize(speech))\n",
    "    return speeches_token"
   ]
  },
  {
   "cell_type": "code",
   "execution_count": 27,
   "metadata": {},
   "outputs": [
    {
     "name": "stderr",
     "output_type": "stream",
     "text": [
      "100%|██████████| 9919/9919 [01:09<00:00, 142.24it/s]\n"
     ]
    }
   ],
   "source": [
    "speeches = tokenize(speeches)"
   ]
  },
  {
   "cell_type": "code",
   "execution_count": 28,
   "metadata": {},
   "outputs": [],
   "source": [
    "word_count = [len(speech) for speech in speeches]"
   ]
  },
  {
   "cell_type": "code",
   "execution_count": 29,
   "metadata": {},
   "outputs": [
    {
     "data": {
      "text/plain": [
       "(2, 819.0, 13237)"
      ]
     },
     "execution_count": 29,
     "metadata": {},
     "output_type": "execute_result"
    }
   ],
   "source": [
    "min(word_count), np.median(word_count), max(word_count)"
   ]
  },
  {
   "cell_type": "markdown",
   "metadata": {},
   "source": [
    "Some speeches are suspiciously too short. We will have to remove them during the sets splitting."
   ]
  },
  {
   "cell_type": "markdown",
   "metadata": {},
   "source": [
    "### Removing stopwords"
   ]
  },
  {
   "cell_type": "code",
   "execution_count": 30,
   "metadata": {},
   "outputs": [],
   "source": [
    "def remove_stopwords(speeches: list[list[str]]) -> list[list[str]]:\n",
    "    stop_words = stopwords.words('english')\n",
    "    speeches_filtered = []\n",
    "    for speech in tqdm(speeches):\n",
    "        tokens = []\n",
    "        for w in speech:\n",
    "            if w not in stop_words and len(w) > 2 and w.isalpha() and w != 'none':\n",
    "                tokens.append(w)\n",
    "        speeches_filtered.append(tokens)\n",
    "    return speeches_filtered"
   ]
  },
  {
   "cell_type": "code",
   "execution_count": 31,
   "metadata": {},
   "outputs": [
    {
     "name": "stderr",
     "output_type": "stream",
     "text": [
      "100%|██████████| 9919/9919 [00:23<00:00, 419.21it/s]\n"
     ]
    }
   ],
   "source": [
    "speeches = remove_stopwords(speeches)"
   ]
  },
  {
   "cell_type": "markdown",
   "metadata": {},
   "source": [
    "### Stemming"
   ]
  },
  {
   "cell_type": "code",
   "execution_count": 32,
   "metadata": {},
   "outputs": [],
   "source": [
    "def stem(speeches: list[list[str]]) -> list[list[str]]:\n",
    "    speeches_stem = []\n",
    "    stemmer = nltk.SnowballStemmer('english')\n",
    "    for speech in tqdm(speeches):\n",
    "        tokens = []\n",
    "        for w in speech:\n",
    "            tokens.append(stemmer.stem(w))\n",
    "        speeches_stem.append(tokens)\n",
    "    return speeches_stem"
   ]
  },
  {
   "cell_type": "code",
   "execution_count": 33,
   "metadata": {},
   "outputs": [
    {
     "name": "stderr",
     "output_type": "stream",
     "text": [
      "100%|██████████| 9919/9919 [01:22<00:00, 120.37it/s]\n"
     ]
    }
   ],
   "source": [
    "speeches = stem(speeches)"
   ]
  },
  {
   "cell_type": "markdown",
   "metadata": {},
   "source": [
    "### Sentiment analysis"
   ]
  },
  {
   "cell_type": "code",
   "execution_count": 34,
   "metadata": {},
   "outputs": [
    {
     "name": "stderr",
     "output_type": "stream",
     "text": [
      "100%|██████████| 9919/9919 [02:54<00:00, 56.81it/s] \n"
     ]
    }
   ],
   "source": [
    "sia = SentimentIntensityAnalyzer()\n",
    "\n",
    "sentiments = [sia.polarity_scores(speech)['compound'] for speech in tqdm(raw_speeches)]"
   ]
  },
  {
   "cell_type": "markdown",
   "metadata": {},
   "source": [
    "## Data splitting"
   ]
  },
  {
   "cell_type": "code",
   "execution_count": 35,
   "metadata": {},
   "outputs": [],
   "source": [
    "speeches = [' '.join(token) for token in speeches]"
   ]
  },
  {
   "cell_type": "code",
   "execution_count": 36,
   "metadata": {},
   "outputs": [
    {
     "data": {
      "application/vnd.microsoft.datawrangler.viewer.v0+json": {
       "columns": [
        {
         "name": "index",
         "rawType": "int64",
         "type": "integer"
        },
        {
         "name": "party",
         "rawType": "float64",
         "type": "float"
        },
        {
         "name": "speech",
         "rawType": "object",
         "type": "string"
        },
        {
         "name": "word_count",
         "rawType": "int64",
         "type": "integer"
        },
        {
         "name": "sentiment",
         "rawType": "float64",
         "type": "float"
        }
       ],
       "conversionMethod": "pd.DataFrame",
       "ref": "98bc3a9e-9a7f-49bf-8406-6197bae52850",
       "rows": [
        [
         "8177",
         "1.0",
         "statutori instrument laid septemb titl motor vehicl drive licenc amend regul regul due come forc novemb substant legisl chang propos regul would remov need person pass car trailer test could pull heavi trailer behind car would meant peopl licenc award also longer need pass separ test tow heavi trailer statutori instrument approv time regul come forc novemb sinc affirm statutori instrument amend laid draft taken action lay regul afresh draft motor vehicl drive licenc amend regul regul make rapid progress seek make use urgenc procedur paragraph schedul european union withdraw act opinion reason urgenc requir affirm statutori instrument virtu paragraph schedul european union withdraw act made publish draft day togeth scrutini statement appli forgo public period allow earlier lay regul would otherwis possibl strengthen step alreadi taken increas hgv test capac eas suppli chain issu quick possibl arrang place ensur chang made regul oper effect soon come forc",
         "356",
         "0.8647"
        ],
        [
         "3650",
         "1.0",
         "rapid test vital part roadmap help cautious lift restrict economi societi around one three peopl coronavirus symptom extend employe test workplac home help identifi case otherwis find prevent transmiss save live busi across countri alreadi regist free regular rapid test encourag mani take offer help keep employe famili safe",
         "101",
         "0.9643"
        ],
        [
         "233",
         "0.0",
         "virus gone away could easili get control without strategi test trace isol peopl societi abl reopen safe labour call test expand beyond symptomat carrier join comprehens trace oper proper integr primari care crucial fight virus everi day without proper action put mani peopl risk",
         "92",
         "0.6486"
        ],
        [
         "8301",
         "1.0",
         "thank much deputi speaker transpar make hous awar declar relev interest tabl offic februari year gordon hoyland spencer pass away sue ryder wheatfield hospic leed belov husband father grandfath also much cherish need happen gordon spencer entrepreneur wife jacki famili built larg success enterpris gordon wife jacki start life back street leed work shop floor industri textil mill howev indomit entrepreneuri spirit coupl ethic led build two larg success busi facil manag properti facil manag compani start round gordon bought earn extra incom order buy carpet cottag year ago son daughter grandson work busi make compani truli famili enterpris combin compani today employ peopl one largest facil manag compani true facilit northern powerhous gordon also instrument part group landlord contribut hous act brought protect landlord tenant shorthold tenanc agreement want ensur landlord would abl receiv rent owe tenant protect unscrupul landlord gordon jacki marri quit unheard day three children two ador grandchildren gordon much man love noth spend time famili devot dad husband grandfath retir gordon jacki enjoy travel undertaken sever world cruis two destin alway elud cherri blossom japan jacki taj mahal india gordon januari year gordon jacki set sail world cruis cruis maritim voyag would take last two destin short cruis start gordon becam unwel chest infect cough jacki took gordon see ship doctor diagnos doubl pneumonia high blood pressur start treatment antibiot ecg diagnos gordon left bundl branch block caus irregular heartbeat consid heart attack doctor also perform troponin test categor confirm gordon heart attack troponin enzym heart emit higher level troponin indic myocardi infarct heart attack despit high blood pressur left bundl branch block gordon troponin test negat suffici evid suggest gordon heart attack risk heart attack signific point relat action happen next gordon jacki disembark barbado consequ sent medic treatment bridgetown capit barbado home queen elizabeth hospit island primari acut medic care facil provid extens care wide array medic specialti report entitl care barbado medic tourism research group outlin medic arrang barbado state within caribbean barbado regard favour destin region patient particular smaller island lack advanc diagnost treatment facil capac offer treat sparman clinic island dialysi bayview hospit attract privat region patient howev accord interviewe public queen elizabeth hospit primari health care destin region patient queen elizabeth hospit serv main referr hospit entir eastern consult queen elizabeth abil admit privat patient ill vacation cover island public system friday januari major hospit avail two mile port man doubl accord ship doctor improv point medic port agent bridgetown decid send gordon privat run sparman clinic three mile port clinic own oper alfr sparman advertis heart specialist clinic ship doctor note lab result clear state gordon heart attack given sparman clinic gordon arriv howev medic note made sparman afterward state gordon admit clinic doubl pneumonia heart attack case arriv clinic jacki ask pay clinic would admit treat gordon jacki max credit card pay upfront cost left without fund find accommod barbado monday emphasis speak children arriv barbado assist parent point gordon nasal cannula antibiot drip receiv treatment three day sinc admit clinic appear weak short breath abl sit bed eat fulli coher jacki sleep couch observ room fund procur accommod sparman clinic actual doctor surgeri wait area one small oper theatr cardiovascular surgeri perform observ room doubl patient bedroom intens care unit contain most wooden soft furnitur sparman met famili discuss gordon prognosi clinic confer room contain crack board tabl held togeth gaffer tape sever broken crack leather chair addit client record strewn across floor pile high box mention dilapid state entir clinic given hospit less half mile away bridgetown difficult understand clinic deem appropri offer level suitabl healthcar critic ill patient doubl pneumonia meet sparman advis famili gordon ill suffer heart attack result strain pneumonia put heart suspect gordon also blockag one arteri therefor need angioplasti angiogram end meet state surgeri complet gordon would feel much felt year famili would abl fli home via commerci airlin end week howev medic report receiv clinic gordon releas clear show time meet sparman gordon troponin level show posit enzym still well outsid paramet would indic heart attack occur like occur day lead oper gordon condit began deterior high agit state lack strength move posit bed offer littl assist nurs led great discomfort moreov air condit observ room gordon stay work result uncomfort temperatur caribbean much gordon struggl sleep sinc arriv clinic exhaust despit sever request famili unit mend clinic never repair gordon clear weaken day oper refus food hour develop spasm wrack entir bodi begun vomit oper final took place six day gordon arriv clinic man abl walk talk eat day earlier visibl declin front everyon due combin lack sleep broken unit lack nutrit gordon place protein drip sever day stop eat consider discomfort lack strength move posit aid offer overal general lack proper nurs care yet still delay least famili present bill advis sparman would perform surgeri without money first famili came money despit gordon sever weaken state sparman proceed surgeri gordon admit general hospit first place high like would receiv treatment much earlier would wait six day correct procedur need like would make full recoveri sparman clinic continu delay general lack care accord lab result half hour oper troponin test conduct point gordon troponin level elev point show heart attack immin famili awar sparman would within half hour oper commenc sparman return famili said unabl perform procedur gordon start go cardiac arrest oper abort oper gordon began deterior rapid within hour sedat place tracheal intub ventil breath strap gordon face use string blood pressur danger low bodi still rack spasm also kidney failur gordon initi sedat use valium came round twice tri pull tube mouth sparman chang sedat diazepam tie gordon hand bedfram diazepam work term ensur gordon come round also stop spasm howev gordon never fulli regain conscious drug administ remain three day gordon spent clinic sedat intub bodi posit never move nurs staff famili permit move point member staff would prefer remain gordon airlift clinic soon possibl impli go get better sparman clinic famili immedi start arrang medic airlift back stress time famili present anoth bill hope manag describ hous utter lack care gordon receiv primari motiv appear delay correct proper treatment gordon need order extract money famili famili work fastidi medic flight team repatri gordon howev speak consult deem gordon ill endur flight need angioplasti angiogram prior repatri also advis gordon present condit oper high risk gordon critic ill risk factor associ either oper flight carri great consequ sparman made clear decis surgeri entir famili must reiter point sparman place medic decis hand gordon famili medic train whatev loss know choic make famili consult head cardiologist queen elizabeth hospit advis remov gordon sparman clinic immedi bring hospit soon possibl ahead surgeri famili began make plan move gordon sparman advis ill would make journey began pressur ahead surgeri desper famili sought advic relat england doctor base inform sparman provid relat advis surgeri ahead famili choic put faith sparman point famili present anoth bill total famili alreadi paid famili advis surgeri would ahead without balanc paid choic come money would appear respons threat move gordon clinic sparman determin ahead surgeri put immens emot pressur famili present bill case lost gordon came surgeri chanc surviv accord sparman two day later deem stabl enough medic evacu sparman arrang medic administ medic flight given flight fast food bag sedat provid gordon flight diazepam air medic team queri use drug sedat say high quantiti prescrib gordon administ usa took far long dispers system patient level critic ill especi patient kidney failur absolut failur care gordon wellb coupl wholli inappropri drug age state ill quantiti beyond irrespons place constant strain heart must emphasis would never posit gordon sent main hospit proper treat pneumonia moment arriv bob stewart beckenham con interrupt good friend ask someth wait hear made decis send gordon sparman rather hospit decis taken board ship kind cosi arrang deal know alec shelbrook grate hon gallant friend come speech decis cruis liner decis port agent day gordon spent sparman clinic receiv limit nutrit care substandard nurs gave rise horrif bed sore visibl shock medic staff leed general infirmari place poor room led exhaust led gordon much higher level anxieti fear pain rapid health deterior put increas pressur heart time abl rest proper hydrat nutriti fed continu recoveri pneumonia ship doctor said comfort make without heart issu time gordon repatri admit leed general infirmari earli tuesday januari inspect report sparman consult could understand gordon still critic medic report impli recoveri also concern graviti gordon bed sore first degre result posit chang whilst sparman clinic nurs staff refus move gordon sparman tie hand bed prevent famili move basic nurs practic anybodi medic profess know patient left posit develop bed sore emphasis staff leed general infirmari audibl gasp saw state also question prolong use high dosag drug diazepam administ sad consult lgi perform test gordon determin heart great deterior much wors condit reflect sparman note fact prognosi good addit chronic heart failur gordon kidney failur brain damag lack oxygen despit taken diazepam sedat arriv lgi gordon kidney abl dispel drug coupl multipl organ failur brain damag meant gordon never proper regain conscious thirteen day admit lgi famili heavi heart admit defeat gordon life support stop die februari leav behind devast traumatis famili owe circumst around gordon death post mortem still ongo coron offic consid complex case mean unabl get final patholog report still await final death certif famili paid approxim total barbar treatment receiv barbado subsequ medic repatri noth show money traumat memori tragic pain death gordon horrif treatment trauma think could hit anyth els return famili start simpl googl search alfr sparman highlight horrifi pictur sparman convict offenc disord conduct plead guilti convict crime sexual abus first degre unlaw imprison new york sentenc five year probat januari sparman regist sex offend florida june appli licensur practis medicin florida state florida revok medic licenc sparman receiv licenc practis medicin tennesse revok februari owe unprofession conduct previous feloni convict sexual abus new york fals statement medic june regist sex offend state florida sparman went barbado open clinic board certif intern medicin suspend american board intern medicin continu day advertis american physician reregist sexual predat offend state florida reregist sex offend state tennesse regist also contain list sparman alias john freeman alfr eversley top crime convict sparman advertis cardiologist never pass board certif cardiolog exam usa also advertis fellow american colleg cardiolog facc record fellow reprimand medic council barbado ask remov facc letterhead advertis intervent cardiologist specialist train intervent cardiolog number complaint made medic council barbado also tri poach pay cardiolog queen elizabeth hospit inform found simpl onlin due dilig check addit countless stori onlin peopl suffer hand sparman gordon sent clinic suppos doctor strip licenc practis medicin regist sex offend numer specul surround regard conduct blatant lie accredit gordon sent heart clinic first place diagnos doubl pneumonia rather sent queen elizabeth hospit never know answer question repres cruis maritim voyag confirm port agent determin taken medic care disembark port agent govern maritim law port agent design person agenc held respons handl shipment cargo general interest custom port harbour worldwid behalf ship owner manag charter quit frank decis port agent made send gordon sparman clinic instead main hospit kill add final insult injuri instead gordon visit bucket list destin taj mahal belov wife jacki instead laid ash ask minist depart today seek chang intern maritim law lobbi intern maritim organis regard duti care due dilig fit proper person test port agent must carri identifi commiss onshor medic facil practition disembark medic emerg intern convent safeti life sea use bring highest standard health safeti sea whether crew passeng provis amend intern ship port facil secur code secur concern rais would argu show wellb seafar carri within port vessel gordon alway proud work bring chang landlord law achiev protect standard requir especi tenant although never bring back would final fit tribut life know even death abl tri make world better place ensur never happen anybodi els",
         "4437",
         "-0.9996"
        ],
        [
         "10018",
         "1.0",
         "welcom session delight david davi shailesh vara hear soon later four outstand ppcs young hope think includ platform certain includ audienc realli million young peopl futur countri let labour govern rememb toni blair promis educ educ educ would prioriti seven year later labour deliv take class size import issu parent labour promis reduc number secondari school class pupil gone half sinc young peopl class pupil toni blair gave pledg exam result minist tri persuad standard risen truth one three leav school unabl read write count proper fact ought shame even toni blair anoth one last year young peopl left school without singl gcse mayb part number pupil bunk school risen fifth sinc despit million spend various ministeri initi gimmick school situat insid classroom alway good accord teach union nasuwt attack teacher everi seven minut year ago poll show one three teacher consid leav profess within five year cultur lack disciplin youngster go univers labour broken promis fee mean start work live burden huge debt bureaucraci labour staff recruit faster teacher toni blair school report good meddl minist money wast frustrat teacher stagnat standard much labour put right plan radic three element first believ time give pupil parent much greater control govern spend money children educ come back moment second give school freedom know commit teacher determin qualiti educ time get bureaucrat back set teacher free account first foremost parent free restor disciplin school stop small minor disrupt pupil wreck chanc classmat free best teach bring third element restor confid standard whatev spin better exam result know labour downgrad system cultur prize undermin student real achiev univers employ tell stori fall confid qualif young peopl acquir school make qualif curriculum author institut independ like bank england prevent polit manipul address problem wear health hat moment know physic activ young peopl healthi bring sport back school someth labour busi flog school play field attend parent know benefit sport bring labour failur confin school univers labour solut saddl student huge debt contrast keep promis fee tuition fee give univers cash need good news student univers bad news labour mps explain broke manifesto promis conserv univers told yet anoth bureaucrat appoint minist admit fix fund univers enough need vocat train stimul skill young peopl univers labour system vocat train expens mess respect neither student employ later year set conserv framework skill train address fundament fail fail becom critic intern competit job invest intensifi let close return first element core strategi improv standard school pupil passport right everi parent choos school child goe take exampl child inner citi borough two secondari school vicin one good one bad current good school full bad one empti seat parent may compel surplus place rule send child bad school regardless wish way parent avoid appeal decis although appeal risen per cent sinc third decid parent favour pupil passport mean child would abl attend good school could expand announc today follow oliv letwin speech set spend plan next conserv govern confirm extra cash avail school pupil passport confin inner citi area origin envisag instead roll progress across whole countri want everi famili empow choic past avail peopl could afford move catchment area favour school conserv abl right school even famili live wrong street good school attract pupil sinc everi girl boy accept school fund goe automat school abl expand respons demand popular faith school exampl within maintain sector abl grow would success comprehens area complet new school spring side coin school parent choos children find number declin put pressur budget provid spur encourag school improv longer abl reli lea ensur classroom fill youngster whose parent order send unlik labour conserv govern reward failur abolish surplus place rule rule enabl council decid school child goe even know wrong one talk local govern colleagu other mean futur role lea money alloc valu passport set aim give everi famili power enjoy know power choic power forc improv next general elect offer countri clear choic either continu labour path stagnat standard minist know best take offer dare ask anyth differ educ system state loom larg peopl small follow new conserv path bigger citizen control choos want path lead higher standard transform way public servic deliv choic offer next generat young hope briton help fulfil aspir togeth task help choos right option",
         "1578",
         "0.9991"
        ],
        [
         "7147",
         "1.0",
         "permiss would like make statement first want begin echo prime minist remark scale suffer virus inflict truli thought tragic lost love one yesterday address hous said govern focus protect vaccin programm proud reduc risk new strain virus transmit someon come yesterday foreign offic announc support countri access gene sequenc capabl increas earli identif new strain virus vital step forward support global respons coronavirus simpli enough reduc risk unit kingdom clear still mani peopl come countri day today announc action strengthen health measur alreadi border order reduc passeng small number peopl absolut essenti travel therefor reduc risk vaccin programm enter number measur first polic step check carri physic check address ensur peopl compli rule second continu refus entri resid red list countri alreadi subject travel ban third prime minist said introduc new manag isol process hotel refus entri includ arriv home countri alreadi impos intern travel ban requir isol day without except depart health social care set detail approach next week travel also enhanc step enforc rule despit regul still see peopl compli rule rule clear peopl stay home unless valid reason leav go holiday valid reason introduc new requir peopl wish travel must first make declar need travel reason travel check carrier prior departur approach effect mirror check arriv alreadi place passeng locat form second work polic partner increas polic presenc port airport fine breach regul anyon valid reason travel direct return home face fine third urgent review list travel exempt make sure import except reason includ crucial new measur protect also complement robust action consist taken border new measur operationalis would like remind anyon seek enter countri compli rule includ provid evid negat covid test enter unit kingdom arriv day complet passeng locat form immedi step enforc mean someon follow regul face fine new measur border necessari step protect public vaccin programm everi layer protect put place help reduc risk transmiss virus new potenti strain enter done throughout global health emerg continu take step necessari protect public help prevent spread virus commend statement hous",
         "775",
         "0.9942"
        ],
        [
         "6526",
         "0.0",
         "busi across face black hole winter billion wipe incom crucial christma period busi visitor economi face effect restrict huge loss spend tourism hotel hospit high street especi hard hit unless minist chang tack winter usual vibrant busi real possibl must right thing see end crisi",
         "98",
         "-0.643"
        ],
        [
         "8437",
         "1.0",
         "alway prepar justifi vote parliament account constitu fundament job case recognis got wrong vote leadsom amend motion believ contain sensibl point design improv standard system think anyon think current system perfect serious question need discuss exampl present disciplinari system accus parti right appeal right come present wit support evid howev reform process tie vote singl case inde appli retrospect mps hold highest standard public life must accept rule book govern recognis made mistak",
         "176",
         "0.7579"
        ],
        [
         "1225",
         "1.0",
         "prime minist thank well thank welcom great siemen great lincoln think lot good reason want talk briefli today economi believ economi mend think get better think improv still earli day still hard work one reason get better busi like think know countri becam reliant financi servic reliant south england need make thing design thing export thing exact siemen busi export help britain compet succeed global race also help import way help train young peopl take apprentic everi year support engin school univers start utc univers technic colleg help give young peopl educ train give abil work great busi like think good place come visit come hear think absolut vital continu work mend economi go stand say job done even go say everyth fix argu make progress said go deal deficit one biggest world came offic paid third deficit said need job privat sector cours lost job public sector inevit make cut creat someth like million job privat sector said need new small busi start engin growth seen fastest rate new busi grow countri recent year think economi move mend got long way go keep improv actual back peopl work hard want right thing help get good place school get good apprenticeship start busi make someth live govern focus anyth els focus help peopl aspir get good job make someth live back busi like anyway promis long speech question attempt answer ask anyth like mean answer want first put hand air rove microphon question import energi wonder govern polici make sure light turn prime minist well think energi secur absolut vital one task govern make sure got plenti suppli energi expens go big chang right know old nuclear power station run time switch becom less reliant coal environment reason put lot invest energi industri see first got good contribut gas countri still got lot reserv gas north sea got pretti secur import gas differ part world reliant one part world like countri get much gas russia hard get gas russia think good secur suppli gas go invest new nuclear energi got hinkley point decis think made quit soon hope posit one brand new nuclear power station think also import alongsid gas alongsid nuclear make sure also invest renew technolog go answer cours think make sure get energi offshor wind look technolog wave tidal power think sensibl countri like done govern actual set pretti clear framework investor say offshor wind north sea europ offshor wind capac know build plant end know exact go paid next year siemen big investor area recent went open largest offshor wind farm anywher world call london array coast kent hope siemen invest technolog whole answer part answer mixtur gas nuclear renew think make sure plenti suppli energi go make doubli sure someth call capac payment go introduc system open buy littl bit electr need effect bit generat capac need buffer case demand rise faster peopl predict confid solv problem make sure keep light suppli industri consum plenti suppli energi question almost topic wait siemen bate breath hull announc kind would like say yes today prime minist well would love hear yes today look think great opportun siemen think great opportun britain think look humber estuari see opportun like sort aberdeen wind mean got aberdeen offshor oil industri think humbersid humber estuari real hub invest industri offshor onshor wind siemen decis whether ahead plant hull say think govern done everyth possibl could term make avail financ term explain energi market go work term give guarante futur chang polici even rung chief execut one two occas end commerci decis siemen commerci busi think framework energi industri probabl clear anywher world see oversea investor invest nuclear industri offshor wind industri industri say set regim get payment spend hope yes think find mayb today mayb tomorrow question talk energi secur wonder view frack particular sensit area countri like surrey dorset prime minist well favour frack think look look big pictur need countri success right live competit world got rise india rise china great economi power ahead britain go success stori centuri like centuri well go success stori play strength invest great busi keep scienc technolog invest great univers invent thing well got exploit new industri got make sure energi price rise ahead competitor unconvent gas gain frack look happen america think real lesson america almost gas gas price busi less half much reason put lot invest unconvent gas figur actual quit frighten europ whole much unconvent gas america got less europ america wherea dig well year far europ dug way behind favour frack govern make easier set offic unconvent gas tri streamlin permiss permit need cours sensit relat crowd island wherea obvious know north dakota america easier dig well got fewer peopl live part countri abl take advantag let streamlin process let make possibl cours public debat local think one way get make sure one way get local communiti see benefit said everi well dug immedi payment local communiti start cours hit unconvent gas suppli start exploit generat lot revenu think way get place obvious appropri amount peopl live rest otherwis think way get public concern say real communiti benefit benefit go local council benefit go parish go district go effect well think peopl see okay downsid upsid go person invest think make sure unconvent gas revolut come make competit give secur cheaper suppli energi time question project nhs next six seven year go serious shortfal fund intend cover prime minist yeah good question mean think real test govern frank got three year ago budget deficit spend much get tax fact wors almost anywher world make cut actual govern chose cut nhs view nhs precious reli famili reli parliament modest increas nhs spend frank even modest increas nhs spend realli enough cope pressur nhs age popul live longer new treatment come along expens say sir fund challeng meet well think first thing tri make sure spend everi penni wise possibl could one thing recent spend announc actual took nhs money gave local author spend social care spend help get peopl block hospit bed cost nhs fortun could better home care home proper look think effici spend money wise think make sure nhs deal pressur go easi obvious today hear news look nhs look hospit highest unexplain death rate know big fan nhs love nhs never want see harm come nhs frank serv nhs cover wrongdo problem got look problem got look instanc poor level care poor manag got deal think last govern enough think sort said inspector give bad news want know know talk hand govern want want know thing go wrong say stafford hospit thing go wrong lincolnshir hospit need hear need send team help turn around need make sure peopl get good servic test meet fund challeng actual spend money wise small increas public servic take spend reduct think deliv realli good nhs question mention apprentic proud apprenticeship programm lincoln recent siemen lincoln took part one programm employ ownership skill programm success train programm lincoln wonder assur make sure red tape bureaucraci descend upon employ away skill fund agenc indic might go happen prime minist think real worri mean busi like take apprentic everi year good good countri good young peopl concern someth like million apprentic taken sinc elect put lot money apprentic keen programm think big busi like one thing cope paperwork bureaucraci smaller firm decid want near done creat streamlin system said big busi like partner train organis run apprenticeship run scheme said small firm taken apprentic give bounti give bonus take first think bit get right bit concern interest talk apprentic morn still think get right school explain young peopl career option blame teacher way teacher went school went univers familiar path think enough say young peopl get apprenticeship get differ sort apprenticeship apprenticeship equival univers degre earn learn option asid univers option think need better think busi help get school tell young peopl earli option think apprentic major growth area britain know german compani embarrass say think german done apprentic better british lot thing british better german cours footbal cricket even tenni fortun someth learn german fantast low youth unemploy rate dutch way behind ahead spanish italian other learn german come apprenticeship question mention apprentic done train point view moment need done ensur skill stay countri within job within busi prime minist well keep skill countri train got help busi know want rebal economi want see less financi servic good industri someth britain good want see manufactur technolog aerospac auto industri well got thing manufactur technolog busi want govern would say three four thing want support apprenticeship vital govern put money apprenticeship want support research develop develop new product tax credit specif everi pound spend research develop busi need competit low tax rate even time difficult public spend tax decis taken british rate corpor tax mean pay less corpor tax britain fact think countri say compani like siemen invest britain build britain good place area countri need help other enterpris zone anoth way encourag busi expand invest think last thing manufactur busi need got move product around access broadband need physic network need invest road railway port infrastructur happen spite cut know cut polic difficult decis make actual think polic cope brilliant made effici seen big reduct polic offic result result difficult decis like abl spend money capit road railway port infrastructur make competit enabl win thing expect peopl firm could think thing well think would good start question nhs safe hand mean clear go revel keogh review today go make thing better safe peopl back hospit lincoln prime minist well first nhs complet safe govern hand absolut believ invest wherea cut public servic increas nhs invest everi year time point difficult thing health servic point success stori ward almost abolish infect rate hospit record low wait list wait time good reason place much celebr nhs love nhs never want harm serv nhs cover problem difficulti clear hospit mortal rate right investig right also health secretari done today identifi hospit go put special measur send help turn around make sure back provid best servic happen today right highlight problem dealt peopl know good nation health servic proud use proud see improv time question prime minist light releas bbc annual report think right taxpay legal requir pay licenc fee bbc execut receiv near million prime minist well think bbc care money spend bbc uniqu posit licenc fee support licenc fee go licenc fee respons spend money wise think quit clear bbc high enough rigour whole process demonstr front select committe need rigor futur bbc strong public support keep support unless spend money wise question question must everybodi lip right sort messag send politician mps look pay rise see cut public spend arm forc peopl like know could wish pay rise like opinion prime minist agre round applaus man agre think appropri mean happen last parliament rememb scandal expens last govern decid make bodi decid mps pay complet separ independ parliament make decis said clear includ offic know propos pay increas time public sector worker told pay increas suggest second whatev whatev suggest whenev tri implement got cut cost polit rather increas think cost polit could reduc still excess system said bodi made final decis pay rise written stone implement consult go said away cut cost polit introduc pay rise time peopl suffer public sector pay think right answer see say pretti clear messag three parti leader pretti much say thing got time think question mention potenti siemen invest humber even said announc could expect mayb today mayb tomorrow word like clarifi also ask govern think done enough attract compani countri prime minist well first siemen decis time decis control control say siemen welcom invest back busi support apprenticeship back tax credit given lowest corpor tax rate could possibl expect big fan compani want decis competit countri said think humber estuari right sort develop let clear know britain got mani strength come busi industri need play strength said lot excit univers lot auto industri invest countri right look british car industri proud got jaguar land rover cufflink anoth visit like know got jaguar land rover boom britain got honda nissan toyota expand britain bmw one german sister compani make mini outsid constitu wherev travel world see fantast exampl british design manufactur run round street lot celebr term britain industri futur govern absolut behind back everi step way question export second natur busi know difficult govern encourag help new export prime minist good question one favourit statist moment one five british small busi export could turn one five one four wipe trade balanc altogeth big nation effort requir start top hire head hsbc come govern trade minist work sock last two half year replac head one success british compani last year ian livingston go new trade minist start summer organis ukti whose job round countri get small busi export encourag give knowledg confid bit financi help sometim also take trade mission world think look everi countri taken trade mission everi one apart argentina reason yet made argentina guess think big nation effort know could better think one silver bullet think realli encourag smaller busi bigger compani think export credit issu particular difficult year credit dri peopl say credit still flow fast enough introduc new product help ensur peopl export particular big busi expand need keep work make sure got right product export realli want use think thing think import use intern connect expertis think britain fortun european union oecd nato commonwealth know key network need exploit membership network get best countri think got look beyond europ recognis economi world go know russia india china malaysia indonesia countri got encourag busi yes export europ also look afield build britain capabl made cut actual look foreign offic network embassi around world ask effici ask cut back excess said actual need open embassi trade mission post around think one european countri embassi everi one asean countri southeast asia network hope siemen use know may embassi far concern british busi busi use home export question want ask big topic news moment involv govern gchq mass data collect obvious import issu use lot data day age ever would like ask view prime minist yes import question one one biggest respons prime minist effect minist intellig servic think import understand tri explain british public import think first sort stand back look threat face know saw happen america saw happen know threat face everi year sinc prime minist intellig servic uncov prevent least one major plot everi year could mass casualti event deal serious issu nation secur think import well fund secur servic gchq deal communic domest secur servic deal oversea intellig well fund well organis crucial within law act parliament determin allow allow overseen much strengthen intellig secur committe sit parliament head sir malcolm rifkind former foreign secretari examin work satisfi act within law also satisfi import issu came use cooper foreign intellig servic somehow get round law use data garner oversea get round restrict think vital import mean want say simpli put think quit reassur hear polic intellig servic want know detail bit communic mobil phone call make want know simpli made call time call call communic data legal process access data legal process import access think mani murder rape abduct terrorist investig almost serious crime polic use communic data call use data investig import access data done legal confus content communic said intellig servic want listen sign warrant home secretari quit high bar satisfi simplifi satisfi garner inform data call garner inform content strict control britain think import secur servic thing order keep safe absolut see first hand brave peopl never get thank realli allow know work round clock keep safe danger peopl harm noth world ever perfect would argu good system well run proud britain help keep safe question siemen commerci academi take student sixth form straight employ fund degre well year sad drop degre rise univers fee result loss applic scheme tri deter young peopl go univers get higher degre higher educ even given state like unemploy young prime minist good question answer absolut tri deter young peopl univers fact recent number young peopl appli actual increas rather fall big issu pay good univers goe back argument go winner global race go success countri got good univers well paid tutor well stock librari realli great technic lab cost money two place get get taxpay taxpay alreadi got pay everyth els ask student pay decis took say student go charg fee degre said absolut crucial pay noth front payment start pay back earn year actual better student success student pay back money start pay back full earn look tough decis difficult mean univers continu expand degre cours well fund competit countri around world point degre univers think fair ask peopl pay back earn decent wage know difficult think evid begin show said number appli look good also number appli depriv background increas put lot effort bursari packag encourag peopl univers lot make tough decis interest countri think fit squar busi sometim make difficult decis futur siemen futur manufactur chang thing chang process order make sure busi goe succeed futur think much warm welcom thank let come see amaz work congratul busi export massiv invest make young peopl big invest make lincoln thank much",
         "7839",
         "1.0"
        ],
        [
         "2393",
         null,
         "echo comment hon friend member swansea east carolyn harri regard dialysi patient late mum dialysi due sickl dialys three time one reason want switch home dialysi cost mani sickl cell dialysi patient need heat winter worri much pay bill prime minist announc morn without right action govern next year fraught mani difficulti constitu vauxhal decis govern made today impact mani year come hope prime minist new govern mind make decis next year solv energi crisi first test new govern make big decis oil gas firm make record profit peopl countri continu suffer fiscal respons everyth power lower burden futur generat support famili alreadi make desper choic put food tabl heat home afraid say basi prime minist announc heard govern answer resound mani constitu cost live crisi start ofcom rais price cap last month mani even start russia invad ukrain earlier year squeez wage keep price featur govern last year household squeez relentless decad statist trussel trust show april march food parcel distribut lambeth shock energi crisi sever keep ignor fact number household left posit bill continu ignor failur insul home due fail insul polici end warm front discount introduc labour govern get govern get rulebook frack rip peopl continu see untap onshor wind potenti get attack worker right peopl take lose day fight wage increas right see scrap polici insul home home continu bleed energi need bear hallmark incompet last year conserv govern afford like enough enough need sea chang govern recognis issu face peopl vauxhal countri need sea chang need new govern",
         "582",
         "-0.9063"
        ]
       ],
       "shape": {
        "columns": 4,
        "rows": 10
       }
      },
      "text/html": [
       "<div>\n",
       "<style scoped>\n",
       "    .dataframe tbody tr th:only-of-type {\n",
       "        vertical-align: middle;\n",
       "    }\n",
       "\n",
       "    .dataframe tbody tr th {\n",
       "        vertical-align: top;\n",
       "    }\n",
       "\n",
       "    .dataframe thead th {\n",
       "        text-align: right;\n",
       "    }\n",
       "</style>\n",
       "<table border=\"1\" class=\"dataframe\">\n",
       "  <thead>\n",
       "    <tr style=\"text-align: right;\">\n",
       "      <th></th>\n",
       "      <th>party</th>\n",
       "      <th>speech</th>\n",
       "      <th>word_count</th>\n",
       "      <th>sentiment</th>\n",
       "    </tr>\n",
       "  </thead>\n",
       "  <tbody>\n",
       "    <tr>\n",
       "      <th>8177</th>\n",
       "      <td>1.0</td>\n",
       "      <td>statutori instrument laid septemb titl motor v...</td>\n",
       "      <td>356</td>\n",
       "      <td>0.8647</td>\n",
       "    </tr>\n",
       "    <tr>\n",
       "      <th>3650</th>\n",
       "      <td>1.0</td>\n",
       "      <td>rapid test vital part roadmap help cautious li...</td>\n",
       "      <td>101</td>\n",
       "      <td>0.9643</td>\n",
       "    </tr>\n",
       "    <tr>\n",
       "      <th>233</th>\n",
       "      <td>0.0</td>\n",
       "      <td>virus gone away could easili get control witho...</td>\n",
       "      <td>92</td>\n",
       "      <td>0.6486</td>\n",
       "    </tr>\n",
       "    <tr>\n",
       "      <th>8301</th>\n",
       "      <td>1.0</td>\n",
       "      <td>thank much deputi speaker transpar make hous a...</td>\n",
       "      <td>4437</td>\n",
       "      <td>-0.9996</td>\n",
       "    </tr>\n",
       "    <tr>\n",
       "      <th>10018</th>\n",
       "      <td>1.0</td>\n",
       "      <td>welcom session delight david davi shailesh var...</td>\n",
       "      <td>1578</td>\n",
       "      <td>0.9991</td>\n",
       "    </tr>\n",
       "    <tr>\n",
       "      <th>7147</th>\n",
       "      <td>1.0</td>\n",
       "      <td>permiss would like make statement first want b...</td>\n",
       "      <td>775</td>\n",
       "      <td>0.9942</td>\n",
       "    </tr>\n",
       "    <tr>\n",
       "      <th>6526</th>\n",
       "      <td>0.0</td>\n",
       "      <td>busi across face black hole winter billion wip...</td>\n",
       "      <td>98</td>\n",
       "      <td>-0.6430</td>\n",
       "    </tr>\n",
       "    <tr>\n",
       "      <th>8437</th>\n",
       "      <td>1.0</td>\n",
       "      <td>alway prepar justifi vote parliament account c...</td>\n",
       "      <td>176</td>\n",
       "      <td>0.7579</td>\n",
       "    </tr>\n",
       "    <tr>\n",
       "      <th>1225</th>\n",
       "      <td>1.0</td>\n",
       "      <td>prime minist thank well thank welcom great sie...</td>\n",
       "      <td>7839</td>\n",
       "      <td>1.0000</td>\n",
       "    </tr>\n",
       "    <tr>\n",
       "      <th>2393</th>\n",
       "      <td>NaN</td>\n",
       "      <td>echo comment hon friend member swansea east ca...</td>\n",
       "      <td>582</td>\n",
       "      <td>-0.9063</td>\n",
       "    </tr>\n",
       "  </tbody>\n",
       "</table>\n",
       "</div>"
      ],
      "text/plain": [
       "       party                                             speech  word_count  \\\n",
       "8177     1.0  statutori instrument laid septemb titl motor v...         356   \n",
       "3650     1.0  rapid test vital part roadmap help cautious li...         101   \n",
       "233      0.0  virus gone away could easili get control witho...          92   \n",
       "8301     1.0  thank much deputi speaker transpar make hous a...        4437   \n",
       "10018    1.0  welcom session delight david davi shailesh var...        1578   \n",
       "7147     1.0  permiss would like make statement first want b...         775   \n",
       "6526     0.0  busi across face black hole winter billion wip...          98   \n",
       "8437     1.0  alway prepar justifi vote parliament account c...         176   \n",
       "1225     1.0  prime minist thank well thank welcom great sie...        7839   \n",
       "2393     NaN  echo comment hon friend member swansea east ca...         582   \n",
       "\n",
       "       sentiment  \n",
       "8177      0.8647  \n",
       "3650      0.9643  \n",
       "233       0.6486  \n",
       "8301     -0.9996  \n",
       "10018     0.9991  \n",
       "7147      0.9942  \n",
       "6526     -0.6430  \n",
       "8437      0.7579  \n",
       "1225      1.0000  \n",
       "2393     -0.9063  "
      ]
     },
     "execution_count": 36,
     "metadata": {},
     "output_type": "execute_result"
    }
   ],
   "source": [
    "data = pd.DataFrame({'party': df_merged['party'], 'speech': speeches, 'word_count': word_count, 'sentiment': sentiments})\n",
    "data.sample(10, random_state=99)"
   ]
  },
  {
   "cell_type": "code",
   "execution_count": 37,
   "metadata": {},
   "outputs": [
    {
     "data": {
      "text/plain": [
       "9919"
      ]
     },
     "execution_count": 37,
     "metadata": {},
     "output_type": "execute_result"
    }
   ],
   "source": [
    "len(data)"
   ]
  },
  {
   "cell_type": "code",
   "execution_count": 38,
   "metadata": {},
   "outputs": [
    {
     "data": {
      "text/plain": [
       "9898"
      ]
     },
     "execution_count": 38,
     "metadata": {},
     "output_type": "execute_result"
    }
   ],
   "source": [
    "data.drop(data[data['word_count'] <= 10].index, inplace=True)\n",
    "len(data)"
   ]
  },
  {
   "cell_type": "code",
   "execution_count": 39,
   "metadata": {},
   "outputs": [
    {
     "data": {
      "text/plain": [
       "(count    2780.000000\n",
       " mean        0.328962\n",
       " std         0.831461\n",
       " min        -0.999900\n",
       " 25%        -0.723850\n",
       " 50%         0.916900\n",
       " 75%         0.998200\n",
       " max         1.000000\n",
       " Name: sentiment, dtype: float64,\n",
       " count    6101.000000\n",
       " mean        0.762043\n",
       " std         0.568911\n",
       " min        -0.999900\n",
       " 25%         0.940300\n",
       " 50%         0.995900\n",
       " 75%         0.999600\n",
       " max         1.000000\n",
       " Name: sentiment, dtype: float64)"
      ]
     },
     "execution_count": 39,
     "metadata": {},
     "output_type": "execute_result"
    }
   ],
   "source": [
    "data[data['party'] == 0]['sentiment'].describe(), data[data['party'] == 1]['sentiment'].describe()"
   ]
  },
  {
   "cell_type": "code",
   "execution_count": 40,
   "metadata": {},
   "outputs": [
    {
     "data": {
      "application/vnd.microsoft.datawrangler.viewer.v0+json": {
       "columns": [
        {
         "name": "index",
         "rawType": "int64",
         "type": "integer"
        },
        {
         "name": "party",
         "rawType": "float64",
         "type": "float"
        },
        {
         "name": "speech",
         "rawType": "object",
         "type": "string"
        },
        {
         "name": "word_count",
         "rawType": "int64",
         "type": "integer"
        },
        {
         "name": "sentiment",
         "rawType": "float64",
         "type": "float"
        }
       ],
       "conversionMethod": "pd.DataFrame",
       "ref": "fc06478b-1773-4895-b497-00cdb981c9cd",
       "rows": [
        [
         "71",
         null,
         "introduct thank point first cabinet minist highland sinc baron irvin lord chancellor back yet felt similar end probabl best rememb spend near public fund wallpap person like decor wall daughter isabel rate tend far reason excel place start much look achiev run novemb focus elimin unnecessari expenditur prioritis fund area matter great pleasur inver today first major speech chief secretari abl set step govern take control public spend restor confid economi decis made sinc elect action take ensu month essenti return economi sustain path steadi ship wish remain cours must deliv plan set defenc govern posit imposs exagger serious situat inherit risk britain highland continu cours economi limp longest recess sinc offici record began almost million peopl unemploy histor low level privat invest budget deficit due peak largest clear plan get control legaci spend four pound everi three rais taxat yet opposit deni need take action clean mess left behind pretend could wait year deal deficit could truth noth credibl deni deficit problem noth respons pretend solv without make difficult sometim pain choic deni need reduc borrow unabl kick destruct habit would put economi far greater risk recess yes right take action stop bank collaps stabil economi depend econom stabil depend credibl plan restor public financ sustain foot need look euro area recent turbul sovereign debt market understand cost delay difficult decis endang job growth invest control economi credibl plan deal record deficit stick tighten public financ total around come tax measur welfar reform announc budget department expenditur anoth lower necessari step ensur live within mean futur mervyn king agre essenti take measur fiscal year demonstr genuin commit determin new oecd prais budget say provid necessari degre fiscal consolid come year restor public financ sustain path still support head cbi said chancellor achiev twin object set credibl plan public financ produc convinc growth strategi determin see deliv commit fix nation financ right cours action cours unavoid necessari fair stick principl fair spend decis alway rememb noth fair ever grow burden debt children inherit least fair least progress option spend review next crucial step process need cut public spend end essenti step path toward sustain balanc growth growth fair see earli sign economi appear head right direct privat sector grow employ rise export recov respons improv global demand must remain cautious agre mervyn king say like face choppi recoveri expect easi ride biggest econom crisi lifetim debt problem govern inherit would ask much know well difficult thing mani local busi highland held surgeri last week communiti right across area almost everi one local busi came discuss issu face often alway access financ bank also fantast exampl innov local economi today open fujitsu new offic inver part substanti invest deliv servic cut cost highland council look round world class exhibit hous innov expo crucial choic driven clear principl object led need promot sustain model econom growth prosper budget took signific step support privat sector lead econom recoveri set ambit creat competit corpor tax regim minimis burden busi system regul start process bank reform improv access financ know need issu make prioriti spend review strong focus last econom growth scrutinis everi pound govern spend identifi area promot sustain growth prosper also work privat sector busi entrepreneur identifi driver growth broadband access transport infrastructur green economi three know matter great deal shall address social barrier inhibit individu progress surest way maximis nation success deputi prime minist set last week determin tackl deficit support econom recoveri match determin creat social mobil societi get peopl back work promot fair opportun ensur part abl prosper approach spend review promot fairer sustain model growth work partnership devolv administr creat economi better balanc benefit even spread across peopl region one key driver behind spend decis invest recoveri anoth public sector reform empow peopl part spend review overse complet govern role provid public servic spend review reduc spend must also fundament reform reform driven simpl ideal give power peopl communiti work reform get less har skill capac abil public servant reform ensur budget reduct result salami slice public servic hide fact difficult choic ahead public sector worker understand worri job futur pay pension alreadi announc pay freez modest rise earn cost reduct help protect job exact sort thing happen privat sector last year also believ reform individu freedom greater respons make public sector attract well effici place work crucial experi dedic commit peopl work public sector critic deliv improv need previous govern took approach believ whitehal holyrood micromanag everi action ipswich inver stifl innov creat excess bureaucraci alreadi start sweep away centralis approach end complex system public servic agreement free profession target unnecessari interfer continu devolv power away whitehal put hand local peopl communiti enabl public sector profession deliv servic tailor specif need area user public abil shape servic receiv octob set complet new approach public sector perform account new public servic transpar framework guid principl account central design system target process account peopl system give profession freedom decid best run servic partnership local communiti sector one depart respons publish inform allow taxpay judg deliv commit enabl public hold depart local author account provid democrat rather bureaucrat account may seem obvious radic shift fail restrict centralis system last decad cut public spend must excus greater centralis spur decentralis empow engag empow local communiti work frontlin doubt peopl highland elsewher far better place say need local area faceless man whitehal public consult run spend review one widest ever undertaken govern alreadi generat contribut frontlin worker stornoway polici expert london seek suggest save made great see excel highland council work hard listen peopl make tough spend decis conclus littl doubt month ahead face tough choic come polit cut public spend like peopl highland know done politician choos time opportun govern decid respond challeng time question made judgement coalit scale chang need spend decis respons guid clear principl support privat sector growth last balanc across peopl place promot fair opportun devolv power away whitehal empow communiti worker give respons control deliv public servic spend review next year year pave way success economi peopl hide fact make difficult choic action take octob put back secur foot allow plan better futur togeth spend review produc two month time show case test time good time well recoveri secur",
         "2429",
         "0.9997"
        ],
        [
         "73",
         null,
         "subject open misunderstand misrepresent public servic pension pension vital import also complex pension public servic worker even least benefit one part popul paid debat take place particular sensit time everyon financi pressur right peopl public servic face second year pay job insecur featur govern get grip enorm budget deficit everyon britain face rapid rise cost live million privat sector worker taken pay freez wors last year public servic worker want protect pension million taxpay ask fair ask pay tax fund public servic pension especi valu pension fall fact privat sector know receiv retir receiv consider less noth way employ contribut cours million make provis top state pension age alreadi rise rise thereaft taxpay across countri adjust realiti longer work pay longer retir absolut wrong pretend public servant insul pressur everyon els face unjustifi taxpay work longer pay tax public servic worker retir earlier get employe benefit longer life generous pension taxpay pick tab context surpris debat futur public servic pension often polaris two extrem neither base fact one hand trade union seem believ pension public servic worker chang irrespect huge econom demograph social chang go around hand equal misguid voic seem think public servic front runner race bottom two chancellor believ indisput case reform public servic pension ensur afford sustain high qualiti fair face huge demograph chang reform ensur cost provid pension workforc afford decad come reform sustain ensur financi implic longer live fair share employe taxpay reform also correct huge unfair current arrang low paid worker subsidis reward highest paid reform ensur public servic worker continu receiv among best best pension avail engag last month discuss tuc issu discuss construct posit frank commit behalf govern union see talk talk continu month later juli disappoint minor union seem hell bent prematur strike action discuss even complet justifi strike action misrepres govern posit feed member scare stori say member union strike might union boss interest let sacrific pension polit platform pcs member vote strike action wednesday demonstr vast major pcs member realis strike action unjustifi cours may oppos chang think forc govern chang mind head sand approach coloss mistak govern reform public servic pension time shape chang tri block histori reform litter exampl peopl simpli deni fact deploy myth dig trench may hold littl eventu realiti bite chang urgent uncompromis instead peopl seiz opportun chang seiz chanc shape futur much better chang happen lord hutton former work pension secretari creat chanc better chang offer far best like tabl year come today want set case reform spell propos would affect public servic worker well taxpay detail import set short let sum posit vast major public servic worker live longer mean year spent work well retir keep best pension countri contribut contribut support pension subsidis pension top earner reach retir age pension receiv broad generous low middl incom earner time protect pension earn date reform futur touch pension alreadi earn work longer pay may public servic worker want hear simpli fact life everi singl person countri whether work public privat sector hand pension broad generous low middl incom earner welcom want decim public servic pension believ absolut right offer best pension market peopl spend live serv public wanton destruct either predict demand other instead fair afford proposit sustain decad thank lord hutton proposit around consensus built case reform live longer link npa spa let explain argument reform detail lord hutton led independ commiss public servic pension produc final report march year commiss provid fundament structur review public servic pension provis want pay tribut lord hutton clariti analysi far reach propos govern accept basi consult review provid clear compel fact pension reform fact first live longer hutton said longev main risk sustain public servic pension averag year old today live ten year longer also mean spend longer retir hutton report say retir age approxim adult live spent retir compar around pension hand hand draw pension much longer use case instead take pension year public servic employe take pension year everi one retir longer pick pension longer number pension continu increas dramat hutton report expect next year number citizen age near rise almost peopl fantast develop societi also present financi challeng cost alreadi risen payment public servic pension depend almost increas third real term last decad whilst individu public servic employe reap benefit receiv pension thing stand employe pay extra fact person contribut compar taxpay contribut gone instanc teacher pension scheme began employe taxpay contribut equal today howev current member pay around taxpay contribut doubl huge dispar replic across public servic scheme taxpay consist pay nhs employe contribut vari wherea taxpay contribut civil servic employe contribut wherea taxpay contribut hutton said improv longev cost pay public servic pension given lack reform also caution cost general fallen taxpay either increas employ contribut scheme direct subsidi exchequ benefit payment made privat sector woke shift last two decad start chang mani case abandon defin benefit scheme altogeth suggest wrong state choic follow suit wherea public servic pension benchmark privat sector measur becom touch increas longev look emul anymor take exampl high paid london head teacher retir annual pension year lump sum get privat sector need pension pot around even top civil servant earn around retir receiv year pension lump sum get privat sector need pension pot often privat sector reform race bottom alreadi said join race chosen defin benefit know public servic worker place huge stock certainti guarante defin pension retir continu defin benefit scheme part wider reform must address imbal employe taxpay contribut general taxpay work longer draw pension public servic worker general taxpay pay tax support public servic pension worker retir earlier peopl public servic worker includ know unfair right public servic worker like everyon els work bit longer contribut bit longer pension reason propos link normal pension age state pension age propos link age draw occup pension age draw state pension two would continu track futur societi benefit greater longev chang would move proport adult life spent retir public servic worker back third rough except uniform servic arm forc polic firefight pension age histor lower reflect uniqu natur work accept lord hutton recommend case benchmark normal pension age uniform servic would chang said still protect benefit accru date old scheme would protect amount would protect draw would still could still draw first part pension retir age origin expect case reform final salari scheme move career averag scheme second argument reform scheme base final salari inher bias low earner current scheme work employe stay low salari career compar receiv high salari year toward end career top earner median annual pension payout paid contrast bottom earner general expect everi pay instanc higher earner receiv twice much benefit per pound put compar lower earner cours success career lead generous pension case high earner end pension amount averag salari wherea low earner receiv half averag salari unfair lower earner lose make salari leap final year career often women rather typic unfair low earner career discrimin bias reason propos therefor futur pension accrual defin benefit link averag salari career final salari career averag scheme would guard risk cost come individu jump higher salari last year career would mean everyon get broad amount everi pound put would inher fairer system futur case reform conclus fact current system live longer current level contribut unfair balanc employe taxpay current system final salari scheme unfair bias toward higher earner case reform clear compel lord hutton say let quot need comprehens chang need make public servic pension scheme simpler transpar fairer low moder earn better abl deal chang know come economi societi therefor help ensur greater prospect sustain longer promis time need ensur public servic pension remain among best avail want benchmark pension provis compar public servic pension import valu part remuner offer public servant ensur digniti retir hutton word reform must balanc legitim concern taxpay present futur cost pension commit public servic well wider need ensur decent level retir incom million peopl devot work live servic spirit first foremost remain commit defin benefit pension mean everi public servic worker receiv guarante amount retir uncertain amount base valu invest fund cash pot like peopl privat sector substanti benefit also want make absolut clear fulli commit protect pension earn date suggest propos chang would strip worker benefit alreadi accumul let say categor true benefit alreadi secur current final salari scheme would protect let clear mean accru final salari use calcul pension would one eventu decid retir leav scheme altogeth accru would chang age claim benefit could still draw part retir age origin expect claim honour full benefit earn year servic if but surreptiti advis scheme member pull pension yes happen say stop asham advis peopl act best interest reform alreadi announc well longer term propos current consult part last june budget spend review alreadi taken immedi action affect public servic pension first alreadi chang way valu pension track inflat switch consum price index instead use retail price index benefit includ public servic pension cpi alreadi use set inflat target bank england appropri index use futur cpi better reflect everyday price provid better reflect inflat peopl actual experi second april phase increas pension contribut vital redress imbal taxpay employe contribut pension discuss earlier inde hutton interim report conclud rational increas member contribut ensur fairer distribut cost taxpay fact last govern alreadi agre union need increas employe contribut agreement would result around extra employe contribut take place next year govern said spend review thatit implement progress chang employe contribut equival three percentag point averag lead addit save billion year phase april discuss union implement propos would mean total extra employe contribut averag increas increas level incom propos particular lowest earner face least even zero increas contribut propos would increas contribut earn less year propos limit percentag point increas earn would progress fair would help ensur increas contribut caus peopl opt would keep govern strategi protect lowest done rais incom tax done take tough decis pay freez whilst accept recommend pay review bodi provid pay rise public servic worker earn less pound furthermor clear incom bracket increas contribut increas would phase year propos would mean increas approxim amount alreadi agre union previous govern cap share arrang increas appli chang cpi chang contribut vital put pension fair afford foot short long term chang alreadi institut chang cpi consult union increas contribut determin see chang first step reform also consult union reform longer term propos link normal pension age state pension age shift career averag salari scheme would see pension next five year next generat beyond look make chang contribut pension also awar consult fair deal polici major concern trade union consult close wednesday care consid respons receiv conclus undertak wide open consult ensur reach agreement fair level pension benefit fair public servic worker fair general taxpay public servic worker understand someth got chang also want reassur still get good pension retir propos strike balanc promis honour accru pension full continu provid defin benefit pension ensur public servic pension remain amongst best avail provid low middl incom worker with pension broad good time public servic worker must understand current system fundament reform reason propos would mean public servic worker would contribut pension work later age draw occup pension move career averag salari fairest basi calcul pension benefit fulli appreci reform public servic pension sensit issu must realis unavoid one lord hutton said peopl treat process import chang pension scheme wholeheart agre establish relationship trust confid govern public servic worker critic success reform hope offer clariti reassur govern propos reform public servic pension coalit govern attempt strike fair afford balanc legitim interest public servic worker cost face taxpay attack public sector pension attempt protect long term hope agre balanc right thank",
         "4398",
         "0.9999"
        ],
        [
         "74",
         null,
         "introduct delight launch credit union stornoway today success predecessor western isl credit union five year show invalu servic local communiti perform especi impress given financi econom environ oper last year demonstr success provid financ support local peopl need inde across britain credit union membership increas almost million member member scotland alon credit union offer vital financi sourc communiti one want see growth continu credit union rebalanc economi credit union import role play rebalanc economi two key way first promot higher rate save across suffer histor low household save rate institut embed communiti link forg provid perfect channel help develop cultur financi respons peopl understand valu save import financi prudenc inde congratul activ alreadi school local area promot financi awar amongst parent pupil start save account process open child saver account two daughter mainland bit boost profil new area second credit union play crucial role rebalanc economi provid access afford credit local level individu help empow communiti across coastal communiti fund empow communiti corner stone coalit ambit decentralis dispers power centr commit help peopl communiti help servic offer credit union vital help communiti seek realis goal govern support endeavour also ensur communiti share benefit develop growth area help spur right coastal communiti given opportun get someth back put particular reap broader benefit invest made develop busi enterpris marin resourc inde year ago follow format coalit subsequ move treasuri contact jim hunter former chairman highland island enterpris suggest could realis longstand ambit highland captur resid worthwhil share crown estat commiss revenu area cours press issu boost crown estat incom come expans offshor renew technolog highland island wind farm start wave tidal power region time press measur ensur bigger proport crown estat revenu highland island remain need great persuas take great delight announc today govern establish wide coastal communiti fund support econom develop coastal communiti fund open busi april worth gross revenu crown estat marin activ amount around amount avail within countri part countri link revenu rais area basi revenu would entail almost highland island rest scotland cours expect amount increas increas revenu continu develop crown estat marin activ expans offshor renew activ would also possibl offshor wind farm develop make contribut fund alreadi common practic onshor wind farm develop make substanti communiti benefit vicin hope much offshor develop follow lead fund manag partnership big fund part big lotteri fund support project relat communiti develop charit benevol philanthrop activ environ educ health fund open wide rang sector compani chariti social enterpris local author local enterpris partnership england develop agenc scotland particular keen encourag wide particip bring forward innov project tackl difficult econom problem coastal communiti highland island particular encourag bid seek boost communiti land ownership across area given track record econom develop bring conclus commit promot support growth across region sector ensur particular coastal communiti benefit hope substanti econom develop offshor renew technolog year come highland grown island mainland secur greater econom benefit peopl area motiv enter polit first place strong believ coastal communiti fund support ambit cours endeavour expand credit union servic wish best luck extend servic throughout highland island sure bring huge array benefit household across wider region",
         "1133",
         "0.9996"
        ],
        [
         "76",
         null,
         "wish updat hous progress reform public servic pension set new offer made seek bring issu conclus end year object put place new scheme afford sustain fair taxpay public servic worker put place scheme sustain decad come easi right thing recognis contenti area public servic worker deserv good pension retir fair reward lifetim spent serv public june last year chancellor commiss lord hutton work pension secretari previous govern take imparti dispassion look bring forward propos reform landmark report set term debat sure whole hous share gratitud work interim report found clear justif base past cost increas born taxpay increas member contribut accept recommend increas member contribut take place start next year although next year increas mere reflect increas alreadi plan previous govern final report set blueprint new landscap public servic pension base retain defin benefit scheme move fairer career averag basi increas retir age line state pension age protect taxpay futur increas life expect accept recommend full basi consult discuss recommend trade union discuss start februari still go despit public comment signific progress made want pay tribut minist cabinet offic general secretari tuc tireless work reach common ground reform trade union welcom mani commit made start process public sector worker need anyth fear entitl alreadi built reach agreement import transpar equal impact particip rate scheme govern high level principl inform consult scheme level pension howev central issu valu new scheme remain agre two aim need bet first low middl incom worker new scheme would generat incom retir least good amount receiv second taxpay need proper protect futur risk associ increas life expect link scheme normal pension age state pension age earli octob set cost ceil meet test cost ceil base lord hutton recommend generat accrual rate new scheme scheme scheme discuss take place basi sinc begin octob talk product trade union department minist given consist feedback think need chang last week minist cabinet offic met tuc negoti team press generous cost ceil need explicit protect worker nearest retir receiv similar feedback secretari state educ health listen view decid revis govern offer cabinet discuss matter yesterday met tuc morn set term new offer offer increas cost ceil provid generous transit arrang closest retir made avail member today document set detail generous offer suffici allow agreement reach union offer condit upon reach agreement hope basi offer trade union devot energi reach agreement unnecessari damag strike action way offer inform scheme scheme talk continu end year cours agreement reach may need propos consid whether enhanc remain appropri announc today decid offer increas cost ceil futur scheme base pension valu averag salari accru year work increas previous offer let give exampl mean teacher lifetim public servic salari retir would receiv year propos rather would current earn final salari teacher pension scheme nurs lifetim public servic salari retir would receiv pension year reform introduc wherea current nhs pension scheme arrang would get pension remain consider better avail privat sector earn equival pension privat sector teacher retir would need pension pot around nurs retir pot would requir annual contribut around third salari addit listen argument closest retir face chang approach taken relat increas state pension age year think fair appli also announc scheme negoti given flexibl outsid cost ceil deliv protect within year retir see chang retir decreas amount pension receiv anyon ten year less retir age april assur detriment retir incom need clear backdrop offer made fulli understand famili across countri feel financi pressur right unpreced tough econom time reform essenti cost public servic pension risen dramat last decad bottom line live longer averag year old today live ten year longer remark welcom feat scienc healthcar also mean peopl live retir longer claim pension longer result cost public servic pension risen year increas third last year whilst account gdp account around gdp today spend total polic prison court part public servic worker foot bill general taxpay reform ensur cost pension sustain long term ensur cost risk fair share employe taxpay believ packag afford believ also fair public sector worker deliv signific long term save taxpay continu make signific contribut pension reform along line agre believ deal endur least year hope longer peopl live longer public sector pension reform inevit listen concern public sector worker come deal fair afford lowest paid peopl ten year retir protect public sector pension still among best avail reform sort agre parti hous need seek reform overal packag sustain import prize hope trade union grasp opportun new offer repres hope parti opposit right thing put parti polit asid support propos came john hutton interest secur long term consensus futur public servic pension chanc lifetim secur good high qualiti fair public servic pension yes ask public servic worker contribut yes ask work longer along rest societi offer chanc signific better pension end mani low middl incom earner fairer pension low incom worker stop subsidis pension highest earner sustain deal endur least year afford deal ensur taxpay ask make sensibl contribut keep cost sustain proper control new offer put tabl today offer opposit support union agre commend statement hous",
         "1839",
         "0.9997"
        ],
        [
         "79",
         null,
         "good morn give great pleasur open breakfast meet infrastructur kick meet want say general word govern polici support invest infrastructur invest support strong balanc econom recoveri need remind difficult econom time face know time particular tough busi repres still recov biggest debt financi crisi lifetim recoveri made easier ongo challeng euro area bank system midst sober fact lose sight posit employ last quarter privat sector job creat sinc govern came power inflat per cent june success come challeng climat though still much support view govern follow right econom strategi object return countri sustain prosper rebal economi mean fiscal consolid sort public financ ensur command confid intern market mean suppli side reform ensur britain excel place busi rais growth potenti mean deal long stand weak exampl deliv mobil workforc right skill right place infrastructur enabl deliv latter two take tough choic govern spend fact invest transport infrastructur broadband access qualiti height spend boom time credibl establish given bank england space keep base rate low provid monetari support infrastructur invest quantit eas new fund lend scheme came oper last week allow support invest direct exampl guarante scheme announc fortnight ago help acceler major infrastructur invest offer guarante billion major project temporari lend programm allow around billion pound partnership project proceed without delay alreadi express interest sinc announc continu receiv daili basi treasuri door open discuss project meet criteria nation signific financi credibl good valu depend guarante readi start year deal applic quick possibl tell morn green deal earli candid use guarante green deal largest ever programm invest energi effici hous stock look whether guarante could ensur financ place get programm strong start deal colleagu announc later today show alreadi strong posit work build strengthen still alongsid measur support invest financ also take major step remov barrier invest reform plan regul identifi skill gap capabl issu ensur britain infrastructur deliv britain prioriti nation infrastructur plan set clear vision billion invest expect beyond updat plan bring togeth comprehens analysi infrastructur network set clear ambit improv perform sector newli establish cabinet committe chair ensur plan deliv focuss top growth project identifi nation infrastructur plan made great progress remov barrier invest work industri resolv radar interfer issu affect four gigawatt wind energi develop support establish new pension infrastructur platform make first wave initi billion invest infrastructur earli scale challeng face countri make deliv huge ambiti infrastructur agenda essenti want work togeth make happen remov barrier project deliveri creat support environ long term invest infrastructur today convers import stage post realis ambit thank",
         "895",
         "0.9994"
        ]
       ],
       "shape": {
        "columns": 4,
        "rows": 5
       }
      },
      "text/html": [
       "<div>\n",
       "<style scoped>\n",
       "    .dataframe tbody tr th:only-of-type {\n",
       "        vertical-align: middle;\n",
       "    }\n",
       "\n",
       "    .dataframe tbody tr th {\n",
       "        vertical-align: top;\n",
       "    }\n",
       "\n",
       "    .dataframe thead th {\n",
       "        text-align: right;\n",
       "    }\n",
       "</style>\n",
       "<table border=\"1\" class=\"dataframe\">\n",
       "  <thead>\n",
       "    <tr style=\"text-align: right;\">\n",
       "      <th></th>\n",
       "      <th>party</th>\n",
       "      <th>speech</th>\n",
       "      <th>word_count</th>\n",
       "      <th>sentiment</th>\n",
       "    </tr>\n",
       "  </thead>\n",
       "  <tbody>\n",
       "    <tr>\n",
       "      <th>71</th>\n",
       "      <td>NaN</td>\n",
       "      <td>introduct thank point first cabinet minist hig...</td>\n",
       "      <td>2429</td>\n",
       "      <td>0.9997</td>\n",
       "    </tr>\n",
       "    <tr>\n",
       "      <th>73</th>\n",
       "      <td>NaN</td>\n",
       "      <td>subject open misunderstand misrepresent public...</td>\n",
       "      <td>4398</td>\n",
       "      <td>0.9999</td>\n",
       "    </tr>\n",
       "    <tr>\n",
       "      <th>74</th>\n",
       "      <td>NaN</td>\n",
       "      <td>introduct delight launch credit union stornowa...</td>\n",
       "      <td>1133</td>\n",
       "      <td>0.9996</td>\n",
       "    </tr>\n",
       "    <tr>\n",
       "      <th>76</th>\n",
       "      <td>NaN</td>\n",
       "      <td>wish updat hous progress reform public servic ...</td>\n",
       "      <td>1839</td>\n",
       "      <td>0.9997</td>\n",
       "    </tr>\n",
       "    <tr>\n",
       "      <th>79</th>\n",
       "      <td>NaN</td>\n",
       "      <td>good morn give great pleasur open breakfast me...</td>\n",
       "      <td>895</td>\n",
       "      <td>0.9994</td>\n",
       "    </tr>\n",
       "  </tbody>\n",
       "</table>\n",
       "</div>"
      ],
      "text/plain": [
       "    party                                             speech  word_count  \\\n",
       "71    NaN  introduct thank point first cabinet minist hig...        2429   \n",
       "73    NaN  subject open misunderstand misrepresent public...        4398   \n",
       "74    NaN  introduct delight launch credit union stornowa...        1133   \n",
       "76    NaN  wish updat hous progress reform public servic ...        1839   \n",
       "79    NaN  good morn give great pleasur open breakfast me...         895   \n",
       "\n",
       "    sentiment  \n",
       "71     0.9997  \n",
       "73     0.9999  \n",
       "74     0.9996  \n",
       "76     0.9997  \n",
       "79     0.9994  "
      ]
     },
     "execution_count": 40,
     "metadata": {},
     "output_type": "execute_result"
    }
   ],
   "source": [
    "test = data[data['party'].isna()]\n",
    "test.head()"
   ]
  },
  {
   "cell_type": "code",
   "execution_count": 41,
   "metadata": {},
   "outputs": [
    {
     "data": {
      "text/plain": [
       "1017"
      ]
     },
     "execution_count": 41,
     "metadata": {},
     "output_type": "execute_result"
    }
   ],
   "source": [
    "len(test)"
   ]
  },
  {
   "cell_type": "code",
   "execution_count": 42,
   "metadata": {},
   "outputs": [],
   "source": [
    "data = data[data['party'].notna()]"
   ]
  },
  {
   "cell_type": "code",
   "execution_count": 43,
   "metadata": {},
   "outputs": [
    {
     "data": {
      "text/plain": [
       "8881"
      ]
     },
     "execution_count": 43,
     "metadata": {},
     "output_type": "execute_result"
    }
   ],
   "source": [
    "len(data)"
   ]
  },
  {
   "cell_type": "code",
   "execution_count": 44,
   "metadata": {},
   "outputs": [],
   "source": [
    "train, val = train_test_split(data, test_size=0.2, shuffle=True, random_state=50, stratify=data['party'])"
   ]
  },
  {
   "cell_type": "code",
   "execution_count": 45,
   "metadata": {},
   "outputs": [],
   "source": [
    "y_train = train['party']\n",
    "X_train = train['speech']\n",
    "\n",
    "y_val = val['party']\n",
    "X_val = val['speech']"
   ]
  },
  {
   "cell_type": "markdown",
   "metadata": {},
   "source": [
    "## Vectorization"
   ]
  },
  {
   "cell_type": "code",
   "execution_count": 46,
   "metadata": {},
   "outputs": [
    {
     "data": {
      "text/plain": [
       "7104"
      ]
     },
     "execution_count": 46,
     "metadata": {},
     "output_type": "execute_result"
    }
   ],
   "source": [
    "vectorizer = TfidfVectorizer()\n",
    "X_train = vectorizer.fit_transform(X_train)\n",
    "X_train = pd.DataFrame(X_train.toarray(), columns=vectorizer.get_feature_names_out())\n",
    "len(X_train)"
   ]
  },
  {
   "cell_type": "code",
   "execution_count": 47,
   "metadata": {},
   "outputs": [
    {
     "data": {
      "text/plain": [
       "1777"
      ]
     },
     "execution_count": 47,
     "metadata": {},
     "output_type": "execute_result"
    }
   ],
   "source": [
    "X_val = vectorizer.transform(X_val)\n",
    "X_val = pd.DataFrame(X_val.toarray(), columns=vectorizer.get_feature_names_out())\n",
    "len(X_val)"
   ]
  },
  {
   "cell_type": "code",
   "execution_count": 48,
   "metadata": {},
   "outputs": [
    {
     "data": {
      "text/plain": [
       "1017"
      ]
     },
     "execution_count": 48,
     "metadata": {},
     "output_type": "execute_result"
    }
   ],
   "source": [
    "X_test = vectorizer.transform(test['speech'])\n",
    "X_test = pd.DataFrame(X_test.toarray(), columns=vectorizer.get_feature_names_out())\n",
    "len(X_test)"
   ]
  },
  {
   "cell_type": "code",
   "execution_count": 49,
   "metadata": {},
   "outputs": [],
   "source": [
    "X_train['sentiment'] = train['sentiment'].values\n",
    "\n",
    "X_val['sentiment'] = val['sentiment'].values\n",
    "\n",
    "X_test['sentiment'] = test['sentiment'].values"
   ]
  },
  {
   "cell_type": "markdown",
   "metadata": {},
   "source": [
    "## Building the model"
   ]
  },
  {
   "cell_type": "code",
   "execution_count": 50,
   "metadata": {},
   "outputs": [
    {
     "data": {
      "text/html": [
       "<style>#sk-container-id-1 {\n",
       "  /* Definition of color scheme common for light and dark mode */\n",
       "  --sklearn-color-text: black;\n",
       "  --sklearn-color-line: gray;\n",
       "  /* Definition of color scheme for unfitted estimators */\n",
       "  --sklearn-color-unfitted-level-0: #fff5e6;\n",
       "  --sklearn-color-unfitted-level-1: #f6e4d2;\n",
       "  --sklearn-color-unfitted-level-2: #ffe0b3;\n",
       "  --sklearn-color-unfitted-level-3: chocolate;\n",
       "  /* Definition of color scheme for fitted estimators */\n",
       "  --sklearn-color-fitted-level-0: #f0f8ff;\n",
       "  --sklearn-color-fitted-level-1: #d4ebff;\n",
       "  --sklearn-color-fitted-level-2: #b3dbfd;\n",
       "  --sklearn-color-fitted-level-3: cornflowerblue;\n",
       "\n",
       "  /* Specific color for light theme */\n",
       "  --sklearn-color-text-on-default-background: var(--sg-text-color, var(--theme-code-foreground, var(--jp-content-font-color1, black)));\n",
       "  --sklearn-color-background: var(--sg-background-color, var(--theme-background, var(--jp-layout-color0, white)));\n",
       "  --sklearn-color-border-box: var(--sg-text-color, var(--theme-code-foreground, var(--jp-content-font-color1, black)));\n",
       "  --sklearn-color-icon: #696969;\n",
       "\n",
       "  @media (prefers-color-scheme: dark) {\n",
       "    /* Redefinition of color scheme for dark theme */\n",
       "    --sklearn-color-text-on-default-background: var(--sg-text-color, var(--theme-code-foreground, var(--jp-content-font-color1, white)));\n",
       "    --sklearn-color-background: var(--sg-background-color, var(--theme-background, var(--jp-layout-color0, #111)));\n",
       "    --sklearn-color-border-box: var(--sg-text-color, var(--theme-code-foreground, var(--jp-content-font-color1, white)));\n",
       "    --sklearn-color-icon: #878787;\n",
       "  }\n",
       "}\n",
       "\n",
       "#sk-container-id-1 {\n",
       "  color: var(--sklearn-color-text);\n",
       "}\n",
       "\n",
       "#sk-container-id-1 pre {\n",
       "  padding: 0;\n",
       "}\n",
       "\n",
       "#sk-container-id-1 input.sk-hidden--visually {\n",
       "  border: 0;\n",
       "  clip: rect(1px 1px 1px 1px);\n",
       "  clip: rect(1px, 1px, 1px, 1px);\n",
       "  height: 1px;\n",
       "  margin: -1px;\n",
       "  overflow: hidden;\n",
       "  padding: 0;\n",
       "  position: absolute;\n",
       "  width: 1px;\n",
       "}\n",
       "\n",
       "#sk-container-id-1 div.sk-dashed-wrapped {\n",
       "  border: 1px dashed var(--sklearn-color-line);\n",
       "  margin: 0 0.4em 0.5em 0.4em;\n",
       "  box-sizing: border-box;\n",
       "  padding-bottom: 0.4em;\n",
       "  background-color: var(--sklearn-color-background);\n",
       "}\n",
       "\n",
       "#sk-container-id-1 div.sk-container {\n",
       "  /* jupyter's `normalize.less` sets `[hidden] { display: none; }`\n",
       "     but bootstrap.min.css set `[hidden] { display: none !important; }`\n",
       "     so we also need the `!important` here to be able to override the\n",
       "     default hidden behavior on the sphinx rendered scikit-learn.org.\n",
       "     See: https://github.com/scikit-learn/scikit-learn/issues/21755 */\n",
       "  display: inline-block !important;\n",
       "  position: relative;\n",
       "}\n",
       "\n",
       "#sk-container-id-1 div.sk-text-repr-fallback {\n",
       "  display: none;\n",
       "}\n",
       "\n",
       "div.sk-parallel-item,\n",
       "div.sk-serial,\n",
       "div.sk-item {\n",
       "  /* draw centered vertical line to link estimators */\n",
       "  background-image: linear-gradient(var(--sklearn-color-text-on-default-background), var(--sklearn-color-text-on-default-background));\n",
       "  background-size: 2px 100%;\n",
       "  background-repeat: no-repeat;\n",
       "  background-position: center center;\n",
       "}\n",
       "\n",
       "/* Parallel-specific style estimator block */\n",
       "\n",
       "#sk-container-id-1 div.sk-parallel-item::after {\n",
       "  content: \"\";\n",
       "  width: 100%;\n",
       "  border-bottom: 2px solid var(--sklearn-color-text-on-default-background);\n",
       "  flex-grow: 1;\n",
       "}\n",
       "\n",
       "#sk-container-id-1 div.sk-parallel {\n",
       "  display: flex;\n",
       "  align-items: stretch;\n",
       "  justify-content: center;\n",
       "  background-color: var(--sklearn-color-background);\n",
       "  position: relative;\n",
       "}\n",
       "\n",
       "#sk-container-id-1 div.sk-parallel-item {\n",
       "  display: flex;\n",
       "  flex-direction: column;\n",
       "}\n",
       "\n",
       "#sk-container-id-1 div.sk-parallel-item:first-child::after {\n",
       "  align-self: flex-end;\n",
       "  width: 50%;\n",
       "}\n",
       "\n",
       "#sk-container-id-1 div.sk-parallel-item:last-child::after {\n",
       "  align-self: flex-start;\n",
       "  width: 50%;\n",
       "}\n",
       "\n",
       "#sk-container-id-1 div.sk-parallel-item:only-child::after {\n",
       "  width: 0;\n",
       "}\n",
       "\n",
       "/* Serial-specific style estimator block */\n",
       "\n",
       "#sk-container-id-1 div.sk-serial {\n",
       "  display: flex;\n",
       "  flex-direction: column;\n",
       "  align-items: center;\n",
       "  background-color: var(--sklearn-color-background);\n",
       "  padding-right: 1em;\n",
       "  padding-left: 1em;\n",
       "}\n",
       "\n",
       "\n",
       "/* Toggleable style: style used for estimator/Pipeline/ColumnTransformer box that is\n",
       "clickable and can be expanded/collapsed.\n",
       "- Pipeline and ColumnTransformer use this feature and define the default style\n",
       "- Estimators will overwrite some part of the style using the `sk-estimator` class\n",
       "*/\n",
       "\n",
       "/* Pipeline and ColumnTransformer style (default) */\n",
       "\n",
       "#sk-container-id-1 div.sk-toggleable {\n",
       "  /* Default theme specific background. It is overwritten whether we have a\n",
       "  specific estimator or a Pipeline/ColumnTransformer */\n",
       "  background-color: var(--sklearn-color-background);\n",
       "}\n",
       "\n",
       "/* Toggleable label */\n",
       "#sk-container-id-1 label.sk-toggleable__label {\n",
       "  cursor: pointer;\n",
       "  display: block;\n",
       "  width: 100%;\n",
       "  margin-bottom: 0;\n",
       "  padding: 0.5em;\n",
       "  box-sizing: border-box;\n",
       "  text-align: center;\n",
       "}\n",
       "\n",
       "#sk-container-id-1 label.sk-toggleable__label-arrow:before {\n",
       "  /* Arrow on the left of the label */\n",
       "  content: \"▸\";\n",
       "  float: left;\n",
       "  margin-right: 0.25em;\n",
       "  color: var(--sklearn-color-icon);\n",
       "}\n",
       "\n",
       "#sk-container-id-1 label.sk-toggleable__label-arrow:hover:before {\n",
       "  color: var(--sklearn-color-text);\n",
       "}\n",
       "\n",
       "/* Toggleable content - dropdown */\n",
       "\n",
       "#sk-container-id-1 div.sk-toggleable__content {\n",
       "  max-height: 0;\n",
       "  max-width: 0;\n",
       "  overflow: hidden;\n",
       "  text-align: left;\n",
       "  /* unfitted */\n",
       "  background-color: var(--sklearn-color-unfitted-level-0);\n",
       "}\n",
       "\n",
       "#sk-container-id-1 div.sk-toggleable__content.fitted {\n",
       "  /* fitted */\n",
       "  background-color: var(--sklearn-color-fitted-level-0);\n",
       "}\n",
       "\n",
       "#sk-container-id-1 div.sk-toggleable__content pre {\n",
       "  margin: 0.2em;\n",
       "  border-radius: 0.25em;\n",
       "  color: var(--sklearn-color-text);\n",
       "  /* unfitted */\n",
       "  background-color: var(--sklearn-color-unfitted-level-0);\n",
       "}\n",
       "\n",
       "#sk-container-id-1 div.sk-toggleable__content.fitted pre {\n",
       "  /* unfitted */\n",
       "  background-color: var(--sklearn-color-fitted-level-0);\n",
       "}\n",
       "\n",
       "#sk-container-id-1 input.sk-toggleable__control:checked~div.sk-toggleable__content {\n",
       "  /* Expand drop-down */\n",
       "  max-height: 200px;\n",
       "  max-width: 100%;\n",
       "  overflow: auto;\n",
       "}\n",
       "\n",
       "#sk-container-id-1 input.sk-toggleable__control:checked~label.sk-toggleable__label-arrow:before {\n",
       "  content: \"▾\";\n",
       "}\n",
       "\n",
       "/* Pipeline/ColumnTransformer-specific style */\n",
       "\n",
       "#sk-container-id-1 div.sk-label input.sk-toggleable__control:checked~label.sk-toggleable__label {\n",
       "  color: var(--sklearn-color-text);\n",
       "  background-color: var(--sklearn-color-unfitted-level-2);\n",
       "}\n",
       "\n",
       "#sk-container-id-1 div.sk-label.fitted input.sk-toggleable__control:checked~label.sk-toggleable__label {\n",
       "  background-color: var(--sklearn-color-fitted-level-2);\n",
       "}\n",
       "\n",
       "/* Estimator-specific style */\n",
       "\n",
       "/* Colorize estimator box */\n",
       "#sk-container-id-1 div.sk-estimator input.sk-toggleable__control:checked~label.sk-toggleable__label {\n",
       "  /* unfitted */\n",
       "  background-color: var(--sklearn-color-unfitted-level-2);\n",
       "}\n",
       "\n",
       "#sk-container-id-1 div.sk-estimator.fitted input.sk-toggleable__control:checked~label.sk-toggleable__label {\n",
       "  /* fitted */\n",
       "  background-color: var(--sklearn-color-fitted-level-2);\n",
       "}\n",
       "\n",
       "#sk-container-id-1 div.sk-label label.sk-toggleable__label,\n",
       "#sk-container-id-1 div.sk-label label {\n",
       "  /* The background is the default theme color */\n",
       "  color: var(--sklearn-color-text-on-default-background);\n",
       "}\n",
       "\n",
       "/* On hover, darken the color of the background */\n",
       "#sk-container-id-1 div.sk-label:hover label.sk-toggleable__label {\n",
       "  color: var(--sklearn-color-text);\n",
       "  background-color: var(--sklearn-color-unfitted-level-2);\n",
       "}\n",
       "\n",
       "/* Label box, darken color on hover, fitted */\n",
       "#sk-container-id-1 div.sk-label.fitted:hover label.sk-toggleable__label.fitted {\n",
       "  color: var(--sklearn-color-text);\n",
       "  background-color: var(--sklearn-color-fitted-level-2);\n",
       "}\n",
       "\n",
       "/* Estimator label */\n",
       "\n",
       "#sk-container-id-1 div.sk-label label {\n",
       "  font-family: monospace;\n",
       "  font-weight: bold;\n",
       "  display: inline-block;\n",
       "  line-height: 1.2em;\n",
       "}\n",
       "\n",
       "#sk-container-id-1 div.sk-label-container {\n",
       "  text-align: center;\n",
       "}\n",
       "\n",
       "/* Estimator-specific */\n",
       "#sk-container-id-1 div.sk-estimator {\n",
       "  font-family: monospace;\n",
       "  border: 1px dotted var(--sklearn-color-border-box);\n",
       "  border-radius: 0.25em;\n",
       "  box-sizing: border-box;\n",
       "  margin-bottom: 0.5em;\n",
       "  /* unfitted */\n",
       "  background-color: var(--sklearn-color-unfitted-level-0);\n",
       "}\n",
       "\n",
       "#sk-container-id-1 div.sk-estimator.fitted {\n",
       "  /* fitted */\n",
       "  background-color: var(--sklearn-color-fitted-level-0);\n",
       "}\n",
       "\n",
       "/* on hover */\n",
       "#sk-container-id-1 div.sk-estimator:hover {\n",
       "  /* unfitted */\n",
       "  background-color: var(--sklearn-color-unfitted-level-2);\n",
       "}\n",
       "\n",
       "#sk-container-id-1 div.sk-estimator.fitted:hover {\n",
       "  /* fitted */\n",
       "  background-color: var(--sklearn-color-fitted-level-2);\n",
       "}\n",
       "\n",
       "/* Specification for estimator info (e.g. \"i\" and \"?\") */\n",
       "\n",
       "/* Common style for \"i\" and \"?\" */\n",
       "\n",
       ".sk-estimator-doc-link,\n",
       "a:link.sk-estimator-doc-link,\n",
       "a:visited.sk-estimator-doc-link {\n",
       "  float: right;\n",
       "  font-size: smaller;\n",
       "  line-height: 1em;\n",
       "  font-family: monospace;\n",
       "  background-color: var(--sklearn-color-background);\n",
       "  border-radius: 1em;\n",
       "  height: 1em;\n",
       "  width: 1em;\n",
       "  text-decoration: none !important;\n",
       "  margin-left: 1ex;\n",
       "  /* unfitted */\n",
       "  border: var(--sklearn-color-unfitted-level-1) 1pt solid;\n",
       "  color: var(--sklearn-color-unfitted-level-1);\n",
       "}\n",
       "\n",
       ".sk-estimator-doc-link.fitted,\n",
       "a:link.sk-estimator-doc-link.fitted,\n",
       "a:visited.sk-estimator-doc-link.fitted {\n",
       "  /* fitted */\n",
       "  border: var(--sklearn-color-fitted-level-1) 1pt solid;\n",
       "  color: var(--sklearn-color-fitted-level-1);\n",
       "}\n",
       "\n",
       "/* On hover */\n",
       "div.sk-estimator:hover .sk-estimator-doc-link:hover,\n",
       ".sk-estimator-doc-link:hover,\n",
       "div.sk-label-container:hover .sk-estimator-doc-link:hover,\n",
       ".sk-estimator-doc-link:hover {\n",
       "  /* unfitted */\n",
       "  background-color: var(--sklearn-color-unfitted-level-3);\n",
       "  color: var(--sklearn-color-background);\n",
       "  text-decoration: none;\n",
       "}\n",
       "\n",
       "div.sk-estimator.fitted:hover .sk-estimator-doc-link.fitted:hover,\n",
       ".sk-estimator-doc-link.fitted:hover,\n",
       "div.sk-label-container:hover .sk-estimator-doc-link.fitted:hover,\n",
       ".sk-estimator-doc-link.fitted:hover {\n",
       "  /* fitted */\n",
       "  background-color: var(--sklearn-color-fitted-level-3);\n",
       "  color: var(--sklearn-color-background);\n",
       "  text-decoration: none;\n",
       "}\n",
       "\n",
       "/* Span, style for the box shown on hovering the info icon */\n",
       ".sk-estimator-doc-link span {\n",
       "  display: none;\n",
       "  z-index: 9999;\n",
       "  position: relative;\n",
       "  font-weight: normal;\n",
       "  right: .2ex;\n",
       "  padding: .5ex;\n",
       "  margin: .5ex;\n",
       "  width: min-content;\n",
       "  min-width: 20ex;\n",
       "  max-width: 50ex;\n",
       "  color: var(--sklearn-color-text);\n",
       "  box-shadow: 2pt 2pt 4pt #999;\n",
       "  /* unfitted */\n",
       "  background: var(--sklearn-color-unfitted-level-0);\n",
       "  border: .5pt solid var(--sklearn-color-unfitted-level-3);\n",
       "}\n",
       "\n",
       ".sk-estimator-doc-link.fitted span {\n",
       "  /* fitted */\n",
       "  background: var(--sklearn-color-fitted-level-0);\n",
       "  border: var(--sklearn-color-fitted-level-3);\n",
       "}\n",
       "\n",
       ".sk-estimator-doc-link:hover span {\n",
       "  display: block;\n",
       "}\n",
       "\n",
       "/* \"?\"-specific style due to the `<a>` HTML tag */\n",
       "\n",
       "#sk-container-id-1 a.estimator_doc_link {\n",
       "  float: right;\n",
       "  font-size: 1rem;\n",
       "  line-height: 1em;\n",
       "  font-family: monospace;\n",
       "  background-color: var(--sklearn-color-background);\n",
       "  border-radius: 1rem;\n",
       "  height: 1rem;\n",
       "  width: 1rem;\n",
       "  text-decoration: none;\n",
       "  /* unfitted */\n",
       "  color: var(--sklearn-color-unfitted-level-1);\n",
       "  border: var(--sklearn-color-unfitted-level-1) 1pt solid;\n",
       "}\n",
       "\n",
       "#sk-container-id-1 a.estimator_doc_link.fitted {\n",
       "  /* fitted */\n",
       "  border: var(--sklearn-color-fitted-level-1) 1pt solid;\n",
       "  color: var(--sklearn-color-fitted-level-1);\n",
       "}\n",
       "\n",
       "/* On hover */\n",
       "#sk-container-id-1 a.estimator_doc_link:hover {\n",
       "  /* unfitted */\n",
       "  background-color: var(--sklearn-color-unfitted-level-3);\n",
       "  color: var(--sklearn-color-background);\n",
       "  text-decoration: none;\n",
       "}\n",
       "\n",
       "#sk-container-id-1 a.estimator_doc_link.fitted:hover {\n",
       "  /* fitted */\n",
       "  background-color: var(--sklearn-color-fitted-level-3);\n",
       "}\n",
       "</style><div id=\"sk-container-id-1\" class=\"sk-top-container\"><div class=\"sk-text-repr-fallback\"><pre>XGBRegressor(base_score=None, booster=None, callbacks=None,\n",
       "             colsample_bylevel=None, colsample_bynode=None,\n",
       "             colsample_bytree=None, device=None, early_stopping_rounds=None,\n",
       "             enable_categorical=False, eval_metric=None, feature_types=None,\n",
       "             gamma=None, grow_policy=None, importance_type=None,\n",
       "             interaction_constraints=None, learning_rate=None, max_bin=None,\n",
       "             max_cat_threshold=None, max_cat_to_onehot=None,\n",
       "             max_delta_step=None, max_depth=None, max_leaves=None,\n",
       "             min_child_weight=None, missing=nan, monotone_constraints=None,\n",
       "             multi_strategy=None, n_estimators=None, n_jobs=-1,\n",
       "             num_parallel_tree=None, random_state=None, ...)</pre><b>In a Jupyter environment, please rerun this cell to show the HTML representation or trust the notebook. <br />On GitHub, the HTML representation is unable to render, please try loading this page with nbviewer.org.</b></div><div class=\"sk-container\" hidden><div class=\"sk-item\"><div class=\"sk-estimator fitted sk-toggleable\"><input class=\"sk-toggleable__control sk-hidden--visually\" id=\"sk-estimator-id-1\" type=\"checkbox\" checked><label for=\"sk-estimator-id-1\" class=\"sk-toggleable__label fitted sk-toggleable__label-arrow fitted\">&nbsp;XGBRegressor<span class=\"sk-estimator-doc-link fitted\">i<span>Fitted</span></span></label><div class=\"sk-toggleable__content fitted\"><pre>XGBRegressor(base_score=None, booster=None, callbacks=None,\n",
       "             colsample_bylevel=None, colsample_bynode=None,\n",
       "             colsample_bytree=None, device=None, early_stopping_rounds=None,\n",
       "             enable_categorical=False, eval_metric=None, feature_types=None,\n",
       "             gamma=None, grow_policy=None, importance_type=None,\n",
       "             interaction_constraints=None, learning_rate=None, max_bin=None,\n",
       "             max_cat_threshold=None, max_cat_to_onehot=None,\n",
       "             max_delta_step=None, max_depth=None, max_leaves=None,\n",
       "             min_child_weight=None, missing=nan, monotone_constraints=None,\n",
       "             multi_strategy=None, n_estimators=None, n_jobs=-1,\n",
       "             num_parallel_tree=None, random_state=None, ...)</pre></div> </div></div></div></div>"
      ],
      "text/plain": [
       "XGBRegressor(base_score=None, booster=None, callbacks=None,\n",
       "             colsample_bylevel=None, colsample_bynode=None,\n",
       "             colsample_bytree=None, device=None, early_stopping_rounds=None,\n",
       "             enable_categorical=False, eval_metric=None, feature_types=None,\n",
       "             gamma=None, grow_policy=None, importance_type=None,\n",
       "             interaction_constraints=None, learning_rate=None, max_bin=None,\n",
       "             max_cat_threshold=None, max_cat_to_onehot=None,\n",
       "             max_delta_step=None, max_depth=None, max_leaves=None,\n",
       "             min_child_weight=None, missing=nan, monotone_constraints=None,\n",
       "             multi_strategy=None, n_estimators=None, n_jobs=-1,\n",
       "             num_parallel_tree=None, random_state=None, ...)"
      ]
     },
     "execution_count": 50,
     "metadata": {},
     "output_type": "execute_result"
    }
   ],
   "source": [
    "model = XGBRegressor(n_jobs=-1)\n",
    "model.fit(X_train, y_train)"
   ]
  },
  {
   "cell_type": "code",
   "execution_count": 51,
   "metadata": {},
   "outputs": [
    {
     "data": {
      "text/plain": [
       "(0.15223474831996373, 0.34112330395863066)"
      ]
     },
     "execution_count": 51,
     "metadata": {},
     "output_type": "execute_result"
    }
   ],
   "source": [
    "y_pred_train = model.predict(X_train)\n",
    "y_pred_val = model.predict(X_val)\n",
    "root_mean_squared_error(y_train, y_pred_train), root_mean_squared_error(y_val, y_pred_val)"
   ]
  },
  {
   "cell_type": "code",
   "execution_count": 52,
   "metadata": {},
   "outputs": [
    {
     "data": {
      "text/plain": [
       "0.9648667250656989"
      ]
     },
     "execution_count": 52,
     "metadata": {},
     "output_type": "execute_result"
    }
   ],
   "source": [
    "feature_importances_df = pd.DataFrame({'Feature': model.feature_names_in_, 'Importance': model.feature_importances_})\n",
    "(feature_importances_df['Importance'] == 0).sum()/len(feature_importances_df)"
   ]
  },
  {
   "cell_type": "markdown",
   "metadata": {},
   "source": [
    "96% of features have no importance to our model. Let's get rid of them and try to fit our model."
   ]
  },
  {
   "cell_type": "code",
   "execution_count": 53,
   "metadata": {},
   "outputs": [],
   "source": [
    "useless_features = feature_importances_df[feature_importances_df['Importance'] == 0]['Feature']\n",
    "\n",
    "X_train.drop(columns=useless_features, inplace=True)\n",
    "X_val.drop(columns=useless_features, inplace=True)\n",
    "X_test.drop(columns=useless_features, inplace=True)"
   ]
  },
  {
   "cell_type": "code",
   "execution_count": 54,
   "metadata": {},
   "outputs": [
    {
     "data": {
      "text/html": [
       "<style>#sk-container-id-2 {\n",
       "  /* Definition of color scheme common for light and dark mode */\n",
       "  --sklearn-color-text: black;\n",
       "  --sklearn-color-line: gray;\n",
       "  /* Definition of color scheme for unfitted estimators */\n",
       "  --sklearn-color-unfitted-level-0: #fff5e6;\n",
       "  --sklearn-color-unfitted-level-1: #f6e4d2;\n",
       "  --sklearn-color-unfitted-level-2: #ffe0b3;\n",
       "  --sklearn-color-unfitted-level-3: chocolate;\n",
       "  /* Definition of color scheme for fitted estimators */\n",
       "  --sklearn-color-fitted-level-0: #f0f8ff;\n",
       "  --sklearn-color-fitted-level-1: #d4ebff;\n",
       "  --sklearn-color-fitted-level-2: #b3dbfd;\n",
       "  --sklearn-color-fitted-level-3: cornflowerblue;\n",
       "\n",
       "  /* Specific color for light theme */\n",
       "  --sklearn-color-text-on-default-background: var(--sg-text-color, var(--theme-code-foreground, var(--jp-content-font-color1, black)));\n",
       "  --sklearn-color-background: var(--sg-background-color, var(--theme-background, var(--jp-layout-color0, white)));\n",
       "  --sklearn-color-border-box: var(--sg-text-color, var(--theme-code-foreground, var(--jp-content-font-color1, black)));\n",
       "  --sklearn-color-icon: #696969;\n",
       "\n",
       "  @media (prefers-color-scheme: dark) {\n",
       "    /* Redefinition of color scheme for dark theme */\n",
       "    --sklearn-color-text-on-default-background: var(--sg-text-color, var(--theme-code-foreground, var(--jp-content-font-color1, white)));\n",
       "    --sklearn-color-background: var(--sg-background-color, var(--theme-background, var(--jp-layout-color0, #111)));\n",
       "    --sklearn-color-border-box: var(--sg-text-color, var(--theme-code-foreground, var(--jp-content-font-color1, white)));\n",
       "    --sklearn-color-icon: #878787;\n",
       "  }\n",
       "}\n",
       "\n",
       "#sk-container-id-2 {\n",
       "  color: var(--sklearn-color-text);\n",
       "}\n",
       "\n",
       "#sk-container-id-2 pre {\n",
       "  padding: 0;\n",
       "}\n",
       "\n",
       "#sk-container-id-2 input.sk-hidden--visually {\n",
       "  border: 0;\n",
       "  clip: rect(1px 1px 1px 1px);\n",
       "  clip: rect(1px, 1px, 1px, 1px);\n",
       "  height: 1px;\n",
       "  margin: -1px;\n",
       "  overflow: hidden;\n",
       "  padding: 0;\n",
       "  position: absolute;\n",
       "  width: 1px;\n",
       "}\n",
       "\n",
       "#sk-container-id-2 div.sk-dashed-wrapped {\n",
       "  border: 1px dashed var(--sklearn-color-line);\n",
       "  margin: 0 0.4em 0.5em 0.4em;\n",
       "  box-sizing: border-box;\n",
       "  padding-bottom: 0.4em;\n",
       "  background-color: var(--sklearn-color-background);\n",
       "}\n",
       "\n",
       "#sk-container-id-2 div.sk-container {\n",
       "  /* jupyter's `normalize.less` sets `[hidden] { display: none; }`\n",
       "     but bootstrap.min.css set `[hidden] { display: none !important; }`\n",
       "     so we also need the `!important` here to be able to override the\n",
       "     default hidden behavior on the sphinx rendered scikit-learn.org.\n",
       "     See: https://github.com/scikit-learn/scikit-learn/issues/21755 */\n",
       "  display: inline-block !important;\n",
       "  position: relative;\n",
       "}\n",
       "\n",
       "#sk-container-id-2 div.sk-text-repr-fallback {\n",
       "  display: none;\n",
       "}\n",
       "\n",
       "div.sk-parallel-item,\n",
       "div.sk-serial,\n",
       "div.sk-item {\n",
       "  /* draw centered vertical line to link estimators */\n",
       "  background-image: linear-gradient(var(--sklearn-color-text-on-default-background), var(--sklearn-color-text-on-default-background));\n",
       "  background-size: 2px 100%;\n",
       "  background-repeat: no-repeat;\n",
       "  background-position: center center;\n",
       "}\n",
       "\n",
       "/* Parallel-specific style estimator block */\n",
       "\n",
       "#sk-container-id-2 div.sk-parallel-item::after {\n",
       "  content: \"\";\n",
       "  width: 100%;\n",
       "  border-bottom: 2px solid var(--sklearn-color-text-on-default-background);\n",
       "  flex-grow: 1;\n",
       "}\n",
       "\n",
       "#sk-container-id-2 div.sk-parallel {\n",
       "  display: flex;\n",
       "  align-items: stretch;\n",
       "  justify-content: center;\n",
       "  background-color: var(--sklearn-color-background);\n",
       "  position: relative;\n",
       "}\n",
       "\n",
       "#sk-container-id-2 div.sk-parallel-item {\n",
       "  display: flex;\n",
       "  flex-direction: column;\n",
       "}\n",
       "\n",
       "#sk-container-id-2 div.sk-parallel-item:first-child::after {\n",
       "  align-self: flex-end;\n",
       "  width: 50%;\n",
       "}\n",
       "\n",
       "#sk-container-id-2 div.sk-parallel-item:last-child::after {\n",
       "  align-self: flex-start;\n",
       "  width: 50%;\n",
       "}\n",
       "\n",
       "#sk-container-id-2 div.sk-parallel-item:only-child::after {\n",
       "  width: 0;\n",
       "}\n",
       "\n",
       "/* Serial-specific style estimator block */\n",
       "\n",
       "#sk-container-id-2 div.sk-serial {\n",
       "  display: flex;\n",
       "  flex-direction: column;\n",
       "  align-items: center;\n",
       "  background-color: var(--sklearn-color-background);\n",
       "  padding-right: 1em;\n",
       "  padding-left: 1em;\n",
       "}\n",
       "\n",
       "\n",
       "/* Toggleable style: style used for estimator/Pipeline/ColumnTransformer box that is\n",
       "clickable and can be expanded/collapsed.\n",
       "- Pipeline and ColumnTransformer use this feature and define the default style\n",
       "- Estimators will overwrite some part of the style using the `sk-estimator` class\n",
       "*/\n",
       "\n",
       "/* Pipeline and ColumnTransformer style (default) */\n",
       "\n",
       "#sk-container-id-2 div.sk-toggleable {\n",
       "  /* Default theme specific background. It is overwritten whether we have a\n",
       "  specific estimator or a Pipeline/ColumnTransformer */\n",
       "  background-color: var(--sklearn-color-background);\n",
       "}\n",
       "\n",
       "/* Toggleable label */\n",
       "#sk-container-id-2 label.sk-toggleable__label {\n",
       "  cursor: pointer;\n",
       "  display: block;\n",
       "  width: 100%;\n",
       "  margin-bottom: 0;\n",
       "  padding: 0.5em;\n",
       "  box-sizing: border-box;\n",
       "  text-align: center;\n",
       "}\n",
       "\n",
       "#sk-container-id-2 label.sk-toggleable__label-arrow:before {\n",
       "  /* Arrow on the left of the label */\n",
       "  content: \"▸\";\n",
       "  float: left;\n",
       "  margin-right: 0.25em;\n",
       "  color: var(--sklearn-color-icon);\n",
       "}\n",
       "\n",
       "#sk-container-id-2 label.sk-toggleable__label-arrow:hover:before {\n",
       "  color: var(--sklearn-color-text);\n",
       "}\n",
       "\n",
       "/* Toggleable content - dropdown */\n",
       "\n",
       "#sk-container-id-2 div.sk-toggleable__content {\n",
       "  max-height: 0;\n",
       "  max-width: 0;\n",
       "  overflow: hidden;\n",
       "  text-align: left;\n",
       "  /* unfitted */\n",
       "  background-color: var(--sklearn-color-unfitted-level-0);\n",
       "}\n",
       "\n",
       "#sk-container-id-2 div.sk-toggleable__content.fitted {\n",
       "  /* fitted */\n",
       "  background-color: var(--sklearn-color-fitted-level-0);\n",
       "}\n",
       "\n",
       "#sk-container-id-2 div.sk-toggleable__content pre {\n",
       "  margin: 0.2em;\n",
       "  border-radius: 0.25em;\n",
       "  color: var(--sklearn-color-text);\n",
       "  /* unfitted */\n",
       "  background-color: var(--sklearn-color-unfitted-level-0);\n",
       "}\n",
       "\n",
       "#sk-container-id-2 div.sk-toggleable__content.fitted pre {\n",
       "  /* unfitted */\n",
       "  background-color: var(--sklearn-color-fitted-level-0);\n",
       "}\n",
       "\n",
       "#sk-container-id-2 input.sk-toggleable__control:checked~div.sk-toggleable__content {\n",
       "  /* Expand drop-down */\n",
       "  max-height: 200px;\n",
       "  max-width: 100%;\n",
       "  overflow: auto;\n",
       "}\n",
       "\n",
       "#sk-container-id-2 input.sk-toggleable__control:checked~label.sk-toggleable__label-arrow:before {\n",
       "  content: \"▾\";\n",
       "}\n",
       "\n",
       "/* Pipeline/ColumnTransformer-specific style */\n",
       "\n",
       "#sk-container-id-2 div.sk-label input.sk-toggleable__control:checked~label.sk-toggleable__label {\n",
       "  color: var(--sklearn-color-text);\n",
       "  background-color: var(--sklearn-color-unfitted-level-2);\n",
       "}\n",
       "\n",
       "#sk-container-id-2 div.sk-label.fitted input.sk-toggleable__control:checked~label.sk-toggleable__label {\n",
       "  background-color: var(--sklearn-color-fitted-level-2);\n",
       "}\n",
       "\n",
       "/* Estimator-specific style */\n",
       "\n",
       "/* Colorize estimator box */\n",
       "#sk-container-id-2 div.sk-estimator input.sk-toggleable__control:checked~label.sk-toggleable__label {\n",
       "  /* unfitted */\n",
       "  background-color: var(--sklearn-color-unfitted-level-2);\n",
       "}\n",
       "\n",
       "#sk-container-id-2 div.sk-estimator.fitted input.sk-toggleable__control:checked~label.sk-toggleable__label {\n",
       "  /* fitted */\n",
       "  background-color: var(--sklearn-color-fitted-level-2);\n",
       "}\n",
       "\n",
       "#sk-container-id-2 div.sk-label label.sk-toggleable__label,\n",
       "#sk-container-id-2 div.sk-label label {\n",
       "  /* The background is the default theme color */\n",
       "  color: var(--sklearn-color-text-on-default-background);\n",
       "}\n",
       "\n",
       "/* On hover, darken the color of the background */\n",
       "#sk-container-id-2 div.sk-label:hover label.sk-toggleable__label {\n",
       "  color: var(--sklearn-color-text);\n",
       "  background-color: var(--sklearn-color-unfitted-level-2);\n",
       "}\n",
       "\n",
       "/* Label box, darken color on hover, fitted */\n",
       "#sk-container-id-2 div.sk-label.fitted:hover label.sk-toggleable__label.fitted {\n",
       "  color: var(--sklearn-color-text);\n",
       "  background-color: var(--sklearn-color-fitted-level-2);\n",
       "}\n",
       "\n",
       "/* Estimator label */\n",
       "\n",
       "#sk-container-id-2 div.sk-label label {\n",
       "  font-family: monospace;\n",
       "  font-weight: bold;\n",
       "  display: inline-block;\n",
       "  line-height: 1.2em;\n",
       "}\n",
       "\n",
       "#sk-container-id-2 div.sk-label-container {\n",
       "  text-align: center;\n",
       "}\n",
       "\n",
       "/* Estimator-specific */\n",
       "#sk-container-id-2 div.sk-estimator {\n",
       "  font-family: monospace;\n",
       "  border: 1px dotted var(--sklearn-color-border-box);\n",
       "  border-radius: 0.25em;\n",
       "  box-sizing: border-box;\n",
       "  margin-bottom: 0.5em;\n",
       "  /* unfitted */\n",
       "  background-color: var(--sklearn-color-unfitted-level-0);\n",
       "}\n",
       "\n",
       "#sk-container-id-2 div.sk-estimator.fitted {\n",
       "  /* fitted */\n",
       "  background-color: var(--sklearn-color-fitted-level-0);\n",
       "}\n",
       "\n",
       "/* on hover */\n",
       "#sk-container-id-2 div.sk-estimator:hover {\n",
       "  /* unfitted */\n",
       "  background-color: var(--sklearn-color-unfitted-level-2);\n",
       "}\n",
       "\n",
       "#sk-container-id-2 div.sk-estimator.fitted:hover {\n",
       "  /* fitted */\n",
       "  background-color: var(--sklearn-color-fitted-level-2);\n",
       "}\n",
       "\n",
       "/* Specification for estimator info (e.g. \"i\" and \"?\") */\n",
       "\n",
       "/* Common style for \"i\" and \"?\" */\n",
       "\n",
       ".sk-estimator-doc-link,\n",
       "a:link.sk-estimator-doc-link,\n",
       "a:visited.sk-estimator-doc-link {\n",
       "  float: right;\n",
       "  font-size: smaller;\n",
       "  line-height: 1em;\n",
       "  font-family: monospace;\n",
       "  background-color: var(--sklearn-color-background);\n",
       "  border-radius: 1em;\n",
       "  height: 1em;\n",
       "  width: 1em;\n",
       "  text-decoration: none !important;\n",
       "  margin-left: 1ex;\n",
       "  /* unfitted */\n",
       "  border: var(--sklearn-color-unfitted-level-1) 1pt solid;\n",
       "  color: var(--sklearn-color-unfitted-level-1);\n",
       "}\n",
       "\n",
       ".sk-estimator-doc-link.fitted,\n",
       "a:link.sk-estimator-doc-link.fitted,\n",
       "a:visited.sk-estimator-doc-link.fitted {\n",
       "  /* fitted */\n",
       "  border: var(--sklearn-color-fitted-level-1) 1pt solid;\n",
       "  color: var(--sklearn-color-fitted-level-1);\n",
       "}\n",
       "\n",
       "/* On hover */\n",
       "div.sk-estimator:hover .sk-estimator-doc-link:hover,\n",
       ".sk-estimator-doc-link:hover,\n",
       "div.sk-label-container:hover .sk-estimator-doc-link:hover,\n",
       ".sk-estimator-doc-link:hover {\n",
       "  /* unfitted */\n",
       "  background-color: var(--sklearn-color-unfitted-level-3);\n",
       "  color: var(--sklearn-color-background);\n",
       "  text-decoration: none;\n",
       "}\n",
       "\n",
       "div.sk-estimator.fitted:hover .sk-estimator-doc-link.fitted:hover,\n",
       ".sk-estimator-doc-link.fitted:hover,\n",
       "div.sk-label-container:hover .sk-estimator-doc-link.fitted:hover,\n",
       ".sk-estimator-doc-link.fitted:hover {\n",
       "  /* fitted */\n",
       "  background-color: var(--sklearn-color-fitted-level-3);\n",
       "  color: var(--sklearn-color-background);\n",
       "  text-decoration: none;\n",
       "}\n",
       "\n",
       "/* Span, style for the box shown on hovering the info icon */\n",
       ".sk-estimator-doc-link span {\n",
       "  display: none;\n",
       "  z-index: 9999;\n",
       "  position: relative;\n",
       "  font-weight: normal;\n",
       "  right: .2ex;\n",
       "  padding: .5ex;\n",
       "  margin: .5ex;\n",
       "  width: min-content;\n",
       "  min-width: 20ex;\n",
       "  max-width: 50ex;\n",
       "  color: var(--sklearn-color-text);\n",
       "  box-shadow: 2pt 2pt 4pt #999;\n",
       "  /* unfitted */\n",
       "  background: var(--sklearn-color-unfitted-level-0);\n",
       "  border: .5pt solid var(--sklearn-color-unfitted-level-3);\n",
       "}\n",
       "\n",
       ".sk-estimator-doc-link.fitted span {\n",
       "  /* fitted */\n",
       "  background: var(--sklearn-color-fitted-level-0);\n",
       "  border: var(--sklearn-color-fitted-level-3);\n",
       "}\n",
       "\n",
       ".sk-estimator-doc-link:hover span {\n",
       "  display: block;\n",
       "}\n",
       "\n",
       "/* \"?\"-specific style due to the `<a>` HTML tag */\n",
       "\n",
       "#sk-container-id-2 a.estimator_doc_link {\n",
       "  float: right;\n",
       "  font-size: 1rem;\n",
       "  line-height: 1em;\n",
       "  font-family: monospace;\n",
       "  background-color: var(--sklearn-color-background);\n",
       "  border-radius: 1rem;\n",
       "  height: 1rem;\n",
       "  width: 1rem;\n",
       "  text-decoration: none;\n",
       "  /* unfitted */\n",
       "  color: var(--sklearn-color-unfitted-level-1);\n",
       "  border: var(--sklearn-color-unfitted-level-1) 1pt solid;\n",
       "}\n",
       "\n",
       "#sk-container-id-2 a.estimator_doc_link.fitted {\n",
       "  /* fitted */\n",
       "  border: var(--sklearn-color-fitted-level-1) 1pt solid;\n",
       "  color: var(--sklearn-color-fitted-level-1);\n",
       "}\n",
       "\n",
       "/* On hover */\n",
       "#sk-container-id-2 a.estimator_doc_link:hover {\n",
       "  /* unfitted */\n",
       "  background-color: var(--sklearn-color-unfitted-level-3);\n",
       "  color: var(--sklearn-color-background);\n",
       "  text-decoration: none;\n",
       "}\n",
       "\n",
       "#sk-container-id-2 a.estimator_doc_link.fitted:hover {\n",
       "  /* fitted */\n",
       "  background-color: var(--sklearn-color-fitted-level-3);\n",
       "}\n",
       "</style><div id=\"sk-container-id-2\" class=\"sk-top-container\"><div class=\"sk-text-repr-fallback\"><pre>XGBRegressor(base_score=None, booster=None, callbacks=None,\n",
       "             colsample_bylevel=None, colsample_bynode=None,\n",
       "             colsample_bytree=None, device=None, early_stopping_rounds=None,\n",
       "             enable_categorical=False, eval_metric=None, feature_types=None,\n",
       "             gamma=None, grow_policy=None, importance_type=None,\n",
       "             interaction_constraints=None, learning_rate=None, max_bin=None,\n",
       "             max_cat_threshold=None, max_cat_to_onehot=None,\n",
       "             max_delta_step=None, max_depth=None, max_leaves=None,\n",
       "             min_child_weight=None, missing=nan, monotone_constraints=None,\n",
       "             multi_strategy=None, n_estimators=None, n_jobs=-1,\n",
       "             num_parallel_tree=None, random_state=None, ...)</pre><b>In a Jupyter environment, please rerun this cell to show the HTML representation or trust the notebook. <br />On GitHub, the HTML representation is unable to render, please try loading this page with nbviewer.org.</b></div><div class=\"sk-container\" hidden><div class=\"sk-item\"><div class=\"sk-estimator fitted sk-toggleable\"><input class=\"sk-toggleable__control sk-hidden--visually\" id=\"sk-estimator-id-2\" type=\"checkbox\" checked><label for=\"sk-estimator-id-2\" class=\"sk-toggleable__label fitted sk-toggleable__label-arrow fitted\">&nbsp;XGBRegressor<span class=\"sk-estimator-doc-link fitted\">i<span>Fitted</span></span></label><div class=\"sk-toggleable__content fitted\"><pre>XGBRegressor(base_score=None, booster=None, callbacks=None,\n",
       "             colsample_bylevel=None, colsample_bynode=None,\n",
       "             colsample_bytree=None, device=None, early_stopping_rounds=None,\n",
       "             enable_categorical=False, eval_metric=None, feature_types=None,\n",
       "             gamma=None, grow_policy=None, importance_type=None,\n",
       "             interaction_constraints=None, learning_rate=None, max_bin=None,\n",
       "             max_cat_threshold=None, max_cat_to_onehot=None,\n",
       "             max_delta_step=None, max_depth=None, max_leaves=None,\n",
       "             min_child_weight=None, missing=nan, monotone_constraints=None,\n",
       "             multi_strategy=None, n_estimators=None, n_jobs=-1,\n",
       "             num_parallel_tree=None, random_state=None, ...)</pre></div> </div></div></div></div>"
      ],
      "text/plain": [
       "XGBRegressor(base_score=None, booster=None, callbacks=None,\n",
       "             colsample_bylevel=None, colsample_bynode=None,\n",
       "             colsample_bytree=None, device=None, early_stopping_rounds=None,\n",
       "             enable_categorical=False, eval_metric=None, feature_types=None,\n",
       "             gamma=None, grow_policy=None, importance_type=None,\n",
       "             interaction_constraints=None, learning_rate=None, max_bin=None,\n",
       "             max_cat_threshold=None, max_cat_to_onehot=None,\n",
       "             max_delta_step=None, max_depth=None, max_leaves=None,\n",
       "             min_child_weight=None, missing=nan, monotone_constraints=None,\n",
       "             multi_strategy=None, n_estimators=None, n_jobs=-1,\n",
       "             num_parallel_tree=None, random_state=None, ...)"
      ]
     },
     "execution_count": 54,
     "metadata": {},
     "output_type": "execute_result"
    }
   ],
   "source": [
    "model = XGBRegressor(n_jobs=-1)\n",
    "model.fit(X_train, y_train)"
   ]
  },
  {
   "cell_type": "code",
   "execution_count": 55,
   "metadata": {},
   "outputs": [
    {
     "data": {
      "text/plain": [
       "0.15223474831996373"
      ]
     },
     "execution_count": 55,
     "metadata": {},
     "output_type": "execute_result"
    }
   ],
   "source": [
    "y_pred_train = model.predict(X_train)\n",
    "root_mean_squared_error(y_train, y_pred_train)"
   ]
  },
  {
   "cell_type": "code",
   "execution_count": 56,
   "metadata": {},
   "outputs": [
    {
     "data": {
      "text/plain": [
       "0.34112330395863066"
      ]
     },
     "execution_count": 56,
     "metadata": {},
     "output_type": "execute_result"
    }
   ],
   "source": [
    "y_pred_val = model.predict(X_val)\n",
    "root_mean_squared_error(y_val, y_pred_val)"
   ]
  },
  {
   "cell_type": "code",
   "execution_count": 57,
   "metadata": {},
   "outputs": [],
   "source": [
    "y_pred_test = model.predict(X_test)"
   ]
  },
  {
   "cell_type": "code",
   "execution_count": 58,
   "metadata": {},
   "outputs": [],
   "source": [
    "feature_importances_df = pd.DataFrame({'Feature': model.feature_names_in_, 'Importance': model.feature_importances_})\n",
    "feature_importances_df.sort_values('Importance', ascending=False, inplace=True, ignore_index=True)\n",
    "feature_importances_df.reset_index(inplace=True)"
   ]
  },
  {
   "cell_type": "code",
   "execution_count": 59,
   "metadata": {},
   "outputs": [
    {
     "data": {
      "image/png": "[encoded data removed]",
      "text/plain": [
       "<Figure size 1000x600 with 1 Axes>"
      ]
     },
     "metadata": {},
     "output_type": "display_data"
    }
   ],
   "source": [
    "plt.figure(figsize=(10, 6))\n",
    "sns.barplot(x='Importance', y='Feature', data=feature_importances_df.head(20), orient='h')\n",
    "plt.xlabel('Importance (normalized)')\n",
    "plt.ylabel('Feature')\n",
    "plt.title('Top 20 features by importance')\n",
    "plt.show()"
   ]
  },
  {
   "cell_type": "markdown",
   "metadata": {},
   "source": [
    "## Results analysis and plotting"
   ]
  },
  {
   "cell_type": "code",
   "execution_count": 60,
   "metadata": {},
   "outputs": [],
   "source": [
    "def pred_to_df(preds: np.ndarray, df: pd.DataFrame) -> pd.DataFrame:\n",
    "    df['pred'] = preds\n",
    "    return df"
   ]
  },
  {
   "cell_type": "code",
   "execution_count": 61,
   "metadata": {},
   "outputs": [
    {
     "data": {
      "application/vnd.microsoft.datawrangler.viewer.v0+json": {
       "columns": [
        {
         "name": "index",
         "rawType": "int64",
         "type": "integer"
        },
        {
         "name": "party",
         "rawType": "float64",
         "type": "float"
        },
        {
         "name": "speech",
         "rawType": "object",
         "type": "string"
        },
        {
         "name": "word_count",
         "rawType": "int64",
         "type": "integer"
        },
        {
         "name": "sentiment",
         "rawType": "float64",
         "type": "float"
        },
        {
         "name": "pred",
         "rawType": "float32",
         "type": "float"
        }
       ],
       "conversionMethod": "pd.DataFrame",
       "ref": "02e8f28b-5eec-40fc-b13a-f4b47434b2a6",
       "rows": [
        [
         "4605",
         "1.0",
         "incred impress posit respons receiv council far larg number alreadi pledg support howev urgent need offer accommod welcom afghan famili remain firm alli work troop countri brave recent year extra fund place ask council yet come forward contact firm offer support help famili secur best possibl start new live",
         "103",
         "0.9822",
         "0.83990914"
        ],
        [
         "2707",
         "1.0",
         "begin thank key worker north somerset keep essenti servic move voluntari group kept communiti healthi maintain govern guidelin keep one anoth safe even point pandem point worth make medicin pandem new virus vaccin cure popul like becom infect time lockdown like unit kingdom reduc peak death rate histori suggest reduc excess mortal rate time great extent worth keep mind look forward futur step know virus behav influenza therefor influenza model may appropri may season may winter peak recur may may disappear sar exampl sporad case mer virus like remain evolv mutat war virus surrend day advic politician media comment alik take basil fawlti advic mention war give fals perspect public understand like cours pandem take virus spread wide popul cours ill great unknown proport popul alreadi infect may asymptomat studi yet publish yet evid readili suggest popul asymptomat proport popul quit high know abl introduc programm widespread antibodi test current programm chain diminish effect abl detect less virus therefor need antibodi programm tell mani popul infect time urg colleagu front bench speed possibl roll antibodi test key longer term understand spread ill abil control set free cocoon time consequ measur alreadi taken success deal particular viral outbreak judgment need patient immedi answer anywher els need wait see level excess global death abl determin whether close part global economi actual overreact global communiti emerg new virus crucial futur activ afford close global economi everi time new virus emerg will must develop intern protocol give idea manag globalis era someth respect border howev much government structur wish would",
         "669",
         "-0.9362",
         "0.7783422"
        ],
        [
         "3864",
         "0.0",
         "govern consist let women frontlin forc minist keep make pledg sound good fail act women often impress harder succeed militari unclear target reinforc allow women put career arm forc minist must stop seek quick headlin plan drive femal recruit well ensur women proper support throughout servic",
         "96",
         "0.586",
         "0.25499997"
        ],
        [
         "7897",
         "0.0",
         "week chanc govern back british busi help public servic rebuild pandem bori johnson gift biggest multin million week labour say let fund nhs instead even reason show global leadership crack tax avoid yet govern seem set weaken deal would bring billion back britain stop high street undercut like amazon googl big multin govern serious see high street thrive must make sure busi whether armley town street constitu market squar chancellor level play field",
         "153",
         "0.5859",
         "-0.024377808"
        ],
        [
         "10017",
         "1.0",
         "parti confer politician set stall seasid two week ago learn lib dem let smack children even seven year old miss sex educ class labour troubl get mention confer last week toni blair tell labour sixti tax increas tax increas health pension insur invest tax increas petrol car lorri diesel tax increas job marriag mortgag name increas tax avoid tax increas labour long save insur pension job drink bet drive get marri buy home buy home mortgag could wors though yes realli lib dem way tax would even higher let make one thing clear never agre rise damag busi tax tell els tell peopl run busi market interven relat employ employe absolut necessari patricia hewitt law tell employ treat workforc ever patricia hewitt learn polit neil kinnock bit like taught ski eddi eagl cabinet celebr big brother first unless cours gordon brown vote second know gordon want get rid week set make britain better place live make street safer extra polic help sick peopl patient passport give parent say school end labour war motorist make everyon secur retir restor trust govern make britain better place live unless also make better place busi deliv fair deal everyon depend wealth creation fair deal busi enterpris crucial busi peopl crucial everyon believ busi sake unlik gordon brown see busi milchcow extract tax instead help busi creat wealth everyon benefit want busi provid wealth spend labour benefit rememb toni blair gordon brown pose friend busi six wast year later billion new busi tax turn biggest spin noth less cynic fraud britain busi peopl gordon brown talk golden rule one golden rule busi come labour believ word say like mani busi remortgag home start busi woke night wonder next order come worri peopl whose job depend work servic industri manufactur compani small larg learn challeng busi face today invest job mobil ever busi move blackpool bangkok norwich union staff process insur claim quick cheapli east india east anglia industri europ use lead world migrat asia pacif region sad britain face challeng weaker six year toni blair gordon brown squander golden econom inherit britain deficit trade good worst sinc record began busi invest collaps product risen half fast conserv day wast strike last year year decad manufactur job lost everi singl week sinc labour came power worsen trade collaps invest slow product strike haemorrhag job toni blair meant said thing could get better surpris surpris even low unemploy total toni like trumpet spin substanc job product part economi fall fall hidden huge rise number govern bureaucrat forev conceal loss manufactur job manufactur new job pen pusher public sector labour britain becom wors place busi four year small busi failur trebl busi went bust year sinc compani profit fallen lowest level sinc dossier busi even alastair campbel sex wonder foreign invest britain boom conserv halv last two year never mind dti case case anyway busi struggl dti bureaucrat drawn new foliag strategi kid quot document area move new way work defin furnitur soft seat area fund display alloc area movement plant outsid area must agre prior happen subject health safeti restrict complet chain command determin offic yucca plant dti may much busi obvious keen pukka yucca know exact busi would tell labour stick yucca unlik labour make britain better place busi restor competit advantag margaret thatcher transform britain sick man europ countri held head high cut regul institut director say cost britain billion year halt rise busi tax rebuild infrastructur give worker skill need heard pledg michael howard tim collin damian green made tax transport educ make pledg regul within day take offic lighten burden regul hurt everi busi rais price everi consum cut return everi saver harm especi small medium size busi engin job creation british chamber commerc say employ admin cost smallest compani time much per worker largest never regul disproportion risk never regul law voluntari approach possibl smaller organis lighter touch busi two employe lighter burden one two hundr thousand make sure firm fewer twenti worker exempt oner burden peopl claim red tape come brussel noth true maastricht kept pound social chapter labour threw away conserv prove govern determin defend british interest troubl minist often make european regul tougher appli britain like charg slaughterhous pay health inspect option franc germani itali spain compulsori britain secretari state never destroy british job forc peopl play rule countri flout british small busi pay compulsori charg take extra worker continent competitor pay charg involv british busi peopl stuck offic clock friday night tick box form faceless bureaucrat file continent competitor home famili voluntari code replac compulsori one british ceram compani find guidanc document turn direct labour minist look need bureaucrat whitehal enforc inspector region monitor way busi monitor workforc paid new proceed crime act requir retail report everi individu theft nation crimin intellig servic cost seven million retail crime year rest europ largest crime report individu other aggreg togeth britain retail shopper face million bill simpli labour say must toni blair thrust constitut throat one let vote exempt smallest firm oner law appli sunset claus labour employ act find creat job destroy sake employ employe help worker age sex skill level find decent satisfi work make sure busi held back worker left behind talk lot regul concern consum dti respons one industri consum energi remind late happen power fail chao street peopl stuck underground offic dark old peopl injur home modern life home work depend electr yet labour let safeti margin generat capac fall lowest level year expert fear mean cut hous cold winter child sent home school light know blame look ahead get better britain use cheap north sea oil gas soon import gas huge scale half need nineti per cent russia algeria iran funni countri depend keep light minist ignor climat chang right britain carbon dioxid emiss go fail meet intern commit reduc despit bright spark number ten labour clue energi anoth thing dti respons use everi week royal mail post offic labour royal mail lost billion last two year three thousand post offic close make matter wors minist cancel plan let everi pension receiv pension cash local post offic next coupl year make life hard thousand vulner peopl someon get cash post offic counter often spend bit shop labour polici forc post offic close next month set better futur royal mail post offic worker pension post offic without spend pound taxpay money secretari state trade industri cut bureaucraci dti bang desk cabinet colleagu make sure know busi conserv everyon whitehal know britain must made better place busi achiev thing want got messag toni blair instead increas nation insur contribut cut tax job instead tax pension encourag save instead forc univers dumb back world class institut instead abolish hous lord ignor hous common answer govern mistak toni blair chanc squander lost trust british peopl voter fed broken promis fed arrog lie spin fed govern say listen goe lectur fed third world transport system fed govern destroy secur everi pension fed prime minist corrupt constitut want give brussel power european one britain nation yearn politician provid leadership trust nation yearn govern integr nation yearn minist show courag nation yearn polici honest look around hall see peopl yearn conserv provid leadership offer integr display courag deliv honesti iain duncan smith conserv parti rise challeng task urgent must begin today hath stomach fight let depart everyon els say togeth drive toni croni down street",
         "2753",
         "0.9849",
         "1.000239"
        ]
       ],
       "shape": {
        "columns": 5,
        "rows": 5
       }
      },
      "text/html": [
       "<div>\n",
       "<style scoped>\n",
       "    .dataframe tbody tr th:only-of-type {\n",
       "        vertical-align: middle;\n",
       "    }\n",
       "\n",
       "    .dataframe tbody tr th {\n",
       "        vertical-align: top;\n",
       "    }\n",
       "\n",
       "    .dataframe thead th {\n",
       "        text-align: right;\n",
       "    }\n",
       "</style>\n",
       "<table border=\"1\" class=\"dataframe\">\n",
       "  <thead>\n",
       "    <tr style=\"text-align: right;\">\n",
       "      <th></th>\n",
       "      <th>party</th>\n",
       "      <th>speech</th>\n",
       "      <th>word_count</th>\n",
       "      <th>sentiment</th>\n",
       "      <th>pred</th>\n",
       "    </tr>\n",
       "  </thead>\n",
       "  <tbody>\n",
       "    <tr>\n",
       "      <th>4605</th>\n",
       "      <td>1.0</td>\n",
       "      <td>incred impress posit respons receiv council fa...</td>\n",
       "      <td>103</td>\n",
       "      <td>0.9822</td>\n",
       "      <td>0.839909</td>\n",
       "    </tr>\n",
       "    <tr>\n",
       "      <th>2707</th>\n",
       "      <td>1.0</td>\n",
       "      <td>begin thank key worker north somerset keep ess...</td>\n",
       "      <td>669</td>\n",
       "      <td>-0.9362</td>\n",
       "      <td>0.778342</td>\n",
       "    </tr>\n",
       "    <tr>\n",
       "      <th>3864</th>\n",
       "      <td>0.0</td>\n",
       "      <td>govern consist let women frontlin forc minist ...</td>\n",
       "      <td>96</td>\n",
       "      <td>0.5860</td>\n",
       "      <td>0.255000</td>\n",
       "    </tr>\n",
       "    <tr>\n",
       "      <th>7897</th>\n",
       "      <td>0.0</td>\n",
       "      <td>week chanc govern back british busi help publi...</td>\n",
       "      <td>153</td>\n",
       "      <td>0.5859</td>\n",
       "      <td>-0.024378</td>\n",
       "    </tr>\n",
       "    <tr>\n",
       "      <th>10017</th>\n",
       "      <td>1.0</td>\n",
       "      <td>parti confer politician set stall seasid two w...</td>\n",
       "      <td>2753</td>\n",
       "      <td>0.9849</td>\n",
       "      <td>1.000239</td>\n",
       "    </tr>\n",
       "  </tbody>\n",
       "</table>\n",
       "</div>"
      ],
      "text/plain": [
       "       party                                             speech  word_count  \\\n",
       "4605     1.0  incred impress posit respons receiv council fa...         103   \n",
       "2707     1.0  begin thank key worker north somerset keep ess...         669   \n",
       "3864     0.0  govern consist let women frontlin forc minist ...          96   \n",
       "7897     0.0  week chanc govern back british busi help publi...         153   \n",
       "10017    1.0  parti confer politician set stall seasid two w...        2753   \n",
       "\n",
       "       sentiment      pred  \n",
       "4605      0.9822  0.839909  \n",
       "2707     -0.9362  0.778342  \n",
       "3864      0.5860  0.255000  \n",
       "7897      0.5859 -0.024378  \n",
       "10017     0.9849  1.000239  "
      ]
     },
     "execution_count": 61,
     "metadata": {},
     "output_type": "execute_result"
    }
   ],
   "source": [
    "train = pred_to_df(y_pred_train, train)\n",
    "train.head()"
   ]
  },
  {
   "cell_type": "code",
   "execution_count": 62,
   "metadata": {},
   "outputs": [
    {
     "data": {
      "application/vnd.microsoft.datawrangler.viewer.v0+json": {
       "columns": [
        {
         "name": "index",
         "rawType": "int64",
         "type": "integer"
        },
        {
         "name": "party",
         "rawType": "float64",
         "type": "float"
        },
        {
         "name": "speech",
         "rawType": "object",
         "type": "string"
        },
        {
         "name": "word_count",
         "rawType": "int64",
         "type": "integer"
        },
        {
         "name": "sentiment",
         "rawType": "float64",
         "type": "float"
        },
        {
         "name": "pred",
         "rawType": "float32",
         "type": "float"
        }
       ],
       "conversionMethod": "pd.DataFrame",
       "ref": "26ea0e99-f983-4632-ade1-513e2f0651ab",
       "rows": [
        [
         "9113",
         "0.0",
         "tori talk broken immigr system power decad polit parti broke recent experi suggest learn lesson unconscion absurd propos float wall creat wave english channel push back boat send peopl thousand mile away process claim truth tori devoid compass compet",
         "81",
         "0.8201",
         "0.2711172"
        ],
        [
         "7377",
         "1.0",
         "sad week thought lot teacher dedic countri given tragic news ann maguir think naz knew classroom place bring peopl differ background togeth pursu common goal messag foundat establish name continu promot today kind citizen help hand friend face fall naz world care communiti govern forc cohes compel peopl spend time togeth naz creat right condit break barrier encourag communiti come togeth particular focus encourag faith communiti work togeth rather concentr communiti togeth servic fund great project think sent right kind messag achiev work togeth thing separ offer small grant ramp impact creat closer tie near neighbour scheme build relationship across faith boundari seen fantast respons almost everyon take part said feel connect communiti support mosaic naz legaci foundat enabl youngster across countri find inspir enterpris discov achiev true potenti matter background great hear foundat next project divers programm introduc cultur art kid may otherwis chanc experi someth naz children classroom thousand other benefit daunt take role communiti might know start open discuss sort communiti want live simpli encourag folk come togeth help reduc fear take new role societi cours great role model naz legaci foundat enabl educ mentor train take memori great man remind length make communiti thrive delight even prime minist ask present big societi award recognit foundat hard work inspir young peopl strive excel play full part communiti well deserv pleasur present",
         "527",
         "0.999",
         "1.0775498"
        ],
        [
         "2856",
         "1.0",
         "pleasur work associ school colleg leader ascl year minist state educ would like take opportun thank malcolm trobe work interim general secretari deputi general secretari pleasur work look forward work geoff barton year ahead way curriculum discuss countri chang dramat last year previous govern launch nation curriculum strip knowledg content favour skill could better review nation curriculum carri tim oat found nation curriculum england subject protract process revis reform fail adequ draw emerg analysi system around globe chang govern prevent independ review primari curriculum recommend brought review argu primari nation curriculum place less emphasi subject area greater emphasi area learn develop person social emot develop communic languag literaci problem solv reason numeraci knowledg understand world physic develop creativ develop review primari curriculum drew exampl finland still doyenn intern educ circuit move away emphasis knowledg time reach summit intern educ leagu tabl review describ finnish posit follow core content describ activ skill rather detail content place onus municip import school develop curriculum meet learner need well nation expect finnish curriculum also seven theme growth person cultur ident intern media skill communic participatori citizenship entrepreneurship technolog individu review drew numer intern exampl countri move away tradit focus knowledg toward generic skill romant notion teacher need focus knowledg instead turn attent develop creativ communic skill grip mani countri around world gabriel sahlgren argu real finnish lesson finland success often catalyst educ reform countri probabl explain recent curriculum chang chang wrong credit educ success like due finland tradit educ cultur point turn millennium chang instead sahlgren argu persuas finland recent fall perform albeit substanti height due movement away cultur particular educ cultur replac way work thank result general elect english educ system undergo reform thank work tim oat other new nation curriculum put knowledg back centr school knowledg right back heart discuss curriculum question knowledg import pamphlet make case curriculum essay written lead expert headteach signific contribut nation educ convers foreword leora crudda describ import hirsch someon deepli influenc think educ influenc hirsch educ think profound heart idea return tradit academ curriculum built share knowledg best way achiev social justic societi work also encourag school focus concept build cultur capit way close attain gap curriculum often tar oppon entrench social divis wherea well taught educ driver true meritocraci headteach contribut pamphlet well know dame rachel souza parent teacher excel pte inspir trust understand import knowledg well anyon know thing recal bald fact deepli understand give upper hand give confid discuss wide rang live topic around give social status make part club run world insid track chang pendulum swing toward knowledg away skill taken place past year profound academi free school control curriculum teach nation curriculum set standard high innov school led except head teacher develop curricula shift school focus toward curriculum commit stuart lock newli appoint headteach bedford free school explain think real danger develop curriculum might seen done year two realiti one year job move anoth initi play long game import school henc continu focus develop next year everyth subservi curricular question pedagogi assess track qualif must lead develop understand make pupil knowledg ensur get close understand possibl view share luke spark jenni thompson dixon triniti academi achiev outstand result year excel free school serv disadvantag communiti bradford one number high perform free school academi demonstr stretch curriculum sensibl approach behaviour teach result except result pupil high perform free school academi provid empir evid possibl achiev teacher headteach given freedom innov curriculum pursu approach except result achiev school king solomon academi mossbourn communiti academi harri academi battersea demonstr disadvantag need barrier achiev academ excel shift increas chorus claim school london south east achiev top result dixon triniti academi along like tauheedul educ trust show conclus geographi need barrier academ achiev accord luke spark jenni thompson secret success make cohort locat school curriculum har power cognit scienc identifi margin gain act upon humil keep refin scheme work long term plan generat better assess unlik promis generic skill doubt develop curriculum hard unlik curriculum reward worth west london free school run hywel jone determin provid classic liber educ pupil often consid compris curriculum art given promin deserv tire argument english baccalaur oppon polici sometim characteris propon curriculum oppos develop human creativ appreci art noth could truth analysi publish earlier year depart educ show littl correl chang ebacc entri chang art uptak mainstream school small correl exist suggest school ebacc entri increas tend also seen increas art uptak earlier nsn report show trend cultur minist matt hancock wrote battl art subject instead battl stronger better educ clear art vital compon everi pupil educ art cultur part fabric societi govern firm believ everi child taught art curriculum hywel school music pride place curriculum school vast major pupil enter ebacc suit core academ subject music along import art subject import role play ensur pupil leav school cultur literaci need cultur literaci vital goal curriculum hywel explain essay want children leav school confid come possess store essenti knowledg skill use believ independ mind complianc expect goal good educ believ main focus curriculum common bodi knowledg recent school expect teach background knowledg taken grant writer address intellectu engag layman share frame refer public discours modern liber democraci sometim refer intellectu capit time cultur literaci storehous general knowledg enabl pupil grow full statur pass knowledg well abil use wise mean classic liber educ implement curriculum current occupi less bandwidth nation convers less import deep subject knowledg teacher vital success deliveri curriculum ian baukham made clear excel review modern foreign languag pedagogi teach school council essay question knowledg expert dissect key relationship teacher subject curriculum knowledg appropri choic pedagogi write core knowledg pertain foreign languag learnt novic consist vocabulari word lexi grammar rule syntax morpholog pronunci link written form phonic correspond essenti languag teacher understand curriculum plan must sequenc teach knowledg practic automat structur decreas scaffold context also add excel critiqu domin pedagog approach grip far mani modern foreign languag classroom countri modern languag equival discoveri learn child centr approach understand time ineffici also unfair disadvantag pupil least educ capit natur acquisit approach languag learn natur acquisit approach emphasis pupil exposur languag exagger role authent resourc expens proper construct practic select materi tend favour pupil spot grammat pattern rather explicit taught tend emphasis skill linguist communic listen read speak write knowledg prerequisit skill grammar vocabulari phonic often turn skill content lead curriculum moreov tend plan cours around themat topic holiday environ grammat progress toward coher whole pictur schema grammar secondari topic introduc small disconnect chunk pertain themat topic critiqu return core purpos movement core academ curriculum embodi pamphlet drive motiv behind reform govern embark upon sinc share movement desir everi child countri receiv educ equip knowledg need taught expert teacher use approach teach simpl aim realis ambit requir requir great effort continu joint endeavour want take opportun thank everyon everyon contribut everi day movement togeth chang countri educ system better",
         "2434",
         "0.9998",
         "1.0056367"
        ],
        [
         "5932",
         "1.0",
         "great back amongst mani friend chairman met thousand visit constitu across countri know hard work elect time week week spread conserv messag know would without thank cours listen liber democrat elect suppos well much kennedi decapit strategi one head liber democrat want see roll charli want talk afternoon next conserv govern power wait four year happen roadmap hard work tough choic take govern peopl right peopl countri need help ever win opportun help chang life britain three thing first go chang way conduct polit toni blair chose use first major speech elect talk restor respect street imagin sweet word sound someon whose life affect daili britain yob cultur think feel prime minist insist drink law cheat betray con littl less like trust anyth politician promis ever problem respect britain need urgent restor respect peopl properti respect govern steadili erod year broken promis respect govern restor persuad peopl better way see status quo alway favour incumb labour know trust still may care care trust either chang easi know peopl say main job opposit oppos opposit temptat alway throw punch grab headlin done eight year got real job parti real way win peopl respect stop today opposit start tomorrow govern scrupul honest pain reason stop oppos opposit sake resist temptat opportunist show peopl stand stick ideal principl even mean support govern get thing right second thing reform parti show parti comfort britain today parti repres men women everi age race religion parti home citi countri parti confid futur past must reflect word attitud today britain vast major peopl regard equal man women obvious even need state yet long mani part parti assumpt polit man job parti much better margaret thatcher prove abil lead countri depend talent courag whether man woman small minor accept women black gay peopl equal got messag think find refug modern world place conserv parti everi day unwil embrac futur men women respect absolut equal anoth day govern optimist know move forward bench swell great new mps like adam afriyi shailesh vara maria miller ann milton know real conserv parti anyon want stop better get way spend much time focus conserv parti chang reason want win win govern govern well third thing conserv parti need focus exact mean govern well bond state depend obvious tie economi made laugh stock today bond state control often invis tighten differ new labour prefer run everyth remot dictat regul way get interfer want pass buck thing wrong will turn head want reject big govern govern tri everyth end achiev noth mindset labour new renew never escap want reject small govern assumpt politician respons peopl live let put myth rest size matter govern often part mean never part solut instead want conserv parti stand good govern govern job help peopl live live throughout live rais protect famili build career save retir listen peopl need take respons thing matter make sure get educ healthcar deserv keep safe provid fallback life take wrong turn help childcar care home place need afford cours know often best thing govern simpli stay way allow peopl give time freeli help other know mani sometim job govern need get stuck good govern prepar activ strong effect whenev need good govern idealist pragmat idealist aim achiev ruthless pragmat set achiev need choos two job well impact govern enorm benefici bad oppress corros labour understand conserv parti could chang way conduct polit restor respect peopl would take fresh look could show comfort modern britain reflect modern peopl might listen say listen long hold attent need convinc want thing want educ better healthcar safer street need show make happen keep interest talk dri academ concept like local decentr size state let start speak languag peopl talk concret thing would improv live focus happen public servic structur paint pictur good conserv govern know win next elect stand today conserv parti first ever shadow secretari state famili cultur media sport support excel team malcolm moss hugh robertson hugo swire andrew selous tim loughton william astor arthur luke trish morri know struck recent similar polit sport year ago england lost new zealand call worst cricket team world summer england beat australia becom best world faith anyth possibl work hard enough achiev highlight summer london win olymp game bid team lead seb coe great see tori win vote odd win olymp game requir year sacrific hard work dedic win elect much success athlet must give night fast food conserv parti go win gold medal four year time go give enjoy ultim damag vice opportun intellectu ideolog obsess quick fix easi answer afraid got someth els well london bid host olymp game involv graft vision perspir inspir conserv parti offer see win race without crowd side train hardest best cours win win elect like matter good win elect confid victori inspir peopl make want win hard need tell success conserv parti inspir peopl possibl chang progress margaret thatcher inspir peopl gave glimps better futur deliv let inspir peopl let find confid belief long seem lost confid dream belief power achiev week begin set new cours four year work front past blink eye choos right path right let remind peopl conserv govern achiev let inspir next conserv govern would achiev let readi transform great countri",
         "2307",
         "0.9999",
         "0.99128157"
        ],
        [
         "7898",
         "0.0",
         "encourag see first move toward global pact tax avoid govern spent last week activ water initi intend ambiti rate global minimum corpor tax would brought million extra week britain nhs public servic also stop high street aggress undercut govern must show leadership push rate negoti use money fund school nhs",
         "103",
         "0.5574",
         "0.15608135"
        ]
       ],
       "shape": {
        "columns": 5,
        "rows": 5
       }
      },
      "text/html": [
       "<div>\n",
       "<style scoped>\n",
       "    .dataframe tbody tr th:only-of-type {\n",
       "        vertical-align: middle;\n",
       "    }\n",
       "\n",
       "    .dataframe tbody tr th {\n",
       "        vertical-align: top;\n",
       "    }\n",
       "\n",
       "    .dataframe thead th {\n",
       "        text-align: right;\n",
       "    }\n",
       "</style>\n",
       "<table border=\"1\" class=\"dataframe\">\n",
       "  <thead>\n",
       "    <tr style=\"text-align: right;\">\n",
       "      <th></th>\n",
       "      <th>party</th>\n",
       "      <th>speech</th>\n",
       "      <th>word_count</th>\n",
       "      <th>sentiment</th>\n",
       "      <th>pred</th>\n",
       "    </tr>\n",
       "  </thead>\n",
       "  <tbody>\n",
       "    <tr>\n",
       "      <th>9113</th>\n",
       "      <td>0.0</td>\n",
       "      <td>tori talk broken immigr system power decad pol...</td>\n",
       "      <td>81</td>\n",
       "      <td>0.8201</td>\n",
       "      <td>0.271117</td>\n",
       "    </tr>\n",
       "    <tr>\n",
       "      <th>7377</th>\n",
       "      <td>1.0</td>\n",
       "      <td>sad week thought lot teacher dedic countri giv...</td>\n",
       "      <td>527</td>\n",
       "      <td>0.9990</td>\n",
       "      <td>1.077550</td>\n",
       "    </tr>\n",
       "    <tr>\n",
       "      <th>2856</th>\n",
       "      <td>1.0</td>\n",
       "      <td>pleasur work associ school colleg leader ascl ...</td>\n",
       "      <td>2434</td>\n",
       "      <td>0.9998</td>\n",
       "      <td>1.005637</td>\n",
       "    </tr>\n",
       "    <tr>\n",
       "      <th>5932</th>\n",
       "      <td>1.0</td>\n",
       "      <td>great back amongst mani friend chairman met th...</td>\n",
       "      <td>2307</td>\n",
       "      <td>0.9999</td>\n",
       "      <td>0.991282</td>\n",
       "    </tr>\n",
       "    <tr>\n",
       "      <th>7898</th>\n",
       "      <td>0.0</td>\n",
       "      <td>encourag see first move toward global pact tax...</td>\n",
       "      <td>103</td>\n",
       "      <td>0.5574</td>\n",
       "      <td>0.156081</td>\n",
       "    </tr>\n",
       "  </tbody>\n",
       "</table>\n",
       "</div>"
      ],
      "text/plain": [
       "      party                                             speech  word_count  \\\n",
       "9113    0.0  tori talk broken immigr system power decad pol...          81   \n",
       "7377    1.0  sad week thought lot teacher dedic countri giv...         527   \n",
       "2856    1.0  pleasur work associ school colleg leader ascl ...        2434   \n",
       "5932    1.0  great back amongst mani friend chairman met th...        2307   \n",
       "7898    0.0  encourag see first move toward global pact tax...         103   \n",
       "\n",
       "      sentiment      pred  \n",
       "9113     0.8201  0.271117  \n",
       "7377     0.9990  1.077550  \n",
       "2856     0.9998  1.005637  \n",
       "5932     0.9999  0.991282  \n",
       "7898     0.5574  0.156081  "
      ]
     },
     "execution_count": 62,
     "metadata": {},
     "output_type": "execute_result"
    }
   ],
   "source": [
    "val = pred_to_df(y_pred_val, val)\n",
    "val.head()"
   ]
  },
  {
   "cell_type": "code",
   "execution_count": 63,
   "metadata": {},
   "outputs": [
    {
     "data": {
      "application/vnd.microsoft.datawrangler.viewer.v0+json": {
       "columns": [
        {
         "name": "index",
         "rawType": "int64",
         "type": "integer"
        },
        {
         "name": "party",
         "rawType": "float64",
         "type": "float"
        },
        {
         "name": "speech",
         "rawType": "object",
         "type": "string"
        },
        {
         "name": "word_count",
         "rawType": "int64",
         "type": "integer"
        },
        {
         "name": "sentiment",
         "rawType": "float64",
         "type": "float"
        },
        {
         "name": "pred",
         "rawType": "float32",
         "type": "float"
        }
       ],
       "conversionMethod": "pd.DataFrame",
       "ref": "c808d700-15b9-44cc-b80b-01fcec0bdd00",
       "rows": [
        [
         "71",
         null,
         "introduct thank point first cabinet minist highland sinc baron irvin lord chancellor back yet felt similar end probabl best rememb spend near public fund wallpap person like decor wall daughter isabel rate tend far reason excel place start much look achiev run novemb focus elimin unnecessari expenditur prioritis fund area matter great pleasur inver today first major speech chief secretari abl set step govern take control public spend restor confid economi decis made sinc elect action take ensu month essenti return economi sustain path steadi ship wish remain cours must deliv plan set defenc govern posit imposs exagger serious situat inherit risk britain highland continu cours economi limp longest recess sinc offici record began almost million peopl unemploy histor low level privat invest budget deficit due peak largest clear plan get control legaci spend four pound everi three rais taxat yet opposit deni need take action clean mess left behind pretend could wait year deal deficit could truth noth credibl deni deficit problem noth respons pretend solv without make difficult sometim pain choic deni need reduc borrow unabl kick destruct habit would put economi far greater risk recess yes right take action stop bank collaps stabil economi depend econom stabil depend credibl plan restor public financ sustain foot need look euro area recent turbul sovereign debt market understand cost delay difficult decis endang job growth invest control economi credibl plan deal record deficit stick tighten public financ total around come tax measur welfar reform announc budget department expenditur anoth lower necessari step ensur live within mean futur mervyn king agre essenti take measur fiscal year demonstr genuin commit determin new oecd prais budget say provid necessari degre fiscal consolid come year restor public financ sustain path still support head cbi said chancellor achiev twin object set credibl plan public financ produc convinc growth strategi determin see deliv commit fix nation financ right cours action cours unavoid necessari fair stick principl fair spend decis alway rememb noth fair ever grow burden debt children inherit least fair least progress option spend review next crucial step process need cut public spend end essenti step path toward sustain balanc growth growth fair see earli sign economi appear head right direct privat sector grow employ rise export recov respons improv global demand must remain cautious agre mervyn king say like face choppi recoveri expect easi ride biggest econom crisi lifetim debt problem govern inherit would ask much know well difficult thing mani local busi highland held surgeri last week communiti right across area almost everi one local busi came discuss issu face often alway access financ bank also fantast exampl innov local economi today open fujitsu new offic inver part substanti invest deliv servic cut cost highland council look round world class exhibit hous innov expo crucial choic driven clear principl object led need promot sustain model econom growth prosper budget took signific step support privat sector lead econom recoveri set ambit creat competit corpor tax regim minimis burden busi system regul start process bank reform improv access financ know need issu make prioriti spend review strong focus last econom growth scrutinis everi pound govern spend identifi area promot sustain growth prosper also work privat sector busi entrepreneur identifi driver growth broadband access transport infrastructur green economi three know matter great deal shall address social barrier inhibit individu progress surest way maximis nation success deputi prime minist set last week determin tackl deficit support econom recoveri match determin creat social mobil societi get peopl back work promot fair opportun ensur part abl prosper approach spend review promot fairer sustain model growth work partnership devolv administr creat economi better balanc benefit even spread across peopl region one key driver behind spend decis invest recoveri anoth public sector reform empow peopl part spend review overse complet govern role provid public servic spend review reduc spend must also fundament reform reform driven simpl ideal give power peopl communiti work reform get less har skill capac abil public servant reform ensur budget reduct result salami slice public servic hide fact difficult choic ahead public sector worker understand worri job futur pay pension alreadi announc pay freez modest rise earn cost reduct help protect job exact sort thing happen privat sector last year also believ reform individu freedom greater respons make public sector attract well effici place work crucial experi dedic commit peopl work public sector critic deliv improv need previous govern took approach believ whitehal holyrood micromanag everi action ipswich inver stifl innov creat excess bureaucraci alreadi start sweep away centralis approach end complex system public servic agreement free profession target unnecessari interfer continu devolv power away whitehal put hand local peopl communiti enabl public sector profession deliv servic tailor specif need area user public abil shape servic receiv octob set complet new approach public sector perform account new public servic transpar framework guid principl account central design system target process account peopl system give profession freedom decid best run servic partnership local communiti sector one depart respons publish inform allow taxpay judg deliv commit enabl public hold depart local author account provid democrat rather bureaucrat account may seem obvious radic shift fail restrict centralis system last decad cut public spend must excus greater centralis spur decentralis empow engag empow local communiti work frontlin doubt peopl highland elsewher far better place say need local area faceless man whitehal public consult run spend review one widest ever undertaken govern alreadi generat contribut frontlin worker stornoway polici expert london seek suggest save made great see excel highland council work hard listen peopl make tough spend decis conclus littl doubt month ahead face tough choic come polit cut public spend like peopl highland know done politician choos time opportun govern decid respond challeng time question made judgement coalit scale chang need spend decis respons guid clear principl support privat sector growth last balanc across peopl place promot fair opportun devolv power away whitehal empow communiti worker give respons control deliv public servic spend review next year year pave way success economi peopl hide fact make difficult choic action take octob put back secur foot allow plan better futur togeth spend review produc two month time show case test time good time well recoveri secur",
         "2429",
         "0.9997",
         "0.84340674"
        ],
        [
         "73",
         null,
         "subject open misunderstand misrepresent public servic pension pension vital import also complex pension public servic worker even least benefit one part popul paid debat take place particular sensit time everyon financi pressur right peopl public servic face second year pay job insecur featur govern get grip enorm budget deficit everyon britain face rapid rise cost live million privat sector worker taken pay freez wors last year public servic worker want protect pension million taxpay ask fair ask pay tax fund public servic pension especi valu pension fall fact privat sector know receiv retir receiv consider less noth way employ contribut cours million make provis top state pension age alreadi rise rise thereaft taxpay across countri adjust realiti longer work pay longer retir absolut wrong pretend public servant insul pressur everyon els face unjustifi taxpay work longer pay tax public servic worker retir earlier get employe benefit longer life generous pension taxpay pick tab context surpris debat futur public servic pension often polaris two extrem neither base fact one hand trade union seem believ pension public servic worker chang irrespect huge econom demograph social chang go around hand equal misguid voic seem think public servic front runner race bottom two chancellor believ indisput case reform public servic pension ensur afford sustain high qualiti fair face huge demograph chang reform ensur cost provid pension workforc afford decad come reform sustain ensur financi implic longer live fair share employe taxpay reform also correct huge unfair current arrang low paid worker subsidis reward highest paid reform ensur public servic worker continu receiv among best best pension avail engag last month discuss tuc issu discuss construct posit frank commit behalf govern union see talk talk continu month later juli disappoint minor union seem hell bent prematur strike action discuss even complet justifi strike action misrepres govern posit feed member scare stori say member union strike might union boss interest let sacrific pension polit platform pcs member vote strike action wednesday demonstr vast major pcs member realis strike action unjustifi cours may oppos chang think forc govern chang mind head sand approach coloss mistak govern reform public servic pension time shape chang tri block histori reform litter exampl peopl simpli deni fact deploy myth dig trench may hold littl eventu realiti bite chang urgent uncompromis instead peopl seiz opportun chang seiz chanc shape futur much better chang happen lord hutton former work pension secretari creat chanc better chang offer far best like tabl year come today want set case reform spell propos would affect public servic worker well taxpay detail import set short let sum posit vast major public servic worker live longer mean year spent work well retir keep best pension countri contribut contribut support pension subsidis pension top earner reach retir age pension receiv broad generous low middl incom earner time protect pension earn date reform futur touch pension alreadi earn work longer pay may public servic worker want hear simpli fact life everi singl person countri whether work public privat sector hand pension broad generous low middl incom earner welcom want decim public servic pension believ absolut right offer best pension market peopl spend live serv public wanton destruct either predict demand other instead fair afford proposit sustain decad thank lord hutton proposit around consensus built case reform live longer link npa spa let explain argument reform detail lord hutton led independ commiss public servic pension produc final report march year commiss provid fundament structur review public servic pension provis want pay tribut lord hutton clariti analysi far reach propos govern accept basi consult review provid clear compel fact pension reform fact first live longer hutton said longev main risk sustain public servic pension averag year old today live ten year longer also mean spend longer retir hutton report say retir age approxim adult live spent retir compar around pension hand hand draw pension much longer use case instead take pension year public servic employe take pension year everi one retir longer pick pension longer number pension continu increas dramat hutton report expect next year number citizen age near rise almost peopl fantast develop societi also present financi challeng cost alreadi risen payment public servic pension depend almost increas third real term last decad whilst individu public servic employe reap benefit receiv pension thing stand employe pay extra fact person contribut compar taxpay contribut gone instanc teacher pension scheme began employe taxpay contribut equal today howev current member pay around taxpay contribut doubl huge dispar replic across public servic scheme taxpay consist pay nhs employe contribut vari wherea taxpay contribut civil servic employe contribut wherea taxpay contribut hutton said improv longev cost pay public servic pension given lack reform also caution cost general fallen taxpay either increas employ contribut scheme direct subsidi exchequ benefit payment made privat sector woke shift last two decad start chang mani case abandon defin benefit scheme altogeth suggest wrong state choic follow suit wherea public servic pension benchmark privat sector measur becom touch increas longev look emul anymor take exampl high paid london head teacher retir annual pension year lump sum get privat sector need pension pot around even top civil servant earn around retir receiv year pension lump sum get privat sector need pension pot often privat sector reform race bottom alreadi said join race chosen defin benefit know public servic worker place huge stock certainti guarante defin pension retir continu defin benefit scheme part wider reform must address imbal employe taxpay contribut general taxpay work longer draw pension public servic worker general taxpay pay tax support public servic pension worker retir earlier peopl public servic worker includ know unfair right public servic worker like everyon els work bit longer contribut bit longer pension reason propos link normal pension age state pension age propos link age draw occup pension age draw state pension two would continu track futur societi benefit greater longev chang would move proport adult life spent retir public servic worker back third rough except uniform servic arm forc polic firefight pension age histor lower reflect uniqu natur work accept lord hutton recommend case benchmark normal pension age uniform servic would chang said still protect benefit accru date old scheme would protect amount would protect draw would still could still draw first part pension retir age origin expect case reform final salari scheme move career averag scheme second argument reform scheme base final salari inher bias low earner current scheme work employe stay low salari career compar receiv high salari year toward end career top earner median annual pension payout paid contrast bottom earner general expect everi pay instanc higher earner receiv twice much benefit per pound put compar lower earner cours success career lead generous pension case high earner end pension amount averag salari wherea low earner receiv half averag salari unfair lower earner lose make salari leap final year career often women rather typic unfair low earner career discrimin bias reason propos therefor futur pension accrual defin benefit link averag salari career final salari career averag scheme would guard risk cost come individu jump higher salari last year career would mean everyon get broad amount everi pound put would inher fairer system futur case reform conclus fact current system live longer current level contribut unfair balanc employe taxpay current system final salari scheme unfair bias toward higher earner case reform clear compel lord hutton say let quot need comprehens chang need make public servic pension scheme simpler transpar fairer low moder earn better abl deal chang know come economi societi therefor help ensur greater prospect sustain longer promis time need ensur public servic pension remain among best avail want benchmark pension provis compar public servic pension import valu part remuner offer public servant ensur digniti retir hutton word reform must balanc legitim concern taxpay present futur cost pension commit public servic well wider need ensur decent level retir incom million peopl devot work live servic spirit first foremost remain commit defin benefit pension mean everi public servic worker receiv guarante amount retir uncertain amount base valu invest fund cash pot like peopl privat sector substanti benefit also want make absolut clear fulli commit protect pension earn date suggest propos chang would strip worker benefit alreadi accumul let say categor true benefit alreadi secur current final salari scheme would protect let clear mean accru final salari use calcul pension would one eventu decid retir leav scheme altogeth accru would chang age claim benefit could still draw part retir age origin expect claim honour full benefit earn year servic if but surreptiti advis scheme member pull pension yes happen say stop asham advis peopl act best interest reform alreadi announc well longer term propos current consult part last june budget spend review alreadi taken immedi action affect public servic pension first alreadi chang way valu pension track inflat switch consum price index instead use retail price index benefit includ public servic pension cpi alreadi use set inflat target bank england appropri index use futur cpi better reflect everyday price provid better reflect inflat peopl actual experi second april phase increas pension contribut vital redress imbal taxpay employe contribut pension discuss earlier inde hutton interim report conclud rational increas member contribut ensur fairer distribut cost taxpay fact last govern alreadi agre union need increas employe contribut agreement would result around extra employe contribut take place next year govern said spend review thatit implement progress chang employe contribut equival three percentag point averag lead addit save billion year phase april discuss union implement propos would mean total extra employe contribut averag increas increas level incom propos particular lowest earner face least even zero increas contribut propos would increas contribut earn less year propos limit percentag point increas earn would progress fair would help ensur increas contribut caus peopl opt would keep govern strategi protect lowest done rais incom tax done take tough decis pay freez whilst accept recommend pay review bodi provid pay rise public servic worker earn less pound furthermor clear incom bracket increas contribut increas would phase year propos would mean increas approxim amount alreadi agre union previous govern cap share arrang increas appli chang cpi chang contribut vital put pension fair afford foot short long term chang alreadi institut chang cpi consult union increas contribut determin see chang first step reform also consult union reform longer term propos link normal pension age state pension age shift career averag salari scheme would see pension next five year next generat beyond look make chang contribut pension also awar consult fair deal polici major concern trade union consult close wednesday care consid respons receiv conclus undertak wide open consult ensur reach agreement fair level pension benefit fair public servic worker fair general taxpay public servic worker understand someth got chang also want reassur still get good pension retir propos strike balanc promis honour accru pension full continu provid defin benefit pension ensur public servic pension remain amongst best avail provid low middl incom worker with pension broad good time public servic worker must understand current system fundament reform reason propos would mean public servic worker would contribut pension work later age draw occup pension move career averag salari fairest basi calcul pension benefit fulli appreci reform public servic pension sensit issu must realis unavoid one lord hutton said peopl treat process import chang pension scheme wholeheart agre establish relationship trust confid govern public servic worker critic success reform hope offer clariti reassur govern propos reform public servic pension coalit govern attempt strike fair afford balanc legitim interest public servic worker cost face taxpay attack public sector pension attempt protect long term hope agre balanc right thank",
         "4398",
         "0.9999",
         "0.84081775"
        ],
        [
         "74",
         null,
         "introduct delight launch credit union stornoway today success predecessor western isl credit union five year show invalu servic local communiti perform especi impress given financi econom environ oper last year demonstr success provid financ support local peopl need inde across britain credit union membership increas almost million member member scotland alon credit union offer vital financi sourc communiti one want see growth continu credit union rebalanc economi credit union import role play rebalanc economi two key way first promot higher rate save across suffer histor low household save rate institut embed communiti link forg provid perfect channel help develop cultur financi respons peopl understand valu save import financi prudenc inde congratul activ alreadi school local area promot financi awar amongst parent pupil start save account process open child saver account two daughter mainland bit boost profil new area second credit union play crucial role rebalanc economi provid access afford credit local level individu help empow communiti across coastal communiti fund empow communiti corner stone coalit ambit decentralis dispers power centr commit help peopl communiti help servic offer credit union vital help communiti seek realis goal govern support endeavour also ensur communiti share benefit develop growth area help spur right coastal communiti given opportun get someth back put particular reap broader benefit invest made develop busi enterpris marin resourc inde year ago follow format coalit subsequ move treasuri contact jim hunter former chairman highland island enterpris suggest could realis longstand ambit highland captur resid worthwhil share crown estat commiss revenu area cours press issu boost crown estat incom come expans offshor renew technolog highland island wind farm start wave tidal power region time press measur ensur bigger proport crown estat revenu highland island remain need great persuas take great delight announc today govern establish wide coastal communiti fund support econom develop coastal communiti fund open busi april worth gross revenu crown estat marin activ amount around amount avail within countri part countri link revenu rais area basi revenu would entail almost highland island rest scotland cours expect amount increas increas revenu continu develop crown estat marin activ expans offshor renew activ would also possibl offshor wind farm develop make contribut fund alreadi common practic onshor wind farm develop make substanti communiti benefit vicin hope much offshor develop follow lead fund manag partnership big fund part big lotteri fund support project relat communiti develop charit benevol philanthrop activ environ educ health fund open wide rang sector compani chariti social enterpris local author local enterpris partnership england develop agenc scotland particular keen encourag wide particip bring forward innov project tackl difficult econom problem coastal communiti highland island particular encourag bid seek boost communiti land ownership across area given track record econom develop bring conclus commit promot support growth across region sector ensur particular coastal communiti benefit hope substanti econom develop offshor renew technolog year come highland grown island mainland secur greater econom benefit peopl area motiv enter polit first place strong believ coastal communiti fund support ambit cours endeavour expand credit union servic wish best luck extend servic throughout highland island sure bring huge array benefit household across wider region",
         "1133",
         "0.9996",
         "0.99869674"
        ],
        [
         "76",
         null,
         "wish updat hous progress reform public servic pension set new offer made seek bring issu conclus end year object put place new scheme afford sustain fair taxpay public servic worker put place scheme sustain decad come easi right thing recognis contenti area public servic worker deserv good pension retir fair reward lifetim spent serv public june last year chancellor commiss lord hutton work pension secretari previous govern take imparti dispassion look bring forward propos reform landmark report set term debat sure whole hous share gratitud work interim report found clear justif base past cost increas born taxpay increas member contribut accept recommend increas member contribut take place start next year although next year increas mere reflect increas alreadi plan previous govern final report set blueprint new landscap public servic pension base retain defin benefit scheme move fairer career averag basi increas retir age line state pension age protect taxpay futur increas life expect accept recommend full basi consult discuss recommend trade union discuss start februari still go despit public comment signific progress made want pay tribut minist cabinet offic general secretari tuc tireless work reach common ground reform trade union welcom mani commit made start process public sector worker need anyth fear entitl alreadi built reach agreement import transpar equal impact particip rate scheme govern high level principl inform consult scheme level pension howev central issu valu new scheme remain agre two aim need bet first low middl incom worker new scheme would generat incom retir least good amount receiv second taxpay need proper protect futur risk associ increas life expect link scheme normal pension age state pension age earli octob set cost ceil meet test cost ceil base lord hutton recommend generat accrual rate new scheme scheme scheme discuss take place basi sinc begin octob talk product trade union department minist given consist feedback think need chang last week minist cabinet offic met tuc negoti team press generous cost ceil need explicit protect worker nearest retir receiv similar feedback secretari state educ health listen view decid revis govern offer cabinet discuss matter yesterday met tuc morn set term new offer offer increas cost ceil provid generous transit arrang closest retir made avail member today document set detail generous offer suffici allow agreement reach union offer condit upon reach agreement hope basi offer trade union devot energi reach agreement unnecessari damag strike action way offer inform scheme scheme talk continu end year cours agreement reach may need propos consid whether enhanc remain appropri announc today decid offer increas cost ceil futur scheme base pension valu averag salari accru year work increas previous offer let give exampl mean teacher lifetim public servic salari retir would receiv year propos rather would current earn final salari teacher pension scheme nurs lifetim public servic salari retir would receiv pension year reform introduc wherea current nhs pension scheme arrang would get pension remain consider better avail privat sector earn equival pension privat sector teacher retir would need pension pot around nurs retir pot would requir annual contribut around third salari addit listen argument closest retir face chang approach taken relat increas state pension age year think fair appli also announc scheme negoti given flexibl outsid cost ceil deliv protect within year retir see chang retir decreas amount pension receiv anyon ten year less retir age april assur detriment retir incom need clear backdrop offer made fulli understand famili across countri feel financi pressur right unpreced tough econom time reform essenti cost public servic pension risen dramat last decad bottom line live longer averag year old today live ten year longer remark welcom feat scienc healthcar also mean peopl live retir longer claim pension longer result cost public servic pension risen year increas third last year whilst account gdp account around gdp today spend total polic prison court part public servic worker foot bill general taxpay reform ensur cost pension sustain long term ensur cost risk fair share employe taxpay believ packag afford believ also fair public sector worker deliv signific long term save taxpay continu make signific contribut pension reform along line agre believ deal endur least year hope longer peopl live longer public sector pension reform inevit listen concern public sector worker come deal fair afford lowest paid peopl ten year retir protect public sector pension still among best avail reform sort agre parti hous need seek reform overal packag sustain import prize hope trade union grasp opportun new offer repres hope parti opposit right thing put parti polit asid support propos came john hutton interest secur long term consensus futur public servic pension chanc lifetim secur good high qualiti fair public servic pension yes ask public servic worker contribut yes ask work longer along rest societi offer chanc signific better pension end mani low middl incom earner fairer pension low incom worker stop subsidis pension highest earner sustain deal endur least year afford deal ensur taxpay ask make sensibl contribut keep cost sustain proper control new offer put tabl today offer opposit support union agre commend statement hous",
         "1839",
         "0.9997",
         "0.4989099"
        ],
        [
         "79",
         null,
         "good morn give great pleasur open breakfast meet infrastructur kick meet want say general word govern polici support invest infrastructur invest support strong balanc econom recoveri need remind difficult econom time face know time particular tough busi repres still recov biggest debt financi crisi lifetim recoveri made easier ongo challeng euro area bank system midst sober fact lose sight posit employ last quarter privat sector job creat sinc govern came power inflat per cent june success come challeng climat though still much support view govern follow right econom strategi object return countri sustain prosper rebal economi mean fiscal consolid sort public financ ensur command confid intern market mean suppli side reform ensur britain excel place busi rais growth potenti mean deal long stand weak exampl deliv mobil workforc right skill right place infrastructur enabl deliv latter two take tough choic govern spend fact invest transport infrastructur broadband access qualiti height spend boom time credibl establish given bank england space keep base rate low provid monetari support infrastructur invest quantit eas new fund lend scheme came oper last week allow support invest direct exampl guarante scheme announc fortnight ago help acceler major infrastructur invest offer guarante billion major project temporari lend programm allow around billion pound partnership project proceed without delay alreadi express interest sinc announc continu receiv daili basi treasuri door open discuss project meet criteria nation signific financi credibl good valu depend guarante readi start year deal applic quick possibl tell morn green deal earli candid use guarante green deal largest ever programm invest energi effici hous stock look whether guarante could ensur financ place get programm strong start deal colleagu announc later today show alreadi strong posit work build strengthen still alongsid measur support invest financ also take major step remov barrier invest reform plan regul identifi skill gap capabl issu ensur britain infrastructur deliv britain prioriti nation infrastructur plan set clear vision billion invest expect beyond updat plan bring togeth comprehens analysi infrastructur network set clear ambit improv perform sector newli establish cabinet committe chair ensur plan deliv focuss top growth project identifi nation infrastructur plan made great progress remov barrier invest work industri resolv radar interfer issu affect four gigawatt wind energi develop support establish new pension infrastructur platform make first wave initi billion invest infrastructur earli scale challeng face countri make deliv huge ambiti infrastructur agenda essenti want work togeth make happen remov barrier project deliveri creat support environ long term invest infrastructur today convers import stage post realis ambit thank",
         "895",
         "0.9994",
         "0.8547165"
        ]
       ],
       "shape": {
        "columns": 5,
        "rows": 5
       }
      },
      "text/html": [
       "<div>\n",
       "<style scoped>\n",
       "    .dataframe tbody tr th:only-of-type {\n",
       "        vertical-align: middle;\n",
       "    }\n",
       "\n",
       "    .dataframe tbody tr th {\n",
       "        vertical-align: top;\n",
       "    }\n",
       "\n",
       "    .dataframe thead th {\n",
       "        text-align: right;\n",
       "    }\n",
       "</style>\n",
       "<table border=\"1\" class=\"dataframe\">\n",
       "  <thead>\n",
       "    <tr style=\"text-align: right;\">\n",
       "      <th></th>\n",
       "      <th>party</th>\n",
       "      <th>speech</th>\n",
       "      <th>word_count</th>\n",
       "      <th>sentiment</th>\n",
       "      <th>pred</th>\n",
       "    </tr>\n",
       "  </thead>\n",
       "  <tbody>\n",
       "    <tr>\n",
       "      <th>71</th>\n",
       "      <td>NaN</td>\n",
       "      <td>introduct thank point first cabinet minist hig...</td>\n",
       "      <td>2429</td>\n",
       "      <td>0.9997</td>\n",
       "      <td>0.843407</td>\n",
       "    </tr>\n",
       "    <tr>\n",
       "      <th>73</th>\n",
       "      <td>NaN</td>\n",
       "      <td>subject open misunderstand misrepresent public...</td>\n",
       "      <td>4398</td>\n",
       "      <td>0.9999</td>\n",
       "      <td>0.840818</td>\n",
       "    </tr>\n",
       "    <tr>\n",
       "      <th>74</th>\n",
       "      <td>NaN</td>\n",
       "      <td>introduct delight launch credit union stornowa...</td>\n",
       "      <td>1133</td>\n",
       "      <td>0.9996</td>\n",
       "      <td>0.998697</td>\n",
       "    </tr>\n",
       "    <tr>\n",
       "      <th>76</th>\n",
       "      <td>NaN</td>\n",
       "      <td>wish updat hous progress reform public servic ...</td>\n",
       "      <td>1839</td>\n",
       "      <td>0.9997</td>\n",
       "      <td>0.498910</td>\n",
       "    </tr>\n",
       "    <tr>\n",
       "      <th>79</th>\n",
       "      <td>NaN</td>\n",
       "      <td>good morn give great pleasur open breakfast me...</td>\n",
       "      <td>895</td>\n",
       "      <td>0.9994</td>\n",
       "      <td>0.854716</td>\n",
       "    </tr>\n",
       "  </tbody>\n",
       "</table>\n",
       "</div>"
      ],
      "text/plain": [
       "    party                                             speech  word_count  \\\n",
       "71    NaN  introduct thank point first cabinet minist hig...        2429   \n",
       "73    NaN  subject open misunderstand misrepresent public...        4398   \n",
       "74    NaN  introduct delight launch credit union stornowa...        1133   \n",
       "76    NaN  wish updat hous progress reform public servic ...        1839   \n",
       "79    NaN  good morn give great pleasur open breakfast me...         895   \n",
       "\n",
       "    sentiment      pred  \n",
       "71     0.9997  0.843407  \n",
       "73     0.9999  0.840818  \n",
       "74     0.9996  0.998697  \n",
       "76     0.9997  0.498910  \n",
       "79     0.9994  0.854716  "
      ]
     },
     "execution_count": 63,
     "metadata": {},
     "output_type": "execute_result"
    }
   ],
   "source": [
    "test = pred_to_df(y_pred_test, test)\n",
    "test.head()"
   ]
  },
  {
   "cell_type": "code",
   "execution_count": 64,
   "metadata": {},
   "outputs": [
    {
     "data": {
      "application/vnd.microsoft.datawrangler.viewer.v0+json": {
       "columns": [
        {
         "name": "index",
         "rawType": "int64",
         "type": "integer"
        },
        {
         "name": "party",
         "rawType": "float64",
         "type": "float"
        },
        {
         "name": "speech",
         "rawType": "object",
         "type": "string"
        },
        {
         "name": "word_count",
         "rawType": "int64",
         "type": "integer"
        },
        {
         "name": "sentiment",
         "rawType": "float64",
         "type": "float"
        },
        {
         "name": "pred",
         "rawType": "float32",
         "type": "float"
        }
       ],
       "conversionMethod": "pd.DataFrame",
       "ref": "6e5459b3-6d0f-46fa-8738-85ca14da13ee",
       "rows": [
        [
         "4605",
         "1.0",
         "incred impress posit respons receiv council far larg number alreadi pledg support howev urgent need offer accommod welcom afghan famili remain firm alli work troop countri brave recent year extra fund place ask council yet come forward contact firm offer support help famili secur best possibl start new live",
         "103",
         "0.9822",
         "0.83990914"
        ],
        [
         "2707",
         "1.0",
         "begin thank key worker north somerset keep essenti servic move voluntari group kept communiti healthi maintain govern guidelin keep one anoth safe even point pandem point worth make medicin pandem new virus vaccin cure popul like becom infect time lockdown like unit kingdom reduc peak death rate histori suggest reduc excess mortal rate time great extent worth keep mind look forward futur step know virus behav influenza therefor influenza model may appropri may season may winter peak recur may may disappear sar exampl sporad case mer virus like remain evolv mutat war virus surrend day advic politician media comment alik take basil fawlti advic mention war give fals perspect public understand like cours pandem take virus spread wide popul cours ill great unknown proport popul alreadi infect may asymptomat studi yet publish yet evid readili suggest popul asymptomat proport popul quit high know abl introduc programm widespread antibodi test current programm chain diminish effect abl detect less virus therefor need antibodi programm tell mani popul infect time urg colleagu front bench speed possibl roll antibodi test key longer term understand spread ill abil control set free cocoon time consequ measur alreadi taken success deal particular viral outbreak judgment need patient immedi answer anywher els need wait see level excess global death abl determin whether close part global economi actual overreact global communiti emerg new virus crucial futur activ afford close global economi everi time new virus emerg will must develop intern protocol give idea manag globalis era someth respect border howev much government structur wish would",
         "669",
         "-0.9362",
         "0.7783422"
        ],
        [
         "3864",
         "0.0",
         "govern consist let women frontlin forc minist keep make pledg sound good fail act women often impress harder succeed militari unclear target reinforc allow women put career arm forc minist must stop seek quick headlin plan drive femal recruit well ensur women proper support throughout servic",
         "96",
         "0.586",
         "0.25499997"
        ],
        [
         "7897",
         "0.0",
         "week chanc govern back british busi help public servic rebuild pandem bori johnson gift biggest multin million week labour say let fund nhs instead even reason show global leadership crack tax avoid yet govern seem set weaken deal would bring billion back britain stop high street undercut like amazon googl big multin govern serious see high street thrive must make sure busi whether armley town street constitu market squar chancellor level play field",
         "153",
         "0.5859",
         "-0.024377808"
        ],
        [
         "10017",
         "1.0",
         "parti confer politician set stall seasid two week ago learn lib dem let smack children even seven year old miss sex educ class labour troubl get mention confer last week toni blair tell labour sixti tax increas tax increas health pension insur invest tax increas petrol car lorri diesel tax increas job marriag mortgag name increas tax avoid tax increas labour long save insur pension job drink bet drive get marri buy home buy home mortgag could wors though yes realli lib dem way tax would even higher let make one thing clear never agre rise damag busi tax tell els tell peopl run busi market interven relat employ employe absolut necessari patricia hewitt law tell employ treat workforc ever patricia hewitt learn polit neil kinnock bit like taught ski eddi eagl cabinet celebr big brother first unless cours gordon brown vote second know gordon want get rid week set make britain better place live make street safer extra polic help sick peopl patient passport give parent say school end labour war motorist make everyon secur retir restor trust govern make britain better place live unless also make better place busi deliv fair deal everyon depend wealth creation fair deal busi enterpris crucial busi peopl crucial everyon believ busi sake unlik gordon brown see busi milchcow extract tax instead help busi creat wealth everyon benefit want busi provid wealth spend labour benefit rememb toni blair gordon brown pose friend busi six wast year later billion new busi tax turn biggest spin noth less cynic fraud britain busi peopl gordon brown talk golden rule one golden rule busi come labour believ word say like mani busi remortgag home start busi woke night wonder next order come worri peopl whose job depend work servic industri manufactur compani small larg learn challeng busi face today invest job mobil ever busi move blackpool bangkok norwich union staff process insur claim quick cheapli east india east anglia industri europ use lead world migrat asia pacif region sad britain face challeng weaker six year toni blair gordon brown squander golden econom inherit britain deficit trade good worst sinc record began busi invest collaps product risen half fast conserv day wast strike last year year decad manufactur job lost everi singl week sinc labour came power worsen trade collaps invest slow product strike haemorrhag job toni blair meant said thing could get better surpris surpris even low unemploy total toni like trumpet spin substanc job product part economi fall fall hidden huge rise number govern bureaucrat forev conceal loss manufactur job manufactur new job pen pusher public sector labour britain becom wors place busi four year small busi failur trebl busi went bust year sinc compani profit fallen lowest level sinc dossier busi even alastair campbel sex wonder foreign invest britain boom conserv halv last two year never mind dti case case anyway busi struggl dti bureaucrat drawn new foliag strategi kid quot document area move new way work defin furnitur soft seat area fund display alloc area movement plant outsid area must agre prior happen subject health safeti restrict complet chain command determin offic yucca plant dti may much busi obvious keen pukka yucca know exact busi would tell labour stick yucca unlik labour make britain better place busi restor competit advantag margaret thatcher transform britain sick man europ countri held head high cut regul institut director say cost britain billion year halt rise busi tax rebuild infrastructur give worker skill need heard pledg michael howard tim collin damian green made tax transport educ make pledg regul within day take offic lighten burden regul hurt everi busi rais price everi consum cut return everi saver harm especi small medium size busi engin job creation british chamber commerc say employ admin cost smallest compani time much per worker largest never regul disproportion risk never regul law voluntari approach possibl smaller organis lighter touch busi two employe lighter burden one two hundr thousand make sure firm fewer twenti worker exempt oner burden peopl claim red tape come brussel noth true maastricht kept pound social chapter labour threw away conserv prove govern determin defend british interest troubl minist often make european regul tougher appli britain like charg slaughterhous pay health inspect option franc germani itali spain compulsori britain secretari state never destroy british job forc peopl play rule countri flout british small busi pay compulsori charg take extra worker continent competitor pay charg involv british busi peopl stuck offic clock friday night tick box form faceless bureaucrat file continent competitor home famili voluntari code replac compulsori one british ceram compani find guidanc document turn direct labour minist look need bureaucrat whitehal enforc inspector region monitor way busi monitor workforc paid new proceed crime act requir retail report everi individu theft nation crimin intellig servic cost seven million retail crime year rest europ largest crime report individu other aggreg togeth britain retail shopper face million bill simpli labour say must toni blair thrust constitut throat one let vote exempt smallest firm oner law appli sunset claus labour employ act find creat job destroy sake employ employe help worker age sex skill level find decent satisfi work make sure busi held back worker left behind talk lot regul concern consum dti respons one industri consum energi remind late happen power fail chao street peopl stuck underground offic dark old peopl injur home modern life home work depend electr yet labour let safeti margin generat capac fall lowest level year expert fear mean cut hous cold winter child sent home school light know blame look ahead get better britain use cheap north sea oil gas soon import gas huge scale half need nineti per cent russia algeria iran funni countri depend keep light minist ignor climat chang right britain carbon dioxid emiss go fail meet intern commit reduc despit bright spark number ten labour clue energi anoth thing dti respons use everi week royal mail post offic labour royal mail lost billion last two year three thousand post offic close make matter wors minist cancel plan let everi pension receiv pension cash local post offic next coupl year make life hard thousand vulner peopl someon get cash post offic counter often spend bit shop labour polici forc post offic close next month set better futur royal mail post offic worker pension post offic without spend pound taxpay money secretari state trade industri cut bureaucraci dti bang desk cabinet colleagu make sure know busi conserv everyon whitehal know britain must made better place busi achiev thing want got messag toni blair instead increas nation insur contribut cut tax job instead tax pension encourag save instead forc univers dumb back world class institut instead abolish hous lord ignor hous common answer govern mistak toni blair chanc squander lost trust british peopl voter fed broken promis fed arrog lie spin fed govern say listen goe lectur fed third world transport system fed govern destroy secur everi pension fed prime minist corrupt constitut want give brussel power european one britain nation yearn politician provid leadership trust nation yearn govern integr nation yearn minist show courag nation yearn polici honest look around hall see peopl yearn conserv provid leadership offer integr display courag deliv honesti iain duncan smith conserv parti rise challeng task urgent must begin today hath stomach fight let depart everyon els say togeth drive toni croni down street",
         "2753",
         "0.9849",
         "1.000239"
        ]
       ],
       "shape": {
        "columns": 5,
        "rows": 5
       }
      },
      "text/html": [
       "<div>\n",
       "<style scoped>\n",
       "    .dataframe tbody tr th:only-of-type {\n",
       "        vertical-align: middle;\n",
       "    }\n",
       "\n",
       "    .dataframe tbody tr th {\n",
       "        vertical-align: top;\n",
       "    }\n",
       "\n",
       "    .dataframe thead th {\n",
       "        text-align: right;\n",
       "    }\n",
       "</style>\n",
       "<table border=\"1\" class=\"dataframe\">\n",
       "  <thead>\n",
       "    <tr style=\"text-align: right;\">\n",
       "      <th></th>\n",
       "      <th>party</th>\n",
       "      <th>speech</th>\n",
       "      <th>word_count</th>\n",
       "      <th>sentiment</th>\n",
       "      <th>pred</th>\n",
       "    </tr>\n",
       "  </thead>\n",
       "  <tbody>\n",
       "    <tr>\n",
       "      <th>4605</th>\n",
       "      <td>1.0</td>\n",
       "      <td>incred impress posit respons receiv council fa...</td>\n",
       "      <td>103</td>\n",
       "      <td>0.9822</td>\n",
       "      <td>0.839909</td>\n",
       "    </tr>\n",
       "    <tr>\n",
       "      <th>2707</th>\n",
       "      <td>1.0</td>\n",
       "      <td>begin thank key worker north somerset keep ess...</td>\n",
       "      <td>669</td>\n",
       "      <td>-0.9362</td>\n",
       "      <td>0.778342</td>\n",
       "    </tr>\n",
       "    <tr>\n",
       "      <th>3864</th>\n",
       "      <td>0.0</td>\n",
       "      <td>govern consist let women frontlin forc minist ...</td>\n",
       "      <td>96</td>\n",
       "      <td>0.5860</td>\n",
       "      <td>0.255000</td>\n",
       "    </tr>\n",
       "    <tr>\n",
       "      <th>7897</th>\n",
       "      <td>0.0</td>\n",
       "      <td>week chanc govern back british busi help publi...</td>\n",
       "      <td>153</td>\n",
       "      <td>0.5859</td>\n",
       "      <td>-0.024378</td>\n",
       "    </tr>\n",
       "    <tr>\n",
       "      <th>10017</th>\n",
       "      <td>1.0</td>\n",
       "      <td>parti confer politician set stall seasid two w...</td>\n",
       "      <td>2753</td>\n",
       "      <td>0.9849</td>\n",
       "      <td>1.000239</td>\n",
       "    </tr>\n",
       "  </tbody>\n",
       "</table>\n",
       "</div>"
      ],
      "text/plain": [
       "       party                                             speech  word_count  \\\n",
       "4605     1.0  incred impress posit respons receiv council fa...         103   \n",
       "2707     1.0  begin thank key worker north somerset keep ess...         669   \n",
       "3864     0.0  govern consist let women frontlin forc minist ...          96   \n",
       "7897     0.0  week chanc govern back british busi help publi...         153   \n",
       "10017    1.0  parti confer politician set stall seasid two w...        2753   \n",
       "\n",
       "       sentiment      pred  \n",
       "4605      0.9822  0.839909  \n",
       "2707     -0.9362  0.778342  \n",
       "3864      0.5860  0.255000  \n",
       "7897      0.5859 -0.024378  \n",
       "10017     0.9849  1.000239  "
      ]
     },
     "execution_count": 64,
     "metadata": {},
     "output_type": "execute_result"
    }
   ],
   "source": [
    "output = pd.concat([train, val, test], axis=0)\n",
    "output.head()"
   ]
  },
  {
   "cell_type": "code",
   "execution_count": 65,
   "metadata": {},
   "outputs": [
    {
     "data": {
      "application/vnd.microsoft.datawrangler.viewer.v0+json": {
       "columns": [
        {
         "name": "index",
         "rawType": "int64",
         "type": "integer"
        },
        {
         "name": "party",
         "rawType": "float64",
         "type": "float"
        },
        {
         "name": "speech",
         "rawType": "object",
         "type": "string"
        },
        {
         "name": "word_count",
         "rawType": "int64",
         "type": "integer"
        },
        {
         "name": "sentiment",
         "rawType": "float64",
         "type": "float"
        },
        {
         "name": "pred",
         "rawType": "float32",
         "type": "float"
        },
        {
         "name": "Speaker",
         "rawType": "object",
         "type": "string"
        }
       ],
       "conversionMethod": "pd.DataFrame",
       "ref": "3b33e288-0167-4acd-bfc7-b83b102db286",
       "rows": [
        [
         "4605",
         "1.0",
         "incred impress posit respons receiv council far larg number alreadi pledg support howev urgent need offer accommod welcom afghan famili remain firm alli work troop countri brave recent year extra fund place ask council yet come forward contact firm offer support help famili secur best possibl start new live",
         "103",
         "0.9822",
         "0.83990914",
         "Robert Jenrick"
        ],
        [
         "2707",
         "1.0",
         "begin thank key worker north somerset keep essenti servic move voluntari group kept communiti healthi maintain govern guidelin keep one anoth safe even point pandem point worth make medicin pandem new virus vaccin cure popul like becom infect time lockdown like unit kingdom reduc peak death rate histori suggest reduc excess mortal rate time great extent worth keep mind look forward futur step know virus behav influenza therefor influenza model may appropri may season may winter peak recur may may disappear sar exampl sporad case mer virus like remain evolv mutat war virus surrend day advic politician media comment alik take basil fawlti advic mention war give fals perspect public understand like cours pandem take virus spread wide popul cours ill great unknown proport popul alreadi infect may asymptomat studi yet publish yet evid readili suggest popul asymptomat proport popul quit high know abl introduc programm widespread antibodi test current programm chain diminish effect abl detect less virus therefor need antibodi programm tell mani popul infect time urg colleagu front bench speed possibl roll antibodi test key longer term understand spread ill abil control set free cocoon time consequ measur alreadi taken success deal particular viral outbreak judgment need patient immedi answer anywher els need wait see level excess global death abl determin whether close part global economi actual overreact global communiti emerg new virus crucial futur activ afford close global economi everi time new virus emerg will must develop intern protocol give idea manag globalis era someth respect border howev much government structur wish would",
         "669",
         "-0.9362",
         "0.7783422",
         "Liam Fox"
        ],
        [
         "3864",
         "0.0",
         "govern consist let women frontlin forc minist keep make pledg sound good fail act women often impress harder succeed militari unclear target reinforc allow women put career arm forc minist must stop seek quick headlin plan drive femal recruit well ensur women proper support throughout servic",
         "96",
         "0.586",
         "0.25499997",
         "John Healey"
        ],
        [
         "7897",
         "0.0",
         "week chanc govern back british busi help public servic rebuild pandem bori johnson gift biggest multin million week labour say let fund nhs instead even reason show global leadership crack tax avoid yet govern seem set weaken deal would bring billion back britain stop high street undercut like amazon googl big multin govern serious see high street thrive must make sure busi whether armley town street constitu market squar chancellor level play field",
         "153",
         "0.5859",
         "-0.024377808",
         "Rachel Reeves"
        ],
        [
         "10017",
         "1.0",
         "parti confer politician set stall seasid two week ago learn lib dem let smack children even seven year old miss sex educ class labour troubl get mention confer last week toni blair tell labour sixti tax increas tax increas health pension insur invest tax increas petrol car lorri diesel tax increas job marriag mortgag name increas tax avoid tax increas labour long save insur pension job drink bet drive get marri buy home buy home mortgag could wors though yes realli lib dem way tax would even higher let make one thing clear never agre rise damag busi tax tell els tell peopl run busi market interven relat employ employe absolut necessari patricia hewitt law tell employ treat workforc ever patricia hewitt learn polit neil kinnock bit like taught ski eddi eagl cabinet celebr big brother first unless cours gordon brown vote second know gordon want get rid week set make britain better place live make street safer extra polic help sick peopl patient passport give parent say school end labour war motorist make everyon secur retir restor trust govern make britain better place live unless also make better place busi deliv fair deal everyon depend wealth creation fair deal busi enterpris crucial busi peopl crucial everyon believ busi sake unlik gordon brown see busi milchcow extract tax instead help busi creat wealth everyon benefit want busi provid wealth spend labour benefit rememb toni blair gordon brown pose friend busi six wast year later billion new busi tax turn biggest spin noth less cynic fraud britain busi peopl gordon brown talk golden rule one golden rule busi come labour believ word say like mani busi remortgag home start busi woke night wonder next order come worri peopl whose job depend work servic industri manufactur compani small larg learn challeng busi face today invest job mobil ever busi move blackpool bangkok norwich union staff process insur claim quick cheapli east india east anglia industri europ use lead world migrat asia pacif region sad britain face challeng weaker six year toni blair gordon brown squander golden econom inherit britain deficit trade good worst sinc record began busi invest collaps product risen half fast conserv day wast strike last year year decad manufactur job lost everi singl week sinc labour came power worsen trade collaps invest slow product strike haemorrhag job toni blair meant said thing could get better surpris surpris even low unemploy total toni like trumpet spin substanc job product part economi fall fall hidden huge rise number govern bureaucrat forev conceal loss manufactur job manufactur new job pen pusher public sector labour britain becom wors place busi four year small busi failur trebl busi went bust year sinc compani profit fallen lowest level sinc dossier busi even alastair campbel sex wonder foreign invest britain boom conserv halv last two year never mind dti case case anyway busi struggl dti bureaucrat drawn new foliag strategi kid quot document area move new way work defin furnitur soft seat area fund display alloc area movement plant outsid area must agre prior happen subject health safeti restrict complet chain command determin offic yucca plant dti may much busi obvious keen pukka yucca know exact busi would tell labour stick yucca unlik labour make britain better place busi restor competit advantag margaret thatcher transform britain sick man europ countri held head high cut regul institut director say cost britain billion year halt rise busi tax rebuild infrastructur give worker skill need heard pledg michael howard tim collin damian green made tax transport educ make pledg regul within day take offic lighten burden regul hurt everi busi rais price everi consum cut return everi saver harm especi small medium size busi engin job creation british chamber commerc say employ admin cost smallest compani time much per worker largest never regul disproportion risk never regul law voluntari approach possibl smaller organis lighter touch busi two employe lighter burden one two hundr thousand make sure firm fewer twenti worker exempt oner burden peopl claim red tape come brussel noth true maastricht kept pound social chapter labour threw away conserv prove govern determin defend british interest troubl minist often make european regul tougher appli britain like charg slaughterhous pay health inspect option franc germani itali spain compulsori britain secretari state never destroy british job forc peopl play rule countri flout british small busi pay compulsori charg take extra worker continent competitor pay charg involv british busi peopl stuck offic clock friday night tick box form faceless bureaucrat file continent competitor home famili voluntari code replac compulsori one british ceram compani find guidanc document turn direct labour minist look need bureaucrat whitehal enforc inspector region monitor way busi monitor workforc paid new proceed crime act requir retail report everi individu theft nation crimin intellig servic cost seven million retail crime year rest europ largest crime report individu other aggreg togeth britain retail shopper face million bill simpli labour say must toni blair thrust constitut throat one let vote exempt smallest firm oner law appli sunset claus labour employ act find creat job destroy sake employ employe help worker age sex skill level find decent satisfi work make sure busi held back worker left behind talk lot regul concern consum dti respons one industri consum energi remind late happen power fail chao street peopl stuck underground offic dark old peopl injur home modern life home work depend electr yet labour let safeti margin generat capac fall lowest level year expert fear mean cut hous cold winter child sent home school light know blame look ahead get better britain use cheap north sea oil gas soon import gas huge scale half need nineti per cent russia algeria iran funni countri depend keep light minist ignor climat chang right britain carbon dioxid emiss go fail meet intern commit reduc despit bright spark number ten labour clue energi anoth thing dti respons use everi week royal mail post offic labour royal mail lost billion last two year three thousand post offic close make matter wors minist cancel plan let everi pension receiv pension cash local post offic next coupl year make life hard thousand vulner peopl someon get cash post offic counter often spend bit shop labour polici forc post offic close next month set better futur royal mail post offic worker pension post offic without spend pound taxpay money secretari state trade industri cut bureaucraci dti bang desk cabinet colleagu make sure know busi conserv everyon whitehal know britain must made better place busi achiev thing want got messag toni blair instead increas nation insur contribut cut tax job instead tax pension encourag save instead forc univers dumb back world class institut instead abolish hous lord ignor hous common answer govern mistak toni blair chanc squander lost trust british peopl voter fed broken promis fed arrog lie spin fed govern say listen goe lectur fed third world transport system fed govern destroy secur everi pension fed prime minist corrupt constitut want give brussel power european one britain nation yearn politician provid leadership trust nation yearn govern integr nation yearn minist show courag nation yearn polici honest look around hall see peopl yearn conserv provid leadership offer integr display courag deliv honesti iain duncan smith conserv parti rise challeng task urgent must begin today hath stomach fight let depart everyon els say togeth drive toni croni down street",
         "2753",
         "0.9849",
         "1.000239",
         "Tim Yeo"
        ],
        [
         "8674",
         "0.0",
         "coupl day time countri face import elect want write direct choic face communiti chang labour parti new leadership put work peopl communiti first focus creat job tackl crime protect nhs dad toolmak spent life work factori floor alway believ import good secur local job proud day kind work difficult find mani peopl want chang labour back local busi entrepreneur creat job boost economi communiti proud mum sister wife work nhs know valu amaz key worker nurs polic offic supermarket worker deliveri driver kept countri go pandem leadership get reward deserv director public prosecut led crimin justic system prosecut crimin protect victim crime know take get thing done make countri safer better place revers rise violent crime behaviour seen recent year emerg pandem burn desir build brighter futur countri vision britain simpl want best place grow best place grow old whoever wherev live start week elect labour area plan deliv futur leadership countri prioriti alway labour prioriti labour council councillor mayor utter focus deliv secur job safer street health servic want see focus issu matter first step labour plan rebuild britain base secur opportun across countri conserv one rule anoth everyon els get angri hear friend neighbour tori minist get taxpay money town communiti across countri see local servic cut see british peopl money wast govern contract deliv prime minist would stop abus taxpay money stop wast approach outsourc contract clean polit director public prosecut afraid prosecut mps broken rule mps expens prime minist would afraid overhaul system still allow power abus fix thing restless relentless focus chang improv peopl live countri love reason better job better school opportun high street proud public servic put peopl first nhs envi world prioritis mean labour govern council mayor focus countri conserv govern busi provid favour minist whatsapp contact labour govern deliv better futur children one cut pupil premium drag kick scream provid free school meal famili thursday chanc vote first step chang toward brighter futur britain work vote labour thursday vote job polic street protect nhs chang labour deliv local chang focus deliv nation futur countri deserv",
         "802",
         "0.9977",
         "0.045250088",
         "Keir Starmer"
        ],
        [
         "604",
         "0.0",
         "bill congress bill inform terribl shock event take place unit state america within last hour includ two plane flown deliber world trade centr afraid imagin terror carnag mani mani innoc peopl lost live know would want join send deepest condol presid bush american peopl behalf british peopl terribl event mass terror new evil world today perpetr fanat utter indiffer sanctiti human life democraci world go come togeth fight togeth erad evil complet world deleg hope understand believ would appropri carri speech go give today know issu copi speech make sure deleg get copi speech think inappropri give speech obvious want carri discuss issu concern return london thank indulg sorri turn way know say would want join offer deepest sympathi american peopl absolut shock outrag happen",
         "318",
         "-0.8953",
         "0.026126264",
         "Tony Blair"
        ],
        [
         "8676",
         "0.0",
         "turn address want pay tribut majesti majesti queen speech time incred person loss majesti must one hardest deliv morn congratul mover second fine speech address move hon member north west cambridgeshir shailesh vara typic erudit engag surpris told former winner covet rise star award conserv parti confer although think year perhap star risen today season ticket holder arsenal glad learn support red also told black belt taekwondo know call next shadow cabinet meet second address hon member south ribbl katherin fletcher show also tip rise star gave fine passion speech sure member parliament also qualifi safari ranger surviv charg rhino speech show skill transfer nice westminst jungl also rememb member hous pass away last session april lost cheryl gillan serv chesham amersham look place would normal see cheryl sit back bench new back bencher privileg work close cheryl basi quick develop mutual respect friendship know mani hon member would say rememb cheryl warmth affect tradit debat welcom new member hous cours congratul new hon member hartlepool jill mortim victori huge honour repres great town hope forgiv say hope long wonder plan inflat prime minist turn address year sacrific semin moment nation stori hon member north west cambridgeshir spoke pandem let start point even pandem britain need transform chang reset economi rebuild public servic strengthen union democraci decad come even pandem million peopl insecur work million children grow poverti class size highest year one seven adult unabl get social care need britain one worst level region inequ europ shock life expect stall first time centuri let sink life expect stall first time centuri record last year record prime minist tri run away today see past year pandem brutal expos consequ decad neglect tragic pandem shown live overcrowd hous trap insecur work one million peopl one pay chequ away hardship pandem harder today need queen speech rose scale moment reward sacrific past year rebuilt foundat instead queen speech mere paper crack pack gimmick distant govern never short miss urgenc scale transform need economi public servic societi lack ambit plan achiev heart queen speech job plan tackl unemploy particular shock level youth unemploy also chang economi work imposs look across atlant see kind plan need plan invest plan make economi resili greener dynam plan halv child poverti deliv fairer tax system grow economi middl top see side atlant queen speech pit region fight limit fund economi still driven chronic govern prepar take money pocket work peopl chancellor saddl busi debt need invest address spoke plan increas infrastructur spend well time britain lead world invest year conserv govern countri come capit invest economi scale address turn around queen speech also provid plan better work long million peopl across britain work longer lower pay employ bill promis last queen speech repeat promis minist nowher seen need employ bill end fire rehir give proper right everi worker day one rais live wage least hour quick possibl measur alon would boost pay million worker labour queen speech would deliv alongsid green stimulus creat job job promis address also includ clear recoveri plan nhs wait list record high million heard today come nowher near scale chang need unforgiv clear plan fix social care remind hous day sinc prime minist stood step down street said fix crisi social care clear plan prepar yet day promis hear address propos social care reform brought legisl new fund detail timescal failur act decad bad enough failur act pandem noth short insult whole nation similar stori skill educ care passion dad toolmak work factori floor life know skill train sustain invest chang way think vocat train britain compet prime minist rhetor lifetim skill well realiti differ last year fund adult educ slash fifth number apprenticeship fell three year judg govern record rhetor hear today stori crime polic sinc record violent crime doubl antisoci behaviour gone everi area england wale yet conserv call parti law order violent crime doubl antisoci behaviour everi area england wale govern year court record backlog mean victim wait year get justic yet queen speech noth address know draft legisl promis victim law promis victim law last three conserv manifesto six year ago introduc privat member bill victim law legal enforc right support support draft bill urgent legisl address also promis much hous mani home ownership reach ever among home ownership fallen last decad neglect hous build target almost never hit rough sleep doubl sinc see noth today address buck trend even attempt repair damag last decad prime minist want act one area guarante support clad scandal grenfel tragedi four year three queen speech ago yet thousand peopl still trap unsaf build hundr thousand leasehold caught home sell afford peopl face bankruptci great anxieti anybodi need remind danger look fire block flat east london last week excus prime minist inact clad address time unit kingdom divid public trust democraci shaken queen speech also opportun rebuild foundat democraci instead elector integr bill would make harder peopl vote trampl civil liberti discrimin prime minist must know introduc compulsori voter suppress turnout disproportion impact ethnic minor weaken democraci labour part also oppos plan judici review bill weaken power court curtail right judici review govern simpli fail understand independ judiciari strength countri weak legisl fix broken lobbi law prime minist chosen instead put faith transpar lobbi campaign trade union administr act cameron act end end conserv prime minist paid huge amount money dodgi compani almost immedi leav offic come think given state prime minist current financ see reluct chang bit legisl part queen speech look work govern legisl ban convers therapi long overdu convers therapi alway wrong indefens look care legisl brought forward must done soon also look care draft onlin safeti bill much delay need urgent effect legisl alway will work basi end violenc women girl bring forward propos come day cours look legisl govern bring forward area action russian hostil state interfer also long overdu progress promis near two year look close promis threat bill see whether work construct bring chang need small glimmer queen speech show govern still understand went wrong past decad plan next time transform agenda rebuild britain foundat decad neglect year nation chang foundat economi invest futur solv social care crisi clean polit clean mess govern creat chanc squander",
         "2435",
         "-0.981",
         "0.052185886",
         "Keir Starmer"
        ],
        [
         "8331",
         "0.0",
         "earli year set stay open lockdown govern chang fund month push provid brink collaps new lockdown like wipe demand childcar hit provid incom even push mani nurseri busi edg govern urgent need rethink fund chang give sector target support need earli year staff famili young children also need reassur safeti worri time",
         "99",
         "0.1927",
         "-0.17692538",
         "Tulip Siddiq"
        ],
        [
         "1370",
         "1.0",
         "great honour speak debat follow excel speech made minist right hon friend member gainsborough sir edward leigh pay tribut right hon friend work done decad subject hon member argyl bute brendan hara interest analysi present christian well awar new subject ancient subject inde fact christian persecut roman empir monument scale persist middl age war religion franc cours endem communist era stalin question go china today someth permeat histori civilis shall bold enough say opinion religi toler best evid civilis societi say attitud cultur life think proper degre religi toler past tend peac toler break peopl compartmentalis ideolog use state weapon case certain countri mani mention end increas persecut open door identifi well debat quit right christian persecut cours appli appli past particular atheist regim regim discrimin christian also religion welcom applaud open door said specif mention yet open door estim million christian top countri world watch list persecut religi belief compar million north korea rank extrem level persecut christian six year countri fall categori open door estim attack church risen past year massiv increas high danger problemat stabil countri thing happen relat countri must attempt mitig prevent intern societi human right estim christian target act religi discrimin persecut worldwid signific debat focus persecut christian welcom initi prime minist inde manner hon friend member gillingham rainham rehman chishti taken special envoy matter use hon friend minist prime minist issu word encourag rather warn read bishop truro report commentari around note two extrem import signific recommend worth make point proport demonstr increas attack christian much greater other larg happen countri particular state ideolog religi belief antipathet christian religion inevit serious problem intern scale reason glad unit nation take activ interest matter one thing say like persecut anoth say come certain quarter certain countri aim certain categori religi case volum persecut christian increas therefor becom matter extrem import welcom foreign secretari said matter prime minist foreign secretari minist hit nail right head one intract problem shown histor outlin gave roman empir onward away requir care diplomat religi toler want prevent situat escal said shadow minist good speech must care generalis subject way attent distract attack christian alway strong support holocaust memori day feel intens matter opportun day book rememb write never need write line word never born oldest member hous common unlik mani mean disrespect problem actual live period rememb small boy see extent persecut watch film war went concentr camp one must rememb peopl taken camp due christian belief know bonhoeff father kolb think tri contextualis debat littl say new problem confin christian howev debat especi import degre christian target new wave persecut certain state either atheist case islam object christian weaponis state control order persecut christian must also awar use sanction hon friend member rother valley alexand stafford hon member argyl bute brendan hara right hon friend member gainsborough sir edward leigh impress mention imposit condit aid give member know promot bill becam intern develop gender equal act aim protect women children fgm matter bill impos statutori oblig govern depart intern develop give aid allow impos condit promot idea protect women children includ traffick honour kill matter wherebi women unfair treat differ countri heard mani countri activ use state power promot persecut impos condit could fruit line inquiri need work although act relat protect women children could well use ensur christian persecut law alreadi rememb former prime minist say realis bill chang law realli big way billion give intern aid embed statutori oblig subject judici review would keen see principl appli purpos ensur christian countri persecut debat incred use mani reason finish say someth great friend jeremi lefroy former member stafford sad left hous amaz work sure shall hear hon friend member congleton fiona bruce work other similar thing play big part ensur get problem straighten finish domest abus christian bother long time peopl appear abl whitehal placard attack proper prosecut christian attack religion would immedi fall categori call human right law human right never deepli interrupt see one two member shake head deep concern human right law sometim protect peopl give rise invas question proper control misus freedom speech high controversi time put forward proposit import issu religi toler complet equival treatment law get control becom pervas caus much divis come back holocaust memori day concern jewish popul seen press aspect accus member labour parti owe everybodi fair reason toler also put foot use sanction necessari financi condit requir ensur allow christian either abroad home persecut persecut unjustifi hate someth",
         "1832",
         "0.9986",
         "0.69227237",
         "Bill Cash"
        ],
        [
         "1144",
         "1.0",
         "great pleasur return belfast guest speaker annual lunch said scotland recent everi part unit kingdom precious parti lead appli equal cours northern ireland deal prospect polit progress briefli today want talk main import econom progress part involv econom liberalis achiev competit global marketplac explain believ promot deregul introduc tax reform particular context northern ireland increas size privat sector percentag economi whole go argu econom progress bring social stabil econom liber low tax deregul stabl monetari polici enough need add idea econom empower must recognis rise tide open economi alway lift boat peopl bottom rung ladder prosper broken need fix mean invest train skill educ recognis human person develop peopl need help poverti turn need new approach polit govern alon empow peopl give tool success need social respons new role voluntari sector social enterpris yes busi polit progress first polit situat follow andrew approach first deadlin govern timet worth tell posit parti support devolut believ govern better closer peopl decis taken local doubt fulli function assembl provid much greater degre account local decis ever case direct rule decis domest rate academ select made whitehal westminst committe room andrew clear signific step forward toward restor devolut wish toni blair well hope initi succeed work everi polit parti everi minist execut stick basic democrat rule give full support polic court rule law realiti sinn fein must deliv polic ask play democrat rule accept everi polit parti unit kingdom republ ireland back polic mean join polic board mean report crime polic level mean encourag peopl communiti join polic mean pass evid crime polic case robert mccartney sinn fein must clear thing hope unionist equal clear respons sinn fein make move andrew requir difficult undoubt believ unionist would absolut right devolv govern mean local elect account minist main tradit work togeth good northern ireland big step paisley sit adam time happen devolut take place work success also mean commit matter share interest republ ireland throughout island whole mean present world new outward look optimist face northern ireland polit settlement would set seal transform taken place northern ireland past fifteen year parti want make happen opposit loyal opposit never play polit futur northern ireland econom progress let turn economi enorm progress alreadi made great deal busi communiti everyon know northern ireland econom success one dividend polit chang less clear understood econom success turn driven forward polit chang unemploy lower region countri one look citi centr belfast see amount new invest come also town citi across northern ireland hous price rise faster virtual anywher els unit kingdom cours without threat terror peopl abl daili busi way unthink decad ago accept big problem need tackl transport infrastructur need modernis invest requir upgrad water sewag servic whole reason optim progress northern ireland made econom liberalis competit global marketplac order sustain progress need recognis harsh realiti competit global economi busi locat anywher govern need get real competit need govern ask straight forward question make easier harder set busi make easier harder employ peopl overal burden tax public spend borrow go politician need understand realiti life entrepreneur wealth creator take employ time less time fill tax return employ spend time less time deal red tape cost compli legisl regul go real test open economi question govern would ask moment labour give posit answer question unfortun current govern unit kingdom slip fourth tenth world econom competit leagu regul tax interfer foot govern press windpip british busi got take foot deregul one way make economi competit reduc burden busi face cbi estim billion new regul introduc sinc need tackl regul sourc need look vast expans litig win fee need stop gold plate direct need dozen goal negoti one get social chapter tax reform let say someth tax current chancellor busi quit simpli use lowest rate busi tax highest modern world firm compet within northern island ireland global market challeng countri like china india grow formid day modern world economi competit know better look south republ ireland see truth northern ireland share land border countri current enjoy much lower rate corpor tax unit kingdom peopl awar call taxat measur help widespread support idea northern ireland separ rate corpor tax rest northern ireland manufactur group campaign industri across countri lot call tax cut hear understand last week conserv parti tax commiss publish report member commiss led michael forsyth men women wealth experi industri trade financ social polici also independ mind done ask present parti menu option tax reform deserv serious consider tax break specif northern ireland would thought context overal exchequ support part preced might set part unit kingdom look serious open mind care model case busi put forward clear framework tax polici sound money mean shall alway put stabil ahead tax cut promis unfund tax reduct next elect share proceed growth time abl reduc tax also rebal tax system green tax pollut rise pay reduct famili tax tax reform commiss report set option tax reform reduc rebalanc tax also make tax much simpl transpar tax law develop piecem fashion long period time without systemat overal review tolley tax handbook british tax code page nine year later doubl page time longer tolstoy war peac tell someth much less good read survey british busi carri tax reform commiss found three quarter busi thought tax system becom complex last five year number say tax system becom less complex two per cent must either incred clever incred stupid rise complex root increas antagonist relationship govern busi tax avoid simpler tax system would stop endless game cat mous complex tax harm competit drive away invest believ come busi tax remov exempt broaden base tax charg could simplifi system reduc headlin rate goal grow privat sector within northern ireland privat sector perform well northern irish compani fantast busi world mivan lagan norbrook wilson name agre say northern ireland economi need current around depend direct indirect public sector compar one third england make local economi particular suscept slowdown current growth public expenditur last month first trust bank quarter survey northern ireland economi conclud overal econom growth like slacken warn busi depend upon state sector recognis public expenditur growth year ahead slower past healthi widespread consensus includ govern need reduc role state public sector boost privat sector deliv growth prosper aim clear make unit kingdom best place set busi within ensur northern ireland full particip dynam enterpris cultur econom empower cours econom prosper benefit everyon honest acknowledg peopl posit take advantag polici econom liberalis must accompani econom empower left behind grow prosper also disadvantag part unit kingdom suffer problem associ social exclus saw first hand visit shankil area last decemb place peopl even singl opportun get get incred limit grammar school northern ireland produc best exam result unit kingdom still far mani children leav school qualif cours oppos govern attempt chang status school without approv peopl local must also encourag disadvantag area see educ opportun irrelev read crucial read hard play anyth walk part economi northern ireland quarter year old fail achiev level better key stage english put simpli mean command basic get children read compet leav primari school greatest singl contribut could make transform opportun later life today almost young peopl northern ireland work full time educ afford write leav paramilitari give sens purpos live econom empower mean fix broken rung bottom ladder poverti wealth peopl northern ireland incapac benefit mani abil work least system support encourag human capit import resourc open economi see key task modern govern find way help exclud group back mainstream societi often govern answer social enterpris voluntari group communiti organis yes busi answer yes need roll back state term rebalanc economi state sector privat sector also need roll forward societi term recognis respons help disadvantag build strong societi mean social respons recognis govern alon tackl problem look new deal voluntari sector longer term contract fund deal toughest challeng look new way help stuck depriv perhap eas rule say lose benefit hour voluntari work mani path back work block enterpris zone help broken economi creat social action zone cut burden busi chariti help crack depriv poorest neighbourhood grow first began work polit northern ireland ever seem associ bad news today northern ireland chang better still distanc travel issu resolv hope get want see northern ireland peac stabl prosper part countri want see share futur peopl tradit base reconcili democraci rule law look forward work come year help make realiti want polit northern ireland real thing school hospit tax timet deadlin institut arrang want conserv parti part new polit move new direct lead debat pull ahead tire govern develop polici futur one thing certain parti commit northern ireland peopl whole heart unshak",
         "3205",
         "0.9998",
         "0.9326236",
         "David Cameron"
        ],
        [
         "3611",
         "1.0",
         "parent aspir provid children best possibl start life govern commit ensur child left behind everybodi solid foundat build health review look reduc barrier improv earli childhood experi determin level opportun children matter come grow",
         "76",
         "0.9118",
         "0.93015957",
         "Matt Hancock"
        ],
        [
         "1432",
         "1.0",
         "aim make easi possibl peopl make healthier food choic famili restaur home want make sure everyon access accur inform food drink order measur form import build block strategi support encourag peopl achiev maintain healthier weight",
         "75",
         "0.8555",
         "0.9688902",
         "Jo Churchill"
        ],
        [
         "8062",
         "0.0",
         "start thank friend next secretari state scotland ian murray confer want take opportun say honest job without fantast jacki bailli side let hear scottish labour deputi leader jacki bailli progress made year council elect may knock tori second place like success across countri labour administr capit citi edinburgh east lothian east renfrewshir fife inverclyd north lanarkshir south lanarkshir stirl west lothian major west dunbartonshir glasgow gave nicola sturgeon snp one hell fright less vote win let clear scottish labour parti lead aspir second place aspir first place back fight win confer last year met aftermath one nation emerg pandem expos fault line failur countri decad tori auster also reveal strength chariti communiti pull togeth help neighbour time need soon tie bind togeth call crisi nation emerg need pandem scale respons travel round countri listen heartbreak met father worri go keep hous warm newborn alon mother skip meal ensur children school hungri alon famili dig garden plant veget afford week shop alon busi owner hit energi bill mean sure stay open winter alon minor issu major one even peopl would normal see comfort struggl make end meet oil gas compani rake billion profit tori slash tax need least scot struggl neither scotland govern anywher near enough help across demand energi price freez meaning windfal tax scotland call emerg cost live act would given choic govern prefer comfort soundbit difficulti solv problem believ tori spin frozen energi bill bill still famili pay doubl nine month ago time let big energi compani scot free cut tax wealthiest last year labour set agenda crisi snp tori tri ignor altogeth becam clear labour call energi price rise cancel oppon call busi usual labour call windfal tax oil giant snp side tori refus vote backtrack scottish labour call rent freez snp green call unwork gave introduc confer achiev opposit imagin govern last year tori govern activ sought pit communiti communiti wast billion pound taxpay cash dodgi contract vaniti project giveaway parti donor cut stamp duti second made super tax deduct biggest compani accept poverti miseri price worth pay societi redistribut wealth poorest wealthiest right cheer remov bori johnson shame offic prime minist liz truss wors bori johnson believ anyth apart liz truss right wing ideolog tori danger margaret thatcher let clear corrupt lie incompet fail cheat econom illiter moral bankrupt shower sooner boot better truth far great defend tori gift want break apart scotland tori fail allow snp doubl campaign divis rather face record failur scotland nhs wait list scot wait appoint treatment children young peopl wait mental health appoint fewer busi scotland today pandem began highest drug death rate europ nhs knee despit incred effort workforc year power snp squander everi chanc broken promis promis left scotland wors came power alway someon els someth els blame confer know know noth progress scottish nation goe valu solidar social justic ideolog base divid unit time crisi forc look fresh eye problem face unit communiti propos real solut one help today build prosper futur labour focus oppon thrive divis know real chang come pull peopl togeth scotland across polit lost sight hate break liz truss nicola sturgeon whether vote yes whether vote leav remain bill go long led parti want entrench camp convinc dislik distrust one anoth confer ask benefit polit divis famili struggl pay bill busi fight stay afloat student work achiev potenti peopl tri buy first home polit divis help tori snp win elect chang peopl live way polit better countri better peopl deserv better labour parti know win bring peopl togeth give hope feed despair know major scotland part unit kingdom also major chang crucial scotland across unit kingdom major boot tori down street job build campaign coalit deliv coalit polit parti let clear if but deal snp coalit peopl beat tori work trade union colleagu believ fairer greener futur job build coalit win motiv come everi corner island great labour citi liverpool task win next general elect end polit divis demonstr chang counti enough tori snp deserv lose need deserv win need prove worthi trust major want renew unit kingdom protect worker invest public servic unlock britain creat high skill high paid job futur support struggl actual grow economi invest green bring energi bill save planet take croni capitalist rig polit favour instead make britain countri ambit merit matter differ labour make power decad snp tori stoke bitter divis anger creat polit versus confer know day number occupi down street bute hous know clock tick let prepar lie ahead come month year oppon get desper tone irrat attack unhing know next elector contest referendum general elect confer labour win next general elect scotland deliv seat get line scotland elect keir starmer next prime minist labour replac tori chang live better confer moment build countri everyon entitl digniti opportun set countri back path prosper chanc help everyon achiev potenti time divid rule time chang labour deliv chang build better futur togeth",
         "1965",
         "0.9988",
         "0.10324484",
         "Anas Sarwar"
        ],
        [
         "4634",
         "1.0",
         "screen foreign offic crisi centr hurrican irma jose track across caribbean mile devast mile britain would help human caught forc natur special respons today hurrican irma inflict power blow upon british oversea territori inhabit british citizen first anguilla irma knock power cast island dark came british virgin island born brunt storm follow turk caico watch hurrican swirl across screen crisi centr dedic staff foreign offic depart intern develop work around clock sinc wednesday dispatch emerg suppli mobilis ship plane tri second guess natur anticip exact help would need task complic fact deal storm follow close behind irma hurrican jose first time categori hurrican struck quick success sinc record began intent purpos unpreced situat crisi centr got tim foy governor anguilla brief calm measur tone power station island surviv said transmiss pole toppl depriv everyon electr thought brit live dark anguilla destroy home school around endur one hurrican path anoth governor full prais immedi help provid men women rfa mount bay govern dispatch naval suppli ship caribbean juli prepar hurrican season carri float dock wildcat helicopt special disast relief team governor describ skill personnel manag restor power anguilla hospit rebuild emerg oper centr perhap valuabl clear runway make island airport servic rfa mount bay reposit everyth possibl help british virgin island must humbl face power natur whatev relief abl provid enough mani lost much ordeal crisi like bring best britain public servant take pride peopl like tim foy governor stricken island staff foreign offic crisi centr crew rfa mount bay strive tireless help need must peopl anguilla british virgin island turk caico british oblig depend happenst geographi help sure hurrican struck inver dover ive precis overrid sens oblig govern order flagship royal navi hms ocean head caribbean biggest warship servic carri eight helicopt includ giant chinook left nato task mediterranean begun steam westward dispatch hms ocean cross atlant reach caribbean day cours desper need aid meantim friday giant transport aircraft raf took caribbean laden enough emerg shelter almost peopl total almost tonn aid alreadi sent air includ ration water purif kit emerg light expertis matter much materiel royal marin deploy region includ militari engin medic reinforc personnel humanitarian disast relief team board rfa mount bay whose excel work made differ anguilla situat road block communic disrupt helicopt essenti asset second left friday carri puma transport helicopt join wildcat alreadi deploy rfa mount bay reassur great deal aid either arriv rout heartbreak damag inflict assum everyth smooth crucial day lie ahead work alongsid friend includ franc netherland whose caribbean territori also suffer terribl unit state govern promis match know generous donat british public pound pound must look ahead irma strike next sunday hurrican expect make landfal florida hundr thousand briton either live holiday consul general miami make everi prepar come day fellow briton caught pathway forc natur relent effort give everi possibl help",
         "1002",
         "0.9841",
         "0.86219305",
         "Boris Johnson"
        ],
        [
         "2737",
         "1.0",
         "prime minist made two new appoint trade envoy programm new appoint extend total number trade envoy parliamentarian cover market prime minist trade envoy programm unpaid voluntari role membership hous role support ambiti trade invest agenda champion global britain promot destin choic inward invest trade envoy help make new trade deal support econom recoveri agenda help busi take advantag opportun aris export market new appoint hon member beverley holder graham stuart appoint prime minist trade envoy vietnam cambodia lao lord sarfraz kensington appoint prime minist trade envoy singapor",
         "176",
         "0.9686",
         "0.69375175",
         "Mike Freer"
        ],
        [
         "3406",
         "1.0",
         "good morn excel ladi gentlemen thank ambassador amar host event grate lula institut host faap pleasur dynam vibrant citi sixth largest world symbol brazil achiev recent decad brazil annual foreign polici strateg dialogu govern took place yesterday last four year signific strengthen bilater relationship huge increas number visit brazil british minist open new british consul recif diplomat mission são paulo rio sign agreement bring thousand brazilian student scienc without border programm immens scope togeth achiev togeth work foreign polici perhap nowher africa pleas part panel event sinc exchang idea way import step stone futur cooper africa region still affect conflict conscious sure terribl situat south sudan central african republ commit million humanitarian activ south sudan support effort find polit solut also provid million humanitarian aid central african republ million african union mission support deploy forc assist african union french troop alreadi ground countri see way conflict instabl destroy livelihood undermin sustain develop intern communiti must abl act protect popul avert disast hope african union continu strengthen abil respond crisi situat like hope brazil join support experi haiti lebanon give deep expertis reflect choic brazilian general lead peacekeep democrat republ congo countri play lead role reduc piraci horn africa contribut vessel three intern naval mission work counter terror north africa sahel nigeria kenya somalia held two major confer london last three year bring togeth somali govern nation organis help countri turn around one biggest contributor whole world develop assist african nation look africa sole len conflict mislead argument today excit opportun britain brazil work partnership african countri promot econom growth good govern stabil draw expertis histori knowledg histor tie differ part africa build develop partnership alreadi establish countri relationship africa root histori though defin eighteen african countri includ mozambiqu member commonwealth vibrant free associ countri everi contin work togeth share valu share prosper british african make invalu contribut mani area nation life mani lead govern figur africa studi world class institut brazil tie africa reflect long histor cultur link know brazilian african heritag african cultur play vital role societi linguist tie special bond number countri africa speaker today touch brazil mani contribut prosper secur develop across contin includ peacekeep contribut remark record poverti reduct growth develop thrive democraci make extrem strong partner african countri set path countri build histor connect strengthen relationship african countri futur sinc open new embassi cote ivoir madagascar liberia south sudan somalia know also expand presenc africa countri extens well respect develop programm fact work togeth african countri help farmer boost product ensur children get school meal need succeed similar end countri also build econom tie africa brazil annual trade africa rocket billion billion look forward hear vitor hallack view trade relationship busi perspect ten year period export nigeria ethiopia doubl export tanzania trebl export ghana increas almost countri know even better africa contin huge econom potenti african nation saw growth rate higher china grew faster india econom growth could transform countri africa transform brazil vast major million peopl escap poverti last two decad thank grow economi gave job higher incom gave govern tax receipt fund better health educ infrastructur growth benefit citizen african countri help brazil global economi reason put econom cooper develop heart relationship africa depart intern develop particular success work brazil across africa joint project togeth strengthen food secur increas agricultur product support incom improv resourc manag mani case appli africa techniqu approach develop success implement brazil favela polic project support nairobi cape town use social media improv citizen secur depart intern develop also work partnership african countri make attract destin much need invest improv regul build infrastructur develop capit market help creat opportun home grown entrepreneur british brazilian busi alik benefit african countri concern busi play valuabl role support econom develop african countri bring world class skill servic technolog also british compani recognis import local job creation train corpor respons support govern first world launch nation busi human right action plan help british compani invest staff worldwid fourteen trade invest offic across africa dedic help british compani forg link african countri embassi task find opportun british busi invest export order strengthen effort across govern recent establish high level prosper partnership angola cote ivoir ghana mozambiqu tanzania british minist work counterpart five countri remov barrier trade share expertis identifi busi opportun also continu argu strong throughout africa good govern human right rule law common aspir peopl everywher corrupt oppress instabl hold back econom develop seen clear zimbabw hope brazil work ensur world agre strong set new global develop goal reflect import rule law stabil open account govern essenti condit econom success also recognis import african countri african union world stage work close nigeria chad rwanda secur council support perman african presenc bodi african countri endors declar commit end sexual violenc conflict launch last year work mani african union practic measur tackl warzon rape build strong bilater partnership work togeth issu free trade piraci climat chang unit kingdom partnership african countri like brazil dynam full potenti believ two countri togeth har strong tie support econom develop good govern stabil spirit respect cooper futur african lion economi might rival asia tiger mean peopl secur prosper world spirit look forward hear view panellist discuss issu audienc today even stronger cooper countri africa year come thank",
         "1777",
         "0.9999",
         "0.9308593",
         "William Hague"
        ],
        [
         "4187",
         "1.0",
         "may liverpool footbal club play real madrid final champion leagu fixtur held stade franc pari occas real madrid match result make fixtur worthi debat spectat experi start fixtur delay due number crowd safeti issu outsid ground issu prevent safe time access stadium mani thousand liverpool fan member across hous like appal hear terrifi potenti danger condit experienc mani liverpool fan fact saw visual social media celebr pinnacl european club footbal rememb wrong reason shock concern come light welcom fact secretari state mani hon uefa commiss independ investig issu apolog fan attend final french sport minist also commiss review deliveri event discuss later week french govern also support uefa investig call sanction polic offic misus tear gas confirm pursu compens fan valid ticket unabl enter stadium uefa confirm launch new complaint procedur fan present evid liverpool collat fan experi via websit contribut uefa investig urg fan send account experi club depart digit cultur media sport continu work close relev author liverpool footag account liverpool fan media entri stade franc may deepli upset thousand liverpool fan travel pari good time support team one biggest match season huge disappoint treat fan deserv know happen absolut right relev author fulli investig event investig must establish fact author learn lesson event ensur see scene like ever ian byrn last saturday pari also hillsborough say without shadow doubt magnific effort liverpool support last saturday could disast wors hillsborough last saturday pari wit first hand shambol stadium manag hostil polic environ sport event ever seen watch children get pension get turnstil exit shut thousand queu hour wait attend blue riband footbal occas season treat like anim want watch game footbal shame smear lie straight hillsborough playbook use author avoid account horrif event never ever toler countri around globe enough enough minist confirm whether govern make represent uefa follow call liverpool footbal club real madrid footbal club liverpool support trust full truli independ inquiri event stade franc could easili cost live citizen also call french govern uefa retract attempt smear liverpool footbal club support without verifi evid substanti claim engag french counterpart ensur citizen includ mani children never ever treat brutal forc french polic simpli attend footbal match nigel huddleston thank hon member rais point appreci dedic thing footbal expertis area understand one founder spirit shank speak wise support fan think whole hous make point clear today regular dialogu uefa includ discuss plan women euro year also bid futur event offici rais issu outlin hon gentleman includ speak french sport minist week immedi respons certain peopl unfortun seem bit reaction necessarili base fact cours seen appear consider disproportion behaviour behalf peopl entiti would expect confid thorough review must transpar want conclus hope inform gather repeat fan footag pleas send liverpool look forward see result investig keep close eye develop sure whole hous",
         "1033",
         "0.9825",
         "0.89322996",
         "Nigel Huddleston"
        ],
        [
         "7883",
         "0.0",
         "hallmark anoth conserv inquiri priti patel alleg bulli anoth conserv govern attempt push bad behaviour long grass hope british public forget conserv trust yet mark homework need answer greensil mean key player cronyism scandal like david cameron rishi sunak matt hancock appear open front parliament soon possibl answer question",
         "99",
         "-0.6124",
         "0.18395862",
         "Rachel Reeves"
        ],
        [
         "310",
         "1.0",
         "first callaghan welcom new role father hous great mani member held callaghan unpreced rare anyon come distinguish record public servic mani highest offic state one arriv world hous year callaghan congratul heard alway first duti new hous common elect speaker beg move right hon bernard weatheril take chair hous speaker could easili list qualiti requir speaker intend would take long event hon member well awar howev shall refer briefli three aid one burden place upon speaker first foremost speaker sole guardian precious right moment elect right state point view heard matter whether view general accept whether minor even minor one posit speaker help fortun hous common far year rememb success speaker upheld right made chamber envi world right must never allow disappear second speaker one time servant master predecessor laid long seri rule order conduct affair speaker chang much comma entir bound readi moment notic interpret sometim face ingeni argument interpret enforc someon respect good hous whole possibl hope third duti one think new third quarter centuri proceed broadcast radio far peopl ever opportun hear debat everyon know public reaction favour like altogeth surpris alway unruli lot passion high howev one person rest hous affect world outsid speaker calm courteous firm good name digniti parliament restor beneficiari worst burden place upon speaker loneli one yet speaker alway someon spent year place friend colleagu talk inform tea room corridor eat togeth sometim possibl even drink togeth must great trial someon accustom cut great extent speaker must necessarili must grate anyon prepar one perhap claim know right hon expect last time call well right hon hon member place know work togeth near year last five year work togeth especi close certain work busi one parti hous parti truth say often amaz time troubl care colleagu took help member parti especi felt neglect govern listen proper idea could firm deputi chief whip sometim tell hous never time hear get angri lose temper even rais voic even though sometim provoc great time right hon member serv hous notabl one committe respons speaker whose main interest safeti comfort conveni right hon hon member might think long period servic one parti ideal background serv speaker everi speaker one way anoth background furthermor everyon member place last parliament know right hon member alreadi prove four year servic chairman way mean long period servic bar believ shown qualiti want procedur recognit need protect right minor firm necessari fair alway courtesi know right hon member surpris one qualiti stand other readi serv parliamentari democraci serv whatev capac ask believ serv well speaker hope hous approv motion much enthusiasm move",
         "1160",
         "0.9991",
         "0.8630153",
         "Humphrey Atkins"
        ],
        [
         "6562",
         "0.0",
         "let start say good tackl climat crisi share nation object across hous want govern succeed ten day time howev two central question strategi publish today final close yawn gap govern promis deliveri make public invest essenti ensur green transit fair creat job afraid answer question despit minist said plan fall short deliveri modest invest noth like commit believ know ask weekend treasuri approach issu sourc depart busi energi industri strategi said climat chang denier emphasis risk rather need chancellor fingerprint document good way wait month heat build strategi massiv midst energi price crisi caus decad inact emiss build higher biggest singl programm could make differ retrofit plan cut bill emiss ensur energi secur million home epc band accord best estim today propos help tini fraction number inde even replac green home grant homeown minist explain retrofit plan bei argu get turn treasuri make case accord govern target need home year instal heat pump govern fund year help one household gas grid minist plan heat pump fall far short requir transport agre transit electr support welcom zero emiss need make fair consum least loan cut cost purchas electr car plan make access richest minist tell repli nuclear surpris given advanc public word even cross minist lip seen decad inact delay issu tell still decis new nuclear failur invest affect whether transit fair consum worker exist industri take steel cost billion steel industri get net zero next year want steel across need share cost privat sector howev noth steel document million clean steel fund way road cut give estim need steel industri think met true invest new industri hydrogen global race area afraid power ahead fall behind germani offer billion new hydrogen strategi offer million put decis later decad see pattern across board includ land use industri transport failur invest remain chasm promis deliveri final notic minist say plan would meet target sixth carbon budget sure basic prerequisit strategi less halfway net zero polici document meet target fall short despit hundr page plan strategi hot air still chasm govern rhetor realiti fear plan deliv fair prosper transit need equal scale emerg face",
         "889",
         "0.9857",
         "0.020077307",
         "Ed Miliband"
        ],
        [
         "2873",
         "1.0",
         "hon friend said anderson school open approv pupil age whose special educ need relat autism spectrum disord broad mainstream academ abil cost site build fund anderson foundat gift nation autist societi anderson school first inspect may ofst judg school overal effect requir improv two independ school standard relat teach leadership manag met accord depart procedur school submit action plan depart set go address unmet independ school standard plan consid accept juli subsequ new plan accept decemb octob depart commiss addit ofst inspect assess progress agre action plan school meet standard expect ofst report standard relat welfar health safeti pupil leadership manag met action plan submit deem accept januari ofst undertook final inspect school march hon friend said found school inadequ stage regulatori action could taken nation autist societi announc closur school effect end summer term follow thorough consider complaint parent submit depart depart conclud main complaint appear investig appropri local level essex counti council share depart result investig complaint receiv trigger action meet appropri threshold conclus two incid consid potenti warrant referr teach regul agenc consist essex counti council complaint depart satisfi evid complaint seen suggest problem anderson school system nation autist societi proprietorship rather localis school nation autist societi run seven school four independ one rate outstand five rate good one yet unrat open januari although nation autist societi own site longer educ provid process hon friend said determin award leas line charit oblig bodi acquir leas standard relev approv mechan open new educ provis assur hon friend depart offici regular contact nation autist societi sinc decis taken close anderson school follow represent essex counti council futur site although school close depart role legal limit nation autist societi award leas way consist law govern chariti plan law agreement origin provid site convers nation autist societi offici receiv assur sought necessari technic legal advic process award leas assur fulli line chariti law guidanc issu chariti commiss depart educ regul independ school england depart regist independ school set independ school standard school must meet act school fail meet standard due dilig check carri propos proprietor school part process ofst automat commiss inspect school prior open come judgment whether school meet independ school standard rigor process ensur school meet statutori requir set depart owner regist independ school must meet standard time regist independ school inspect regular cycl inspector ofst independ school inspector depart commiss addit exampl serious complaint notif serious incid school depart consid standard met school may issu notic proprietor school requir product action plan school submit action plan plan reject inadequ implement depart take enforc action mean either impos relev restrict proprietor school remov school regist independ school alway aim safeguard educ wellb children school meet standard must improv quick face enforc action may result closur although depart claim school site role determin provid nation autist societi choos award leas assur hon friend depart work close essex counti council new free school provis ensur suitabl suffici special educ need provis essex includ two propos free school specialis meet need pupil autism spectrum free school whitham open septemb hawthorn chelmsford work toward open new independ special educ need disabl provis school open april tower school ep also offer addit place children autism spectrum disord essex neighbour area thank hon friend call import adjourn debat said start respons ensur concern right hon hon member reflect depart",
         "1182",
         "0.9986",
         "0.96097183",
         "Nick Gibb"
        ],
        [
         "2145",
         "1.0",
         "radio industri creativ driven except talent deliv groundbreak public servic program set backdrop digit transform view habit today plan revamp law help public servic broadcast compet internet age usher new golden age british radio provid job growth futur along content love",
         "88",
         "0.9313",
         "1.0169268",
         "Nadine Dorries"
        ],
        [
         "9450",
         "1.0",
         "govern appal atroc commit ukrain russian forc includ target civilian mass grave rape sexual violenc use weapon war hold putin regim account crime forefront intern effort ensur impun led group state refer atroc ukrain intern crimin largest group referr icc support state icc prosecutor karim khan jurisdict prosecut perpetr war crime crime human genocid work alli provid icc support investig provid million addit fund icc togeth technic assist militari polic personnel work partner establish commiss inquiri human right council fact find mission expert osc moscow mechan osc moscow mechan process address human right concern within osc countri mechan place sinc agre osc particip state includ russia investig report undertaken independ expert examin inform rang sourc moscow mechan report publish april found credibl evid russian war crime tortur rape kill innoc civilian forc deport peopl sir howard morrison appoint attorney general support ukrainian prosecutor general iryna venediktova domest investig war crime preserv collect evid vital fund independ organis gather evid war crime metropolitan polic set onlin report tool wit includ refuge submit evid launch million civil societi fund support organis ukrain includ help women girl peopl affect sexual violenc april minist state lord ahmad wimbledon joint launch murad code unit nation secur council alongsid nobel peac prize winner nadia murad institut intern crimin investig code vital step ensur justic survivor sexual violenc set global standard safe effect gather evid survivor wit includ ukrain follow horrif imag bucha town april presid unit nation secur council held meet secretari general ukrainian presid zelenski april unit nation general assembl vote overwhelm suspend russia human right council continu work ukrain partner intern mechan investig collect preserv evid war crime ukrain respons held account",
         "544",
         "-0.9829",
         "0.98348904",
         "Liz Truss"
        ],
        [
         "6862",
         "0.0",
         "absolut devast news five year nazanin freedom use polit bargain chip result unimagin ordeal famili govern serious question answer fail strategi bring home foreign secretari must come parliament explain action take ensur nazanin return home famili",
         "78",
         "-0.3384",
         "0.15710813",
         "Lisa Nandy"
        ],
        [
         "4985",
         "1.0",
         "congratul right hon friend member newark robert jenrick hon member birmingham selli oak steve mccabe secur debat thank backbench busi committe facilit reason set right hon friend time debat also time come report board governor iaea may subsequ resolut june censur iran agenc inquiri nuclear trace found three site action part agenc certain step forward goe nowher near far enough iran nuclear programm known sinc exist facil natanz arak reveal iranian democrat opposit nation council resist iran iranian regim alway assert programm civilian purpos alway deni attempt produc nuclear weapon simpli defi belief heard despit term jcpoa iran start enrich uranium later year move enrich right hon friend point consider beyond anyth need civilian purpos report june institut scienc intern secur conclud iran breakout timelin zero enough percent enrich uranium high enrich uranium heu assur could fashion nuclear explos iran want enrich percent heu heu percent could within week advanc centrifug clear time pressur enorm report went note whether iran enrich heu percent enough heu two nuclear weapon within one month start standard worri state affair made worri iran increas errat aggress stanc region inde wider world right hon friend right point iran activ state sponsor world lead state sponsor proxi engag foment conflict yemen syria lebanon right hon friend mention istanbul incid would like mention incid june bomb plot target gather iranian support pari disrupt french belgian author iranian diplomat accredit embassi vienna subsequ convict lead conspiraci sentenc year imprison three accomplic convict sentenc upheld two year ad court appeal antwerp may iran certain export terror throughout region across world offord feel need correct right hon friend point iranian politician opposit member target five british parliament risk blown terrorist incid jone hon friend entir right gather support ncri take place everi year pari attract support round world point conspiraci success consequ would catastroph right hon friend member newark mention iran revolutionari guard corp effect state within state direct lead execut terrorist activ iran point proscrib organis unit state mani wonder proscrib countri believ iran alreadi global danger iran appal unaccept prospect iaea report make clear iranian regim effect play game agenc mani year three locat agenc request visit regim raze build ground remov structur materi soil clear effort disguis happen nevertheless agenc discov trace anthropogen nuclear materi report state regim provid explan technic credibl presenc nuclear materi locat tehran regim clear shown action intent whatev good faith iaea regim take step advanc enrich programm instal advanc centrifug restrict abil iaea inspector monitor nuclear site turn two devic agenc reli monitor enrich uranium gas natanz initi plan remov surveil camera nuclear facil june reuter cite confidenti iaea report reveal iran escal uranium enrich prepar use advanc centrifug underground fordow site easili switch enrich level joint statement board governor iaea june franc germani express concern continu nuclear activ breach jcpoa point alarm accumul enrich materi caus great concern reduc time would take iran break toward first nuclear weapon posit therefor clear known iran take activ step produc high enrich uranium credibl purpos produc nuclear weapon question must whether purpos continu urg iran fulfil oblig jcpoa perfect clear intent whatev continu effort engag iran extra mile may laudabl frank seem increas futil iran clear regard west weak almost open laugh new cours call consider given whether seek adher jcpoa basi futur deal iran realist sensibl rather cling vain hope iran capabl mend way respond iaea censur work unit state intern partner refer iran secur council view reinstat six resolut suspend jcpoa initi implement iran must learn flout jcpoa real consequ west unit appli intens pressur possibl iran wind nuclear programm sinc abund clear peac purpos aggress quit simpli iran rogu state rogu state possess nuclear weapon prospect west happili contempl inde toler",
         "1378",
         "0.9952",
         "0.8615016",
         "David Jones"
        ],
        [
         "5729",
         "0.0",
         "address mani audienc mani chamber quit intimid true friend behind real oppon face gather convent demand one must polit polit one must conscious come hous place jimmi boyc man came part societi enough know unemploy mani year victim cruel polici cost much great talent nation past year come differ background fight caus jimmi support hope way measur servic provid rotherham short two year member hous also conscious fact follow footstep stan crowther well known hous great public servant rotherham year polit life also conscious follow footstep brian malley man inspir first becam involv polit collaps dispatch box anoth victim stress public life like everyon els glad tribut paid john smith press speak ill dead perhap time time old friend galleri may speak good live last week best week worst week came hous tuesday john smith greet said would day would rememb rest life john smith talk dream dream extinguish thursday left spent whole day rotherham see steel plant colleg talk asian parti member left messag hope new better britain proud elect peopl rotherham repres interest parliament alway happi choic first member member yorkshir sir thoma wentworth later earl strafford older member hous may rememb execut bill attaind promis life would save king charl cours sacrif ala right hon member kingston upon thame lamont right hon learn member putney mellor today must know poor thoma wentworth felt given full support prime sure sign mount polit scaffold put trust princ thoma wentworth last word spirit rotherham inde yorkshir ever sinc one sturdi reject authoritarian centralis forc toryism repres throughout age rotherham place thoma pain nobl common brought democraci america right man europ even forc exil pitt govern built great suspens bridg know mani hon member know thoma pain great manufactur well great democrat bridg feat great engin import mani way enunci right man pain bridg built walker brother rotherham whose cannon sunk napoleon fleet trafalgar would tom pain find return rotherham today great manufacturi adam smith base wealth nation disappear job gone sinc coal mine promis britain energi sourc safe peril foreign disturb cap local council money build home homeless prevent centralis administr sinc charl pain would find poverti rotherham sad say bad anywher europ inde dismiss govern servic argu fair wage public servant poor paid public servic argu attract breed corrupt collus neglect went augment salari suffici enabl worker live honest compet would produc good effect law land offer merchant govern side hous alreadi knew thoma pain great democrat friend rotherham manufactur came news even believ statutori minimum wage year time problem pain would find would anyon visit rotherham town peopl whose spirit unbroken despit thrown past year pedestrianis town centr one nicest europ spoil ala pressur shopkeep aris declin purchas power citizen rotherham one world advanc engin steel plant ue cut edg modern technolog must say hon friend talk steel old industri steel one modern advanc sector economi new partnership chamber commerc train enterpris council local council trade union support uniti common caus promot rotherham tom pain would also find great pain noth els feel rotherham succeed britain must play full part europ britain part europ sure yorkshir part britain pay tribut right hon member old bexley sidcup sir heath father hous sinc stood yes tori vision intern isolation yellow streak appeas opt alway shame conserv parti shame much polici today part europ govern bench may want europ state take want decri centralis yet gone divis lobbi vote measur measur measur transfer power local give friend privatis compani quango want see power share downward region communiti horizont sister unit civil societi europ want see power made account live intern communiti trade travel money idea porous frontier least human be subject majesti citizen europ right human spirit protect regul activ yes europ import left brussel fight british interest must promot transpar democraci account european institut tawney describ hereditari diseas english nation rever rich went men respect must ceas respect apologis hon ladi present madam deputi speaker refer right man quot men see first ppc member england countri europ switch bbc everi five second brylcreem spokesperson bond market tell dollar bbc itv tell price stock market moment anywher world ceas report valu need bring cohes back communiti blame take lead rule societi get public interest hand tiller state instead sticki finger mani conserv member friend till media take lead put price everyth know valu noth obsess cash britain remain poor man europ itali gross domest product per capita exact one half great britain overtaken busi preach europ tri teach europ secret unit kingdom econom record commit use jame fenton pleas see old friend becom professor poetri oxford fault think small act big perhap forgotten lesson learn lesson partnership lesson success countri europ germani even unif lower unemploy record benelux countri new entrant success proclaim thatcherit prime minist favourit holiday countri spain worst record job creation balanc develop core answer vital import rotherham one intend commit manufactur dead despit best effort govern die rise sun come continu tri save sink england find japanes invest go germani franc leav shore may refer socialist favourit sunday read sunday telegraph tell well germani japanes research develop centr instal japanes prefer germani high skill base good labour relat posit europ engin growth right hon friend member bethnal green stepney shore blame balanc trade europ say year polici destruct partnership lack invest money flow oversea fault fact would learn european partner competitor britain would much better shape econom question privileg mani convers john smith rotherham talk constitut chang labour would like introduc end absurd spectacl hereditari member anoth place make cast law need nation govern scotland wale region assembl need elector reform see way govern part constitut packag think necessari new britain john smith commit full employ trade union right see flesh new programm reconstruct live britain great saw war time secur heart europ europ europ des patri general gaull said difficult four nation fatherland word use easili british peopl unit state europ step stone tennyson parliament world either mani year work europ find german german french french italian italian britain seem live perman ident crisi mean british old toryism die new labour yet born consequ morbid symptom corrupt xenophobia lie heart cabinet everywher found govern work hostil europ found nation french communist italian fascist programm philipp villier conserv franc want europ protect import outsid communiti want also europ nation control stop immigr like chief secretari treasuri father came refuge fascist europ europ describ philipp villier one want part inde even sure whether conserv member believ europ close door foreign immigr export around world europ need believ europ defend interest time countri deepen friendship countri germani declar interest wife word victor hugo franc adversari england better enemi conscious return countri made return elsewher europ work mani year learnt much learn might bring hous steadi patriot world alon friend everi countri remain british proud school made health servic put togeth crack head open hope could kind unit kingdom children grow countri alway refer faith hope chariti greater concept justic argu justic peopl rotherham strive econom justic unemploy social justic weak disabl peopl rotherham much agre say best tribut could pay john smith would pass civil right disabl person bill recent talk must plain justic crimin walk free england opt europ mani part communiti unfortun seem opt decenc law order deliv part messag time hous behalf peopl rotherham shall well pleas",
         "2977",
         "0.9998",
         "0.1934466",
         "Denis MacShane"
        ],
        [
         "614",
         "0.0",
         "decad ago gather like would wake rake ash labour fourth elect defeat everyon ask ever win left britain doom end progress polit today contrast almost taken grant labour histor second term power decad right seen divid incap emerg long period tori valu held sway elit selfish individu belief thing societi intern equival insular isolation led britain turn back europ world passion profound reject valu reject elit believ countri ever fulfil true potenti peopl fulfil potenti thing societi communiti intern communiti best work other valu belief equal progress belief power communiti forc good home abroad valu hold strong mario cuomo said campaign poetri govern prose danger day day busi govern keep economi track get detail health educ improv sort deal innumer practic obstacl larg small strewn across path progress lose sight destin destin clear build britain modern toler nation power wealth opportun hand mani basic analysi peopl held back fulfil true potenti econom failur poor educ poverti prejudic discrimin class inadequ access top qualiti servic job liber potenti remov barrier make aspir achiev ambit privileg limit achiev merit birth class race gender britain conserv long way lofti ideal fail modernis long time labour lack credibl abl win power even power deliv two elect victori later peopl ask carri core belief sustain submerg sling arrow outrag opposit furious power never mind power full second term first time histori answer take stock lift eye immedi hold high ideal strive return work renew energi determin cours patienc chang take time yet consid economi stabl weather downturn better mani best econom record europ lowest unemploy western world first clear sign public servic improv certain educ increas health first concert attack social exclus govern undertaken increas particip rate work one million children poverti sure start programm give depriv children least fight chanc overal crime polic number highest ever britain posit influenc world incompar higher year ago sort small way ban handgun equal age consent trebl women mps first black minist muslim mps countri differ feel harsh thatcher year yes natur huge amount remain mani peopl still wait unaccept long time nhs transport system nowher near world largest economi need street crime social disintegr part inner citi menac must tackl quick still mani peopl could work still much ignor much wast potenti much inequ accept challeng remain forward programm govern design meet still driven ideal modern fairer britain opportun open explain journey undertak refer ideal blow away fog design cloud sight work ever harder translat realiti today call share belief join battl lie ahead join battl extend prosper full employ part countri base platform econom stabil join battl invest reform necessari build strong public servic encourag greater opportun equal join battl tackl crime behaviour poverti build societi base right respons join battl sceptic phobe get britain back top tabl europ progress project second term next step new labour project ambiti programm labour parti enter second centuri first phase new labour becom modern centr left parti chart new labour next step understand first step collaps labour parti elector base pain dramatis defeat obvious sign broader shift polit societi labour stutter confront new world emerg divers fractur societi new industri new attitud work consumpt intern order integr yet unpredict anthoni crosland set new path futur social urg socialist acknowledg success capit understand consum societi advanc fast includ labour heartland labour seem forget crosland revisionist messag new labour part respons gone wrong strove modernis social democraci becom parti brought togeth wealth creation well wealth distribut enterpris well fair new labour put level aspir major centr appeal chang constitut bring date modern world new labour second phase lay foundat first phase new labour becom modern social democrat parti fit govern second phase use victori put place foundat would allow chang countri way last labour govern past tri make progress without firm foundat firm econom foundat particular get foundat right time wast bore housework govern structur within live transform framework econom manag matter whether price supermarket one week next matter today inflat lowest level year matter whether interest rate let pay mortgag threaten lose home today matter averag famili pay less mortgag compar earli nineti welfar reform get first term foundat right meant tackl unemploy new deal help halv unemploy lowest forti year introduc work famili tax credit minimum wage make work pay public servic let doubt inherit crime doubl wait list risen hospit bed cut near half fail reach basic level expect age math english infant class size far high polic number fall child poverti tripl invest rail tube stall railway subject botch privatis fragment complet area first term laid foundat invest reform strategi improv numeraci literaci primari school record primari school test result ten year plan nhs includ first ever independ inspect leagu tabl creation primari care trust come fruition transform local servic doctor nurs sinc crime disord partnership everi communiti polic number rise youth justic system overhaul burglari fell car crime auld report crimin justic system commiss year transport plan trebl public sector invest rail tube devolut hous lord reform peac process begun northern ireland also set foundat new foreign polici beforeth amsterdam summit britain total isol treat someth exasper contempt today approach summit barcelona britain high influenti posit strong construct relationship partner led way kosovo recent afghanistan debt aid new labour third phase drive reform third phase new labour drive forward reform build last chang better societi foundat care laid basi econom stabil sustain improv product enterpris measur form key part next month budget overhaul crimin justic system support victim wit bring persist offend justic thorough programm polic reform reform asylum system welfar reform cut even number work age benefit plus integr children credit new pension credit merger employ benefit servic huge cultur chang britain welfar system complet hous lord reform bed devolut make peac process northern ireland durabl long term britain take right lead place centr europ implement plan africa continu lead aid develop kyoto protocol climat chang basi sustain develop world alongsid core mission improv public servic servic comprehens detail plan chang reform broad support within public servic under plan four principl reform set pamphlet last week nation standard devolut flexibl staff choic aim redesign public servic around consum without invest reform get littl tori found eighti point design new structur health servic tackl fundament problem inadequ capac fashion reform around signific increas capac essenti build modern servic school transport across public servic labour govern blank chequ expect public servic run empti next month budget spend review summer countri face fundament choic either continu invest cut back aim continu invest question put money bottomless pit pound spent account see alreadi exist money gone extra money infant class size reduc money spent literaci numeraci togeth teacher dedic deliv result school new build tell money wast new surgic centr extra cancer heart oper extra critic care bed extra nurs ward tell patient use facil money wast money enough money use lever chang work second term ambit broad believ countri support enough valu unit clear destin sometim seem mere technocrat exercis well less well manag overrid moral purpos vital explain programm describ simpli point point principl principl reason chang make sake mean fairer societi aspir opportun open believ programm driven administr valu mean qualiti public servic social justic made real mean economi new job old one goe mean stabl mortgag rate mean give children someon univers hope enough nonsens half popul brain get student went univers today rise yet heard argument back extra undeserv opportun mean young woman nurs diploma abl work way becom consult nurs director nurs hospit chief execut mean first rate vocat educ system peopl get new better skill mean children depriv area get school parent help environ improv mean health care depend size wallet mean secur depend neighbourhood afford live mean decent peopl play rule see other refus gain part believ respons go opportun reason measur curb behaviour ensur peopl abil work remain depend benefit employ treat employe fair allow poverti pay increas pollut pay pollut environ make prioriti disciplin classroom without learn disciplin respect children fail learn school leav school unfit decent citizen two togeth opportun respons use collect power local communiti societi govern enabl peopl help root simpl belief fair fair peopl held back live poverti want chang amidst day day pressur ideal hold aloft sure hard see time time see final point import understand peopl sometim find ideal obscur govern get embroil event controversi though whilst domin news peopl think concentr cours opposit tri also even rank idea new labour remain controversi unclear even larg part polit discours britain assum true labour parti one put trade union busi indiffer financi disciplin addict tax spend weak issu crime irrespons state benefit unemploy social exclud back produc interest public servic give take odd except weak defenc foreign polici sinc govern plain thing ergo real labour unprincipl cours suit immens polit love true labour parti posit made unelect also suit left see labour parti pressur group campaign power fight posit rejoic principl given odd crumb govern tabl avoid harsh realiti take hard decis year conserv govern chang naïv deni chang win bang head brick wall hurt point want stop hurt devis brilliant solut ceas bang head wall chang posit win never right reason chang sustain long term right reason chang principl one posit hallow parti mani year tangl mistaken view parti true raison etr valu posit product circumst birth centuri polit ideolog settlement valu labour parti valu progress polit throughout age valu great liber reform centuri earli centuri well labour hero belief social justic opportun liberti belief individu best strong communiti societi other essenc new labour strip away outdat dogma doctrin hallow posit return first principl valu ask valu proper translat practic today world question generat labour member ask answer differ way new labour answer way want strong econom growth increas prosper ordinari famili need low inflat low interest rate requir financi disciplin want enterpris flourish post industri economi give peopl job need support work busi level tax discourag entrepreneur want protect poor vulner attack crime make sure crimin brought justic want stop work age poor poor need help work give benefit would never provid decent enough incom want rebuild public servic need make work consum servic peopl depend opportun help want shape world around outsid britain must allianc necessari arm forc allow yes financi disciplin one way got cut massiv bill unemploy new deal yes work busi also introduc minimum wage yes reform public servic also major countri world today increas health educ spend percentag nation incom yes tough crime also lift one million children poverti cut pension poverti huge regener programm underway yes prepar take militari action necessari also lead way debt relief intern develop especi africa henc confus talk earlier fit mould good never intend conform modern labour parti stay base valu principl right way forward countri confid hold firm cours hold true basi new labour chang basi british polit progress valu ascend end also valu british peopl need appli modern way popular look oppon come agenda revers last year see tori fall agre econom polici hope econom compet rub travel around europ look public servic dodg real test whether support extra invest someon said success polit chang parti chang opposit lib dem know whether oppos reform opportun sake know chang unpopular scuttl right pale imit tori call tax cut centr graviti british polit move direct new post thatcherit progress consensus born one proud consensus dynam economi fairer societi realis potenti togeth consensus public servic two decad need sustain invest invest work coupl reform understand frighten vital part retain abil chang britain help get need energi idea commit alon dialogu partnership offer indispens part success rememb ten year ago knee offic hope look forward ten year imagin could possibl societi fairer toler peopl differ prosper share qualiti public servic social mobil less poverti imagin could achiev pull togeth show determin stick valu believ right stick plan see britain modern fair strong",
         "4489",
         "0.9998",
         "0.025951512",
         "Tony Blair"
        ],
        [
         "7654",
         "1.0",
         "foreign minist canada franc germani itali japan unit kingdom unit state america high repres european union stand unit commit maritim secur protect commerci ship condemn unlaw attack commit merchant vessel coast oman juli kill british romanian nation deliber target attack clear violat intern law avail evid clear point iran justif attack vessel must allow navig freeli accord intern law continu utmost protect ship upon global economi depend abl oper freeli without threaten irrespons violent act iran behaviour alongsid support proxi forc arm actor threaten intern peac secur call iran stop activ inconsist relev secur council resolut call parti play construct role foster region stabil peac",
         "214",
         "0.931",
         "1.0235231",
         "Dominic Raab"
        ],
        [
         "2449",
         "1.0",
         "gene edit abil har genet resourc natur provid tool could help order tackl biggest challeng face around food secur climat chang biodivers loss outsid abl foster innov help grow plant stronger resili climat chang work close farm environment group ensur right rule place",
         "90",
         "0.9313",
         "1.0103321",
         "George Eustice"
        ],
        [
         "378",
         "1.0",
         "delight given opportun outlin action govern proud taken tackl tax evas tax avoid aggress tax plan govern done ensur peopl compani pay tax owe crack play rule day one introduc measur measur close tax loophol inherit increas punish break law drive forward tax transpar ensur forefront new global standard ensur intern tax rule fit centuri reform regim oversea territori crown depend increas hmrc power collect money pay public servic depend yes individu compani pay fair share tax exact govern ensur activ panama alreadi subject intens hmrc investig imper leak data examin close set provid fund oper independ taskforc sift million page data evid wrongdo rapid action taken govern also attach great import give hmrc resourc protect tax base last year summer budget announc extra million fund addit work tackl evas enabl hmrc recov cumul billion tax next five year opposit motion talk benefici ownership thank govern action regist compani benefici ownership live june first major countri list place free anyon access addit consult requir foreign compani properti bid public contract england provid benefici ownership inform heard rang speaker today hon member hay harlington john mcdonnel interest topic ask question year labour govern manag past week confirm parti want creat atmospher envi heard hon member dunde east stewart hosi much welcom measur govern introduc also attack labour lack action year heard inform speech hon friend member torbay kevin foster member public account committe share expertis area also heard interest speech hon member newcastl upon tyne north catherin mckinnel chair founder group awar propos new offenc introduc term prosecut compani fail prevent evas want particip consult process legisl offenc hon friend member south suffolk jame cartlidg brought expertis busi highlight step govern taken help low earner hon member oldham east saddleworth debbi abraham use fair dodgi statist pleas confirm amount billion made avail complianc enforc increas resourc last two parliament rais question trust ask whether arrang relat benefici ownership compani extend trust mani legitim reason creat trust vast major trust across use legitim purpos set blanket requir would distract action area concern shell compani hon friend member bracknel lee made interest speech recommend abolish corpor tax complet govern readi point time hon member newport west paul flynn made angri speech includ rather lot person attack individu conserv politician hon friend member lew maria caulfield made excel speech highlight labour parti polit envi step make incom tax system even progress hon member blaydon anderson spoke detect strong streak polit envi anyon els speech hon friend member newark robert jenrick made good speech credibl action corrupt crimin govern taken gave excel incis summari done draw knowledg art world heard interest speech hon member glasgow south stewart malcolm mcdonald confirm hmrc work close interpol inde finalis list summit speak heard help contribut member northern ireland welcom step govern taken conclus countri lead way tackl tax evas tax avoid bring billion offshor tax evad sinc action taken made chang tax law last parliament alon parliament alreadi announc legisl although labour sudden decid give lectur tax remind hous came offic foreign nation pay capit gain tax sell properti privat equiti manag pay lower rate tax cleaner rich homebuy get away without pay stamp duti own home compani taken action fix increas amount paid incom tax top billion year ago billion made tax intern competit cut incom tax ten million peopl reward aspir made tax system better fairer effici record proud urg hous vote today opposit motion",
         "1242",
         "0.9987",
         "0.9682518",
         "Harriett Baldwin"
        ],
        [
         "8162",
         "1.0",
         "million found past year cycl walk great way stay fit eas congest road bit environ build back greener pandem determin keep trend go make activ travel easier safer everyon million packag mark start promis great summer cycl walk enabl peopl make sustain travel choic make air cleaner citi greener",
         "99",
         "0.9781",
         "0.84364206",
         "Grant Shapps"
        ],
        [
         "3448",
         "1.0",
         "throughout pandem secretari state act signific support famili financi distress thank children minist hon friend member chelmsford vicki ford minist respons univers credit hon friend member colchest quinc mani discuss subject week uplift univers credit million local author provid famili emerg food essenti suppli lifelin support place food insecur continu rise januari septemb harlow food bank gave tonn doubl tonnag last nation household experienc drop incom sinc late march estim million children affect food insecur period accord food foundat adult said skip meal entir set continu neil parish right hon friend quit right food insecur exact environ food rural affair committe report found agre sugar tax implement rais million would cost million per week support free school meal sure would money well spent believ sugar tax meant help poor peopl get food robert halfon hon friend absolut right come later ask huge amount new money treasuri redistribut proceed exist sugar tax disproportion hit low incom back lower incom free school meal food programm offic budget respons forecast rise unemploy mean work adult could face food insecur time plan combat food hunger govern rather seri patchwork first urg govern collect publish proper data child food insecur recent dfe estim number children elig free school meal provid recent letter children minist million figur januari know sinc world turn head food foundat suggest figur like million children newli regist govern credit number scheme reliev food hunger done ensur work septemb exampl elig mother receiv healthi start voucher uptak figur declin much could done boost awar scheme digitis healthi start voucher ensur elig free school meal regist quick second free school meal extend school holiday temporarili long big effect pandem continu felt would support temporarili acknowledg children risk go hungri term time provid free school meal despit provis univers credit thing mention govern know risk go hungri holiday third report hous lord select committe food poverti health environ hungri chang fix failur food recommend calcul univers credit allow govern must consid cost buy prepar healthi nutriti meal eatwel scheme fourth govern implement privat member bill introduc hon member south shield mrs school breakfast give disadvantag school fund provid free school breakfast children risk hunger know increas educ progress two month averag gcse achiev goe children regular breakfast fifth need programm holiday activ summer everi school holiday offer academ well mental health wellb support seen work constitu harlow children get fed cours understand signific financi constraint treasuri right propos need new money also time promin retail supplier manufactur take much bigger role match fund govern invest tackl child food insecur good tick box actual act million year revenu tax sugari drink cover cost propos sugar tax mention hit famili lower incom redistribut revenu fund polici propos help famili face food insecur kellogg found hunger classroom cost english economi least million year evid show feed children proper increas educ attain boost life chanc urg govern set serious plan childhood hunger least free school meal go winter easter holiday",
         "1060",
         "0.998",
         "0.9597249",
         "Robert Halfon"
        ],
        [
         "6632",
         "0.0",
         "beg move leav given bring bill make provis develop unifi legal profess enabl solicitor right exercis right audienc court tribun civil crimin england wale regul provid advertis pupillag tenanc barrist practic enabl barrist establish practic anywher england wale direct access seek legal advic appropri represent mandatori intervent solicitor barrist clerk person whatsoev enabl barrist solicitor practis togeth mutual accept form enabl barrist litig profession fee enabl barrist advertis abolish rank titl queen king counsel two counsel rule first thing must sum word let kill lawyer dick said henri part ever moder best friend lawyer propos take extrem cours propos save lawyer save consum bill deal three problem first scale legal cost bbc libel case estim legal cost fee work per day qcs junior second process slow arcan cumbersom ineffici third system characteris monopoli restrict practic varianc competit etho time much regul barrist barrist therefor first thing bill give solicitor right audienc everi court thus end barrist monopoli higher court welcom custom point mini equal well peopl prefer repres someon know know problem case rather total stranger thrust last minut often day case rich buy barrist choic poor get murphi law often murphi bill welcom solicitor allow want specialis advocaci inde march last year law societi launch campaign end bar monopoli advocaci said citizen entitl retain advoc choic employ lawyer necessari say hear hear law societi afraid law societi gone littl quiet probabl threat barrist conveyanc hand bank build societi unless law societi lay tell law societi conveyanc bank build societi anyway principl equal access court right second bill abolish distinct titl confer lord chancellor doubtless idiosyncrat wholli undemocrat way behind close door appeal essenti mark status one wrote congratul newli appoint talk listen advic work class student would avoid bar lloyd say entri rout obstacl rout elabor bizarr might invent produc right bill regul pupillag ensur proper train paid regul tenanc ensur advertis open encourag pool fee lord gifford chamber stop exploit head chamber bill allow barrist set anywher without necess clerk allow barrist take custom without go intermediari solicitor alreadi take case abroad interest note barrist gird loin revis practic deal common market competit give custom countri benefit bill allow barrist solicitor begun great benefit profess public countri unifi legal profess work well would see reason obsess keep two even three legal taximet tick shuffl paper peopl fro aggreg dramati persona case set common train barrist solicitor import note bill open way unif allow solicitor barrist work togeth way suit purpos enforc unifi profess bill keep specialis elimin excess import open gateway chang bar end rigid inflex pave way democrat open effici profess adjust time govern barrist made gospel competit seek inflict damag legal profess govern manufactur misguid applic competit say test restrict practic wherev must public interest conveni dread complac conserv profess test barrist need brought kick struggl doubt plead centuri healthier open profess better cheaper servic public want close proud restrict exclus profess one serv peopl protect right liberti bill provid",
         "1219",
         "0.9925",
         "0.46855173",
         "Austin Mitchell"
        ],
        [
         "1382",
         "1.0",
         "follow earlier statement depart health social care minist would like inform hous independ inquiri issu rais david fuller case today publish progress updat work date found https progress updat set transit local independ investig initi maidston tunbridg well nhs trust current independ inquiri secretari state health social care announc novemb last year describ work alreadi undertaken part independ investig feed inquiri well import common theme emerg famili interest parti gave rise amend inquiri term refer independ inquiri publish final term refer februari although local investig constrain take evid crimin prosecut david fuller way sir jonathan michael set urgent theme area concern aris investig time progress updat respons nhs trust secur access polici procedur versus practic oversight regul activ manag area servic cover regul theme share trust august subsequ nhs england nhs improv trust put step place regard mortuari practic ahead substant initi report inquiri nhs england nhs improv continu work trust provid assur current guidanc human tissu author hta addit measur taken improv effect secur place mortuari activ progress updat make clear first phase independ inquiri firm way describ rapid progress far achiev also inquiri engag wit far experienc high degre expect continu testament hard work sir jonathan team progress updat also set next step includ revis time initi report matter relat maidston tunbridg well nhs trust due volum evid emerg initi report avail later year follow final report next year look broader nation pictur wider lesson nhs set real urgenc understand fuller abl carri shock unlaw action went unnot inquiri must allow time need fulli consid relev evid assembl find inquiri continu liais kent polic ensur identifi possibl crimin conduct refer swift investig line term refer hta ask secretari state provid advic regulatori framework follow conclus murder trial david fuller public revel sexual offend bodi hospit mortuari maidston tunbridg well nhs trust hta advic receiv decemb along short progress updat publish today found https hta focus three area sinc decemb prepar inquiri work stakehold licens mortuari secur start revis hta guidanc licens mortuari post mortem sector implement plan later year detail avail via follow link https",
         "701",
         "0.9969",
         "1.0252146",
         "Maria Caulfield"
        ],
        [
         "9643",
         "1.0",
         "nobodi life put risk support govern bring peac stabil afghanistan situat region evolv right protect local citizen stood shoulder shoulder arm forc former soldier know bond brother fight side afghan stood risk live make better countri owe debt proud home secretari final close chapter thank servic",
         "111",
         "0.8434",
         "0.80343175",
         "Ben Wallace"
        ],
        [
         "7248",
         "1.0",
         "delight speak confer year done much provid platform debat farm industri must first acknowledg tough year year start drought end torrenti rain flood yesterday saw impact flood home farmland worcestershir gloucestershir difficulti compound pressur price high feed cost diseas bovin schmallenberg would like pay particular tribut generos princ wale duke westminst whose recent donat bolster work organis royal agricultur benevol institut support face need hardship distress despit problem much posit farm countri success produc food million peopl support industri add near billion economi also add valu mani way enhanc valuabl habitat manag landscap underpin recreat tourism farmer landown demonstr daili basi grow economi improv environ two mutual exclus twin object alongsid determin safeguard anim plant health must guid everyth defra see defra role work creat right condit rural busi thrive grow includ invest million superfast broadband rural area million remot communiti also overse million programm get mobil phone mast rural area help overcom perenni frustrat come flood invest billion flood prevent addit million secur autumn statement alongsid money brought success partnership fund programm mean money invest current spend review period previous four year period invest focus brick mortar project complet provid improv level flood protect hectar agricultur land absolut convinc improv environ enabl farmer continu make signific contribut grow prosper economi want work drive growth turnip townshend sir joseph nickerson industri long forefront innov develop new process technolog land manag techniqu someth must continu champion world popul grown billion billion today new technolog food agricultur help keep pace grow popul crop yield increas per cent land use increas eight per cent indur goklani calcul tri support today popul use product method instead farm per cent land would need use per cent also estim product given quantiti crop requir per cent less land reason govern whole invest million annual research agricultur food drink sector also work close david willett scienc minist strategi look best capitalis world class scienc technolog base increas competit agricultur sector well address challeng food secur need abl translat research new product process technolog talk innov also consid million farmer countri grew product million hectar per cent world arabl land put context time larger surfac area fulli appreci strong feel side debat need consid proper overal context balanc understand risk benefit howev afraid make case public potenti benefit beyond food chain exampl signific reduc use pesticid input diesel well make case home also need rigor process place ensur safeti crop believ offer great opportun also recognis owe duti public reassur safe benefici innov key growth howev must put condit place get peopl hair let get good want farmer farm respons farm regul taskforc recommend made commit reduc regulatori burden farmer keep close touch progress met richard macdonald chairman implement group christma updat result work fewer dairi inspect year must crack replic across industri well reduc burden paperwork start posit trust farmer determin move toward system earn recognit system would acknowledg major farmer adher high standard ensur reward less frequent inspect mani chang made grab headlin believ begin make practic differ sinc remov unnecessari complianc cost everi ad howev room complac know exampl area like movement livestock still requir real work keen hear farmer regul affect busi day day order work improv system put farm sustain foot need high skill workforc need entrepreneuri ambiti peopl motiv succeed skill half million peopl employ agricultur horticultur almost million food drink sector total welcom lead industri take promot young peopl support new entrant least bright crop initi work chang percept continu support industri effort get right peopl right skill right job david heath farm minist make detail announc futur farm group later today excit opportun everi level industri rang agronomi research engin encourag graduat peopl experi skill sector take advantag peopl need know mani role involv pound budget scienc put food nation plate person commit ensur seiz opportun grow global demand product present food drink export worth billion seventh year continu export growth great exampl new market open lengthi negoti russia lift ban british beef lamb import deal potenti worth million next three year china also open door british pork enabl export fifth quarter littl demand valu million year novemb visit shanghai part largest ever deleg food drink compani open food hotel china trade fair also attend recept hong kong carv prime piec yorkshir beef promot new agreement sell beef bone intend return china later year build foundat british food increas market abroad thank excel reput anim welfar standard highest world top qualiti ingredi raw materi coupl rigor food product system total reliabl traceabl must capitalis opportun exist across globe also huge support amongst public farmer genuin desir buy local product need convert support buy decis support growth sector wider economi home current per cent type food abl grow countri current import per cent food could produc exampl billion trade deficit dairi product year bring tonn ice cream doubl send abroad tonn yoghurt six time export british fruit veget grower similar posit everyon got behind team last summer must get behind food produc buy british boost rural economi enjoy best qualiti produc world addit role farmer play food produc public place huge valu work environ govern support work scheme around per cent agricultur land cover agreement continu develop scheme new winter bird feed option come stream week recent tedney farm worcestershir becam higher level stewardship scheme deliv benefit agricultur environ import year cap reform plan attend agricultur council meet person work hard build allianc member state council parliament decemb host lunch agricultur minist countri stockholm group explor common ground sensibl reform also import cap reflect work work devolv minist argu region level current negoti know would like european agricultur end although might get time clear round due run pillar continu would like decis food produc left market farmer alon decid crop grow anim rais accord demand food sector alreadi happen farmer risen challeng per cent support payment decoupl howev believ role taxpay money compens farmer work enhanc environ provid public good market mechan farm make real contribut habitat wildlif must abl continu develop scheme throughout process made clear commission ciolo reform continu process set train macsharri fischler support seek take backward continu push greater simplif afford anoth round unnecessarili complex cost reform would risk undermin progress made rpa saw achiev best ever perform decemb pay billion farmer last time cap reform chang horrend complic struggl implement end pay million disallow euphem claw back money explor farm broader contribut societi vital find way place valu natur make inform choic come assess econom valu one form farm environment valu anoth establish natur capit committe chair professor dieter helm explor might abl creat valu system around natur capit acknowledg divers benefit enjoy wildlif landscap alongsid need live work countrysid potenti exampl credit system take account differ habitat relat scarciti build sort offset approach pilot plan system section agreement approach alreadi deploy usa australia hope committe work help identifi system recognis import agricultur product wildlif move away polaris natur previous debat health anim import role play economi environ must heart everyth defra must ensur nativ anim healthi econom reason export beef lamb total million alon import role play support landscap biodivers mani delic landscap wildlif landscap inspir famous artist continu attract million visitor depend presenc anim herdwick lake district southdown down anim benefit deriv sum contribut farm make societi bovin press anim health problem impact cattl farmer famili communiti overst last year led slaughter cattl england cost near million last year bovin cost taxpay million rise estim next decad diseas left uncheck come farm background repres constitu cattl industri central economi charact long taken deep interest issu shadow minist tabl parliamentari question subject met intern expert field research countri past fifteen year clear demonstr cattl badger transmit diseas cull badger lead reduct diseas cattl carri larg enough area suffici length time must also learn experi countri show cattl control without also bear surround wildlif popul new zealand number infect cattl deer herd reduc mid fewer result rigor biosecur strict cattl movement control proactiv wildlif manag similar approach success deploy australia republ ireland usa decis base advic nfu postpon cull last autumn disappoint one right one term effect deliveri polici would like thank nfu leadership staff member huge amount work put ground courag public stanc emot issu pilot ahead summer establish project board key partner includ defra agenc nfu natur england polic overse deliveri pilot cull commit work togeth partnership ensur cull ahead establish sustain model futur deploy cull howev one element govern approach tackl bovin continu strengthen cattl movement control increas surveil test regim invest research badger cattl vaccin also keen pursu better diagnost techniqu pcr work european commiss way forward vaccin inject cattl vaccin legal valid diagnost test still way acut awar burden increas stringent measur place farmer determin use everi tool dispos bear diseas cattl badger presenc schmallenberg shore anoth remind mani threat livestock diseas way stop known cure defra fund research collabor countri find virus spread work impact continu work ahvla rais awar provid test farmer flock face anim diseas though increas vigil diseas plant tree ash dieback serv time remind need prioritis plant health central plant economi landscap histori octob ask chief scientif advis professor ian boyd conven independ taskforc tree health plant biosecur review strateg approach plant health think outsid usual polit regulatori resourc constraint initi recommend lay groundwork radic reapprais approach plant health interim control plan chalara publish decemb build tree health summit organis forestri expert campaign group busi two cobr meet chair respons across govern across reduc spread diseas maintain ban import movement ash tree work research council european partner research spore product infect site understand genet resist farmer landown voluntari organis general public crucial role play help identifi diseas potenti resist tree also work horticultur nurseri sector resili determin diseas tree plant given prioriti anim live countrysid life repres rural constitu year doubt vital role farm play societi econom environment social believ govern role help need get way determin put place condit enabl industri capitalis real opportun exist home abroad put firm foot futur flourish industri boost growth economi improv environ confid industri deliv societi look forward work wish success new year",
         "3824",
         "0.9999",
         "0.9431685",
         "Owen Paterson"
        ],
        [
         "4254",
         "1.0",
         "want talk interest issu global healthcar someth believ talk long new model care account care organis current hot topic long becom normal interest talk inescap irrevers shift patient power chang face modern medicin beyond recognit want talk eas pressur frontlin doctor nurs alreadi work incred hard creat stronger partnership doctor patient lead better outcom emma hill editor lancet said everi patient expert chosen field name life doctor regular find patient know rare diseas way fundament chang dynam doctor patient partnership even one patient boss perhap eloqu expon chang professor eric topol latest book patient see describ death medic patern democratis healthcar chang driven technolog abil use data differ although healthcar lag behind travel retail bank sector embrac possibl cusp chang modern healthcar profound human invent internet chang welcom doctor patient given improv care follow patient take respons health outcom surpris know want nhs get first may surpris howev know british peopl govern strong commit nhs valu extra billion invest parliament believ well place may surpris even believ run faster toward destin like less abl cope huge pressur doctor nurs face frontlin last month met michael milken wall street junk bond trader went prison becam philanthropist major funder cancer research ask advic would give grandchildren lead live said think world world medicin look decad time take peopl complex condit mani prescrib confus cocktail medic differ set instruct make easi forget mistak dose british entrepreneur live california invent microchip size grain sand make patient live much easier chip attach everi pill swallow activ liquid stomach phone record exact medicin actual taken earli evid suggest could result signific behaviour chang patient notabl much better adher drug regim one studi near patient reach target blood pressur use digit pill think suffer mental ill app call ginger develop advoc say detect depress suicid tendenc greater accuraci psychiatrist without even open app monitor whether got bed skip meal text call friend line normal social activ track averag day look like patient app detect deviat norm alert clinician relat check see take child earach moment parent book appoint travel surgeri get child ear check infect otoscop entrepreneur develop simpl attach iphon take incred power accur pictur insid someon ear mean click parent send imag doctor home deliveri problem rectifi without step outsid home time money save famili consum experi revolutionis way onward march modern technolog final take place healthcar chang someth give patient much greater control healthcar respons health outcom good bad doctor entrepreneur vinod khosla say soon never ask doctor diagnosi somewhat provoc ask would trust human brain make judgement singl drop blood contain biomark analys comput even symptom like predict partnership doctor judgement inform provid data analysi best comput chess programm beat best human player yet defeat human work partnership comput partnership seem blind obvious happen like transit tenni depend linesmen wimbledon use hawkey move quantifi self medicin present huge opportun improv qualiti accuraci diagnosi perhap high profil exampl angelina joli choos doubl mastectomi genet sequenc also clear era chronic condit patient take respons manag condit outcom better expert patient programm show train patient condit felt reduc pain tired breathless within month report reduc use nhs servic consult hospit visit likewis come lifestyl decis like obes relat smoke doctor held respons work patient prepar take respons transform life chanc one disagre time move away ivori tower theori gritti job implement today therefor talk govern plan make happen eleph trap need avoid process first let look progress date last year pursu ambiti digit strategi nhs three year ago perhap foolish said want nhs paperless sure someon somewher abl find lone sheet paper use year time spirit ambit remain aliv well least thank inspir leadership tim kelsey team nhs england exampl last year number practic offer access summari record rose last year number practic offer rose public still lower want april next year patient abl access full electron record summari record includ inform health interact across system includ interact social care system well patient abl read medic record add comment also abl link wearabl devic like fitbit jawbon import improv clinic care come electron health record cultur chang come transpar januari world wide web foundat rank first world open data includ health categori similar professor berwick world renown institut healthcar improv commend serious commit evolv nhs learn organis commit pursuit safer care describ slide stand start year ago new mynh websit drawn togeth outcom perform data across whole health care spectrum individu consult surgeri dentistri practic care home hospit mental health facil site hold individu piec perform data visit time mani via bbc mynh much function continu improv help drive consum revolut nhs stop new websit month public never event million respons friend famili test new duti candour new patient safeti investigatori servic ipsi cqc rate hospit depart gps soon tell patient local hospit cqc rate inform referr choic sir bruce keogh review profession code ensur peopl abl report open learn mistak next march publish estim avoid death hospit said juli kind intellig transpar would empow patient could also help make nhs world largest learn organis proud progress build cultur anyon believ nhs passion govern still much work still put mani obstacl way doctor nurs want right thing bureaucraci blur account blame cultur still common eleph trap need avoid follow area need faster har opportun offer empow patient sure peopl say technolog help reduc bureaucraci elimin repetit form fill part thank presid obama health inform technolog econom clinic health act gone faster countri digitis hospit record chang met huge resist doctor extra burden reduc contact time patient put simpli mani doctor feel like screen contact replac eye contact one recent studi video patient visit found doctor spend around one third time look screen anoth found emerg room doctor spend time fill onlin form patient emerg depart arizona tri attract applic state advertis electron medic record sell point hospit think new system addenbrook help tip special measur lesson must ensur new system improv rather reduc clinician product help rather hinder job professor robert wachter univers california san francisco say mean understand digitis healthcar adapt chang rather technic chang chang behaviour rather new process discuss later need get right general practic well hospit one best reason invest digit record allow communic team differ organis patient complex need make work easier also risk account patient blur let read line recent report tragedi nhs assur becom circular cqc take reassur fact phso investig phso take assur cqc would investig sha continu give assur base part cqc posit monitor ask assur receiv perceiv let read line complet differ report differ tragedi system cultur organis took inappropri comfort assur given organis result organis often fail carri suffici scrutini inform instead treat assur fulfil independ oblig morecamb bay mid staff respect perhap greatest healthcar scandal recent histori common care admit one biggest lesson learnt time health secretari buck stop peopl stop one technolog allow easi communic person respons care person exist must never let share record becom excus dilut account lack person touch work done academi medic royal colleg clinic account outsid hospit import delight guidanc publish today comput system expens also total wast money look connect health catastroph billion year came virtual noth biggest ever disast invest right intent mani practic divert resourc away frontlin care often invest target improv organis conveni rather patient experi lesson sure increment improv close tie clinician product patient experi valuabl big bang chang carri much greater risk need honest possibl public trust look person data secur rememb vinod khosla biomark drop blood send sampl laboratori worri secur high person inform plain truth nhs yet public trust compet protect basic person inform hospit surgeri social care organis yet proper data secur protocol place new data guidelin develop dame fiona caldicott nation data guardian well cqc review vital let ambiti come technolog let humbl well alway got right especi interf rather enhanc relationship doctor patient delight announc today professor robert wachter ucsf professor also author digit doctor world expert promis pitfal new system conduct review nhs critic lesson need get right move digit futur guid inspir professor berwick safeti look forward receiv report next summer four eleph trap avoid suggest need make realiti patient power alreadi start journey point plug gap architectur make sure squar opportun ahead signific financi oper pressur face plug gap stick plan confid promis juli realli make nhs patient power world first need plug transpar gap publish inform anywher els need ensur truli intellig transpar king fund report ccg account import announc today press ahead chang accord advic chris ham advis aggreg rate possibl human judgement use interpret data nhs england provid rate ccgs similar rate ofst cqc provid follow categori outstand good requir improv inadequ element human judgement king fund advis import help peopl good sens qualiti healthcar provis area compar local june next year publish overal rate cancer dementia diabet mental health matern learn difficulti line king fund recommend ultim judgement rate made algorithm expert committe delight announc name peopl chair two expert committe today harpal kumar cancer research cancer paul farmer mind mental health overal ccg rate publish next june use data inform current nhs england ccg score methodolog howev ian dodg leadership nhs england develop new methodolog base wider respons ccgs local health economi ian consult ccgs new methodolog place start next financi year inform next set rate publish june also ensur public get clear inform qualiti local surgeri inform health foundat work underestim bold publish rate never done anywher els world second need tackl account gap touch earlier patient truli control know buck stop care made good progress front introduct name gps name bed hospit academi report name respons hospit consult go principl name respons clinician plan guidanc next year today report academi medic royal colleg anoth big step forward mention third need tackl time gap patient never power give doctor enough time listen manag never make right decis time listen frontlin staff need think across system today announc point nhs england plan help one group particular gps first cut ludicr amount time spend chase differ organis payment allow everyon access gps payment system second stop pointless referr hospit back gps miss appoint total wast profession time account around appoint third must make general practic truli paperless embarrass someon told believ nhs current world largest purchas fax machin final need support gps innov local across organis boundari today independ review challeng fund shown statist signific reduct minor attend patient practic famili doctor best keep peopl happi healthi outsid hospit next system need ask whether realli realli give patient choic control care everi avail opportun continu explor way increas choic matern end life care roll person budget nhs england promis plan end year final difficult must continu tackl cultur gap still act barrier put patient first professor sir mike richard frequent express astonish variat care found nhs hospit much greater anticip world class hospit like frimley salford royal alongsid hospit sad put special measur cqc say variat princip money challeng though current financi situat leadership cultur peopl becom doctor nurs want right thing patient often defens cultur make pay high price speak think made mistak seen other make mistak must accept alway mistak sometim tragic consequ overwhelm patient interest open transpar cultur learn mistak stop repeat patient interest serv elimin variat hospit within well system justifi mortal rate higher admit sunday compar admit wednesday hospit must allow roster accord patient need point low moral reason chang simpli say highest moral almost alway found hospit best look patient conflict motiv workforc cultur contrari overwhelm evid togeth must challeng resist improv put patient interest first utmost vigour technolog healthcar never end must improv safeti babi deliveri accur identifi heart attack diagnos cancer quick must control move away cultur get given democrat cultur first time centuri medic histori patient realli boss tech optimist tech sceptic plenti evid use unasham one optimist come come chang healthcar man versus machin man machin accomplish togeth realli limit",
         "4279",
         "0.9999",
         "0.9173566",
         "Jeremy Hunt"
        ],
        [
         "9270",
         "1.0",
         "retail sector drive forc economi play import social role communiti across industri employ million peopl generat billion gross valu ad gva chang alway inher part dynam retail sector govern clear want type retail thrive futur support sector undergo structur chang respond chang consum expect embrac new technolog prepar exit govern industri recognis posit action need ensur sector thrive futur achiev part industri strategi establish retail sector council march council joint chair minist small busi consum corpor respons richard pennycook chair british retail consortium retail activ repres larg small independ tradit onlin disrupt retail council govern help retail industri come togeth develop solut support product growth council met twice identifi prioriti action agre next meet later year addit govern also commit support retail sector rang measur juli state hous communiti local govern hon friend member rossendal darwen jake berri appoint panel expert diagnos issu current affect health high street advis best practic measur help thrive futur chair sir john timpson chairman multipl servic retail panel focus consum local communiti want high street hold seri evid session across countri hear direct communiti panel look current challeng work option ensur town centr remain vibrant panel expert wealth experi includ repres retail properti design sector taken action reduc busi rate burden face busi reform reduct worth billion current review wider taxat digit economi make sure busi pay fair share govern understand concern affect job loss sector uncertainti caus job loss occur jobcentr plus along govern depart work compani affect understand level employe support requir get peopl back employ soon possibl british retail transform govern commit ensur sector continu thrive",
         "545",
         "0.9933",
         "0.9077837",
         "Kelly Tolhurst"
        ],
        [
         "191",
         "1.0",
         "deputi speaker anticip huge loss student volum revenu alreadi seen mean around english languag test centr ceas trade surviv tradit quiet winter word sector repres bodi english potenti disastr prognosi one success export english languag mani sector cours sore impact effect virus fear english languag teach must recognis doubli hit one first industri fall effect travel two major market itali china close even world health organis declar pandem compound earli loss sector necessarili one last ralli sector challeng hospit sector domest market pivot littl room diversifi onlin learn substitut experi live languag countri origin jim shannon strangford dup thank hon ladi secur debat alreadi said pleasur see back hous abl contribut debat nice see opportun adjourn debat believ hon ladi awar sinc pandem began countri lock estim mani staff industri furlough industri worth billion economi abl oper busiest season spring summer hon ladi agre clear urgent need govern assist carolin ansel hon gentleman outlin real assist govern given form furlough scheme provid lifelin fund support go forward hope time afford hope touch valu sector impact virus signpost road recoveri constitu eastbourn known record sunshin hour beauti coastlin south down cours icon pier combin make top tourist destin hospit conferenc central local stori perhap untold stori intern student junior undergrad vital part visitor landscap wherebi summer town popul swell averag age plummet intern school local employ provid busi local transport tourist venu retail food outlet likewis import secondari incom support sever hundr host famili time summer host student make differ ever year seen friendship endur seen marriag seen new busi come studi made live come eastbourn cours regular year english languag teach bring half million student estim valu economi billion support hon member strangford jim shannon said job across countri harriett baldwin west worcestershir con thank hon friend secur adjourn debat make excel speech would like endors point make behalf mani peopl employ teach english second languag worcestershir carolin ansel thank hon friend kind comment recognit import sector constitu mine across countri christian matheson citi chester lab endors congratul hon ladi stand import sector talk financi valu consider also cultur valu project british valu notion british right across world welcom visitor back home countri carolin ansel hon gentleman right add distinct provid boost economi also enrich sever differ level outreach wider world experi peopl live come presenc other around world huge import statist mention obvious key debat signific soft power refer cours lockdown march year english strong recommend member close door centr support nation effort keep peopl safe hart hast rye con hast mani languag school also east sussex colleg intern student becom rare demand world hon friend think need roll red carpet perhap consid term visa equal univers school colleg carolin ansel thank hon friend parliamentari neighbour time challeng chang step new futur next year huge import look wraparound sector anyth everyth could present barrier obstacl make less competit world look address make sure futur huge import export long may continu continu summer languag school face crucial summer season stark outlook member english say near half annual trade volum turn juli septemb lost govern provid lifelin fund unpreced support match unpreced time elt centr abl access job retent scheme hon member strangford jim shannon said posit scale secur date centr abl take advantag cbil loan appli busi rate relief date local author grant long sector problem last well elt centr think open octob teach new adult student stephen hammond wimbledon con hon friend make power point busi rate relief discretionari grant done postcod lotteri solv quick local council say discret grant relief ministri hous communiti local govern say mhclg would clarifi english languag school includ busi rate minist heard would help languag school across countri particular wimbledon school english centr english studi wimbledon carolin ansel thank hon friend intervent endors request move would make differ confid junior market collaps repres studi english impact catastroph almost certain italian govern ban school group travel major market extend least autumn british council china advis high like student travel elt cours point intern survey confid studi abroad univers low must ralli road recoveri first question lead author english languag teach sector need interest caught jigsaw depart includ confin depart educ treasuri depart busi energi industri strategi home offic cours depart intern trade minist take question whether one own depart could perhap provid focus firepow sector represent critic junctur put forward press need orchestr recoveri plan tailor bespok support sector encourag local council extend support includ local languag school mani elt school exclud busi rate relief scheme retail hospit leisur busi despit provid educ holiday half million oversea visitor everi year stay averag two three four week alison thewliss glasgow central snp hon ladi make excel point lucki enough live languag school among mani other constitu problem much rate get insur pay insur say count come elig busi interrupt insur hon ladi agre govern also need address problem carolin ansel thank hon ladi question matter impact viabil busi must address know good work done vari perform differ insur provid heartili sorri hear languag school suffer addit challeng oper base alreadi difficult time would rais possibl extend valid six visa cours start date postpon ensur elt sector welcom back student alreadi book paid cours begin soon travel restrict allow would rais issu educ oversight ofst grade level higher educ educ even ask hon friend minist provis plan depart educ champion export industri recoveri phase make great tradeshow access programm fund avail educ export support promot campaign target partner buyer student influenc would help elt organis ensur continu visibl brand recoveri phase intern competitor malta alreadi lift travel restrict welcom intern student without quarantin grate opportun rais adjourn debat import sector communiti across mine includ difficult path face year next benefit futur govern action support wish retain benefit social cultur enrich inward invest soft power believ specif call sector need debat deep valu need celebr",
         "2158",
         "0.9998",
         "0.90235054",
         "Caroline Ansell"
        ],
        [
         "9019",
         "1.0",
         "introduct second visit fascin beauti countri foreign offic minist first visit one year ago short took current ministeri post delight back grate welcom warm throughout travel week last three year world watch admir frank surpris remark chang taken place one thousand polit prison releas thrive activ new parliament end fight across much countri human right commiss establish trade union form emerg econom liberalis freedom press obvious exampl proud british govern swift welcom reform recognis courag leadership made chang happen prime minist david cameron first western leader visit sinc reform began visit paid tribut leadership presid thein sein daw aung san suu kyi play central role move relationship countri beyond sanction year increas develop aid around per year also open trade invest offic activ encourag respons invest british compani exagger say relationship two countri transform friendship base mutual respect found deep endur share histori support british peopl struggl democraci two key challeng therefor friend frank construct critic speak today start decis year countri futur face mani challeng path reform two area particular arriv critic junctur democrat reform peac process front progress requir extraordinari courag success creat legaci last generat form bedrock burma futur stabil prosper democrat reform let speak first democrat reform put blunt continu democrat reform countri requir constitut chang constitut chang import two main reason ensur countri polit system move fulli line democrat standard ensur polit system reflect aspir peopl week eye constitut review committe submit report parliament tomorrow speak peopl throughout visit absolut clear overwhelm support amongst ordinari peopl constitut chang chang bring constitut line intern democrat standard chang deliv greater devolut power state divis strengthen feder system chang cement independ judiciari chang remov militari veto democrat reform give citizen greater control destini mani reform complex requir care consider would like highlight one amend simpl import refer presid claus central modern democraci principl citizen right choos govern yet countri present constitut daw aung san suu kyi leader main opposit parti block becom presid even parti win major seat elect two adult son british citizenship constitut perhap uniqu think constitut make individu citizen elig becom presid condit nation adult children unreason restrict includ burma previous constitut assum restrict written constitut order prevent one particular individu ever becom presid sure way write constitut prime minist david cameron made clear time restrict remov hangov differ era fundament undemocrat fundament wrong without amend allow citizen contest presid general elect fair elect without fair elect credibl burma democrat reform cast doubt welcom presid thein sein recent comment citizen right run urg follow activ support make realiti two major group parliament clear also central respons determin whether constitut amend happen refer mps usdp parti tatmadaw moment arriv group must clear set stanc leader usdp parti thura shwe mann state person support amend presid claus stanc admir reflect strong sens fair play concern recent suggest usdp member daw suu elig condit adult son renounc exist citizenship far awar simpli modern constitut world make demand adult children polit leader urg usdp mps take honour approach prepar compet level democrat play field serious amend second key group within parliament cours militari mps constitut amend support tatmadaw give tatmadaw leadership uniqu power uniqu respons also place tatmadaw stanc heavi scrutini includ militari engag countri subject intens interest construct approach tatmadaw constitut reform send strongest possibl messag commit chang help convinc sceptic engag right recognis welcom insid countri wider intern communiti senior general min aung hla today opportun secur uniqu legaci whose courag enabl armi break free shackl past longer term mani other hope countri follow exampl state region militari progress move legislatur taken proper place profession modern institut control civilian govern daw aung san suu kyi note visit sandhurst militari academi last year strongest respect militari found robust democraci peac process bring second great challeng face countri peac process sixti year sinc independ countri seen terribl intern conflict million peopl particular ethnic minor border area suffer unimagin trauma sens everyon victim live shadow militari dictatorship justifi exist ground countri risk break apart without yesterday visit kachin state first visit intern minist sinc latest outbreak conflict three year ago held discuss state govern repres kachin independ organis religi leader also humbl meet veteran world war two proud recognis magnific contribut visit camp near myitkyina spoke famili lost everyth home farm case friend relat live temporari shelter almost three year messag consist want sustain peac could return confid home rebuild live intern communiti today fulli recognis import peac process central countri futur without fair equit peac settlement reflect aspir divers communiti potenti becom prosper stabl democrat countri never realis firm support effort govern polit parti arm group reach nationwid ceasefir establish inclus nationwid polit dialogu precis shape dialogu outcom determin parti involv broad guid principl seem clear burma must evolv toward polit system truli enshrin equal greater mani minor ethnic illus scale challeng becam foreign offic minist minist northern ireland long serv british armi offic know person experi difficulti resolv conflict northern ireland experi shown real progress made even conflict ultim take combin extraordinari hard work courag leadership respect countri fortun inde today ceasefir place across countri nationwid ceasefir within reach stage could never reach without remark courag persever leader side extraordinari collect achiev cours first step essenti first step toward build trust creat condit polit dialogu must follow part support process whatev way diplomat front continu engag parti week discuss govern tatmadaw ethnic leader british govern readi play help role futur round peac talk subject agreement side time pleas abl share experi northern ireland peac process last year daw aung san suu kyi minist aung min unit nation feder council karen nation union generat visit london belfast draw lesson right got wrong also run workshop ethnic arm group focus secur sector reform stand readi provid technic support fund polit dialogu also remain firm commit support victim conflict british govern largest bilater donor humanitarian aid kachin state commit period support refuge thai border continu expand health educ livelihood programm ceasefir area bring tangibl benefit villag live dire insecur without access basic servic also remain unceas effort address human right violat conflict area particular concern report ongo sexual violenc tatmadaw soldier women girl ethnic minor area british govern led foreign secretari establish prevent sexual violenc initi naypyidaw week meet govern lobbi countri join other includ six asean partner endors declar launch general assembl year fund project worth near half million dollar focus prevent sexual violenc includ train women basic legal skill counsel militari discuss constitut chang peac process alreadi touch critic role tatmadaw want briefli expand british govern took decis relat two countri militari last year appoint defenc attaché first time twenti year made move consult opposit ethnic civil societi leader vast major firm support cautious calibr engag earlier month defenc academi deliv cours tatmadaw first time cover topic includ role militari democraci secur sector reform govern account rule law enhanc tatmadaw militari capac capabl train aim expos futur senior offic new think encourag tatmadaw prepar new role much welcom cours deal challeng subject abl take place attend engag frank open fact senior offic attend open close ceremoni clear demonstr valu attach welcom willing dialogu issu like human right humanitarian law also pleas daw aung san suu kyi could person close recept fact engag tatmadaw mean shi away rais real continu concern sexual violenc humanitarian access two concern alreadi mention child soldier exampl welcom recent releas child soldier made clear urgent need exist joint action plan extend address problem despit encourag progress remain far resolv let clear convinc cautious engag tatmadaw right thing right time rakhin state violenc everi democrat transit common uniqu constitut peac process right seen biggest challeng also essenti time chang stay alert wider risk threat must exampl ensur new space media freedom firm protect right peac protest consist defend land right address fair transpar yet two area concern wish highlight particular believ risk grave undermin wider reform process refer situat rakhin state violenc target toward wider muslim communiti one year ago visit rakhin state first european minist heard direct grievanc fear concern muslim buddhist communiti went mosqu well buddhist monasteri saw terribl condit muslim camp twelv month visit littl progress address either humanitarian situat under intercommun relat appal hear tragic death month northern rakhin call credibl investig alleg humanitarian front rise intimid threat toward intern staff attempt deliv food medic suppli vulner displac communiti utter unaccept actual quit shock urg rakhin communiti leader tackl trend urgent matter conscienc also reiter respons author state union level facilit full unimped humanitarian access need address robust effort block access union govern urg rapid action address citizenship status basic right rohingya govern commit run full citizenship verif exercis conduct without delay continu status quo unaccept present grow risk countri stabil recogn desper poverti afflict communiti rakhin state result mani decad chronic underinvest countri region intern communiti must commit poverti allevi programm everi township rakhin state part govern state rich natur resourc revenu must share equit includ local popul beyond rakhin state last month attack muslim communiti meiktila elsewher also deep concern across world violent action aggress rhetor small minor extremist harm reput countri rais serious question religi toler rule law rule law clear respons govern judiciari secur forc welcom swifter balanc action taken respons latest outbreak violenc carri violenc incit must held account line govern pledg zero toler polic must also learn respond effect pleas british polic offic play central role polic train programm recent month aim improv handl relat communiti religi toler respons everyon room hearten unit call major religi leader dialogu understand empathi often around world seen fragil new freedom tragic shatter divis ideolog prey fear rumour fervent hope countri suffer fate voic moder wisdom prevail realiz vast potenti peac democrat divers countri support burma develop includ rangoon general hospit trade relationship note want end countri crossroad inevit speech today focus real challeng ahead yet polit challeng believ countri vast potenti larg young popul plenti natur resourc strateg locat world biggest market econom prospect ought bright underestim intern communiti goodwil toward british govern polici clear encourag respons invest encourag trade relat believ british invest bring benefit share knowledg technic expertis job creation vocat train improv labour standard british busi interest alreadi see earli success stori exampl jcb sell machin first year oper aggreko deliv first power suppli project ministri energi budget ahead time time work govern help creat right condit invest benefit least poorest mean strong rule law transpar support govern civil societi sign extract industri transpar initi open govern partnership work ministri improv public financi manag time british aid improv health educ countri poorest peopl year increas annual aid budget burma fund treatment diseas like malaria tuberculosi provid healthcar mother babi support improv standard basic educ livelihood programm help rural farmer increas agricultur product give villag access credit support regener histor rangoon general hospit mani decad play central role healthcar system conclus develop trade link two peopl want activ partner work year ahead realis countri undoubt potenti ultim effect develop aid erad poverti boost trade invest rest polit foundat year ahead opportun leadership dialogu set polit foundat stabl prosper futur moment call courag vision progress countri alreadi made last three year sure shown bravest action reap greatest reward today burma take great stride forward path peac path reconcili go back path embark thank",
         "3991",
         "1.0",
         "0.8095249",
         "Hugo Swire"
        ],
        [
         "5586",
         "1.0",
         "permiss speaker would like make statement govern negoti leav european union start speaker apolog hon gentleman holborn pancra snp spokesman tonight abl follow usual courtesi would want give advanc notic reason honour member follow coverag know negoti still take place strasbourg think anybodi taken part busi behalf previous govern know far unusu deadlin stretch talk go late would emphasis hous speaker intent hon friend prime minist secur deal work nation interest countri persist negoti satisfi achiev speaker provid hous updat tonight agre far clear govern updat hous earliest opportun tomorrow outcom continu talk strasbourg impact tomorrow debat chang even strasbourg prime minist hon friend secretari state exit secur chang strengthen improv withdraw agreement polit declar hous spoke clear januari vote favour honour decis british peopl leav deal work primari issu concern northern ireland backstop hous need chang today secretari state achiev tonight lay two new document hous joint instrument withdraw agreement protocol northern ireland joint statement supplement polit declar first provid confirm tri trap backstop indefinit would explicit breach legal bind commit side agre contrari expect act intent could use accept could constitut explicit breach basi formal disput independ arbitr breach occur ultim suspend protocol continu breach oblig top joint instrument also reflect commit work replac backstop altern arrang decemb set explicit arrang need replic provis backstop respect includ commit joint instrument provis altern arrang legal bind hope legal bind commit altern arrang need replic backstop respect way reassur hon member backstop predetermin futur relationship joint instrument also put commit set presid juncker tusk januari onto legal bind foot underlin mean best endeavour stress need negoti futur relationship taken forward urgent confirm assur made peopl northern ireland exampl provid lock new law ad backstop second joint statement supplement polit declar outlin number commit enhanc expedit process negoti bring forc futur relationship exampl make refer possibl provision applic futur agreement set detail specif negoti track altern arrang oper said speaker negoti continu govern provid updat hous earliest opportun chang would also complet understand honour hon member side hous want opportun studi document detail analys import clear opportun debat schedul tomorrow member question prime minist minist seek answer question also case said law offic oral question last week hon learn friend attorney general given commit dispatch box publish legal assess cours avail member good time debat mean hon member speaker say sinc hon learn friend seen outcom negoti conclud far strasbourg think hous would expect would want attorney general consid care implic document rather rush opinion meet deadlin statement even forward process speaker even shall tabl motion hous debat tomorrow alreadi publish withdraw agreement polit declar paper requir european union withdraw act supplement document drawn hous acquaint even tomorrow hous vote improv deal good deal speaker believ deal alreadi secur repres good deal whole countri deliv result referendum knock door referendum campaign messag clear got peopl vote leav want take back control particular border also law deal end free movement allow deliv immigr system end jurisdict european court justic deal also take back control money longer send vast sum leav common fisheri polici common agricultur polici take back control trade polici also found speaker whether peopl vote leav remain want deep special partnership manifesto commit deliv polit declar framework futur relationship allow choic tomorrow meaning vote tomorrow hous face fundament choic said would negoti good deal believ clear improv announc continu negoti deal tabl tomorrow fundament choic vote improv deal plung countri polit crisi vote improv deal end current uncertainti deliv brexit hous clear need legal bind chang backstop today secur chang time come togeth back improv brexit deal deliv instruct british peopl",
         "1422",
         "0.9986",
         "1.1016276",
         "David Lidington"
        ],
        [
         "6259",
         "0.0",
         "rise rais case patrick connelli meehan constitu mine stand complet fifth year sentenc life imprison peterhead prison crime mani peopl believ commit convict high court edinburgh octob murder bungalow ayr rachael ross crime fright seek condon involv death elder woman tie home further theft husband save condon overlook past crimin activ constitu patrick meehan rather interest justic matter whether person concern patrick meehan deputi speaker anyon els chamber matter appear wrong man convict patrick meehan man long record dishonesti record violenc charg subsequ convict crime albeit major nine six despit charact crime despit charact patrick meehan everi reason believ wrong convict one like perpetr crime known larg person name accus defenc origin trial octob sinc person confess sentenc give perjur evid origin trial subsequ confess detail actual crime meehan convict confess deni ascertain surreptiti record bbc case legal histori scotland england man serv sentenc life imprison crime anoth man confess uncontrovert detail even defenc confess event emerg evid becom avail sinc convict cast greatest doubt upon valid origin verdict crown case never circumstanti depend main upon five factor circumst two five provid meehan polic earli stage inquiri even meehan arrest suspicion focus upon way meehan told polic proxim ayr compani jame griffith night crime follow upon arrest gave name address jame griffith polic support alibi polic went arrest griffith gun battl ensu glasgow cours griffith arm shot dead trial first two circumst crown case meehan proxim ayr night question compani griffith attempt shoot way arrest crime crimin record violenc juri allow hear cours meehan trial third circumst identif meehan voic identif parad abraham ross widow deceas ask member parad say word shut shut get meehan first posit parad spoke word immedi identifi voic person parad spoke word fourth circumst men involv refer pat jim christian name meehan griffith fifth circumst found six week griffith death car coat belong scrap paper could common origin paper ross safe thus crown reli heavili griffith presenc griffith violenc griffith record griffith voic subsequ meehan trial prior appeal convict discov bbc possess record interview griffith english prison ask constitut expert hous whether could play tape would import bear case although tape hous cours respond wish practic hous depend upon oral case present influenc hon friend minist state delight see even late hour hon learn friend lord advoc also present extrem grate said subsequ meehan trial prior appeal convict discov bbc possess record interview griffith english prison cours interview griffith state could never face prison ever attempt made arrest would shoot way also spoke pronounc north england accent import cours trial ross glaswegian claim two raider scottish accent one refer jim spoke glasgow accent less appeal court meehan appeal came refus allow record griffith voic play ross crown case raider either meehan griffith togeth neither ross hear tape exclud griffith would therebi exclud meehan inde would therebi exclud evid meehan trial meehan impeach ian waddel unemploy labour waddel gave evid trial cours deni paid glasgow solicitor retain event charg murder ross cours trial heard waddel use word shut shut get ambul state waddel could one voic heard hous robberi despit consider evid point toward waddel presid judg withdrew consider juri special defenc impeach recent clarif law case majesti advoc lambi made clear special defenc ought withdrawn juri subsequ dismiss meehan appeal convict ian waddel charg plead guilti given perjur evid meehan trial deni paid retain glasgow solicitor concern sentenc perjuri presid judg lord cameron gave opinion waddel told truth meehan trial juri meehan trial might come differ conclus februari ian waddel two separ occas gave blunt detail confess member bbc respons crime along anoth man ident one detail crime refus divulg unknown member bbc staff speak glasgow public hous surreptiti record convers exist record becam known waddel attempt unsuccess interdict bbc make use deni inde ever made confess waddel gave detail descript design content hous fact could within knowledg someon hous fact subsequ confirm ross daili help though enough appar conduct identif parad meehan identifi voic high irregular irregular affair sooner jame griffith dead contradict suprem principl law presumpt innoc crown offic issu follow statement death griffith apprehens patrick meehan polic longer look person suspect implic incid concern ross prejudic need evid prejudic carri evid crimin record jame griffith put juri griffith aliv sit dock instead dead name indict along meehan record would use far less time avail abl give mere outlin pauciti frailti evid crown prejudic surround trial evid wrong withdraw special defenc impeach weight evid hand suggest strong guilt anoth perpetr scuttl entir evid implic man present serv sentenc life imprison respect crime law legal system intend protect individu howev good howev bad may wrong convict fail fail duti admit mistak strengthen law legal system admit mistak rather deni mistak pretend law system perfect hous would ever say upon evid avail juri would ever convict patrick meehan uniqu case disturb conscienc mani person within legal profess person stand respons disturb conscienc hous nation earnest urg secretari state scotland set utmost urgenc imparti inquiri recommend queen pardon patrick meehan thus ensur justic done conclus wish put record sincer thank assist guidanc prepar case behalf patrick meehan nichola trial leonard murray prepar brief especi joseph beltrami solicitor trial convinc innoc patrick meehan ever sinc convict five year ago",
         "2088",
         "-0.9993",
         "0.4183657",
         "Frank McElhone"
        ],
        [
         "8491",
         "1.0",
         "introduct today want talk import famili absolut doubt famili life huge influenc foundat societi import sociolog lesson learn hard way past year support famili sit high govern agenda inde monday even sat david cameron deputi prime minist discuss help ministeri taskforc famili children clear issu taken extrem serious right top govern well awar everi famili differ govern busi prescrib peopl live live yet ignor crucial famili life chanc individu social fabric nation right govern commit support peopl desir build strong stabl famili practic polici measur import recognis role marriag build strong societi especi want give children best chanc life know commit get test regular everi famili evid show coupl persever emerg stronger relationship hard get everi test without support delight today support tremend work done relat defin problem evid show famili influenc educ outcom job prospect even life expect mean posit polici bring benefit societi govern abandon polici support famili societi pay heavi price take poverti lone parent famili twice like live poverti famili crime children broken home time like becom young offend young offend grew parent overal wellb children twice like bottom child outcom children marri famili abstract debat famili life affect happen street communiti economi learn earli age great deal say person eventu becom life lead far say life determin famili circumst mani peopl overcom earli difficulti achiev great thing would foolish ignor weight evid show influenti famili life outcom cost failur centr social justic estim cost famili breakdown billion relationship foundat put figur nearer billion fact remain huge number yet repres direct cost cost societi whole social breakdown addict crime lost product tax revenu difficult quantifi research suggest could billion yet accord research centr social justic spend prevent famili breakdown around spent deal consequ someth relat know well era constant challeng social breakdown famili must place right heart solut real price famili breakdown measur human cost critic get right polici place support desir everyon strong stabl famili ignor evid work coupl break bring great benefit famili societi peopl expect marriag unsustain seen expect rise understand fall peopl marri afford fairytal wed attempt lead start live togeth debt often precursor failur need help avail peopl want pay tribut relat guidanc organis provid vital servic coalit commit scale challeng huge britain amongst highest divorc teenag pregnanc rate europ recent oecd report better children show despit higher averag famili incom outcom children among worst oecd nation also show highest level lone parent famili breakdown report highlight high level alcohol drug consumpt among young spent billion financi support children yet million children still live poverti tell throw money problem solv overcom child poverti requir strateg approach parent famili communiti provid mean incent help poverti give children best start life need look close under issu famili agenda driven prime minist right heart govern david cameron chair ministeri task forc children famili work close nick clegg other includ across govern work togeth support famili govern alreadi make progress mani coalit commit rais incom tax person allow famili keep money earn take sure start back origin purpos earli intervent help parent struggl increas focus neediest famili put billion fair premium support educ develop disadvantag pupil tell allow famili take greater control encourag peopl take person respons featur echo right across govern polici lever chang depart exampl tackl welfar depend univers credit system new work programm help peopl escap poverti trap welfar depend huge problem countri one highest rate workless household europ million children live poverti mani children grow household without proper role model simpli know aspir work one surest rout poverti result life prospect sever curtail cycl depend repeat across generat determin help peopl break cycl reform welfar system get grip under problem tackl pathway poverti workless welfar depend debt addict educ failur famili breakdown area famili lie heart polici famili also central think come cabinet committe social justic chair support senior cabinet member alreadi commiss two labour mps carri work committe frank field child poverti life chanc andgraham allen earli intervent know progress area translat real benefit area societi frank field look wide rang issu includ help stop poverti becom ingrain also look measur poverti well address tell mani peopl told frank import prevent famili breakdown fight poverti also look forward graham allen report earli intervent know someth care deepli work opposit clear earlier address life challeng peopl face like solv graham produc report best practic januari follow anoth may fund earli intervent programm receiv final report hope abl demonstr address under issu impact famili life symptom intervent much support famili area relationship support parent support educ famili coupl therapi therapeut intervent exampl therapi depress debt counsel mental health support famili law advic focus prevent child support child contact help parent reach financi care arrang children follow separ teenag pregnanc tackl domest violenc violenc toward women report publish short issu look ministeri taskforc famili cabinet committe social justic govern everyth need work togeth faith group voluntari organis health servic polic communiti worker group repres today conclus need continu support work build stronger famili communiti futur one messag take today govern ignor import healthi famili strive deliv polici countri need right heart govern know express concern end children young person strateg grant howev said want ensur focus famili famili task forc come forward suggest best meantim alloc million support civic societi also reform welfar system make work pay well introduc reform pension hous benefit accept govern role play must also support best solut famili commit stabl relationship two parent produc best outcom adult children unapologet support marriag recognis provid sound basi major relationship proper support famili stress minimis risk famili breakdown support strong stabl famili strengthen communiti forg better britain everyon relat must heart thank",
         "2076",
         "0.9948",
         "0.8489577",
         "Iain Duncan Smith"
        ],
        [
         "8012",
         "1.0",
         "grate opportun speak debat great pleasur follow right hon member east antrim sammi wilson throughout time place doughti courag advoc opportun leav european union also want thank hon friend member stone sir william cash whose work european scrutini committe much appreci work previous guis display massiv amount legisl came european union mani year much creat view unit kingdom lose control sovereignti term overview mechan well alistair carmichael orkney shetland hon gentleman prais right hon member east antrim sammi wilson whose analysi thought fair sound part analysi would hon gentleman disagre lee rowley right hon member east antrim particular view around northern ireland debat extens place number month even year agre need leav european union done disagre right hon member orkney shetland carmichael never want leav european union first place wherea deliv decis british peopl like mani other vote leav european union leav way work opportun provid respons creat internationalist incred import constitu north east derbyshir remain extrem commit left european union point previous parliament actual sure would quit get take opportun come result would gentl say hon learn member edinburgh south west joanna cherri great deal time respect someon repres one red wall seat keen refer speech give absolut assur peopl red wall seat want leav european union still want leav still wish get clariti requir end decemb want doubl whammi opposit parti want frustrat first place continu want extens would serv purpos constitu feel strong democraci matter made decis took place three year ensur would occur great opportun build futur partnership build someth work european union long term done basi mutual respect oblig respons fall inan asinin discuss parliament said possibl abl possibl expect abl let let negoti let allow space opportun happen see come certain confid possibl resid north east derbyshir mani red wall seat want ensur happen know confid govern",
         "724",
         "0.9964",
         "1.0434256",
         "Lee Rowley"
        ],
        [
         "3666",
         "1.0",
         "speaker past six month involv race vaccin virus vaccin programm deliv incred pace deliv million dose million arm peopl age receiv least one dose pace abl open vaccin age tomorrow protect allow take first three step road map mean right one open economi societi europ abl remov burdensom restrict restor mani freedom hold dear everi stage look data set four test prime minist set hous februari fourth test assess risk fundament chang new variant concern delta variant account case across countri know delta variant spread easili evid risk hospitalis higher previous domin alpha variant case number rise last week england whole purpos vaccin break link case hospitalis death link clear weaker howev past week seen hospitalis start rise thank number death risen remain low sad vaccin saw rise hospitalis inevit led rise death coupl week later vaccin chang simpli earli know effect link death broken know singl dose vaccin effect lower delta variant around reduct symptomat diseas howev good news confirm new data publish today two dose vaccin effect hospit admiss delta variant compar alpha variant fact two dose vaccin may even slight effect hospitalis caught new delta variant give confid protect come second dose take longer reach protect get second jab high anyth slight delta variant purpos restrict take littl longer build full protect need vaccin scienc tell get cours say import everyon get dose call come even today messag peopl jab grate everi person make countri safer everi stage road map taken time check safe take next step task make sure vaccin get ahead race vaccin virus know mani peopl work hard make sacrific cautious care bit help countri road map know peopl plan arrang import moment busi gear reopen heavi heart face realiti made difficult decis move ahead step next week instead paus four week juli review data two week crucial time draw everyth know work fight virus use extra time deliv extra protect need despit incred uptak seen countri still peopl need protect million peopl million first jab yet second paus save thousand live allow get major second jab done restrict eas today reduc time first second jab peopl age week eight week acceler programm like second jab book week first nhs touch bring forward rebook nation book servic aim around two third adult dose juli tell hous abl deliv vaccin programm faster plan bring forward moment offer everi adult first dose vaccin juli race vaccin virus give vaccin support alway said eas restrict soon abl safe even though take step monday pleas abl care eas restrict area remov gather limit wed recept commemor cours social distanc guidelin grate work wed taskforc relax run anoth phase pilot larg event higher capac includ full capac like wimbledon final eas rule care home includ remov requir resid isol day visit allow set organis residenti visit bubbl children line current posit school thank hon friend member altrincham sale west sir graham bradi work area even though abl take full step want know cautious chang mean lot mani peopl move littl bit closer normal life keep give peopl support need extend asymptomat test offer end juli put place one extens financi support packag world continu deliv enhanc support area seen approach exampl bolton case bolton fallen almost third past three week even hospitalis risen across bolton fallen half last week introduc enhanc support greater manchest lancashir tell hous extend extra test cautious guidanc extra resourc birmingham blackpool cheshir includ warrington liverpool citi region know experi approach work need everyon play part urg everyon area get test come forward support offer get call get jab help keep road recoveri final would possibl without vaccin programm without vaccin face rise case hospitalis clinic recommend would back toward lockdown vaccin taskforc critic work deliv suppli work booster jab ensur protect futur dame kate bingham formid job meld best possibl team would like congratul everyon els recognis majesti birthday honour weekend delight abl tell hous sir richard syke one britain acknowledg biochemist industri leader agre take posit chair vtf sir richard bring bear experi leadership posit public privat sector delight board lead team next stage mission race vaccin virus yet difficult restrict challeng live mani way play vital role hold virus back protect peopl get jab done let play part keep safe dread diseas commend statement hous",
         "1697",
         "0.9994",
         "1.018465",
         "Matt Hancock"
        ],
        [
         "7218",
         "1.0",
         "evacu afghanistan race time get peopl stake never higher reput extend hand friendship need incred proud near peopl far made safeti thank huge govern effort determin british public help challeng complex intens circumst one year work help afghan resettl stop still week flight resettl scheme remain open welcom thousand peopl countri also everyth possibl move famili home urg landlord local author come forward suitabl accommod",
         "145",
         "0.9824",
         "0.97665703",
         "Priti Patel"
        ],
        [
         "7005",
         "1.0",
         "good morn behalf ken philip welcom venu press confer general elect first mani morn spend togeth today go talk conserv govern would get british economi move take action debt boost enterpris go draw contrast labour debt wast tax risk push britain new recess specif go talk plan avoid damag part labour nation insur tax work peopl job also go talk spend plan year start explain connect wait see budget alway possibl gordon brown would recognis damag full forc nation insur tax rise would job recoveri incom famili alway possibl would listen cri busi leader intern observ rate agenc make start deal deficit budget empti spend review year even publish total department spend envelop year know labour claim sudden discov wast billion pound public money govern run last year billion wast precis well billion low prioriti programm know plan anyth wast next year accord gordon brown logic carri wast money crucial secur recoveri think wrong know govern wast money stop reduc borrow creat confid protect countri credit rate philip hammond ask two member public sector product panel advis first whether possibl undertak signific save govern without damag frontlin servic second step new govern could take urgent find signific save want thank sir peter gershon martin read provid advic bring impress busi experi also consider knowledg identifi wast govern sir peter gershon cours commiss gordon brown produc major report effici martin read recent head major supplier logica commiss alistair darl produc report save govern back offic budget would difficult find two peopl qualifi make judgement save made peter gershon martin read come back told believ sum billion pound save total govern depart budget say explicit done without reduc qualiti front line servic set way save achiev quick right polit manageri focus inde martin read believ unless govern achiev larger save later year chancellor advis say delay option philip hammond set detail men recommend today publish advic conserv parti interest transpar clear part billion save found health servic oversea aid made explicit commit protect budget money save reinvest onto frontlin ministri defenc conduct strateg defenc review year want exist plan defenc budget remain unalt year govern depart togeth repres half total department spend expect find togeth billion save wast even govern admit exist govern effici advis tell found let clear singl penni come front line servic peopl depend billion save alongsid smaller save identifi exampl cut child trust fund payment better stop peopl incom receiv child tax credit use reduc govern borrow requir year billion repres less everi govern spend given much larger save almost everi busi mani famili find budget last two year much ask one serious argu tackl wast somehow go damag economi convers institut investor other believ make start reassur fear britain lose credit rate restor confid economi identifi billion wast spend start hold autumn spend review labour govern access inform cynic refus hold identifi larger save reform made measur announc conserv confer take effect general pay freez public sector exclud lowest paid million start make real progress reduc size whitehal quango one third identifi billion save give confid say certainti abl act quick deficit time avoid damag part gordon brown nation insur tax rise also enabl bring share deal deficit account tax increas one third total toward one fifth said januari split spend restraint tax increas intern evid treasuri intern analysi believ best balanc achiev sustain deficit reduct labour nation insur increas tax rise work peopl earn rough half work popul tax rise almost job describ cbi serious mistak hold back job creation growth small busi feder call attack job caus deeper unemploy cost job small medium size busi alon quit frank econom madhous gordon brown talk secur recoveri tax recoveri talk creat job well busi creat job say polici destroy ten thousand pledg make famili better one day hit tax incom next pay wast spend labour govern admit exist gordon brown may rais tax work peopl pay wast take nation insur tax plan rais primari threshold employe week upper earn limit week rais secondari threshold employ start pay nation insur week compar life gordon brown everi nation insur payer earn better tax everi singl job salari reduc employ conserv seven ten work peopl britain better labour nobodi wors peopl lower incom receiv tax cut inde benefit proport earn peopl middl incom avoid labour tax rise tax job lower tax system fairer job save way secur recoveri show elect approach choic face britain labour govern gordon brown debt wast tax bring new recess labour kill recoveri tax job cut labour wast stop seven ten work peopl better conserv believ togeth need new energi fresh idea get britain work everyon",
         "1776",
         "-0.9334",
         "0.7495668",
         "George Osborne"
        ],
        [
         "1767",
         "1.0",
         "good morn pleasur today earli intervent foundat make first speech secretari state work pension know eif absolut commit transform life chanc disadvantag countri spirit like thank work bring new think better understand evid right thing interven earli chang live particular know depart ask look relationship parent impact children live intervent might effect help improv live import review publish last month contain power conclus demonstr make famili stabil key part life chanc strategi look forward continu contribut get know better week month mayb year ahead thought would use import opportun today share earli thought kind welfar system believ challeng lie ahead continu vital task reform welfar actual part broader mission build societi life chanc everyon improv let first take step back one thing struck sinc take dwp sheer size scale depart whitehal depart connect mani peopl mani import moment live depart spend much taxpay money account near quarter public sector spend countri dwp budget entir gdp nation portug therefor surpris attract strong passion view money spent dwp depart big number big data big statist year process million benefit billion benefit pension million million call public seek advic happen jobcentr contact centr part unit kingdom said first statement hous common day appoint behind everi statist human someth remind remind ministeri team everi day overrid vision depart work pension even amidst big number fundament busi busi famili top organis farthest flung jobcentr thousand staff advis minist especi secretari state understand peopl busi welfar focuss peopl also mean must understand human impact decis take far better mean talk number peopl receiv benefit move benefit also need understand much deeper level under factor individu find set circumst requir support state peopl busi mean provid financi assist support protect peopl poverti current circumst provid think mark decent societi peopl busi also mean recognis great mani individu famili circumst chang circumst absolut need chang welfar system provid support basi transform peopl live fall far short modern welfar system achiev believ twin object heart everi reform centr welfar system vital social protect also incent support bring meaning posit chang peopl live effort deliv welfar reform one part much broader approach strengthen societi creat opportun break barrier entrench poverti disadvantag exact mean talk life relentless focus assault prime minist call tackl root caus poverti britain tackl thing undermin social mobil hold peopl back reach full potenti life area realli close heart see believ societi matter street grew much mum dad societi believ one everyon decent set opportun lead fruit live past generat seen incred dramat chang societi way societi almost unrecognis decad ago never much inform fingertip digit communic revolut transform peopl access inform reduc real life cost inform broken cultur barrier made world smaller place never univers realist option mani preserv enjoy small privileg elit open million never seen declin social defer pace chang astonish impact peopl palpabl trend way peopl view societi educ reach digit communic revolut could forgiven think live golden age social mobil mani simpli case today far mani peopl life chanc determin even chanc explor life offer deliv true social mobil help peopl live live fullest without fight real factor hold peopl back reach potenti yes seen realli encourag progress record level employ huge expans apprenticeship million sinc lower youth unemploy need much time depart work pension thing hand hand reform welfar relentless focus improv life chanc mean lead life chanc strategi use entir machineri govern break barrier opportun regener estat children safe secur home thrive use work experi much creativ give young peopl encourag need get educ employ train leav school go invest mental health servic tackl debilit disord devast impact young peopl life chanc crucial stage live support drug alcohol addict turn live around fulli recov know new problem think new approach deliv chair social justic cabinet committe lead coher collabor govern approach mobilis part govern tackl poverti improv social mobil poorest societi point like pay tribut predecessor iain duncan smith someon think one great social reform time iain help chang way govern look poverti turn len root caus poverti rather symptom led mani import reform sure continu champion improv life chanc countri disadvantag peopl life chanc work health sector school decent place live vital believ stabl home famili life give children best possibl chanc hard overst import famili doubt young age famili help defin tell come deriv first ident perhap import famili first love turn learn first learn fight make first learn make choic see consequ choic talk idealis model nuclear famili societi much complex famili train ground life good start provid great platform fruit life contrast well know famili life chaotic violent broken damag lead often life characteris educ failur crime poverti cycl repeat anoth generat impact individu societi economi welfar budget massiv estim overal cost relationship breakdown societi could high billion behind figur life chanc squander know mani mps see real human cost everi week surgeri breakdown relationship often backdrop mani constitu problem think way believ vital foundat role famili alreadi doubl fund relationship support increas amount free childcar support parent cours help famili move work univers credit come moment target famili need help troubl famili programm turn round famili complex deep root problem extend famili even increas support new parent expand parent programm build great work eif area stabl famili relationship provid platform believ work provid econom secur essenti role model believ children need improv life chanc fundament human be deriv satisfact meaning fruit work work place feel valu everi sens continu learn grow introduc new expand social network place fundament good physic mental cours recognis great mani peopl experi workplac fall well short ideal recognit valu worth work much heart outlook welfar reform pound earn mean pound provid welfar spoken elsewher person background intend today one point would make home life grew amaz role model mother understood central import work dimens person son rais understand underpin journey posit crisi depend posit econom independ process took year way realli believ welfar system elev reinforc central understand import work fruit activ human be actual damag societi far mani peopl deni benefit work near one household nobodi work two million children see mum dad go work day much progress sinc restor valu work within welfar system number household nobodi work workless household rate social rent sector lowest level year half million children benefit role model parent work outlook bring valu work danger depend someth architect welfar state sir william beveridg recognis believ blueprint modern welfar state clear relationship welfar work beveridg said get work may involv chang habit someth unfamiliar leav one friend make pain effort kind danger provid benefit adequ amount indefinit durat men creatur adapt circumst may settl stress state organis secur stifl incent opportun respons welfar system end one incent work undermin opportun get pass sens respons peopl live erod financi support peopl face poverti vital alway tell never underestim import famili need get support time effect way cash support rare enough result peopl often trap unfair posit better stay put benefit rather take first step back work welfar system believ want see one transform live rather trap one recognis respond fact peopl hope aspir want take opportun better famili one respond way real peopl behav real world destruct devast second world war beveridg principl welfar forg want restor reinforc found principl welfar state mayb year forgotten erod vision jobcentr far place peopl sign receiv work entitl want jobcentr place true transform place motiv skill team support posit chang peopl live alreadi happen one earli visit role jobcentr plus enfield north london saw coach help young peopl avoid clutch gang build posit life saw work coach support peopl mental health condit get treatment stay connect world work vital life chang support front line part vision organis want skill work coach realli valu public eye similar way nurs firefight respect valu term intervent crise tackl team work coach achiev remark whatev wherev may depart want everyon dwp work day share twin object protect peopl poverti support peopl transform live reform particular univers credit univers credit real human reform put peopl heart welfar system first believ potenti import public sector chang project decad work peopl recognis peopl live circumst differ univers credit treat person number human jobcentr stay move work also provid right incent peopl move work william beveridg believ would support absolut commit lead continu success roll univers credit prioriti continu emb spine run welfar system sceptic univers credit say look evid far compar alreadi receiv univers credit similar cohort receiv previous jobseek allow see peopl univers credit month reach import mileston univers credit avail everi singl jobcentr countri singl peopl make new claim next stage ambiti full rollout everi person everi circumst step jobcentr make new claim univers credit focus month ahead univers credit reform support peopl work work million peopl work number workless household record low know ensur opportun work avail everyon divers work reflect divers societi final bring area reform anoth one prioriti support disabl peopl peopl health condit work make progress near disabl peopl move work last year despit remain signific gap employ rate disabl peopl whilst employ rate peopl disabl disabl peopl less context strong labour market million peopl move work last year think gap simpli unaccept want clear employ gap lack aspir part sick disabl peopl know major want work stay work attitud held societi stop disabl peopl move work mani decad want challeng health care profession employ wider societi break barrier first day secretari state announc parliament want start new convers disabl peopl repres healthcar profession employ need recognis role work play support good health import health condit disabl barrier work workplac welfar system health servic need work much better help peopl stay healthi first place someon get sick need right support stay close world work quick possibl alreadi clear lot interest idea emerg look forward ministeri team listen idea view discuss disabl group employ health care welfar sector togeth opportun much better disabl peopl improv health opportun opportun decent job econom secur come regular wage well posit aspect work set today think univers want make sure opportun avail communiti part countri everi street everi household across section societi matter background especi poorest life chanc strategi children grow famili healthi strong relationship foundat support step grasp life opportun somebodi believ state also import role help transform live determin restless innov spirit reform continu shape depart place peopl centr everyth still much creat welfar system think true found principl depart transform live help peopl work everi day job welfar system believ welfar system peopl deserv thank",
         "4114",
         "0.9999",
         "1.0610175",
         "Stephen Crabb"
        ],
        [
         "7952",
         "1.0",
         "great pleasur open debat opportun explor ministeri colleagu other potenti econom benefit southern heathrow rail link belief southern rail link fit exact spirit time exemplifi ambit set prime minist pandem britain thrive futur one cleaner altogeth smarter went first time member sought rais issu rail access heathrow south inde intract question caus bring back hous examin today strong support neighbour hon friend member woke lord permiss deputi speaker wish briefli cover histori look progress sinc announc recent govern initi explain econom environment benefit link could bring nation whole well constitu guildford provid hon friend minist opportun bring date seema malhotra feltham heston thank hon ladi give way congratul secur adjourn debat know issu engag four year hounslow council put forward propos rout southern rail access heathrow london surrey includ station bedfont constitu import underpin regener propos around heathrow ratio favour assess network rail agre opportun time reconsid econom benefit propos least term skill job greener infrastructur desper need direct link waterloo heathrow could come along wonder hon friend member slough dhesi shadow front bench also want mention opportun consid western rail access heathrow govern approv sinc angela richardson thank hon ladi intervent agre right time look econom benefit skill job bring excit sort project could bid come rang provid competit would benefici heathrow waterloo link could look wider scope project sure understand keen see line constitu guildford come western link later speech member outsid england often understand criticis policymak take view issu would like reassur work detriment even town citi heathrow one exampl phenomenon possibl reach airport train number servic london underground piccadilli line heathrow express heathrow connect servic hope much longer huge impress elizabeth line bring direct train airport citi dockland howev nigh imposs reach heathrow train whole number borough london substanti town mine surrey hampshir even though possibl see aircraft take land transport author serv mani heathrow competitor airport schiphol charl gaull long sinc understood major hub flight also public transport hub heathrow case peopl arriv train like long come east gigant airport one driver econom growth tourism invest normal time undoubt pandem effect sit end branch line clear public transport connect heathrow base railway serv varieti coach bus connect valuabl airlin passeng mani thousand work wide rang busi locat servic includ direct hour coach link guildford open last two year nevertheless howev mani buse coach avail fail attract substanti number user otherwis default car taxi privat hire vehicl vehicl congest still great overload road network serv airport caus damag econom effici reduc attract region south heathrow invest mrs flick drummond meon valley con hon friend make excel speech incred import topic direct rail link guildford heathrow would make massiv differ constitu mine meon valley beyond moment take two hour get train coach mention minut half time car agre take car road incred environment impact constitu other surround heathrow angela richardson thank hon friend intervent could agre time spent car journey heathrow constitu line mine away heathrow impact environ car road generat vast quantiti noxious gase particul matter harm health wellb citizen along substanti volum avoid carbon dioxid victorian line built era road traffic intersect multipl locat level cross serv thousand car lorri everi day increas frequenc train cross would caus level cross barrier henc road close unaccept long period opposit road user communiti busi local author found voic hon member hous airtrack project doom airtrack conceiv part attempt mitig major expans airlin passeng number employe heathrow associ open termin one posit legaci stori beneath termin sit cavern dark station await arriv railway south understand similar provis exist western rail link heathrow termin western scheme develop long southern rout would contribut make heathrow public transport hub intern model describ earlier know hon member slough dhesi energet support western link benefit would bring constitu delight see interest debat even return new railway area prospect southern rail link heathrow rais part consent process expans airport mean construct third runway without revisit mani power argument heathrow expans note part scrutini propos transport committe previous chair hon member nottingham south lilian greenwood southern rail link urgent need even airport let alon third place context right hon friend member epsom ewel chris grayl announc transport secretari march southern rail link heathrow would pathfind scheme radic initi attract privat sector invest idea design construct new railway infrastructur wide welcom announc open prospect busi local author local enterpris partnership help acceler develop vital need new railway rather wait queue mani exist scheme devis within tradit rail industri process ever need allow talent expertis privat sector contribut effort across countri scunthorp con admir hon friend innov approach champion infrastructur constitu agre project like present excel opportun steelmak constitu like mine scunthorp make number steel product rail angela richardson thank hon friend intervent could agre time champion british steel champion british steel job bring constitu like would like see opportun style action adopt new secretari state transport colleagu minist state depart transport hon friend member daventri chris repli debat invit propos rang stakehold revers rail closur sad howev two year elaps sinc origin invit promot bring forward idea southern rail link heathrow member across hous appreci machineri govern disrupt event sinc march key question hon friend minist see full throttl appli project truth conflict scheme potenti benefit london surrey hampshir wider south england govern agenda nation region infrastructur scheme envisag north midland requir signific amount public money southern rail link heathrow privat sector investor back design construct partner readi get build railway believ choos one perspect constitu guildford grate inform suppli director heathrow southern railway ltd whose design propos avoid busi level cross egham prove tricki airtrack envisag frequent train guildford reach termin minut continu old oak common interchang elizabeth line termin paddington transform constitu capac guildford town similar serv woke basingstok farnborough attract invest littl wonder therefor local author surrey hampshir counti council well enterpris local enterpris partnership want see urgent action taken govern conclus may say hon friend minist station wait heathrow let lay track enabl build southern rail link heathrow stoke engin prosper guildford beyond",
         "2214",
         "0.9999",
         "0.816606",
         "Angela Richardson"
        ]
       ],
       "shape": {
        "columns": 6,
        "rows": 9898
       }
      },
      "text/html": [
       "<div>\n",
       "<style scoped>\n",
       "    .dataframe tbody tr th:only-of-type {\n",
       "        vertical-align: middle;\n",
       "    }\n",
       "\n",
       "    .dataframe tbody tr th {\n",
       "        vertical-align: top;\n",
       "    }\n",
       "\n",
       "    .dataframe thead th {\n",
       "        text-align: right;\n",
       "    }\n",
       "</style>\n",
       "<table border=\"1\" class=\"dataframe\">\n",
       "  <thead>\n",
       "    <tr style=\"text-align: right;\">\n",
       "      <th></th>\n",
       "      <th>party</th>\n",
       "      <th>speech</th>\n",
       "      <th>word_count</th>\n",
       "      <th>sentiment</th>\n",
       "      <th>pred</th>\n",
       "      <th>Speaker</th>\n",
       "    </tr>\n",
       "  </thead>\n",
       "  <tbody>\n",
       "    <tr>\n",
       "      <th>4605</th>\n",
       "      <td>1.0</td>\n",
       "      <td>incred impress posit respons receiv council fa...</td>\n",
       "      <td>103</td>\n",
       "      <td>0.9822</td>\n",
       "      <td>0.839909</td>\n",
       "      <td>Robert Jenrick</td>\n",
       "    </tr>\n",
       "    <tr>\n",
       "      <th>2707</th>\n",
       "      <td>1.0</td>\n",
       "      <td>begin thank key worker north somerset keep ess...</td>\n",
       "      <td>669</td>\n",
       "      <td>-0.9362</td>\n",
       "      <td>0.778342</td>\n",
       "      <td>Liam Fox</td>\n",
       "    </tr>\n",
       "    <tr>\n",
       "      <th>3864</th>\n",
       "      <td>0.0</td>\n",
       "      <td>govern consist let women frontlin forc minist ...</td>\n",
       "      <td>96</td>\n",
       "      <td>0.5860</td>\n",
       "      <td>0.255000</td>\n",
       "      <td>John Healey</td>\n",
       "    </tr>\n",
       "    <tr>\n",
       "      <th>7897</th>\n",
       "      <td>0.0</td>\n",
       "      <td>week chanc govern back british busi help publi...</td>\n",
       "      <td>153</td>\n",
       "      <td>0.5859</td>\n",
       "      <td>-0.024378</td>\n",
       "      <td>Rachel Reeves</td>\n",
       "    </tr>\n",
       "    <tr>\n",
       "      <th>10017</th>\n",
       "      <td>1.0</td>\n",
       "      <td>parti confer politician set stall seasid two w...</td>\n",
       "      <td>2753</td>\n",
       "      <td>0.9849</td>\n",
       "      <td>1.000239</td>\n",
       "      <td>Tim Yeo</td>\n",
       "    </tr>\n",
       "    <tr>\n",
       "      <th>...</th>\n",
       "      <td>...</td>\n",
       "      <td>...</td>\n",
       "      <td>...</td>\n",
       "      <td>...</td>\n",
       "      <td>...</td>\n",
       "      <td>...</td>\n",
       "    </tr>\n",
       "    <tr>\n",
       "      <th>9974</th>\n",
       "      <td>NaN</td>\n",
       "      <td>beg move leav given bring bill make provis hou...</td>\n",
       "      <td>1630</td>\n",
       "      <td>0.9918</td>\n",
       "      <td>0.669066</td>\n",
       "      <td>Pete Wishart</td>\n",
       "    </tr>\n",
       "    <tr>\n",
       "      <th>9975</th>\n",
       "      <td>NaN</td>\n",
       "      <td>minist acknowledg visa carnet render tour beyo...</td>\n",
       "      <td>259</td>\n",
       "      <td>0.9793</td>\n",
       "      <td>0.343991</td>\n",
       "      <td>Pete Wishart</td>\n",
       "    </tr>\n",
       "    <tr>\n",
       "      <th>9977</th>\n",
       "      <td>NaN</td>\n",
       "      <td>thank madam deputi speaker heed appropri warn ...</td>\n",
       "      <td>2121</td>\n",
       "      <td>-0.9977</td>\n",
       "      <td>0.678370</td>\n",
       "      <td>John Woodcock</td>\n",
       "    </tr>\n",
       "    <tr>\n",
       "      <th>9978</th>\n",
       "      <td>NaN</td>\n",
       "      <td>privileg follow heartfelt speech also coincid ...</td>\n",
       "      <td>1110</td>\n",
       "      <td>0.9988</td>\n",
       "      <td>0.637937</td>\n",
       "      <td>John Woodcock</td>\n",
       "    </tr>\n",
       "    <tr>\n",
       "      <th>9984</th>\n",
       "      <td>NaN</td>\n",
       "      <td>great honour last person parliament pleasur se...</td>\n",
       "      <td>2103</td>\n",
       "      <td>0.9999</td>\n",
       "      <td>0.307434</td>\n",
       "      <td>Ian Wrigglesworth</td>\n",
       "    </tr>\n",
       "  </tbody>\n",
       "</table>\n",
       "<p>9898 rows × 6 columns</p>\n",
       "</div>"
      ],
      "text/plain": [
       "       party                                             speech  word_count  \\\n",
       "4605     1.0  incred impress posit respons receiv council fa...         103   \n",
       "2707     1.0  begin thank key worker north somerset keep ess...         669   \n",
       "3864     0.0  govern consist let women frontlin forc minist ...          96   \n",
       "7897     0.0  week chanc govern back british busi help publi...         153   \n",
       "10017    1.0  parti confer politician set stall seasid two w...        2753   \n",
       "...      ...                                                ...         ...   \n",
       "9974     NaN  beg move leav given bring bill make provis hou...        1630   \n",
       "9975     NaN  minist acknowledg visa carnet render tour beyo...         259   \n",
       "9977     NaN  thank madam deputi speaker heed appropri warn ...        2121   \n",
       "9978     NaN  privileg follow heartfelt speech also coincid ...        1110   \n",
       "9984     NaN  great honour last person parliament pleasur se...        2103   \n",
       "\n",
       "       sentiment      pred            Speaker  \n",
       "4605      0.9822  0.839909     Robert Jenrick  \n",
       "2707     -0.9362  0.778342           Liam Fox  \n",
       "3864      0.5860  0.255000        John Healey  \n",
       "7897      0.5859 -0.024378      Rachel Reeves  \n",
       "10017     0.9849  1.000239            Tim Yeo  \n",
       "...          ...       ...                ...  \n",
       "9974      0.9918  0.669066       Pete Wishart  \n",
       "9975      0.9793  0.343991       Pete Wishart  \n",
       "9977     -0.9977  0.678370      John Woodcock  \n",
       "9978      0.9988  0.637937      John Woodcock  \n",
       "9984      0.9999  0.307434  Ian Wrigglesworth  \n",
       "\n",
       "[9898 rows x 6 columns]"
      ]
     },
     "execution_count": 65,
     "metadata": {},
     "output_type": "execute_result"
    }
   ],
   "source": [
    "output = pd.merge(output, df_merged['Speaker'], left_index=True, right_index=True)\n",
    "output"
   ]
  },
  {
   "cell_type": "code",
   "execution_count": 66,
   "metadata": {},
   "outputs": [],
   "source": [
    "df_speakers = pd.read_csv('./data/MPs_1970_onwards.csv')"
   ]
  },
  {
   "cell_type": "code",
   "execution_count": 67,
   "metadata": {},
   "outputs": [],
   "source": [
    "df_speakers.drop_duplicates(subset='itemLabel', inplace=True)"
   ]
  },
  {
   "cell_type": "code",
   "execution_count": 68,
   "metadata": {},
   "outputs": [
    {
     "data": {
      "application/vnd.microsoft.datawrangler.viewer.v0+json": {
       "columns": [
        {
         "name": "index",
         "rawType": "int64",
         "type": "integer"
        },
        {
         "name": "item",
         "rawType": "object",
         "type": "string"
        },
        {
         "name": "Speaker",
         "rawType": "object",
         "type": "string"
        },
        {
         "name": "constituencyLabel",
         "rawType": "object",
         "type": "unknown"
        },
        {
         "name": "partyLabel",
         "rawType": "object",
         "type": "unknown"
        },
        {
         "name": "start",
         "rawType": "object",
         "type": "string"
        },
        {
         "name": "electionLabel",
         "rawType": "object",
         "type": "unknown"
        },
        {
         "name": "end",
         "rawType": "object",
         "type": "unknown"
        },
        {
         "name": "endcauseLabel",
         "rawType": "object",
         "type": "unknown"
        },
        {
         "name": "noteLabel",
         "rawType": "object",
         "type": "unknown"
        }
       ],
       "conversionMethod": "pd.DataFrame",
       "ref": "8b4c2290-4cc6-4c9f-adf6-ae28080a9315",
       "rows": [
        [
         "0",
         "http://www.wikidata.org/entity/Q265935",
         "Nick Brown",
         "Newcastle upon Tyne East",
         "independent politician",
         "2022-09-07T00:00:00Z",
         "2019 United Kingdom general election",
         null,
         null,
         null
        ],
        [
         "1",
         "http://www.wikidata.org/entity/Q580464",
         "Penny Mordaunt",
         null,
         null,
         "2022-09-06T00:00:00Z",
         null,
         null,
         null,
         null
        ],
        [
         "2",
         "http://www.wikidata.org/entity/Q303299",
         "Tobias Ellwood",
         "Bournemouth East",
         "independent politician",
         "2022-07-19T00:00:00Z",
         null,
         null,
         null,
         null
        ],
        [
         "3",
         "http://www.wikidata.org/entity/Q575266",
         "Christopher Pincher",
         "Tamworth",
         "independent politician",
         "2022-06-30T00:00:00Z",
         null,
         null,
         null,
         null
        ],
        [
         "4",
         "http://www.wikidata.org/entity/Q19883135",
         "Patrick Grady",
         "Glasgow North",
         "independent politician",
         "2022-06-26T00:00:00Z",
         null,
         null,
         null,
         null
        ]
       ],
       "shape": {
        "columns": 9,
        "rows": 5
       }
      },
      "text/html": [
       "<div>\n",
       "<style scoped>\n",
       "    .dataframe tbody tr th:only-of-type {\n",
       "        vertical-align: middle;\n",
       "    }\n",
       "\n",
       "    .dataframe tbody tr th {\n",
       "        vertical-align: top;\n",
       "    }\n",
       "\n",
       "    .dataframe thead th {\n",
       "        text-align: right;\n",
       "    }\n",
       "</style>\n",
       "<table border=\"1\" class=\"dataframe\">\n",
       "  <thead>\n",
       "    <tr style=\"text-align: right;\">\n",
       "      <th></th>\n",
       "      <th>item</th>\n",
       "      <th>Speaker</th>\n",
       "      <th>constituencyLabel</th>\n",
       "      <th>partyLabel</th>\n",
       "      <th>start</th>\n",
       "      <th>electionLabel</th>\n",
       "      <th>end</th>\n",
       "      <th>endcauseLabel</th>\n",
       "      <th>noteLabel</th>\n",
       "    </tr>\n",
       "  </thead>\n",
       "  <tbody>\n",
       "    <tr>\n",
       "      <th>0</th>\n",
       "      <td>http://www.wikidata.org/entity/Q265935</td>\n",
       "      <td>Nick Brown</td>\n",
       "      <td>Newcastle upon Tyne East</td>\n",
       "      <td>independent politician</td>\n",
       "      <td>2022-09-07T00:00:00Z</td>\n",
       "      <td>2019 United Kingdom general election</td>\n",
       "      <td>NaN</td>\n",
       "      <td>NaN</td>\n",
       "      <td>NaN</td>\n",
       "    </tr>\n",
       "    <tr>\n",
       "      <th>1</th>\n",
       "      <td>http://www.wikidata.org/entity/Q580464</td>\n",
       "      <td>Penny Mordaunt</td>\n",
       "      <td>NaN</td>\n",
       "      <td>NaN</td>\n",
       "      <td>2022-09-06T00:00:00Z</td>\n",
       "      <td>NaN</td>\n",
       "      <td>NaN</td>\n",
       "      <td>NaN</td>\n",
       "      <td>NaN</td>\n",
       "    </tr>\n",
       "    <tr>\n",
       "      <th>2</th>\n",
       "      <td>http://www.wikidata.org/entity/Q303299</td>\n",
       "      <td>Tobias Ellwood</td>\n",
       "      <td>Bournemouth East</td>\n",
       "      <td>independent politician</td>\n",
       "      <td>2022-07-19T00:00:00Z</td>\n",
       "      <td>NaN</td>\n",
       "      <td>NaN</td>\n",
       "      <td>NaN</td>\n",
       "      <td>NaN</td>\n",
       "    </tr>\n",
       "    <tr>\n",
       "      <th>3</th>\n",
       "      <td>http://www.wikidata.org/entity/Q575266</td>\n",
       "      <td>Christopher Pincher</td>\n",
       "      <td>Tamworth</td>\n",
       "      <td>independent politician</td>\n",
       "      <td>2022-06-30T00:00:00Z</td>\n",
       "      <td>NaN</td>\n",
       "      <td>NaN</td>\n",
       "      <td>NaN</td>\n",
       "      <td>NaN</td>\n",
       "    </tr>\n",
       "    <tr>\n",
       "      <th>4</th>\n",
       "      <td>http://www.wikidata.org/entity/Q19883135</td>\n",
       "      <td>Patrick Grady</td>\n",
       "      <td>Glasgow North</td>\n",
       "      <td>independent politician</td>\n",
       "      <td>2022-06-26T00:00:00Z</td>\n",
       "      <td>NaN</td>\n",
       "      <td>NaN</td>\n",
       "      <td>NaN</td>\n",
       "      <td>NaN</td>\n",
       "    </tr>\n",
       "  </tbody>\n",
       "</table>\n",
       "</div>"
      ],
      "text/plain": [
       "                                       item              Speaker  \\\n",
       "0    http://www.wikidata.org/entity/Q265935           Nick Brown   \n",
       "1    http://www.wikidata.org/entity/Q580464       Penny Mordaunt   \n",
       "2    http://www.wikidata.org/entity/Q303299       Tobias Ellwood   \n",
       "3    http://www.wikidata.org/entity/Q575266  Christopher Pincher   \n",
       "4  http://www.wikidata.org/entity/Q19883135        Patrick Grady   \n",
       "\n",
       "          constituencyLabel              partyLabel                 start  \\\n",
       "0  Newcastle upon Tyne East  independent politician  2022-09-07T00:00:00Z   \n",
       "1                       NaN                     NaN  2022-09-06T00:00:00Z   \n",
       "2          Bournemouth East  independent politician  2022-07-19T00:00:00Z   \n",
       "3                  Tamworth  independent politician  2022-06-30T00:00:00Z   \n",
       "4             Glasgow North  independent politician  2022-06-26T00:00:00Z   \n",
       "\n",
       "                          electionLabel  end endcauseLabel noteLabel  \n",
       "0  2019 United Kingdom general election  NaN           NaN       NaN  \n",
       "1                                   NaN  NaN           NaN       NaN  \n",
       "2                                   NaN  NaN           NaN       NaN  \n",
       "3                                   NaN  NaN           NaN       NaN  \n",
       "4                                   NaN  NaN           NaN       NaN  "
      ]
     },
     "execution_count": 68,
     "metadata": {},
     "output_type": "execute_result"
    }
   ],
   "source": [
    "df_speakers.rename(columns={'itemLabel': 'Speaker'}, inplace=True)\n",
    "df_speakers.head()"
   ]
  },
  {
   "cell_type": "code",
   "execution_count": 69,
   "metadata": {},
   "outputs": [
    {
     "data": {
      "application/vnd.microsoft.datawrangler.viewer.v0+json": {
       "columns": [
        {
         "name": "index",
         "rawType": "int64",
         "type": "integer"
        },
        {
         "name": "party",
         "rawType": "float64",
         "type": "float"
        },
        {
         "name": "speech",
         "rawType": "object",
         "type": "string"
        },
        {
         "name": "word_count",
         "rawType": "int64",
         "type": "integer"
        },
        {
         "name": "sentiment",
         "rawType": "float64",
         "type": "float"
        },
        {
         "name": "pred",
         "rawType": "float32",
         "type": "float"
        },
        {
         "name": "Speaker",
         "rawType": "object",
         "type": "string"
        },
        {
         "name": "partyLabel",
         "rawType": "object",
         "type": "string"
        }
       ],
       "conversionMethod": "pd.DataFrame",
       "ref": "93c9b62e-6841-47ce-962d-2565698d76bf",
       "rows": [
        [
         "0",
         "1.0",
         "incred impress posit respons receiv council far larg number alreadi pledg support howev urgent need offer accommod welcom afghan famili remain firm alli work troop countri brave recent year extra fund place ask council yet come forward contact firm offer support help famili secur best possibl start new live",
         "103",
         "0.9822",
         "0.83990914",
         "Robert Jenrick",
         "Conservative Party"
        ],
        [
         "1",
         "1.0",
         "begin thank key worker north somerset keep essenti servic move voluntari group kept communiti healthi maintain govern guidelin keep one anoth safe even point pandem point worth make medicin pandem new virus vaccin cure popul like becom infect time lockdown like unit kingdom reduc peak death rate histori suggest reduc excess mortal rate time great extent worth keep mind look forward futur step know virus behav influenza therefor influenza model may appropri may season may winter peak recur may may disappear sar exampl sporad case mer virus like remain evolv mutat war virus surrend day advic politician media comment alik take basil fawlti advic mention war give fals perspect public understand like cours pandem take virus spread wide popul cours ill great unknown proport popul alreadi infect may asymptomat studi yet publish yet evid readili suggest popul asymptomat proport popul quit high know abl introduc programm widespread antibodi test current programm chain diminish effect abl detect less virus therefor need antibodi programm tell mani popul infect time urg colleagu front bench speed possibl roll antibodi test key longer term understand spread ill abil control set free cocoon time consequ measur alreadi taken success deal particular viral outbreak judgment need patient immedi answer anywher els need wait see level excess global death abl determin whether close part global economi actual overreact global communiti emerg new virus crucial futur activ afford close global economi everi time new virus emerg will must develop intern protocol give idea manag globalis era someth respect border howev much government structur wish would",
         "669",
         "-0.9362",
         "0.7783422",
         "Liam Fox",
         "Conservative Party"
        ],
        [
         "2",
         "0.0",
         "govern consist let women frontlin forc minist keep make pledg sound good fail act women often impress harder succeed militari unclear target reinforc allow women put career arm forc minist must stop seek quick headlin plan drive femal recruit well ensur women proper support throughout servic",
         "96",
         "0.586",
         "0.25499997",
         "John Healey",
         "Labour Party"
        ],
        [
         "3",
         "0.0",
         "week chanc govern back british busi help public servic rebuild pandem bori johnson gift biggest multin million week labour say let fund nhs instead even reason show global leadership crack tax avoid yet govern seem set weaken deal would bring billion back britain stop high street undercut like amazon googl big multin govern serious see high street thrive must make sure busi whether armley town street constitu market squar chancellor level play field",
         "153",
         "0.5859",
         "-0.024377808",
         "Rachel Reeves",
         "Labour Party"
        ],
        [
         "4",
         "1.0",
         "parti confer politician set stall seasid two week ago learn lib dem let smack children even seven year old miss sex educ class labour troubl get mention confer last week toni blair tell labour sixti tax increas tax increas health pension insur invest tax increas petrol car lorri diesel tax increas job marriag mortgag name increas tax avoid tax increas labour long save insur pension job drink bet drive get marri buy home buy home mortgag could wors though yes realli lib dem way tax would even higher let make one thing clear never agre rise damag busi tax tell els tell peopl run busi market interven relat employ employe absolut necessari patricia hewitt law tell employ treat workforc ever patricia hewitt learn polit neil kinnock bit like taught ski eddi eagl cabinet celebr big brother first unless cours gordon brown vote second know gordon want get rid week set make britain better place live make street safer extra polic help sick peopl patient passport give parent say school end labour war motorist make everyon secur retir restor trust govern make britain better place live unless also make better place busi deliv fair deal everyon depend wealth creation fair deal busi enterpris crucial busi peopl crucial everyon believ busi sake unlik gordon brown see busi milchcow extract tax instead help busi creat wealth everyon benefit want busi provid wealth spend labour benefit rememb toni blair gordon brown pose friend busi six wast year later billion new busi tax turn biggest spin noth less cynic fraud britain busi peopl gordon brown talk golden rule one golden rule busi come labour believ word say like mani busi remortgag home start busi woke night wonder next order come worri peopl whose job depend work servic industri manufactur compani small larg learn challeng busi face today invest job mobil ever busi move blackpool bangkok norwich union staff process insur claim quick cheapli east india east anglia industri europ use lead world migrat asia pacif region sad britain face challeng weaker six year toni blair gordon brown squander golden econom inherit britain deficit trade good worst sinc record began busi invest collaps product risen half fast conserv day wast strike last year year decad manufactur job lost everi singl week sinc labour came power worsen trade collaps invest slow product strike haemorrhag job toni blair meant said thing could get better surpris surpris even low unemploy total toni like trumpet spin substanc job product part economi fall fall hidden huge rise number govern bureaucrat forev conceal loss manufactur job manufactur new job pen pusher public sector labour britain becom wors place busi four year small busi failur trebl busi went bust year sinc compani profit fallen lowest level sinc dossier busi even alastair campbel sex wonder foreign invest britain boom conserv halv last two year never mind dti case case anyway busi struggl dti bureaucrat drawn new foliag strategi kid quot document area move new way work defin furnitur soft seat area fund display alloc area movement plant outsid area must agre prior happen subject health safeti restrict complet chain command determin offic yucca plant dti may much busi obvious keen pukka yucca know exact busi would tell labour stick yucca unlik labour make britain better place busi restor competit advantag margaret thatcher transform britain sick man europ countri held head high cut regul institut director say cost britain billion year halt rise busi tax rebuild infrastructur give worker skill need heard pledg michael howard tim collin damian green made tax transport educ make pledg regul within day take offic lighten burden regul hurt everi busi rais price everi consum cut return everi saver harm especi small medium size busi engin job creation british chamber commerc say employ admin cost smallest compani time much per worker largest never regul disproportion risk never regul law voluntari approach possibl smaller organis lighter touch busi two employe lighter burden one two hundr thousand make sure firm fewer twenti worker exempt oner burden peopl claim red tape come brussel noth true maastricht kept pound social chapter labour threw away conserv prove govern determin defend british interest troubl minist often make european regul tougher appli britain like charg slaughterhous pay health inspect option franc germani itali spain compulsori britain secretari state never destroy british job forc peopl play rule countri flout british small busi pay compulsori charg take extra worker continent competitor pay charg involv british busi peopl stuck offic clock friday night tick box form faceless bureaucrat file continent competitor home famili voluntari code replac compulsori one british ceram compani find guidanc document turn direct labour minist look need bureaucrat whitehal enforc inspector region monitor way busi monitor workforc paid new proceed crime act requir retail report everi individu theft nation crimin intellig servic cost seven million retail crime year rest europ largest crime report individu other aggreg togeth britain retail shopper face million bill simpli labour say must toni blair thrust constitut throat one let vote exempt smallest firm oner law appli sunset claus labour employ act find creat job destroy sake employ employe help worker age sex skill level find decent satisfi work make sure busi held back worker left behind talk lot regul concern consum dti respons one industri consum energi remind late happen power fail chao street peopl stuck underground offic dark old peopl injur home modern life home work depend electr yet labour let safeti margin generat capac fall lowest level year expert fear mean cut hous cold winter child sent home school light know blame look ahead get better britain use cheap north sea oil gas soon import gas huge scale half need nineti per cent russia algeria iran funni countri depend keep light minist ignor climat chang right britain carbon dioxid emiss go fail meet intern commit reduc despit bright spark number ten labour clue energi anoth thing dti respons use everi week royal mail post offic labour royal mail lost billion last two year three thousand post offic close make matter wors minist cancel plan let everi pension receiv pension cash local post offic next coupl year make life hard thousand vulner peopl someon get cash post offic counter often spend bit shop labour polici forc post offic close next month set better futur royal mail post offic worker pension post offic without spend pound taxpay money secretari state trade industri cut bureaucraci dti bang desk cabinet colleagu make sure know busi conserv everyon whitehal know britain must made better place busi achiev thing want got messag toni blair instead increas nation insur contribut cut tax job instead tax pension encourag save instead forc univers dumb back world class institut instead abolish hous lord ignor hous common answer govern mistak toni blair chanc squander lost trust british peopl voter fed broken promis fed arrog lie spin fed govern say listen goe lectur fed third world transport system fed govern destroy secur everi pension fed prime minist corrupt constitut want give brussel power european one britain nation yearn politician provid leadership trust nation yearn govern integr nation yearn minist show courag nation yearn polici honest look around hall see peopl yearn conserv provid leadership offer integr display courag deliv honesti iain duncan smith conserv parti rise challeng task urgent must begin today hath stomach fight let depart everyon els say togeth drive toni croni down street",
         "2753",
         "0.9849",
         "1.000239",
         "Tim Yeo",
         "Conservative Party"
        ]
       ],
       "shape": {
        "columns": 7,
        "rows": 5
       }
      },
      "text/html": [
       "<div>\n",
       "<style scoped>\n",
       "    .dataframe tbody tr th:only-of-type {\n",
       "        vertical-align: middle;\n",
       "    }\n",
       "\n",
       "    .dataframe tbody tr th {\n",
       "        vertical-align: top;\n",
       "    }\n",
       "\n",
       "    .dataframe thead th {\n",
       "        text-align: right;\n",
       "    }\n",
       "</style>\n",
       "<table border=\"1\" class=\"dataframe\">\n",
       "  <thead>\n",
       "    <tr style=\"text-align: right;\">\n",
       "      <th></th>\n",
       "      <th>party</th>\n",
       "      <th>speech</th>\n",
       "      <th>word_count</th>\n",
       "      <th>sentiment</th>\n",
       "      <th>pred</th>\n",
       "      <th>Speaker</th>\n",
       "      <th>partyLabel</th>\n",
       "    </tr>\n",
       "  </thead>\n",
       "  <tbody>\n",
       "    <tr>\n",
       "      <th>0</th>\n",
       "      <td>1.0</td>\n",
       "      <td>incred impress posit respons receiv council fa...</td>\n",
       "      <td>103</td>\n",
       "      <td>0.9822</td>\n",
       "      <td>0.839909</td>\n",
       "      <td>Robert Jenrick</td>\n",
       "      <td>Conservative Party</td>\n",
       "    </tr>\n",
       "    <tr>\n",
       "      <th>1</th>\n",
       "      <td>1.0</td>\n",
       "      <td>begin thank key worker north somerset keep ess...</td>\n",
       "      <td>669</td>\n",
       "      <td>-0.9362</td>\n",
       "      <td>0.778342</td>\n",
       "      <td>Liam Fox</td>\n",
       "      <td>Conservative Party</td>\n",
       "    </tr>\n",
       "    <tr>\n",
       "      <th>2</th>\n",
       "      <td>0.0</td>\n",
       "      <td>govern consist let women frontlin forc minist ...</td>\n",
       "      <td>96</td>\n",
       "      <td>0.5860</td>\n",
       "      <td>0.255000</td>\n",
       "      <td>John Healey</td>\n",
       "      <td>Labour Party</td>\n",
       "    </tr>\n",
       "    <tr>\n",
       "      <th>3</th>\n",
       "      <td>0.0</td>\n",
       "      <td>week chanc govern back british busi help publi...</td>\n",
       "      <td>153</td>\n",
       "      <td>0.5859</td>\n",
       "      <td>-0.024378</td>\n",
       "      <td>Rachel Reeves</td>\n",
       "      <td>Labour Party</td>\n",
       "    </tr>\n",
       "    <tr>\n",
       "      <th>4</th>\n",
       "      <td>1.0</td>\n",
       "      <td>parti confer politician set stall seasid two w...</td>\n",
       "      <td>2753</td>\n",
       "      <td>0.9849</td>\n",
       "      <td>1.000239</td>\n",
       "      <td>Tim Yeo</td>\n",
       "      <td>Conservative Party</td>\n",
       "    </tr>\n",
       "  </tbody>\n",
       "</table>\n",
       "</div>"
      ],
      "text/plain": [
       "   party                                             speech  word_count  \\\n",
       "0    1.0  incred impress posit respons receiv council fa...         103   \n",
       "1    1.0  begin thank key worker north somerset keep ess...         669   \n",
       "2    0.0  govern consist let women frontlin forc minist ...          96   \n",
       "3    0.0  week chanc govern back british busi help publi...         153   \n",
       "4    1.0  parti confer politician set stall seasid two w...        2753   \n",
       "\n",
       "   sentiment      pred         Speaker          partyLabel  \n",
       "0     0.9822  0.839909  Robert Jenrick  Conservative Party  \n",
       "1    -0.9362  0.778342        Liam Fox  Conservative Party  \n",
       "2     0.5860  0.255000     John Healey        Labour Party  \n",
       "3     0.5859 -0.024378   Rachel Reeves        Labour Party  \n",
       "4     0.9849  1.000239         Tim Yeo  Conservative Party  "
      ]
     },
     "execution_count": 69,
     "metadata": {},
     "output_type": "execute_result"
    }
   ],
   "source": [
    "output = pd.merge(output, df_speakers[['partyLabel', 'Speaker']], on='Speaker')\n",
    "output.head()"
   ]
  },
  {
   "cell_type": "code",
   "execution_count": 70,
   "metadata": {},
   "outputs": [],
   "source": [
    "grouped_parties = output.groupby('partyLabel')[['pred', 'sentiment']].median().reset_index()\n",
    "grouped_parties.sort_values('pred', inplace=True)"
   ]
  },
  {
   "cell_type": "code",
   "execution_count": 71,
   "metadata": {},
   "outputs": [
    {
     "data": {
      "image/png": "[encoded data removed]",
      "text/plain": [
       "<Figure size 1000x600 with 1 Axes>"
      ]
     },
     "metadata": {},
     "output_type": "display_data"
    }
   ],
   "source": [
    "cmap = LinearSegmentedColormap.from_list('red_blue', [(1, 0, 0), (0, 0, 1)], N=len(grouped_parties))\n",
    "\n",
    "fig, ax = plt.subplots(figsize=(10, 6))\n",
    "bars = ax.barh(grouped_parties['partyLabel'], grouped_parties['pred'], color=cmap(np.linspace(0, 1, len(grouped_parties))))\n",
    "\n",
    "for bar, pred in zip(bars, grouped_parties['pred']):\n",
    "    ax.text(bar.get_width(), bar.get_y() + bar.get_height() / 2, f'{pred:.3f}', va='center', ha='left')\n",
    "\n",
    "ax.set_xlabel('Score')\n",
    "ax.set_ylabel('Party')\n",
    "ax.set_title('Scores by Party')\n",
    "\n",
    "plt.show()"
   ]
  },
  {
   "cell_type": "code",
   "execution_count": 72,
   "metadata": {},
   "outputs": [
    {
     "data": {
      "image/png": "[encoded data removed]",
      "text/plain": [
       "<Figure size 1400x1000 with 1 Axes>"
      ]
     },
     "metadata": {},
     "output_type": "display_data"
    }
   ],
   "source": [
    "cmap = LinearSegmentedColormap.from_list('red_blue', [(1, 0, 0), (0, 0, 1)], N=len(grouped_parties))\n",
    "\n",
    "plt.figure(figsize=(14, 10))\n",
    "scatter = plt.scatter(grouped_parties['pred'], grouped_parties['sentiment'], c=range(len(grouped_parties)), cmap=cmap)\n",
    "\n",
    "texts = []\n",
    "for x, y, txt in zip(grouped_parties['pred'], grouped_parties['sentiment'], grouped_parties['partyLabel']):\n",
    "    if txt == 'Conservative Party' or txt == 'Labour Party':\n",
    "        texts.append(plt.text(x, y, txt, weight='bold'))\n",
    "    else:\n",
    "        texts.append(plt.text(x, y, txt))\n",
    "\n",
    "adjust_text(texts, expand=(1, 2), arrowprops=dict(arrowstyle='-', lw=0.5, color='grey'))\n",
    "\n",
    "plt.xlabel('Score (closer to 0 = more left-wing)')\n",
    "plt.ylabel('Sentiment (negative values indicate more negative sentiment)')\n",
    "plt.title('Political Spectrum')\n",
    "\n",
    "plt.grid(axis='x', alpha=0.5, linestyle='--')\n",
    "\n",
    "plt.show()"
   ]
  }
 ],
 "metadata": {
  "kernelspec": {
   "display_name": ".venv",
   "language": "python",
   "name": "python3"
  },
  "language_info": {
   "codemirror_mode": {
    "name": "ipython",
    "version": 3
   },
   "file_extension": ".py",
   "mimetype": "text/x-python",
   "name": "python",
   "nbconvert_exporter": "python",
   "pygments_lexer": "ipython3",
   "version": "3.12.0"
  }
 },
 "nbformat": 4,
 "nbformat_minor": 2
}
